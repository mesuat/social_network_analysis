{
  "nbformat": 4,
  "nbformat_minor": 0,
  "metadata": {
    "colab": {
      "name": "GT_case.ipynb",
      "provenance": [],
      "collapsed_sections": [],
      "authorship_tag": "ABX9TyN7W7+YPLoaMbIJ/xLIAcl5",
      "include_colab_link": true
    },
    "kernelspec": {
      "name": "python3",
      "display_name": "Python 3"
    }
  },
  "cells": [
    {
      "cell_type": "markdown",
      "metadata": {
        "id": "view-in-github",
        "colab_type": "text"
      },
      "source": [
        "<a href=\"https://colab.research.google.com/github/mesuat/social_network_analysis_fraud_detection/blob/master/GT_case.ipynb\" target=\"_parent\"><img src=\"https://colab.research.google.com/assets/colab-badge.svg\" alt=\"Open In Colab\"/></a>"
      ]
    },
    {
      "cell_type": "markdown",
      "metadata": {
        "id": "3epP8ptWSAsg"
      },
      "source": [
        "**Loading Data & Libraries**\r\n",
        "\r\n"
      ]
    },
    {
      "cell_type": "code",
      "metadata": {
        "colab": {
          "base_uri": "https://localhost:8080/"
        },
        "id": "MWITKb8dK8SJ",
        "outputId": "a432c9b0-914c-4948-9b45-48045ee01ebc"
      },
      "source": [
        "!gdown --id 11XnkXEThDMjDaCfUa3tkuGqu_XhgPEuo"
      ],
      "execution_count": 1,
      "outputs": [
        {
          "output_type": "stream",
          "text": [
            "Downloading...\n",
            "From: https://drive.google.com/uc?id=11XnkXEThDMjDaCfUa3tkuGqu_XhgPEuo\n",
            "To: /content/AA_UseCase_Data.zip\n",
            "82.4MB [00:00, 114MB/s] \n"
          ],
          "name": "stdout"
        }
      ]
    },
    {
      "cell_type": "code",
      "metadata": {
        "colab": {
          "base_uri": "https://localhost:8080/"
        },
        "id": "oZwZq4iBLZgm",
        "outputId": "a94de7f7-d6f3-48d3-93c0-932199794331"
      },
      "source": [
        "!unzip AA_UseCase_Data.zip"
      ],
      "execution_count": 2,
      "outputs": [
        {
          "output_type": "stream",
          "text": [
            "Archive:  AA_UseCase_Data.zip\n",
            "  inflating: train.csv               \n"
          ],
          "name": "stdout"
        }
      ]
    },
    {
      "cell_type": "code",
      "metadata": {
        "id": "Ur0HEN_qLiTb",
        "colab": {
          "base_uri": "https://localhost:8080/"
        },
        "outputId": "4611db49-59e9-478c-f32c-e5b49c496bb8"
      },
      "source": [
        "import os \r\n",
        "\r\n",
        "import pandas as pd\r\n",
        "import numpy as np\r\n",
        "import itertools\r\n",
        "\r\n",
        "%matplotlib inline\r\n",
        "import matplotlib\r\n",
        "import matplotlib.pyplot as plt\r\n",
        "import matplotlib.lines as mlines\r\n",
        "from mpl_toolkits.mplot3d import Axes3D\r\n",
        "import seaborn as sns\r\n",
        "\r\n",
        "from sklearn.model_selection import train_test_split, learning_curve, StratifiedKFold, GridSearchCV\r\n",
        "from sklearn.feature_selection import chi2\r\n",
        "from sklearn.metrics import average_precision_score, confusion_matrix, roc_auc_score, make_scorer, plot_precision_recall_curve, plot_roc_curve, average_precision_score\r\n",
        "\r\n",
        "from xgboost.sklearn import XGBClassifier\r\n",
        "from xgboost import plot_importance, to_graphviz\r\n",
        "import lightgbm as lgb\r\n",
        "import xgboost as xgb\r\n",
        "import pickle\r\n",
        "import os\r\n",
        "import gc\r\n",
        "gc.enable()\r\n",
        "\r\n",
        "from imblearn.under_sampling import RandomUnderSampler\r\n",
        "\r\n",
        "import time\r\n",
        "import tqdm\r\n",
        "\r\n",
        "pd.set_option('display.max_rows', 500)\r\n",
        "pd.set_option('display.max_columns', 500)\r\n",
        "pd.set_option('display.width', 1000)"
      ],
      "execution_count": 3,
      "outputs": [
        {
          "output_type": "stream",
          "text": [
            "/usr/local/lib/python3.6/dist-packages/sklearn/externals/six.py:31: FutureWarning: The module is deprecated in version 0.21 and will be removed in version 0.23 since we've dropped support for Python 2.7. Please rely on the official version of six (https://pypi.org/project/six/).\n",
            "  \"(https://pypi.org/project/six/).\", FutureWarning)\n",
            "/usr/local/lib/python3.6/dist-packages/sklearn/utils/deprecation.py:144: FutureWarning: The sklearn.neighbors.base module is  deprecated in version 0.22 and will be removed in version 0.24. The corresponding classes / functions should instead be imported from sklearn.neighbors. Anything that cannot be imported from sklearn.neighbors is now part of the private API.\n",
            "  warnings.warn(message, FutureWarning)\n"
          ],
          "name": "stderr"
        }
      ]
    },
    {
      "cell_type": "code",
      "metadata": {
        "colab": {
          "base_uri": "https://localhost:8080/"
        },
        "id": "lAuOudVpL2G3",
        "outputId": "507ca209-0e18-4cb1-a516-cf08b3afbe56"
      },
      "source": [
        "#loading data\r\n",
        "print(\"Loading data..\")\r\n",
        "start = time.time()\r\n",
        "data = pd.read_csv(\"train.csv\", index_col=\"Id\")\r\n",
        "end = time.time()\r\n",
        "print(\"Loading finished. It took {0:.2f} seconds.\".format(end-start))"
      ],
      "execution_count": 4,
      "outputs": [
        {
          "output_type": "stream",
          "text": [
            "Loading data..\n"
          ],
          "name": "stdout"
        },
        {
          "output_type": "stream",
          "text": [
            "/usr/local/lib/python3.6/dist-packages/numpy/lib/arraysetops.py:580: FutureWarning: elementwise comparison failed; returning scalar instead, but in the future will perform elementwise comparison\n",
            "  mask |= (ar1 == a)\n"
          ],
          "name": "stderr"
        },
        {
          "output_type": "stream",
          "text": [
            "Loading finished. It took 3.90 seconds.\n"
          ],
          "name": "stdout"
        }
      ]
    },
    {
      "cell_type": "code",
      "metadata": {
        "id": "Xb1-xlU1F3gw"
      },
      "source": [
        "df = data.copy()"
      ],
      "execution_count": 5,
      "outputs": []
    },
    {
      "cell_type": "code",
      "metadata": {
        "colab": {
          "base_uri": "https://localhost:8080/",
          "height": 142
        },
        "id": "zC2XImbPNqvx",
        "outputId": "a1e57031-bf56-478c-ae5f-fc9d0643e666"
      },
      "source": [
        "df.tail(2)"
      ],
      "execution_count": 6,
      "outputs": [
        {
          "output_type": "execute_result",
          "data": {
            "text/html": [
              "<div>\n",
              "<style scoped>\n",
              "    .dataframe tbody tr th:only-of-type {\n",
              "        vertical-align: middle;\n",
              "    }\n",
              "\n",
              "    .dataframe tbody tr th {\n",
              "        vertical-align: top;\n",
              "    }\n",
              "\n",
              "    .dataframe thead th {\n",
              "        text-align: right;\n",
              "    }\n",
              "</style>\n",
              "<table border=\"1\" class=\"dataframe\">\n",
              "  <thead>\n",
              "    <tr style=\"text-align: right;\">\n",
              "      <th></th>\n",
              "      <th>step</th>\n",
              "      <th>action</th>\n",
              "      <th>amount</th>\n",
              "      <th>nameOrig</th>\n",
              "      <th>oldBalanceOrig</th>\n",
              "      <th>newBalanceOrig</th>\n",
              "      <th>nameDest</th>\n",
              "      <th>oldBalanceDest</th>\n",
              "      <th>newBalanceDest</th>\n",
              "      <th>isFraud</th>\n",
              "      <th>isFlaggedFraud</th>\n",
              "    </tr>\n",
              "    <tr>\n",
              "      <th>Id</th>\n",
              "      <th></th>\n",
              "      <th></th>\n",
              "      <th></th>\n",
              "      <th></th>\n",
              "      <th></th>\n",
              "      <th></th>\n",
              "      <th></th>\n",
              "      <th></th>\n",
              "      <th></th>\n",
              "      <th></th>\n",
              "      <th></th>\n",
              "    </tr>\n",
              "  </thead>\n",
              "  <tbody>\n",
              "    <tr>\n",
              "      <th>3352884</th>\n",
              "      <td>718</td>\n",
              "      <td>PAYMENT</td>\n",
              "      <td>11726.71</td>\n",
              "      <td>C8642260114</td>\n",
              "      <td>2980280.08</td>\n",
              "      <td>2968553.37</td>\n",
              "      <td>C5055233979</td>\n",
              "      <td>94282.56</td>\n",
              "      <td>106009.27</td>\n",
              "      <td>0</td>\n",
              "      <td>0</td>\n",
              "    </tr>\n",
              "    <tr>\n",
              "      <th>3352886</th>\n",
              "      <td>718</td>\n",
              "      <td>CASH_IN</td>\n",
              "      <td>115158.72</td>\n",
              "      <td>C0725945548</td>\n",
              "      <td>3599990.89</td>\n",
              "      <td>3715149.61</td>\n",
              "      <td>C1039537388</td>\n",
              "      <td>216298.60</td>\n",
              "      <td>216298.60</td>\n",
              "      <td>0</td>\n",
              "      <td>0</td>\n",
              "    </tr>\n",
              "  </tbody>\n",
              "</table>\n",
              "</div>"
            ],
            "text/plain": [
              "         step   action     amount     nameOrig  oldBalanceOrig  newBalanceOrig     nameDest  oldBalanceDest  newBalanceDest  isFraud  isFlaggedFraud\n",
              "Id                                                                                                                                                  \n",
              "3352884   718  PAYMENT   11726.71  C8642260114      2980280.08      2968553.37  C5055233979        94282.56       106009.27        0               0\n",
              "3352886   718  CASH_IN  115158.72  C0725945548      3599990.89      3715149.61  C1039537388       216298.60       216298.60        0               0"
            ]
          },
          "metadata": {
            "tags": []
          },
          "execution_count": 6
        }
      ]
    },
    {
      "cell_type": "markdown",
      "metadata": {
        "id": "HXXMbcgeSF0N"
      },
      "source": [
        "Exploratory Data Analysis"
      ]
    },
    {
      "cell_type": "code",
      "metadata": {
        "colab": {
          "base_uri": "https://localhost:8080/"
        },
        "id": "ijfGzN9nN02C",
        "outputId": "0884fc27-846c-415b-c585-a85d7287e7fd"
      },
      "source": [
        "print(\"Data has {} number of rows and {} number of columns.\".format('{:,}'.format(df.shape[0]), df.shape[1]))\r\n",
        "print(\"\\nThe names of columns are {}.\".format(list(df.columns)))"
      ],
      "execution_count": 7,
      "outputs": [
        {
          "output_type": "stream",
          "text": [
            "Data has 2,372,805 number of rows and 11 number of columns.\n",
            "\n",
            "The names of columns are ['step', 'action', 'amount', 'nameOrig', 'oldBalanceOrig', 'newBalanceOrig', 'nameDest', 'oldBalanceDest', 'newBalanceDest', 'isFraud', 'isFlaggedFraud'].\n"
          ],
          "name": "stdout"
        }
      ]
    },
    {
      "cell_type": "code",
      "metadata": {
        "colab": {
          "base_uri": "https://localhost:8080/"
        },
        "id": "dwUHb7YNT-DS",
        "outputId": "72bcc8ea-7cea-44e2-ccc6-ee75da804032"
      },
      "source": [
        "print(df.describe(include=\"all\"))"
      ],
      "execution_count": 8,
      "outputs": [
        {
          "output_type": "stream",
          "text": [
            "                step   action        amount     nameOrig  oldBalanceOrig  newBalanceOrig     nameDest  oldBalanceDest  newBalanceDest       isFraud  isFlaggedFraud\n",
            "count   2.372805e+06  2372805  2.372805e+06      2372805    2.372805e+06    2.372805e+06      2372805    2.372805e+06    2.372805e+06  2.372805e+06       2372805.0\n",
            "unique           NaN        5           NaN        14141             NaN             NaN        54904             NaN             NaN           NaN             NaN\n",
            "top              NaN  CASH_IN           NaN  C4448860867             NaN             NaN  B9550196511             NaN             NaN           NaN             NaN\n",
            "freq             NaN  1032064           NaN       106148             NaN             NaN        60828             NaN             NaN           NaN             NaN\n",
            "mean    1.832920e+02      NaN  1.454519e+05          NaN    3.332226e+06    3.315864e+06          NaN    2.823591e+05    3.299378e+05  7.501670e-05             0.0\n",
            "std     1.258774e+02      NaN  3.122165e+05          NaN    1.777183e+06    1.744702e+06          NaN    9.554569e+05    1.138435e+06  8.660895e-03             0.0\n",
            "min     0.000000e+00      NaN  1.100000e-01          NaN   -1.959696e+05   -1.959696e+05          NaN   -1.439078e+05   -6.233257e+04  0.000000e+00             0.0\n",
            "25%     4.400000e+01      NaN  1.436889e+04          NaN    2.563357e+06    2.559986e+06          NaN    2.179805e+04    2.391135e+04  0.000000e+00             0.0\n",
            "50%     1.870000e+02      NaN  9.785308e+04          NaN    3.425072e+06    3.407159e+06          NaN    7.714657e+04    7.965216e+04  0.000000e+00             0.0\n",
            "75%     2.650000e+02      NaN  1.714096e+05          NaN    4.117519e+06    4.089955e+06          NaN    1.414099e+05    1.443928e+05  0.000000e+00             0.0\n",
            "max     7.180000e+02      NaN  2.026857e+07          NaN    4.955674e+07    4.882798e+07          NaN    4.783798e+07    4.799305e+07  1.000000e+00             0.0\n"
          ],
          "name": "stdout"
        }
      ]
    },
    {
      "cell_type": "code",
      "metadata": {
        "colab": {
          "base_uri": "https://localhost:8080/"
        },
        "id": "JJ-GBNc7Vil8",
        "outputId": "3dcf599e-9b40-4ec9-c099-40b078d26d8b"
      },
      "source": [
        "df.info()"
      ],
      "execution_count": 9,
      "outputs": [
        {
          "output_type": "stream",
          "text": [
            "<class 'pandas.core.frame.DataFrame'>\n",
            "Int64Index: 2372805 entries, 0 to 3352886\n",
            "Data columns (total 11 columns):\n",
            " #   Column          Dtype  \n",
            "---  ------          -----  \n",
            " 0   step            int64  \n",
            " 1   action          object \n",
            " 2   amount          float64\n",
            " 3   nameOrig        object \n",
            " 4   oldBalanceOrig  float64\n",
            " 5   newBalanceOrig  float64\n",
            " 6   nameDest        object \n",
            " 7   oldBalanceDest  float64\n",
            " 8   newBalanceDest  float64\n",
            " 9   isFraud         int64  \n",
            " 10  isFlaggedFraud  int64  \n",
            "dtypes: float64(5), int64(3), object(3)\n",
            "memory usage: 217.2+ MB\n"
          ],
          "name": "stdout"
        }
      ]
    },
    {
      "cell_type": "code",
      "metadata": {
        "colab": {
          "base_uri": "https://localhost:8080/"
        },
        "id": "IiwNB2jNL8yU",
        "outputId": "5f612f87-01be-4571-8a25-4b9f277d709f"
      },
      "source": [
        "if df.isnull().values.any() == False: print(\"There is not any missing value in the data.\")"
      ],
      "execution_count": 10,
      "outputs": [
        {
          "output_type": "stream",
          "text": [
            "There is not any missing value in the data.\n"
          ],
          "name": "stdout"
        }
      ]
    },
    {
      "cell_type": "code",
      "metadata": {
        "colab": {
          "base_uri": "https://localhost:8080/",
          "height": 380
        },
        "id": "zPntqZk6XWQO",
        "outputId": "a92f587c-3ddb-4158-efcc-0faacaedd7dd"
      },
      "source": [
        "print(\"There are {} number of fraudulent and {:,} number of non fraudulent transactions. \\nFraudulent transactions makes up {:.3%} percent of total data.\\n\"\r\n",
        ".format(df.isFraud.value_counts()[1], df.isFraud.value_counts()[0], df.isFraud.value_counts()[1] / df.shape[0]))\r\n",
        "\r\n",
        "dfNotFraud = df.loc[df.isFraud == 0]\r\n",
        "dfFraud = df.loc[df.isFraud == 1]\r\n",
        "\r\n",
        "sns.countplot(x=\"isFraud\",data=df)\r\n",
        "plt.title(\"Count of Fraudulent Payments\")\r\n",
        "plt.show()\r\n",
        "print(\"Number of normal examples: \",dfNotFraud.isFraud.count())\r\n",
        "print(\"Number of fradulent examples: \",dfFraud.isFraud.count())"
      ],
      "execution_count": 11,
      "outputs": [
        {
          "output_type": "stream",
          "text": [
            "There are 178 number of fraudulent and 2,372,627 number of non fraudulent transactions. \n",
            "Fraudulent transactions makes up 0.008% percent of total data.\n",
            "\n"
          ],
          "name": "stdout"
        },
        {
          "output_type": "display_data",
          "data": {
            "image/png": "[encoded data removed]",
            "text/plain": [
              "<Figure size 432x288 with 1 Axes>"
            ]
          },
          "metadata": {
            "tags": [],
            "needs_background": "light"
          }
        },
        {
          "output_type": "stream",
          "text": [
            "Number of normal examples:  2372627\n",
            "Number of fradulent examples:  178\n"
          ],
          "name": "stdout"
        }
      ]
    },
    {
      "cell_type": "code",
      "metadata": {
        "colab": {
          "base_uri": "https://localhost:8080/",
          "height": 351
        },
        "id": "J-F4Q-HpTZeX",
        "outputId": "ebe5d3b4-b44d-4d14-9952-9159dbb56401"
      },
      "source": [
        "# Plot histograms of the amounts in fraud and non-fraud data \r\n",
        "plt.figure(figsize=(15,5))\r\n",
        "sns.boxplot(x=df.action,y=df.amount)\r\n",
        "plt.title(\"Boxplot for the Amount of Transaction\")\r\n",
        "plt.ylim(0,df.amount.max())\r\n",
        "plt.show;"
      ],
      "execution_count": 12,
      "outputs": [
        {
          "output_type": "display_data",
          "data": {
            "image/png": "[encoded data removed]",
            "text/plain": [
              "<Figure size 1080x360 with 1 Axes>"
            ]
          },
          "metadata": {
            "tags": [],
            "needs_background": "light"
          }
        }
      ]
    },
    {
      "cell_type": "code",
      "metadata": {
        "colab": {
          "base_uri": "https://localhost:8080/"
        },
        "id": "TfBuHvglKdfe",
        "outputId": "29a75420-2b7a-44c2-d742-c30a44eeb28b"
      },
      "source": [
        "print(\"Maximum amount in fraudulent transactions is {:,}.\".format(dfFraud.amount.max()))"
      ],
      "execution_count": 13,
      "outputs": [
        {
          "output_type": "stream",
          "text": [
            "Maximum amount in fraudulent transactions is 13,123,020.49.\n"
          ],
          "name": "stdout"
        }
      ]
    },
    {
      "cell_type": "code",
      "metadata": {
        "colab": {
          "base_uri": "https://localhost:8080/",
          "height": 111
        },
        "id": "lFlc1efVK4_1",
        "outputId": "bc5da000-0591-4f93-d847-b26da8912295"
      },
      "source": [
        "df.loc[df.amount == dfFraud.amount.max()]"
      ],
      "execution_count": 14,
      "outputs": [
        {
          "output_type": "execute_result",
          "data": {
            "text/html": [
              "<div>\n",
              "<style scoped>\n",
              "    .dataframe tbody tr th:only-of-type {\n",
              "        vertical-align: middle;\n",
              "    }\n",
              "\n",
              "    .dataframe tbody tr th {\n",
              "        vertical-align: top;\n",
              "    }\n",
              "\n",
              "    .dataframe thead th {\n",
              "        text-align: right;\n",
              "    }\n",
              "</style>\n",
              "<table border=\"1\" class=\"dataframe\">\n",
              "  <thead>\n",
              "    <tr style=\"text-align: right;\">\n",
              "      <th></th>\n",
              "      <th>step</th>\n",
              "      <th>action</th>\n",
              "      <th>amount</th>\n",
              "      <th>nameOrig</th>\n",
              "      <th>oldBalanceOrig</th>\n",
              "      <th>newBalanceOrig</th>\n",
              "      <th>nameDest</th>\n",
              "      <th>oldBalanceDest</th>\n",
              "      <th>newBalanceDest</th>\n",
              "      <th>isFraud</th>\n",
              "      <th>isFlaggedFraud</th>\n",
              "    </tr>\n",
              "    <tr>\n",
              "      <th>Id</th>\n",
              "      <th></th>\n",
              "      <th></th>\n",
              "      <th></th>\n",
              "      <th></th>\n",
              "      <th></th>\n",
              "      <th></th>\n",
              "      <th></th>\n",
              "      <th></th>\n",
              "      <th></th>\n",
              "      <th></th>\n",
              "      <th></th>\n",
              "    </tr>\n",
              "  </thead>\n",
              "  <tbody>\n",
              "    <tr>\n",
              "      <th>3292950</th>\n",
              "      <td>492</td>\n",
              "      <td>CASH_OUT</td>\n",
              "      <td>13123020.49</td>\n",
              "      <td>C2700558096</td>\n",
              "      <td>13123020.49</td>\n",
              "      <td>0.0</td>\n",
              "      <td>C6450083574</td>\n",
              "      <td>246191.3</td>\n",
              "      <td>246191.3</td>\n",
              "      <td>1</td>\n",
              "      <td>0</td>\n",
              "    </tr>\n",
              "  </tbody>\n",
              "</table>\n",
              "</div>"
            ],
            "text/plain": [
              "         step    action       amount     nameOrig  oldBalanceOrig  newBalanceOrig     nameDest  oldBalanceDest  newBalanceDest  isFraud  isFlaggedFraud\n",
              "Id                                                                                                                                                     \n",
              "3292950   492  CASH_OUT  13123020.49  C2700558096     13123020.49             0.0  C6450083574        246191.3        246191.3        1               0"
            ]
          },
          "metadata": {
            "tags": []
          },
          "execution_count": 14
        }
      ]
    },
    {
      "cell_type": "code",
      "metadata": {
        "colab": {
          "base_uri": "https://localhost:8080/",
          "height": 421
        },
        "id": "i5Z-YxCIVsgh",
        "outputId": "59b949ca-631d-42b6-a21a-a062482899af"
      },
      "source": [
        "print(df.action.value_counts())\r\n",
        "\r\n",
        "df.action.value_counts().plot(kind='pie', \r\n",
        "                              title=\"Percent of Transaction Type\", \r\n",
        "                              autopct=\"%.2f\",\r\n",
        "                              figsize=(5,5)\r\n",
        "                              )\r\n",
        "plt.show();"
      ],
      "execution_count": 15,
      "outputs": [
        {
          "output_type": "stream",
          "text": [
            "CASH_IN     1032064\n",
            "CASH_OUT     560152\n",
            "PAYMENT      553096\n",
            "TRANSFER     139371\n",
            "DEBIT         88122\n",
            "Name: action, dtype: int64\n"
          ],
          "name": "stdout"
        },
        {
          "output_type": "display_data",
          "data": {
            "image/png": "[encoded data removed]",
            "text/plain": [
              "<Figure size 360x360 with 1 Axes>"
            ]
          },
          "metadata": {
            "tags": []
          }
        }
      ]
    },
    {
      "cell_type": "code",
      "metadata": {
        "colab": {
          "base_uri": "https://localhost:8080/",
          "height": 362
        },
        "id": "LPZMaHJtRsG4",
        "outputId": "b67bf46f-231b-45d0-c783-cc158c402b9f"
      },
      "source": [
        "ax = df.groupby(['action', 'isFraud']).size().plot(kind='bar')\r\n",
        "\r\n",
        "ax.set_title(\"# of Transaction \", loc=\"center\", pad=2)\r\n",
        "ax.set_xlabel(\"(Action, isFraud)\")\r\n",
        "ax.set_ylabel(\"Count of transaction\")\r\n",
        "\r\n",
        "for p in ax.patches:\r\n",
        "    ax.annotate(str(format(int(p.get_height()), ',d')), (p.get_x(), p.get_height()*1.1))"
      ],
      "execution_count": 16,
      "outputs": [
        {
          "output_type": "display_data",
          "data": {
            "image/png": "[encoded data removed]",
            "text/plain": [
              "<Figure size 432x288 with 1 Axes>"
            ]
          },
          "metadata": {
            "tags": [],
            "needs_background": "light"
          }
        }
      ]
    },
    {
      "cell_type": "code",
      "metadata": {
        "colab": {
          "base_uri": "https://localhost:8080/"
        },
        "id": "ww0jA2WLpTDr",
        "outputId": "2752e164-7076-4ed6-c7ed-d85c3b73a82f"
      },
      "source": [
        "'''\r\n",
        "Fraudulent transactions are those related to money outflows ('Cash Out' & 'Transfer').\r\n",
        "'''\r\n",
        "dfFraudTransfer = df.loc[(df.isFraud == 1) & (df.action == 'TRANSFER')]\r\n",
        "dfFraudCashout = df.loc[(df.isFraud == 1) & (df.action == 'CASH_OUT')]\r\n",
        "\r\n",
        "print ('The number of fraudulent TRANSFERs = {}'.\\\r\n",
        "       format(len(dfFraudTransfer))) \r\n",
        "\r\n",
        "print ('\\nThe number of fraudulent CASH_OUTs = {}'.\\\r\n",
        "       format(len(dfFraudCashout))) "
      ],
      "execution_count": 17,
      "outputs": [
        {
          "output_type": "stream",
          "text": [
            "The number of fraudulent TRANSFERs = 84\n",
            "\n",
            "The number of fraudulent CASH_OUTs = 94\n"
          ],
          "name": "stdout"
        }
      ]
    },
    {
      "cell_type": "code",
      "metadata": {
        "colab": {
          "base_uri": "https://localhost:8080/"
        },
        "id": "vRCaa_j8myo3",
        "outputId": "c96c1e06-b306-48aa-bf0b-d71c105f8921"
      },
      "source": [
        "'''\r\n",
        "It turns out that the origin of 'isFlaggedFraud' is unclear. None of the entries is different than zero. \r\n",
        "'''\r\n",
        "if df.isFlaggedFraud.unique() == 0: print(\"The values of 'isFlaggedFraud' column has only value of zero and can be dropped.\")\r\n",
        "\r\n",
        "dfTransfer = df.loc[df.action == 'TRANSFER']\r\n",
        "\r\n",
        "print('\\nMinimum amount transacted in a TRANSFER where isFlaggedFraud is not set=\\\r\n",
        " {}'.format(dfTransfer.loc[dfTransfer.isFlaggedFraud == 0].amount.min())) \r\n",
        "\r\n",
        "print('\\nMaximum amount transacted in a TRANSFER where isFlaggedFraud is not set=\\\r\n",
        " {}'.format(dfTransfer.loc[dfTransfer.isFlaggedFraud == 0].amount.max())) "
      ],
      "execution_count": 18,
      "outputs": [
        {
          "output_type": "stream",
          "text": [
            "The values of 'isFlaggedFraud' column has only value of zero and can be dropped.\n",
            "\n",
            "Minimum amount transacted in a TRANSFER where isFlaggedFraud is not set= 10.0\n",
            "\n",
            "Maximum amount transacted in a TRANSFER where isFlaggedFraud is not set= 20268571.11\n"
          ],
          "name": "stdout"
        }
      ]
    },
    {
      "cell_type": "code",
      "metadata": {
        "colab": {
          "base_uri": "https://localhost:8080/"
        },
        "id": "KOow4qUG2Aek",
        "outputId": "85e31218-2c04-4aac-e13d-f80c2c415162"
      },
      "source": [
        "print(\"This is important!\\nWithin fraudulent transactions, there are {} number of destinations for TRANSFERS that are also originators for CASH_OUTs and of those {} are unique.\".\r\n",
        "      format(len(dfFraudTransfer.nameDest.isin(dfFraudCashout.nameOrig)), len(dfFraudTransfer[dfFraudTransfer.nameDest.isin(dfFraudCashout.nameOrig)].nameDest.drop_duplicates())))"
      ],
      "execution_count": 19,
      "outputs": [
        {
          "output_type": "stream",
          "text": [
            "This is important!\n",
            "Within fraudulent transactions, there are 84 number of destinations for TRANSFERS that are also originators for CASH_OUTs and of those 61 are unique.\n"
          ],
          "name": "stdout"
        }
      ]
    },
    {
      "cell_type": "code",
      "metadata": {
        "colab": {
          "base_uri": "https://localhost:8080/"
        },
        "id": "jJE5A4G2gnRJ",
        "outputId": "1451e37d-1a85-41d8-d557-20ba12539ca8"
      },
      "source": [
        "print(\"Within fraudulent transactions, there are {} number of fraudulent CASH_OUTs, whose origin does not belong to fraudulent TRANSFERs.\".\r\n",
        "      format(dfFraudCashout[~dfFraudCashout.nameOrig.isin(dfFraudTransfer.nameDest)].shape[0]))"
      ],
      "execution_count": 27,
      "outputs": [
        {
          "output_type": "stream",
          "text": [
            "Within fraudulent transactions, there are 32 number of fraudulent CASH_OUTs, whose origin does not belong to fraudulent TRANSFERs.\n"
          ],
          "name": "stdout"
        }
      ]
    },
    {
      "cell_type": "code",
      "metadata": {
        "colab": {
          "base_uri": "https://localhost:8080/"
        },
        "id": "EUypTO0R6Ywo",
        "outputId": "ffb20eee-1e8a-4361-e4c7-3873c5361063"
      },
      "source": [
        "if dfFraudTransfer.nameDest.isin(dfNotFraud.nameOrig).any() == False : print(\"There is not any fraudulent TRANSFERs whose destination accounts are originators of genuine CASH_OUTs.\")"
      ],
      "execution_count": 20,
      "outputs": [
        {
          "output_type": "stream",
          "text": [
            "There is not any fraudulent TRANSFERs whose destination accounts are originators of genuine CASH_OUTs.\n"
          ],
          "name": "stdout"
        }
      ]
    },
    {
      "cell_type": "code",
      "metadata": {
        "colab": {
          "base_uri": "https://localhost:8080/"
        },
        "id": "RQojHIx1FHDJ",
        "outputId": "6c151947-5f82-4d59-9e5f-7371944f7556"
      },
      "source": [
        "df = df.loc[(df.action == 'TRANSFER') | (df.action == 'CASH_OUT')]\r\n",
        "\r\n",
        "randomState = 42\r\n",
        "np.random.seed(randomState)\r\n",
        "\r\n",
        "# Eliminate columns shown to be irrelevant for analysis in the EDA\r\n",
        "df = df.drop(['nameOrig', 'nameDest', 'isFlaggedFraud'], axis = 1)\r\n",
        "\r\n",
        "# Binary-encoding of labelled data in 'type'\r\n",
        "df.loc[df.action == 'TRANSFER', 'action'] = 0\r\n",
        "df.loc[df.action == 'CASH_OUT', 'action'] = 1\r\n",
        "df.action = df.action.astype(int) # convert dtype('O') to dtype(int)\r\n",
        "\r\n",
        "df.shape"
      ],
      "execution_count": null,
      "outputs": [
        {
          "output_type": "execute_result",
          "data": {
            "text/plain": [
              "(699523, 8)"
            ]
          },
          "metadata": {
            "tags": []
          },
          "execution_count": 295
        }
      ]
    },
    {
      "cell_type": "code",
      "metadata": {
        "id": "hLOHz37iFBL3"
      },
      "source": [
        "df['DiffBalanceOrig'] = df.newBalanceOrig + df.amount - df.oldBalanceOrig\r\n",
        "df['DiffBalanceDest'] = df.oldBalanceDest + df.amount - df.newBalanceDest"
      ],
      "execution_count": null,
      "outputs": []
    },
    {
      "cell_type": "code",
      "metadata": {
        "id": "oeA06HJCGDGw"
      },
      "source": [
        "X_train, X_test, y_train, y_test = train_test_split(df.loc[:, df.columns != 'isFraud'], df['isFraud'], test_size = 0.2,\r\n",
        "                                                    stratify = df['isFraud'],\r\n",
        "                                                    shuffle = True,\r\n",
        "                                                    random_state = 42)"
      ],
      "execution_count": null,
      "outputs": []
    },
    {
      "cell_type": "code",
      "metadata": {
        "id": "xQ1yCYIsTapC"
      },
      "source": [
        "df_train = pd.concat([X_train, y_train], axis = 1)"
      ],
      "execution_count": null,
      "outputs": []
    },
    {
      "cell_type": "markdown",
      "metadata": {
        "id": "IicazB_UVW8L"
      },
      "source": [
        "Stratified K-Fold"
      ]
    },
    {
      "cell_type": "code",
      "metadata": {
        "id": "OcXvOz42OKxJ"
      },
      "source": [
        "def folds(data, target = \"isFraud\", n_splits = 5):\r\n",
        "  data[\"kfold\"] = -1\r\n",
        "  np.random.seed(42)\r\n",
        "  data = data.sample(frac=1).reset_index(drop=True)\r\n",
        "  \r\n",
        "  y = data[target].values\r\n",
        "  \r\n",
        "  kf = StratifiedKFold(n_splits=n_splits)\r\n",
        "  \r\n",
        "  for f, (t_, v_) in enumerate(kf.split(X=data, y=y)):\r\n",
        "    data.loc[v_, 'kfold'] = f\r\n",
        "  \r\n",
        "  return data"
      ],
      "execution_count": null,
      "outputs": []
    },
    {
      "cell_type": "code",
      "metadata": {
        "id": "PAHCsevUO2ow"
      },
      "source": [
        "df_train = folds(df_train, \"isFraud\", 5)"
      ],
      "execution_count": null,
      "outputs": []
    },
    {
      "cell_type": "code",
      "metadata": {
        "colab": {
          "base_uri": "https://localhost:8080/",
          "height": 111
        },
        "id": "JKeJAsjvUhrp",
        "outputId": "989c8d2d-1594-4b4e-b65a-dbc094d0cb50"
      },
      "source": [
        "df_train.head(2)"
      ],
      "execution_count": null,
      "outputs": [
        {
          "output_type": "execute_result",
          "data": {
            "text/html": [
              "<div>\n",
              "<style scoped>\n",
              "    .dataframe tbody tr th:only-of-type {\n",
              "        vertical-align: middle;\n",
              "    }\n",
              "\n",
              "    .dataframe tbody tr th {\n",
              "        vertical-align: top;\n",
              "    }\n",
              "\n",
              "    .dataframe thead th {\n",
              "        text-align: right;\n",
              "    }\n",
              "</style>\n",
              "<table border=\"1\" class=\"dataframe\">\n",
              "  <thead>\n",
              "    <tr style=\"text-align: right;\">\n",
              "      <th></th>\n",
              "      <th>step</th>\n",
              "      <th>action</th>\n",
              "      <th>amount</th>\n",
              "      <th>oldBalanceOrig</th>\n",
              "      <th>newBalanceOrig</th>\n",
              "      <th>oldBalanceDest</th>\n",
              "      <th>newBalanceDest</th>\n",
              "      <th>DiffBalanceOrig</th>\n",
              "      <th>DiffBalanceDest</th>\n",
              "      <th>isFraud</th>\n",
              "      <th>kfold</th>\n",
              "    </tr>\n",
              "  </thead>\n",
              "  <tbody>\n",
              "    <tr>\n",
              "      <th>0</th>\n",
              "      <td>331</td>\n",
              "      <td>1</td>\n",
              "      <td>57397.90</td>\n",
              "      <td>8481053.46</td>\n",
              "      <td>8423655.56</td>\n",
              "      <td>83137.17</td>\n",
              "      <td>83137.17</td>\n",
              "      <td>0.0</td>\n",
              "      <td>57397.90</td>\n",
              "      <td>0</td>\n",
              "      <td>0</td>\n",
              "    </tr>\n",
              "    <tr>\n",
              "      <th>1</th>\n",
              "      <td>119</td>\n",
              "      <td>1</td>\n",
              "      <td>131705.76</td>\n",
              "      <td>2929756.76</td>\n",
              "      <td>2798051.00</td>\n",
              "      <td>42749.95</td>\n",
              "      <td>42749.95</td>\n",
              "      <td>0.0</td>\n",
              "      <td>131705.76</td>\n",
              "      <td>0</td>\n",
              "      <td>0</td>\n",
              "    </tr>\n",
              "  </tbody>\n",
              "</table>\n",
              "</div>"
            ],
            "text/plain": [
              "   step  action     amount  oldBalanceOrig  newBalanceOrig  oldBalanceDest  newBalanceDest  DiffBalanceOrig  DiffBalanceDest  isFraud  kfold\n",
              "0   331       1   57397.90      8481053.46      8423655.56        83137.17        83137.17              0.0         57397.90        0      0\n",
              "1   119       1  131705.76      2929756.76      2798051.00        42749.95        42749.95              0.0        131705.76        0      0"
            ]
          },
          "metadata": {
            "tags": []
          },
          "execution_count": 301
        }
      ]
    },
    {
      "cell_type": "code",
      "metadata": {
        "colab": {
          "base_uri": "https://localhost:8080/"
        },
        "id": "TerNcGNLQzV8",
        "outputId": "335ec637-06ee-43eb-afe8-b3c1db23ef7a"
      },
      "source": [
        "df_train.groupby(by = [\"isFraud\", \"kfold\"]).step.count()"
      ],
      "execution_count": null,
      "outputs": [
        {
          "output_type": "execute_result",
          "data": {
            "text/plain": [
              "isFraud  kfold\n",
              "0        0        111896\n",
              "         1        111895\n",
              "         2        111895\n",
              "         3        111895\n",
              "         4        111895\n",
              "1        0            28\n",
              "         1            29\n",
              "         2            29\n",
              "         3            28\n",
              "         4            28\n",
              "Name: step, dtype: int64"
            ]
          },
          "metadata": {
            "tags": []
          },
          "execution_count": 302
        }
      ]
    },
    {
      "cell_type": "code",
      "metadata": {
        "colab": {
          "base_uri": "https://localhost:8080/"
        },
        "id": "o9Lv-D-tjLrt",
        "outputId": "05089a1b-c40b-4f9d-d0d4-e4172115a54c"
      },
      "source": [
        "y_test.value_counts()"
      ],
      "execution_count": null,
      "outputs": [
        {
          "output_type": "execute_result",
          "data": {
            "text/plain": [
              "0    139869\n",
              "1        36\n",
              "Name: isFraud, dtype: int64"
            ]
          },
          "metadata": {
            "tags": []
          },
          "execution_count": 303
        }
      ]
    },
    {
      "cell_type": "markdown",
      "metadata": {
        "id": "PV3roiLklYfP"
      },
      "source": [
        "**Parameter Tuning**"
      ]
    },
    {
      "cell_type": "code",
      "metadata": {
        "colab": {
          "base_uri": "https://localhost:8080/"
        },
        "id": "Y2lNf9TTuYV6",
        "outputId": "777260f2-63c6-419d-b97f-a557db1123cf"
      },
      "source": [
        "features = [f for f in df_train.columns if f not in (\"isFraud\", \"kfold\")]\r\n",
        "\r\n",
        "train_grid = df_train[df_train.kfold == 0].reset_index(drop=True)\r\n",
        "X_train_grid = train_grid[features].values\r\n",
        "y_train_grid = train_grid.isFraud.values\r\n",
        "\r\n",
        "X_train_grid.shape"
      ],
      "execution_count": null,
      "outputs": [
        {
          "output_type": "execute_result",
          "data": {
            "text/plain": [
              "(111924, 9)"
            ]
          },
          "metadata": {
            "tags": []
          },
          "execution_count": 28
        }
      ]
    },
    {
      "cell_type": "code",
      "metadata": {
        "colab": {
          "base_uri": "https://localhost:8080/"
        },
        "id": "7Xt5Wc5VlTlp",
        "outputId": "6528e35d-2baa-477a-828e-f27ad23689b4"
      },
      "source": [
        "parameters = {\r\n",
        "    \"learning_rate\"    : [0.05, 0.10] ,\r\n",
        "    \"max_depth\"        : [ 3, 4, 5, 6],\r\n",
        "    \"min_child_weight\" : [ 1, 2, 3 ],\r\n",
        "    \"n_estimators\" : [80, 100, 120]\r\n",
        "    }\r\n",
        "\r\n",
        "weights = (y_train == 0).sum() / (1.0 * (y_train == 1).sum())\r\n",
        "\r\n",
        "gsearch = GridSearchCV(XGBClassifier(n_jobs=-1, nthread=4, seed=42, scale_pos_weight=weights),\r\n",
        "                   param_grid = parameters, \r\n",
        "                   scoring='roc_auc',\r\n",
        "                   return_train_score = True,\r\n",
        "                   cv=5)\r\n",
        "\r\n",
        "gsearch.fit(X_train_grid, y_train_grid)"
      ],
      "execution_count": null,
      "outputs": [
        {
          "output_type": "execute_result",
          "data": {
            "text/plain": [
              "GridSearchCV(cv=5, error_score=nan,\n",
              "             estimator=XGBClassifier(base_score=0.5, booster='gbtree',\n",
              "                                     colsample_bylevel=1, colsample_bynode=1,\n",
              "                                     colsample_bytree=1, gamma=0,\n",
              "                                     learning_rate=0.1, max_delta_step=0,\n",
              "                                     max_depth=3, min_child_weight=1,\n",
              "                                     missing=None, n_estimators=100, n_jobs=-1,\n",
              "                                     nthread=4, objective='binary:logistic',\n",
              "                                     random_state=0, reg_alpha=0, reg_lambda=1,\n",
              "                                     scale_pos_weight=3939.9718309859154,\n",
              "                                     seed=42, silent=None, subsample=1,\n",
              "                                     verbosity=1),\n",
              "             iid='deprecated', n_jobs=None,\n",
              "             param_grid={'learning_rate': [0.05, 0.1],\n",
              "                         'max_depth': [3, 4, 5, 6],\n",
              "                         'min_child_weight': [1, 2, 3],\n",
              "                         'n_estimators': [80, 100, 120]},\n",
              "             pre_dispatch='2*n_jobs', refit=True, return_train_score=True,\n",
              "             scoring='roc_auc', verbose=0)"
            ]
          },
          "metadata": {
            "tags": []
          },
          "execution_count": 30
        }
      ]
    },
    {
      "cell_type": "code",
      "metadata": {
        "colab": {
          "base_uri": "https://localhost:8080/"
        },
        "id": "SFVCQWE4pp3e",
        "outputId": "0f212e10-7bad-4015-ac95-7138d8b063ae"
      },
      "source": [
        "gsearch.best_params_, gsearch.best_score_"
      ],
      "execution_count": null,
      "outputs": [
        {
          "output_type": "execute_result",
          "data": {
            "text/plain": [
              "({'learning_rate': 0.1,\n",
              "  'max_depth': 5,\n",
              "  'min_child_weight': 3,\n",
              "  'n_estimators': 100},\n",
              " 0.9926283075050291)"
            ]
          },
          "metadata": {
            "tags": []
          },
          "execution_count": 31
        }
      ]
    },
    {
      "cell_type": "markdown",
      "metadata": {
        "id": "PHlZ4tYKMbTw"
      },
      "source": [
        "Validation Data Prediction Performance"
      ]
    },
    {
      "cell_type": "code",
      "metadata": {
        "id": "MvYMsM5BSGos"
      },
      "source": [
        "def kfold_predict(fold):\r\n",
        "\r\n",
        "  weights = (df_train.isFraud == 0).sum() / (1.0 * (df_train.isFraud == 1).sum())\r\n",
        "\r\n",
        "  features = [\r\n",
        "              f for f in df_train.columns if f not in (\"isFraud\", \"kfold\")\r\n",
        "              ]\r\n",
        "  \r\n",
        "  train = df_train[df_train.kfold != fold].reset_index(drop=True)\r\n",
        "  valid = df_train[df_train.kfold == fold].reset_index(drop=True)\r\n",
        "\r\n",
        "  x_train_fold = train[features].values\r\n",
        "  x_valid_fold = valid[features].values\r\n",
        "\r\n",
        "  model = XGBClassifier(n_jobs=-1,\r\n",
        "                        learning_rate = 0.1,\r\n",
        "                        max_depth = 5,\r\n",
        "                        min_child_weight = 3,\r\n",
        "                        n_estimators = 100,\r\n",
        "                        scale_pos_weight = weights\r\n",
        "                        )\r\n",
        "\r\n",
        "  model.fit(x_train_fold, train.isFraud.values)\r\n",
        "  valid_preds = model.predict_proba(x_valid_fold)[:, 1]\r\n",
        "\r\n",
        "  roc_auc = roc_auc_score(valid.isFraud.values, valid_preds)\r\n",
        "\r\n",
        "  print(f\"Fold = {fold}, AUC = {roc_auc}\")"
      ],
      "execution_count": null,
      "outputs": []
    },
    {
      "cell_type": "code",
      "metadata": {
        "colab": {
          "base_uri": "https://localhost:8080/"
        },
        "id": "sHa1VP3QSGj0",
        "outputId": "0d26f001-f76a-423e-d081-fbe749dbcdfb"
      },
      "source": [
        "if __name__ == \"__main__\":\r\n",
        "  for fold_ in range(5):\r\n",
        "    kfold_predict(fold_)"
      ],
      "execution_count": null,
      "outputs": [
        {
          "output_type": "stream",
          "text": [
            "Fold = 0, AUC = 0.9763058043693633\n",
            "Fold = 1, AUC = 0.9995375898895362\n",
            "Fold = 2, AUC = 0.9971377106924441\n",
            "Fold = 3, AUC = 0.9998665841062732\n",
            "Fold = 4, AUC = 0.9976028227994356\n"
          ],
          "name": "stdout"
        }
      ]
    },
    {
      "cell_type": "code",
      "metadata": {
        "colab": {
          "base_uri": "https://localhost:8080/"
        },
        "id": "VXPWhwxmGRgh",
        "outputId": "b1fe738a-3c57-412c-ad11-198f945bda24"
      },
      "source": [
        "weights = (y_train == 0).sum() / (1.0 * (y_train == 1).sum())\r\n",
        "\r\n",
        "clf = XGBClassifier(n_jobs=-1,\r\n",
        "                    learning_rate = 0.1,\r\n",
        "                    max_depth = 5,\r\n",
        "                    min_child_weight = 3,\r\n",
        "                    n_estimators = 100,\r\n",
        "                    scale_pos_weight = weights\r\n",
        "#                    booster = \"dart\"\r\n",
        "                    )\r\n",
        "\r\n",
        "y_pred = clf.fit(X_train, y_train).predict_proba(X_test)\r\n",
        "print('AUC = {}'.format(roc_auc_score(y_test, y_pred[:, 1])))"
      ],
      "execution_count": null,
      "outputs": [
        {
          "output_type": "stream",
          "text": [
            "AUC = 0.9999872896940868\n"
          ],
          "name": "stdout"
        }
      ]
    },
    {
      "cell_type": "code",
      "metadata": {
        "id": "thOmm8gCHYle"
      },
      "source": [
        "def plot_confusion_matrix(cm, classes,\r\n",
        "                          normalize=False,\r\n",
        "                          title='Confusion matrix',\r\n",
        "                          cmap=plt.cm.Blues):\r\n",
        "\r\n",
        "    plt.imshow(cm, interpolation='nearest', cmap=cmap)\r\n",
        "    plt.title(title)\r\n",
        "    plt.colorbar()\r\n",
        "    tick_marks = np.arange(len(classes))\r\n",
        "    plt.xticks(tick_marks, classes, rotation=0)\r\n",
        "    plt.yticks(tick_marks, classes)\r\n",
        "\r\n",
        "    if normalize:\r\n",
        "        cm = cm.astype('float') / cm.sum(axis=1)[:, np.newaxis]\r\n",
        "    else:\r\n",
        "      pass\r\n",
        "\r\n",
        "    thresh = cm.max() / 2.\r\n",
        "    for i, j in itertools.product(range(cm.shape[0]), range(cm.shape[1])):\r\n",
        "        plt.text(j, i, cm[i, j],\r\n",
        "                 horizontalalignment=\"center\",\r\n",
        "                 color=\"white\" if cm[i, j] > thresh else \"black\")\r\n",
        "\r\n",
        "    plt.tight_layout()\r\n",
        "    plt.ylabel('True label')\r\n",
        "    plt.xlabel('Predicted label')"
      ],
      "execution_count": null,
      "outputs": []
    },
    {
      "cell_type": "code",
      "metadata": {
        "colab": {
          "base_uri": "https://localhost:8080/",
          "height": 379
        },
        "id": "t54MK75aG3K3",
        "outputId": "11a31591-f05a-48b4-f3e4-e2943aefe8f3"
      },
      "source": [
        "y_pred = clf.predict(X_test)\r\n",
        "\r\n",
        "# Compute confusion matrix\r\n",
        "cnf_matrix = confusion_matrix(y_test,y_pred)\r\n",
        "np.set_printoptions(precision=2)\r\n",
        "\r\n",
        "print(\"Recall metric in the testing dataset: \", cnf_matrix[1,1]/(cnf_matrix[1,0]+cnf_matrix[1,1]))\r\n",
        "print(\"Precision metric in the testing dataset: \", cnf_matrix[1,1]/(cnf_matrix[0,1]+cnf_matrix[1,1]))\r\n",
        "print(\"\\n\")\r\n",
        "\r\n",
        "# Plot non-normalized confusion matrix\r\n",
        "class_names = [0,1]\r\n",
        "plt.figure()\r\n",
        "plot_confusion_matrix(cnf_matrix\r\n",
        "                      , classes=class_names\r\n",
        "                      , title='Confusion matrix')\r\n",
        "plt.show()"
      ],
      "execution_count": null,
      "outputs": [
        {
          "output_type": "stream",
          "text": [
            "Recall metric in the testing dataset:  0.9722222222222222\n",
            "Precision metric in the testing dataset:  0.660377358490566\n",
            "\n",
            "\n"
          ],
          "name": "stdout"
        },
        {
          "output_type": "display_data",
          "data": {
            "image/png": "[encoded data removed]",
            "text/plain": [
              "<Figure size 432x288 with 2 Axes>"
            ]
          },
          "metadata": {
            "tags": [],
            "needs_background": "light"
          }
        }
      ]
    },
    {
      "cell_type": "code",
      "metadata": {
        "colab": {
          "base_uri": "https://localhost:8080/",
          "height": 279
        },
        "id": "mroOcmQmQHB4",
        "outputId": "4ab87e18-bd14-4188-c119-6ba6f9ffca75"
      },
      "source": [
        "plot_precision_recall_curve(clf, X_test, y_test)\r\n",
        "\r\n",
        "plt.show;"
      ],
      "execution_count": null,
      "outputs": [
        {
          "output_type": "display_data",
          "data": {
            "image/png": "[encoded data removed]",
            "text/plain": [
              "<Figure size 432x288 with 1 Axes>"
            ]
          },
          "metadata": {
            "tags": [],
            "needs_background": "light"
          }
        }
      ]
    },
    {
      "cell_type": "markdown",
      "metadata": {
        "id": "7MBp-XhHNm49"
      },
      "source": [
        "**UnderSampling**"
      ]
    },
    {
      "cell_type": "code",
      "metadata": {
        "colab": {
          "base_uri": "https://localhost:8080/"
        },
        "id": "DOT_ldZBKlH0",
        "outputId": "c273f6d9-5402-4366-d6f7-4ee65a5d4a2e"
      },
      "source": [
        "undersample = RandomUnderSampler(random_state=42)\r\n",
        "X_und, y_und = undersample.fit_resample(X_train, y_train)\r\n",
        "\r\n",
        "clf_und = XGBClassifier(n_jobs=-1,\r\n",
        "                    learning_rate = 0.1,\r\n",
        "                    max_depth = 5,\r\n",
        "                    min_child_weight = 3,\r\n",
        "                    n_estimators = 100,\r\n",
        "                    scale_pos_weight = weights\r\n",
        "#                    booster = \"dart\"\r\n",
        "                    )\r\n",
        "\r\n",
        "y_pred_und = clf_und.fit(X_und, y_und).predict_proba(X_test.values)\r\n",
        "print('AUC = {}'.format(roc_auc_score(y_test, y_pred_und[:, 1])))"
      ],
      "execution_count": null,
      "outputs": [
        {
          "output_type": "stream",
          "text": [
            "/usr/local/lib/python3.6/dist-packages/sklearn/utils/deprecation.py:87: FutureWarning: Function safe_indexing is deprecated; safe_indexing is deprecated in version 0.22 and will be removed in version 0.24.\n",
            "  warnings.warn(msg, category=FutureWarning)\n"
          ],
          "name": "stderr"
        },
        {
          "output_type": "stream",
          "text": [
            "AUC = 0.9999426050248607\n"
          ],
          "name": "stdout"
        }
      ]
    },
    {
      "cell_type": "code",
      "metadata": {
        "colab": {
          "base_uri": "https://localhost:8080/",
          "height": 413
        },
        "id": "qmCjFo3VN81H",
        "outputId": "eb6ba01a-118a-47b7-dd31-426e3c0c0539"
      },
      "source": [
        "print(\"Better recall but much worse precision when undersampled. \\n\")\r\n",
        "    \r\n",
        "y_pred_und = clf_und.predict(X_test.values)\r\n",
        "\r\n",
        "# Compute confusion matrix\r\n",
        "cnf_matrix = confusion_matrix(y_test,y_pred_und)\r\n",
        "np.set_printoptions(precision=2)\r\n",
        "\r\n",
        "print(\"Recall metric in the testing dataset: \", cnf_matrix[1,1]/(cnf_matrix[1,0]+cnf_matrix[1,1]))\r\n",
        "print(\"Precision metric in the testing dataset: \", cnf_matrix[1,1]/(cnf_matrix[0,1]+cnf_matrix[1,1]))\r\n",
        "print(\"\\n\")\r\n",
        "\r\n",
        "# Plot non-normalized confusion matrix\r\n",
        "class_names = [0,1]\r\n",
        "plt.figure()\r\n",
        "plot_confusion_matrix(cnf_matrix\r\n",
        "                      , classes=class_names\r\n",
        "                      , title='Confusion matrix')\r\n",
        "plt.show()"
      ],
      "execution_count": null,
      "outputs": [
        {
          "output_type": "stream",
          "text": [
            "Better recall but much worse precision when undersampled. \n",
            "\n",
            "Recall metric in the testing dataset:  1.0\n",
            "Precision metric in the testing dataset:  0.0012415077421802255\n",
            "\n",
            "\n"
          ],
          "name": "stdout"
        },
        {
          "output_type": "display_data",
          "data": {
            "image/png": "[encoded data removed]",
            "text/plain": [
              "<Figure size 432x288 with 2 Axes>"
            ]
          },
          "metadata": {
            "tags": [],
            "needs_background": "light"
          }
        }
      ]
    },
    {
      "cell_type": "code",
      "metadata": {
        "colab": {
          "base_uri": "https://localhost:8080/",
          "height": 279
        },
        "id": "heoI2brRRy_W",
        "outputId": "2e78d09e-e14e-4b52-a1f8-847efce0d3cb"
      },
      "source": [
        "plot_precision_recall_curve(clf_und, X_test.values, y_test)\r\n",
        "\r\n",
        "plt.show;"
      ],
      "execution_count": null,
      "outputs": [
        {
          "output_type": "display_data",
          "data": {
            "image/png": "[encoded data removed]",
            "text/plain": [
              "<Figure size 432x288 with 1 Axes>"
            ]
          },
          "metadata": {
            "tags": [],
            "needs_background": "light"
          }
        }
      ]
    },
    {
      "cell_type": "code",
      "metadata": {
        "colab": {
          "base_uri": "https://localhost:8080/",
          "height": 114
        },
        "id": "KYpD1Qq-7b11",
        "outputId": "29425f75-7fc9-40a7-ea0d-9b80bcddc79f"
      },
      "source": [
        "result = pd.concat([pd.DataFrame(y_test.values, index=(y_test.index), columns=[\"Actual\"]), pd.DataFrame(y_pred, index=(y_test.index), columns=[\"Prediction\"])], axis=1)\r\n",
        "\r\n",
        "print(\"Transaction that was incorrectly evaluated as non fraudulent.\\n\")\r\n",
        "data.loc[result.loc[(result[\"Actual\"] == 1) & (result[\"Prediction\"] == 0)].index]"
      ],
      "execution_count": null,
      "outputs": [
        {
          "output_type": "stream",
          "text": [
            "Transaction that was incorrectly evaluated as non fraudulent.\n",
            "\n"
          ],
          "name": "stdout"
        },
        {
          "output_type": "execute_result",
          "data": {
            "text/html": [
              "<div>\n",
              "<style scoped>\n",
              "    .dataframe tbody tr th:only-of-type {\n",
              "        vertical-align: middle;\n",
              "    }\n",
              "\n",
              "    .dataframe tbody tr th {\n",
              "        vertical-align: top;\n",
              "    }\n",
              "\n",
              "    .dataframe thead th {\n",
              "        text-align: right;\n",
              "    }\n",
              "</style>\n",
              "<table border=\"1\" class=\"dataframe\">\n",
              "  <thead>\n",
              "    <tr style=\"text-align: right;\">\n",
              "      <th></th>\n",
              "      <th>Id</th>\n",
              "      <th>step</th>\n",
              "      <th>action</th>\n",
              "      <th>amount</th>\n",
              "      <th>nameOrig</th>\n",
              "      <th>oldBalanceOrig</th>\n",
              "      <th>newBalanceOrig</th>\n",
              "      <th>nameDest</th>\n",
              "      <th>oldBalanceDest</th>\n",
              "      <th>newBalanceDest</th>\n",
              "      <th>isFraud</th>\n",
              "      <th>isFlaggedFraud</th>\n",
              "    </tr>\n",
              "  </thead>\n",
              "  <tbody>\n",
              "    <tr>\n",
              "      <th>483689</th>\n",
              "      <td>683944</td>\n",
              "      <td>40</td>\n",
              "      <td>TRANSFER</td>\n",
              "      <td>2589453.21</td>\n",
              "      <td>C9136552933</td>\n",
              "      <td>3239211.96</td>\n",
              "      <td>649758.75</td>\n",
              "      <td>C9533916276</td>\n",
              "      <td>0.0</td>\n",
              "      <td>2589453.21</td>\n",
              "      <td>1</td>\n",
              "      <td>0</td>\n",
              "    </tr>\n",
              "  </tbody>\n",
              "</table>\n",
              "</div>"
            ],
            "text/plain": [
              "            Id  step    action      amount     nameOrig  oldBalanceOrig  newBalanceOrig     nameDest  oldBalanceDest  newBalanceDest  isFraud  isFlaggedFraud\n",
              "483689  683944    40  TRANSFER  2589453.21  C9136552933      3239211.96       649758.75  C9533916276             0.0      2589453.21        1               0"
            ]
          },
          "metadata": {
            "tags": []
          },
          "execution_count": 313
        }
      ]
    },
    {
      "cell_type": "code",
      "metadata": {
        "colab": {
          "base_uri": "https://localhost:8080/",
          "height": 641
        },
        "id": "DVCI0K2HFr1I",
        "outputId": "94e1ee19-1729-41c8-f398-5aa4347c24d4"
      },
      "source": [
        "print(\"Transactions that were incorrectly evaluated as fraudulent.\\n\")\r\n",
        "data.loc[result.loc[(result[\"Actual\"] == 0) & (result[\"Prediction\"] == 1)].index]"
      ],
      "execution_count": null,
      "outputs": [
        {
          "output_type": "stream",
          "text": [
            "Transactions that were incorrectly evaluated as fraudulent.\n",
            "\n"
          ],
          "name": "stdout"
        },
        {
          "output_type": "execute_result",
          "data": {
            "text/html": [
              "<div>\n",
              "<style scoped>\n",
              "    .dataframe tbody tr th:only-of-type {\n",
              "        vertical-align: middle;\n",
              "    }\n",
              "\n",
              "    .dataframe tbody tr th {\n",
              "        vertical-align: top;\n",
              "    }\n",
              "\n",
              "    .dataframe thead th {\n",
              "        text-align: right;\n",
              "    }\n",
              "</style>\n",
              "<table border=\"1\" class=\"dataframe\">\n",
              "  <thead>\n",
              "    <tr style=\"text-align: right;\">\n",
              "      <th></th>\n",
              "      <th>Id</th>\n",
              "      <th>step</th>\n",
              "      <th>action</th>\n",
              "      <th>amount</th>\n",
              "      <th>nameOrig</th>\n",
              "      <th>oldBalanceOrig</th>\n",
              "      <th>newBalanceOrig</th>\n",
              "      <th>nameDest</th>\n",
              "      <th>oldBalanceDest</th>\n",
              "      <th>newBalanceDest</th>\n",
              "      <th>isFraud</th>\n",
              "      <th>isFlaggedFraud</th>\n",
              "    </tr>\n",
              "  </thead>\n",
              "  <tbody>\n",
              "    <tr>\n",
              "      <th>1526871</th>\n",
              "      <td>2158138</td>\n",
              "      <td>235</td>\n",
              "      <td>TRANSFER</td>\n",
              "      <td>1443831.42</td>\n",
              "      <td>C1497338320</td>\n",
              "      <td>1426887.81</td>\n",
              "      <td>-16943.61</td>\n",
              "      <td>C7868705329</td>\n",
              "      <td>195801.59</td>\n",
              "      <td>1639633.02</td>\n",
              "      <td>0</td>\n",
              "      <td>0</td>\n",
              "    </tr>\n",
              "    <tr>\n",
              "      <th>980020</th>\n",
              "      <td>1386144</td>\n",
              "      <td>162</td>\n",
              "      <td>CASH_OUT</td>\n",
              "      <td>94984.13</td>\n",
              "      <td>C2848354838</td>\n",
              "      <td>1524681.55</td>\n",
              "      <td>1429697.41</td>\n",
              "      <td>C2460580973</td>\n",
              "      <td>34616.23</td>\n",
              "      <td>34616.23</td>\n",
              "      <td>0</td>\n",
              "      <td>0</td>\n",
              "    </tr>\n",
              "    <tr>\n",
              "      <th>1750194</th>\n",
              "      <td>2473974</td>\n",
              "      <td>262</td>\n",
              "      <td>TRANSFER</td>\n",
              "      <td>2153924.87</td>\n",
              "      <td>C3130225507</td>\n",
              "      <td>2323615.61</td>\n",
              "      <td>169690.74</td>\n",
              "      <td>C2104311250</td>\n",
              "      <td>726044.47</td>\n",
              "      <td>2879969.34</td>\n",
              "      <td>0</td>\n",
              "      <td>0</td>\n",
              "    </tr>\n",
              "    <tr>\n",
              "      <th>10397</th>\n",
              "      <td>14639</td>\n",
              "      <td>7</td>\n",
              "      <td>CASH_OUT</td>\n",
              "      <td>80.62</td>\n",
              "      <td>C6576391538</td>\n",
              "      <td>80.62</td>\n",
              "      <td>0.00</td>\n",
              "      <td>C5959097984</td>\n",
              "      <td>0.00</td>\n",
              "      <td>0.00</td>\n",
              "      <td>0</td>\n",
              "      <td>0</td>\n",
              "    </tr>\n",
              "    <tr>\n",
              "      <th>2105374</th>\n",
              "      <td>2975065</td>\n",
              "      <td>331</td>\n",
              "      <td>TRANSFER</td>\n",
              "      <td>1339976.62</td>\n",
              "      <td>C9570176344</td>\n",
              "      <td>3149104.02</td>\n",
              "      <td>1809127.41</td>\n",
              "      <td>C1255861000</td>\n",
              "      <td>105811.15</td>\n",
              "      <td>1445787.77</td>\n",
              "      <td>0</td>\n",
              "      <td>0</td>\n",
              "    </tr>\n",
              "    <tr>\n",
              "      <th>1874105</th>\n",
              "      <td>2648918</td>\n",
              "      <td>286</td>\n",
              "      <td>CASH_OUT</td>\n",
              "      <td>65449.51</td>\n",
              "      <td>C5115408259</td>\n",
              "      <td>932511.58</td>\n",
              "      <td>867062.07</td>\n",
              "      <td>C5003947781</td>\n",
              "      <td>166453.12</td>\n",
              "      <td>166453.12</td>\n",
              "      <td>0</td>\n",
              "      <td>0</td>\n",
              "    </tr>\n",
              "    <tr>\n",
              "      <th>2371583</th>\n",
              "      <td>3351123</td>\n",
              "      <td>715</td>\n",
              "      <td>CASH_OUT</td>\n",
              "      <td>64769.48</td>\n",
              "      <td>C1221614665</td>\n",
              "      <td>551052.15</td>\n",
              "      <td>486282.67</td>\n",
              "      <td>C2567280622</td>\n",
              "      <td>203826.49</td>\n",
              "      <td>203826.49</td>\n",
              "      <td>0</td>\n",
              "      <td>0</td>\n",
              "    </tr>\n",
              "    <tr>\n",
              "      <th>1373423</th>\n",
              "      <td>1941263</td>\n",
              "      <td>211</td>\n",
              "      <td>CASH_OUT</td>\n",
              "      <td>79635.76</td>\n",
              "      <td>C1814275757</td>\n",
              "      <td>1524690.51</td>\n",
              "      <td>1445054.75</td>\n",
              "      <td>C5206059650</td>\n",
              "      <td>91258.16</td>\n",
              "      <td>91258.16</td>\n",
              "      <td>0</td>\n",
              "      <td>0</td>\n",
              "    </tr>\n",
              "    <tr>\n",
              "      <th>1263686</th>\n",
              "      <td>1786817</td>\n",
              "      <td>190</td>\n",
              "      <td>TRANSFER</td>\n",
              "      <td>1642333.57</td>\n",
              "      <td>C9421167543</td>\n",
              "      <td>2145975.25</td>\n",
              "      <td>503641.68</td>\n",
              "      <td>C8894826651</td>\n",
              "      <td>230748.10</td>\n",
              "      <td>1873081.67</td>\n",
              "      <td>0</td>\n",
              "      <td>0</td>\n",
              "    </tr>\n",
              "    <tr>\n",
              "      <th>1517112</th>\n",
              "      <td>2144718</td>\n",
              "      <td>235</td>\n",
              "      <td>CASH_OUT</td>\n",
              "      <td>471216.75</td>\n",
              "      <td>C7147548297</td>\n",
              "      <td>3008948.39</td>\n",
              "      <td>2537731.64</td>\n",
              "      <td>C6737077150</td>\n",
              "      <td>103522.77</td>\n",
              "      <td>103522.77</td>\n",
              "      <td>0</td>\n",
              "      <td>0</td>\n",
              "    </tr>\n",
              "    <tr>\n",
              "      <th>1869880</th>\n",
              "      <td>2642857</td>\n",
              "      <td>286</td>\n",
              "      <td>TRANSFER</td>\n",
              "      <td>3249245.20</td>\n",
              "      <td>C2721548767</td>\n",
              "      <td>3605208.60</td>\n",
              "      <td>355963.40</td>\n",
              "      <td>C3557574267</td>\n",
              "      <td>202147.54</td>\n",
              "      <td>3451392.74</td>\n",
              "      <td>0</td>\n",
              "      <td>0</td>\n",
              "    </tr>\n",
              "    <tr>\n",
              "      <th>2337419</th>\n",
              "      <td>3302922</td>\n",
              "      <td>522</td>\n",
              "      <td>CASH_OUT</td>\n",
              "      <td>155059.44</td>\n",
              "      <td>C6849174513</td>\n",
              "      <td>0.00</td>\n",
              "      <td>0.00</td>\n",
              "      <td>C6470069153</td>\n",
              "      <td>154329.83</td>\n",
              "      <td>154329.83</td>\n",
              "      <td>0</td>\n",
              "      <td>0</td>\n",
              "    </tr>\n",
              "    <tr>\n",
              "      <th>712134</th>\n",
              "      <td>1006966</td>\n",
              "      <td>133</td>\n",
              "      <td>CASH_OUT</td>\n",
              "      <td>333087.01</td>\n",
              "      <td>C1976583415</td>\n",
              "      <td>1782137.35</td>\n",
              "      <td>1449050.34</td>\n",
              "      <td>C9879815648</td>\n",
              "      <td>22054.68</td>\n",
              "      <td>22054.68</td>\n",
              "      <td>0</td>\n",
              "      <td>0</td>\n",
              "    </tr>\n",
              "    <tr>\n",
              "      <th>1719861</th>\n",
              "      <td>2431144</td>\n",
              "      <td>260</td>\n",
              "      <td>TRANSFER</td>\n",
              "      <td>2423584.15</td>\n",
              "      <td>C7954347931</td>\n",
              "      <td>3322877.29</td>\n",
              "      <td>899293.13</td>\n",
              "      <td>C8054693289</td>\n",
              "      <td>21012.68</td>\n",
              "      <td>2444596.84</td>\n",
              "      <td>0</td>\n",
              "      <td>0</td>\n",
              "    </tr>\n",
              "    <tr>\n",
              "      <th>2075071</th>\n",
              "      <td>2932120</td>\n",
              "      <td>329</td>\n",
              "      <td>CASH_OUT</td>\n",
              "      <td>19800.85</td>\n",
              "      <td>C6095942183</td>\n",
              "      <td>928840.48</td>\n",
              "      <td>909039.63</td>\n",
              "      <td>C9357184102</td>\n",
              "      <td>169713.06</td>\n",
              "      <td>169713.06</td>\n",
              "      <td>0</td>\n",
              "      <td>0</td>\n",
              "    </tr>\n",
              "    <tr>\n",
              "      <th>2307612</th>\n",
              "      <td>3260777</td>\n",
              "      <td>394</td>\n",
              "      <td>CASH_OUT</td>\n",
              "      <td>394005.28</td>\n",
              "      <td>C7682674664</td>\n",
              "      <td>1726711.97</td>\n",
              "      <td>1332706.69</td>\n",
              "      <td>C0334948352</td>\n",
              "      <td>144093.64</td>\n",
              "      <td>144093.64</td>\n",
              "      <td>0</td>\n",
              "      <td>0</td>\n",
              "    </tr>\n",
              "    <tr>\n",
              "      <th>1792237</th>\n",
              "      <td>2533262</td>\n",
              "      <td>282</td>\n",
              "      <td>TRANSFER</td>\n",
              "      <td>2721634.19</td>\n",
              "      <td>C2120965853</td>\n",
              "      <td>2755570.11</td>\n",
              "      <td>33935.92</td>\n",
              "      <td>C1802673690</td>\n",
              "      <td>139276.04</td>\n",
              "      <td>2860910.23</td>\n",
              "      <td>0</td>\n",
              "      <td>0</td>\n",
              "    </tr>\n",
              "    <tr>\n",
              "      <th>964345</th>\n",
              "      <td>1363443</td>\n",
              "      <td>162</td>\n",
              "      <td>TRANSFER</td>\n",
              "      <td>1045429.76</td>\n",
              "      <td>C5397839195</td>\n",
              "      <td>3413127.43</td>\n",
              "      <td>2367697.66</td>\n",
              "      <td>C1171017270</td>\n",
              "      <td>113554.71</td>\n",
              "      <td>1158984.47</td>\n",
              "      <td>0</td>\n",
              "      <td>0</td>\n",
              "    </tr>\n",
              "  </tbody>\n",
              "</table>\n",
              "</div>"
            ],
            "text/plain": [
              "              Id  step    action      amount     nameOrig  oldBalanceOrig  newBalanceOrig     nameDest  oldBalanceDest  newBalanceDest  isFraud  isFlaggedFraud\n",
              "1526871  2158138   235  TRANSFER  1443831.42  C1497338320      1426887.81       -16943.61  C7868705329       195801.59      1639633.02        0               0\n",
              "980020   1386144   162  CASH_OUT    94984.13  C2848354838      1524681.55      1429697.41  C2460580973        34616.23        34616.23        0               0\n",
              "1750194  2473974   262  TRANSFER  2153924.87  C3130225507      2323615.61       169690.74  C2104311250       726044.47      2879969.34        0               0\n",
              "10397      14639     7  CASH_OUT       80.62  C6576391538           80.62            0.00  C5959097984            0.00            0.00        0               0\n",
              "2105374  2975065   331  TRANSFER  1339976.62  C9570176344      3149104.02      1809127.41  C1255861000       105811.15      1445787.77        0               0\n",
              "1874105  2648918   286  CASH_OUT    65449.51  C5115408259       932511.58       867062.07  C5003947781       166453.12       166453.12        0               0\n",
              "2371583  3351123   715  CASH_OUT    64769.48  C1221614665       551052.15       486282.67  C2567280622       203826.49       203826.49        0               0\n",
              "1373423  1941263   211  CASH_OUT    79635.76  C1814275757      1524690.51      1445054.75  C5206059650        91258.16        91258.16        0               0\n",
              "1263686  1786817   190  TRANSFER  1642333.57  C9421167543      2145975.25       503641.68  C8894826651       230748.10      1873081.67        0               0\n",
              "1517112  2144718   235  CASH_OUT   471216.75  C7147548297      3008948.39      2537731.64  C6737077150       103522.77       103522.77        0               0\n",
              "1869880  2642857   286  TRANSFER  3249245.20  C2721548767      3605208.60       355963.40  C3557574267       202147.54      3451392.74        0               0\n",
              "2337419  3302922   522  CASH_OUT   155059.44  C6849174513            0.00            0.00  C6470069153       154329.83       154329.83        0               0\n",
              "712134   1006966   133  CASH_OUT   333087.01  C1976583415      1782137.35      1449050.34  C9879815648        22054.68        22054.68        0               0\n",
              "1719861  2431144   260  TRANSFER  2423584.15  C7954347931      3322877.29       899293.13  C8054693289        21012.68      2444596.84        0               0\n",
              "2075071  2932120   329  CASH_OUT    19800.85  C6095942183       928840.48       909039.63  C9357184102       169713.06       169713.06        0               0\n",
              "2307612  3260777   394  CASH_OUT   394005.28  C7682674664      1726711.97      1332706.69  C0334948352       144093.64       144093.64        0               0\n",
              "1792237  2533262   282  TRANSFER  2721634.19  C2120965853      2755570.11        33935.92  C1802673690       139276.04      2860910.23        0               0\n",
              "964345   1363443   162  TRANSFER  1045429.76  C5397839195      3413127.43      2367697.66  C1171017270       113554.71      1158984.47        0               0"
            ]
          },
          "metadata": {
            "tags": []
          },
          "execution_count": 314
        }
      ]
    },
    {
      "cell_type": "code",
      "metadata": {
        "colab": {
          "base_uri": "https://localhost:8080/",
          "height": 404
        },
        "id": "X9zDfRJ3GWPx",
        "outputId": "cdc83beb-f342-47fe-9492-590158b0849a"
      },
      "source": [
        "fig = plt.figure(figsize = (10, 6))\r\n",
        "ax = fig.add_subplot(111)\r\n",
        "\r\n",
        "colours = plt.cm.Set1(np.linspace(0, 1, 9))\r\n",
        "\r\n",
        "ax = plot_importance(clf, height = 1, color = colours, grid = False, \\\r\n",
        "                     show_values = False, importance_type = 'cover', ax = ax);\r\n",
        "for axis in ['top','bottom','left','right']:\r\n",
        "            ax.spines[axis].set_linewidth(2)\r\n",
        "        \r\n",
        "ax.set_xlabel('importance score', size = 10);\r\n",
        "ax.set_ylabel('features', size = 10);\r\n",
        "ax.set_yticklabels(ax.get_yticklabels(), size = 10);\r\n",
        "ax.set_title('Ordering of features by importance to the model learnt', size = 12);"
      ],
      "execution_count": null,
      "outputs": [
        {
          "output_type": "display_data",
          "data": {
            "image/png": "[encoded data removed]",
            "text/plain": [
              "<Figure size 720x432 with 1 Axes>"
            ]
          },
          "metadata": {
            "tags": [],
            "needs_background": "light"
          }
        }
      ]
    },
    {
      "cell_type": "code",
      "metadata": {
        "colab": {
          "base_uri": "https://localhost:8080/",
          "height": 680
        },
        "id": "JPfiOxb9GbtJ",
        "outputId": "0c43bd92-10af-4920-d360-b67ee068b098"
      },
      "source": [
        "to_graphviz(clf)"
      ],
      "execution_count": null,
      "outputs": [
        {
          "output_type": "execute_result",
          "data": {
            "text/plain": [
              "<graphviz.dot.Digraph at 0x7fa9c46e4860>"
            ],
            "image/svg+xml": "<?xml version=\"1.0\" encoding=\"UTF-8\" standalone=\"no\"?>\n<!DOCTYPE svg PUBLIC \"-//W3C//DTD SVG 1.1//EN\"\n \"http://www.w3.org/Graphics/SVG/1.1/DTD/svg11.dtd\">\n<!-- Generated by graphviz version 2.40.1 (20161225.0304)\n -->\n<!-- Title: %3 Pages: 1 -->\n<svg width=\"1796pt\" height=\"479pt\"\n viewBox=\"0.00 0.00 1796.34 479.00\" xmlns=\"http://www.w3.org/2000/svg\" xmlns:xlink=\"http://www.w3.org/1999/xlink\">\n<g id=\"graph0\" class=\"graph\" transform=\"scale(1 1) rotate(0) translate(4 475)\">\n<title>%3</title>\n<polygon fill=\"#ffffff\" stroke=\"transparent\" points=\"-4,4 -4,-475 1792.3362,-475 1792.3362,4 -4,4\"/>\n<!-- 0 -->\n<g id=\"node1\" class=\"node\">\n<title>0</title>\n<ellipse fill=\"none\" stroke=\"#000000\" cx=\"988.9429\" cy=\"-453\" rx=\"124.2781\" ry=\"18\"/>\n<text text-anchor=\"middle\" x=\"988.9429\" y=\"-449.3\" font-family=\"Times,serif\" font-size=\"14.00\" fill=\"#000000\">newBalanceOrig&lt;1533960.62</text>\n</g>\n<!-- 1 -->\n<g id=\"node2\" class=\"node\">\n<title>1</title>\n<ellipse fill=\"none\" stroke=\"#000000\" cx=\"858.9429\" cy=\"-366\" rx=\"118.8789\" ry=\"18\"/>\n<text text-anchor=\"middle\" x=\"858.9429\" y=\"-362.3\" font-family=\"Times,serif\" font-size=\"14.00\" fill=\"#000000\">DiffBalanceOrig&lt;573.23999</text>\n</g>\n<!-- 0&#45;&gt;1 -->\n<g id=\"edge1\" class=\"edge\">\n<title>0&#45;&gt;1</title>\n<path fill=\"none\" stroke=\"#0000ff\" d=\"M962.6355,-435.3943C942.8123,-422.1279 915.4402,-403.8097 893.7964,-389.325\"/>\n<polygon fill=\"#0000ff\" stroke=\"#0000ff\" points=\"895.4685,-386.2326 885.2112,-383.5796 891.5753,-392.0501 895.4685,-386.2326\"/>\n<text text-anchor=\"middle\" x=\"967.4429\" y=\"-405.8\" font-family=\"Times,serif\" font-size=\"14.00\" fill=\"#000000\">yes, missing</text>\n</g>\n<!-- 2 -->\n<g id=\"node3\" class=\"node\">\n<title>2</title>\n<ellipse fill=\"none\" stroke=\"#000000\" cx=\"1130.9429\" cy=\"-366\" rx=\"123.4781\" ry=\"18\"/>\n<text text-anchor=\"middle\" x=\"1130.9429\" y=\"-362.3\" font-family=\"Times,serif\" font-size=\"14.00\" fill=\"#000000\">DiffBalanceDest&lt;334248.562</text>\n</g>\n<!-- 0&#45;&gt;2 -->\n<g id=\"edge2\" class=\"edge\">\n<title>0&#45;&gt;2</title>\n<path fill=\"none\" stroke=\"#ff0000\" d=\"M1017.6787,-435.3943C1039.5242,-422.01 1069.7627,-403.4836 1093.5011,-388.9397\"/>\n<polygon fill=\"#ff0000\" stroke=\"#ff0000\" points=\"1095.5514,-391.7882 1102.2498,-383.5796 1091.8944,-385.8194 1095.5514,-391.7882\"/>\n<text text-anchor=\"middle\" x=\"1076.9429\" y=\"-405.8\" font-family=\"Times,serif\" font-size=\"14.00\" fill=\"#000000\">no</text>\n</g>\n<!-- 3 -->\n<g id=\"node4\" class=\"node\">\n<title>3</title>\n<ellipse fill=\"none\" stroke=\"#000000\" cx=\"643.9429\" cy=\"-279\" rx=\"107.781\" ry=\"18\"/>\n<text text-anchor=\"middle\" x=\"643.9429\" y=\"-275.3\" font-family=\"Times,serif\" font-size=\"14.00\" fill=\"#000000\">oldBalanceDest&lt;2481191</text>\n</g>\n<!-- 1&#45;&gt;3 -->\n<g id=\"edge3\" class=\"edge\">\n<title>1&#45;&gt;3</title>\n<path fill=\"none\" stroke=\"#0000ff\" d=\"M817.2338,-349.1224C782.2591,-334.9698 732.1881,-314.7085 694.8541,-299.6013\"/>\n<polygon fill=\"#0000ff\" stroke=\"#0000ff\" points=\"695.7532,-296.1894 685.1705,-295.6828 693.1274,-302.6783 695.7532,-296.1894\"/>\n<text text-anchor=\"middle\" x=\"800.4429\" y=\"-318.8\" font-family=\"Times,serif\" font-size=\"14.00\" fill=\"#000000\">yes, missing</text>\n</g>\n<!-- 4 -->\n<g id=\"node5\" class=\"node\">\n<title>4</title>\n<ellipse fill=\"none\" stroke=\"#000000\" cx=\"858.9429\" cy=\"-279\" rx=\"83.3857\" ry=\"18\"/>\n<text text-anchor=\"middle\" x=\"858.9429\" y=\"-275.3\" font-family=\"Times,serif\" font-size=\"14.00\" fill=\"#000000\">leaf=&#45;0.199941263</text>\n</g>\n<!-- 1&#45;&gt;4 -->\n<g id=\"edge4\" class=\"edge\">\n<title>1&#45;&gt;4</title>\n<path fill=\"none\" stroke=\"#ff0000\" d=\"M858.9429,-347.9735C858.9429,-336.1918 858.9429,-320.5607 858.9429,-307.1581\"/>\n<polygon fill=\"#ff0000\" stroke=\"#ff0000\" points=\"862.443,-307.0033 858.9429,-297.0034 855.443,-307.0034 862.443,-307.0033\"/>\n<text text-anchor=\"middle\" x=\"866.9429\" y=\"-318.8\" font-family=\"Times,serif\" font-size=\"14.00\" fill=\"#000000\">no</text>\n</g>\n<!-- 5 -->\n<g id=\"node14\" class=\"node\">\n<title>5</title>\n<ellipse fill=\"none\" stroke=\"#000000\" cx=\"1130.9429\" cy=\"-279\" rx=\"85.5853\" ry=\"18\"/>\n<text text-anchor=\"middle\" x=\"1130.9429\" y=\"-275.3\" font-family=\"Times,serif\" font-size=\"14.00\" fill=\"#000000\">amount&lt;572329.75</text>\n</g>\n<!-- 2&#45;&gt;5 -->\n<g id=\"edge13\" class=\"edge\">\n<title>2&#45;&gt;5</title>\n<path fill=\"none\" stroke=\"#0000ff\" d=\"M1130.9429,-347.9735C1130.9429,-336.1918 1130.9429,-320.5607 1130.9429,-307.1581\"/>\n<polygon fill=\"#0000ff\" stroke=\"#0000ff\" points=\"1134.443,-307.0033 1130.9429,-297.0034 1127.443,-307.0034 1134.443,-307.0033\"/>\n<text text-anchor=\"middle\" x=\"1166.4429\" y=\"-318.8\" font-family=\"Times,serif\" font-size=\"14.00\" fill=\"#000000\">yes, missing</text>\n</g>\n<!-- 6 -->\n<g id=\"node15\" class=\"node\">\n<title>6</title>\n<ellipse fill=\"none\" stroke=\"#000000\" cx=\"1394.9429\" cy=\"-279\" rx=\"140.2752\" ry=\"18\"/>\n<text text-anchor=\"middle\" x=\"1394.9429\" y=\"-275.3\" font-family=\"Times,serif\" font-size=\"14.00\" fill=\"#000000\">DiffBalanceOrig&lt;1.16415322e&#45;10</text>\n</g>\n<!-- 2&#45;&gt;6 -->\n<g id=\"edge14\" class=\"edge\">\n<title>2&#45;&gt;6</title>\n<path fill=\"none\" stroke=\"#ff0000\" d=\"M1180.9097,-349.5337C1224.4519,-335.1846 1287.7244,-314.3334 1334.185,-299.0225\"/>\n<polygon fill=\"#ff0000\" stroke=\"#ff0000\" points=\"1335.4287,-302.2979 1343.8308,-295.8438 1333.2378,-295.6496 1335.4287,-302.2979\"/>\n<text text-anchor=\"middle\" x=\"1286.9429\" y=\"-318.8\" font-family=\"Times,serif\" font-size=\"14.00\" fill=\"#000000\">no</text>\n</g>\n<!-- 7 -->\n<g id=\"node6\" class=\"node\">\n<title>7</title>\n<ellipse fill=\"none\" stroke=\"#000000\" cx=\"450.9429\" cy=\"-192\" rx=\"90.9839\" ry=\"18\"/>\n<text text-anchor=\"middle\" x=\"450.9429\" y=\"-188.3\" font-family=\"Times,serif\" font-size=\"14.00\" fill=\"#000000\">amount&lt;215107.156</text>\n</g>\n<!-- 3&#45;&gt;7 -->\n<g id=\"edge5\" class=\"edge\">\n<title>3&#45;&gt;7</title>\n<path fill=\"none\" stroke=\"#0000ff\" d=\"M606.2724,-262.019C575.0211,-247.9316 530.4588,-227.8439 497.0729,-212.7944\"/>\n<polygon fill=\"#0000ff\" stroke=\"#0000ff\" points=\"498.0913,-209.4143 487.5364,-208.4955 495.2146,-215.7959 498.0913,-209.4143\"/>\n<text text-anchor=\"middle\" x=\"595.4429\" y=\"-231.8\" font-family=\"Times,serif\" font-size=\"14.00\" fill=\"#000000\">yes, missing</text>\n</g>\n<!-- 8 -->\n<g id=\"node7\" class=\"node\">\n<title>8</title>\n<ellipse fill=\"none\" stroke=\"#000000\" cx=\"643.9429\" cy=\"-192\" rx=\"83.3857\" ry=\"18\"/>\n<text text-anchor=\"middle\" x=\"643.9429\" y=\"-188.3\" font-family=\"Times,serif\" font-size=\"14.00\" fill=\"#000000\">leaf=&#45;0.199881643</text>\n</g>\n<!-- 3&#45;&gt;8 -->\n<g id=\"edge6\" class=\"edge\">\n<title>3&#45;&gt;8</title>\n<path fill=\"none\" stroke=\"#ff0000\" d=\"M643.9429,-260.9735C643.9429,-249.1918 643.9429,-233.5607 643.9429,-220.1581\"/>\n<polygon fill=\"#ff0000\" stroke=\"#ff0000\" points=\"647.443,-220.0033 643.9429,-210.0034 640.443,-220.0034 647.443,-220.0033\"/>\n<text text-anchor=\"middle\" x=\"651.9429\" y=\"-231.8\" font-family=\"Times,serif\" font-size=\"14.00\" fill=\"#000000\">no</text>\n</g>\n<!-- 13 -->\n<g id=\"node8\" class=\"node\">\n<title>13</title>\n<ellipse fill=\"none\" stroke=\"#000000\" cx=\"265.9429\" cy=\"-105\" rx=\"90.9839\" ry=\"18\"/>\n<text text-anchor=\"middle\" x=\"265.9429\" y=\"-101.3\" font-family=\"Times,serif\" font-size=\"14.00\" fill=\"#000000\">amount&lt;100060.906</text>\n</g>\n<!-- 7&#45;&gt;13 -->\n<g id=\"edge7\" class=\"edge\">\n<title>7&#45;&gt;13</title>\n<path fill=\"none\" stroke=\"#0000ff\" d=\"M415.273,-175.2255C385.457,-161.2039 342.7789,-141.1337 310.6779,-126.0375\"/>\n<polygon fill=\"#0000ff\" stroke=\"#0000ff\" points=\"312.0421,-122.8114 301.5033,-121.723 309.0631,-129.1459 312.0421,-122.8114\"/>\n<text text-anchor=\"middle\" x=\"405.4429\" y=\"-144.8\" font-family=\"Times,serif\" font-size=\"14.00\" fill=\"#000000\">yes, missing</text>\n</g>\n<!-- 14 -->\n<g id=\"node9\" class=\"node\">\n<title>14</title>\n<ellipse fill=\"none\" stroke=\"#000000\" cx=\"450.9429\" cy=\"-105\" rx=\"40.0939\" ry=\"18\"/>\n<text text-anchor=\"middle\" x=\"450.9429\" y=\"-101.3\" font-family=\"Times,serif\" font-size=\"14.00\" fill=\"#000000\">step&lt;43</text>\n</g>\n<!-- 7&#45;&gt;14 -->\n<g id=\"edge8\" class=\"edge\">\n<title>7&#45;&gt;14</title>\n<path fill=\"none\" stroke=\"#ff0000\" d=\"M450.9429,-173.9735C450.9429,-162.1918 450.9429,-146.5607 450.9429,-133.1581\"/>\n<polygon fill=\"#ff0000\" stroke=\"#ff0000\" points=\"454.443,-133.0033 450.9429,-123.0034 447.443,-133.0034 454.443,-133.0033\"/>\n<text text-anchor=\"middle\" x=\"458.9429\" y=\"-144.8\" font-family=\"Times,serif\" font-size=\"14.00\" fill=\"#000000\">no</text>\n</g>\n<!-- 19 -->\n<g id=\"node10\" class=\"node\">\n<title>19</title>\n<ellipse fill=\"none\" stroke=\"#000000\" cx=\"79.9429\" cy=\"-18\" rx=\"79.8859\" ry=\"18\"/>\n<text text-anchor=\"middle\" x=\"79.9429\" y=\"-14.3\" font-family=\"Times,serif\" font-size=\"14.00\" fill=\"#000000\">leaf=0.117581643</text>\n</g>\n<!-- 13&#45;&gt;19 -->\n<g id=\"edge9\" class=\"edge\">\n<title>13&#45;&gt;19</title>\n<path fill=\"none\" stroke=\"#0000ff\" d=\"M230.0802,-88.2255C199.8147,-74.0691 156.3679,-53.7472 123.9916,-38.6034\"/>\n<polygon fill=\"#0000ff\" stroke=\"#0000ff\" points=\"125.2918,-35.3477 114.7508,-34.2811 122.326,-41.6883 125.2918,-35.3477\"/>\n<text text-anchor=\"middle\" x=\"220.4429\" y=\"-57.8\" font-family=\"Times,serif\" font-size=\"14.00\" fill=\"#000000\">yes, missing</text>\n</g>\n<!-- 20 -->\n<g id=\"node11\" class=\"node\">\n<title>20</title>\n<ellipse fill=\"none\" stroke=\"#000000\" cx=\"265.9429\" cy=\"-18\" rx=\"88.2844\" ry=\"18\"/>\n<text text-anchor=\"middle\" x=\"265.9429\" y=\"-14.3\" font-family=\"Times,serif\" font-size=\"14.00\" fill=\"#000000\">leaf=&#45;0.0472987555</text>\n</g>\n<!-- 13&#45;&gt;20 -->\n<g id=\"edge10\" class=\"edge\">\n<title>13&#45;&gt;20</title>\n<path fill=\"none\" stroke=\"#ff0000\" d=\"M265.9429,-86.9735C265.9429,-75.1918 265.9429,-59.5607 265.9429,-46.1581\"/>\n<polygon fill=\"#ff0000\" stroke=\"#ff0000\" points=\"269.443,-46.0033 265.9429,-36.0034 262.443,-46.0034 269.443,-46.0033\"/>\n<text text-anchor=\"middle\" x=\"273.9429\" y=\"-57.8\" font-family=\"Times,serif\" font-size=\"14.00\" fill=\"#000000\">no</text>\n</g>\n<!-- 21 -->\n<g id=\"node12\" class=\"node\">\n<title>21</title>\n<ellipse fill=\"none\" stroke=\"#000000\" cx=\"450.9429\" cy=\"-18\" rx=\"78.7863\" ry=\"18\"/>\n<text text-anchor=\"middle\" x=\"450.9429\" y=\"-14.3\" font-family=\"Times,serif\" font-size=\"14.00\" fill=\"#000000\">leaf=&#45;0.19892329</text>\n</g>\n<!-- 14&#45;&gt;21 -->\n<g id=\"edge11\" class=\"edge\">\n<title>14&#45;&gt;21</title>\n<path fill=\"none\" stroke=\"#0000ff\" d=\"M450.9429,-86.9735C450.9429,-75.1918 450.9429,-59.5607 450.9429,-46.1581\"/>\n<polygon fill=\"#0000ff\" stroke=\"#0000ff\" points=\"454.443,-46.0033 450.9429,-36.0034 447.443,-46.0034 454.443,-46.0033\"/>\n<text text-anchor=\"middle\" x=\"486.4429\" y=\"-57.8\" font-family=\"Times,serif\" font-size=\"14.00\" fill=\"#000000\">yes, missing</text>\n</g>\n<!-- 22 -->\n<g id=\"node13\" class=\"node\">\n<title>22</title>\n<ellipse fill=\"none\" stroke=\"#000000\" cx=\"627.9429\" cy=\"-18\" rx=\"80.6858\" ry=\"18\"/>\n<text text-anchor=\"middle\" x=\"627.9429\" y=\"-14.3\" font-family=\"Times,serif\" font-size=\"14.00\" fill=\"#000000\">leaf=0.198256761</text>\n</g>\n<!-- 14&#45;&gt;22 -->\n<g id=\"edge12\" class=\"edge\">\n<title>14&#45;&gt;22</title>\n<path fill=\"none\" stroke=\"#ff0000\" d=\"M478.7762,-91.7713C492.9266,-85.0125 510.3789,-76.6258 525.9429,-69 545.7153,-59.3123 567.558,-48.417 585.9409,-39.1915\"/>\n<polygon fill=\"#ff0000\" stroke=\"#ff0000\" points=\"587.5711,-42.2894 594.9353,-34.6724 584.4284,-36.0345 587.5711,-42.2894\"/>\n<text text-anchor=\"middle\" x=\"562.9429\" y=\"-57.8\" font-family=\"Times,serif\" font-size=\"14.00\" fill=\"#000000\">no</text>\n</g>\n<!-- 9 -->\n<g id=\"node16\" class=\"node\">\n<title>9</title>\n<ellipse fill=\"none\" stroke=\"#000000\" cx=\"913.9429\" cy=\"-192\" rx=\"83.3857\" ry=\"18\"/>\n<text text-anchor=\"middle\" x=\"913.9429\" y=\"-188.3\" font-family=\"Times,serif\" font-size=\"14.00\" fill=\"#000000\">leaf=&#45;0.199998319</text>\n</g>\n<!-- 5&#45;&gt;9 -->\n<g id=\"edge15\" class=\"edge\">\n<title>5&#45;&gt;9</title>\n<path fill=\"none\" stroke=\"#0000ff\" d=\"M1091.1418,-263.0429C1055.0469,-248.5716 1001.7203,-227.1918 963.0014,-211.6686\"/>\n<polygon fill=\"#0000ff\" stroke=\"#0000ff\" points=\"964.076,-208.3287 953.4917,-207.856 961.4711,-214.826 964.076,-208.3287\"/>\n<text text-anchor=\"middle\" x=\"1071.4429\" y=\"-231.8\" font-family=\"Times,serif\" font-size=\"14.00\" fill=\"#000000\">yes, missing</text>\n</g>\n<!-- 10 -->\n<g id=\"node17\" class=\"node\">\n<title>10</title>\n<ellipse fill=\"none\" stroke=\"#000000\" cx=\"1134.9429\" cy=\"-192\" rx=\"120.4791\" ry=\"18\"/>\n<text text-anchor=\"middle\" x=\"1134.9429\" y=\"-188.3\" font-family=\"Times,serif\" font-size=\"14.00\" fill=\"#000000\">oldBalanceDest&lt;124424.328</text>\n</g>\n<!-- 5&#45;&gt;10 -->\n<g id=\"edge16\" class=\"edge\">\n<title>5&#45;&gt;10</title>\n<path fill=\"none\" stroke=\"#ff0000\" d=\"M1131.7717,-260.9735C1132.3134,-249.1918 1133.0321,-233.5607 1133.6483,-220.1581\"/>\n<polygon fill=\"#ff0000\" stroke=\"#ff0000\" points=\"1137.1521,-220.1536 1134.1152,-210.0034 1130.1595,-219.832 1137.1521,-220.1536\"/>\n<text text-anchor=\"middle\" x=\"1141.9429\" y=\"-231.8\" font-family=\"Times,serif\" font-size=\"14.00\" fill=\"#000000\">no</text>\n</g>\n<!-- 11 -->\n<g id=\"node24\" class=\"node\">\n<title>11</title>\n<ellipse fill=\"none\" stroke=\"#000000\" cx=\"1394.9429\" cy=\"-192\" rx=\"120.7786\" ry=\"18\"/>\n<text text-anchor=\"middle\" x=\"1394.9429\" y=\"-188.3\" font-family=\"Times,serif\" font-size=\"14.00\" fill=\"#000000\">oldBalanceOrig&lt;3345051.75</text>\n</g>\n<!-- 6&#45;&gt;11 -->\n<g id=\"edge23\" class=\"edge\">\n<title>6&#45;&gt;11</title>\n<path fill=\"none\" stroke=\"#0000ff\" d=\"M1394.9429,-260.9735C1394.9429,-249.1918 1394.9429,-233.5607 1394.9429,-220.1581\"/>\n<polygon fill=\"#0000ff\" stroke=\"#0000ff\" points=\"1398.443,-220.0033 1394.9429,-210.0034 1391.443,-220.0034 1398.443,-220.0033\"/>\n<text text-anchor=\"middle\" x=\"1430.4429\" y=\"-231.8\" font-family=\"Times,serif\" font-size=\"14.00\" fill=\"#000000\">yes, missing</text>\n</g>\n<!-- 12 -->\n<g id=\"node25\" class=\"node\">\n<title>12</title>\n<ellipse fill=\"none\" stroke=\"#000000\" cx=\"1616.9429\" cy=\"-192\" rx=\"83.3857\" ry=\"18\"/>\n<text text-anchor=\"middle\" x=\"1616.9429\" y=\"-188.3\" font-family=\"Times,serif\" font-size=\"14.00\" fill=\"#000000\">leaf=&#45;0.199600399</text>\n</g>\n<!-- 6&#45;&gt;12 -->\n<g id=\"edge24\" class=\"edge\">\n<title>6&#45;&gt;12</title>\n<path fill=\"none\" stroke=\"#ff0000\" d=\"M1438.803,-261.8116C1475.7304,-247.34 1528.5379,-226.6452 1567.0675,-211.5458\"/>\n<polygon fill=\"#ff0000\" stroke=\"#ff0000\" points=\"1568.5037,-214.7422 1576.5372,-207.8347 1565.9495,-208.2248 1568.5037,-214.7422\"/>\n<text text-anchor=\"middle\" x=\"1527.9429\" y=\"-231.8\" font-family=\"Times,serif\" font-size=\"14.00\" fill=\"#000000\">no</text>\n</g>\n<!-- 15 -->\n<g id=\"node18\" class=\"node\">\n<title>15</title>\n<ellipse fill=\"none\" stroke=\"#000000\" cx=\"991.9429\" cy=\"-105\" rx=\"45.4919\" ry=\"18\"/>\n<text text-anchor=\"middle\" x=\"991.9429\" y=\"-101.3\" font-family=\"Times,serif\" font-size=\"14.00\" fill=\"#000000\">step&lt;124</text>\n</g>\n<!-- 10&#45;&gt;15 -->\n<g id=\"edge17\" class=\"edge\">\n<title>10&#45;&gt;15</title>\n<path fill=\"none\" stroke=\"#0000ff\" d=\"M1106.0047,-174.3943C1082.7455,-160.2435 1050.0384,-140.3448 1025.6084,-125.4818\"/>\n<polygon fill=\"#0000ff\" stroke=\"#0000ff\" points=\"1027.3776,-122.4613 1017.0152,-120.2538 1023.7392,-128.4415 1027.3776,-122.4613\"/>\n<text text-anchor=\"middle\" x=\"1108.4429\" y=\"-144.8\" font-family=\"Times,serif\" font-size=\"14.00\" fill=\"#000000\">yes, missing</text>\n</g>\n<!-- 16 -->\n<g id=\"node19\" class=\"node\">\n<title>16</title>\n<ellipse fill=\"none\" stroke=\"#000000\" cx=\"1173.9429\" cy=\"-105\" rx=\"45.4919\" ry=\"18\"/>\n<text text-anchor=\"middle\" x=\"1173.9429\" y=\"-101.3\" font-family=\"Times,serif\" font-size=\"14.00\" fill=\"#000000\">step&lt;414</text>\n</g>\n<!-- 10&#45;&gt;16 -->\n<g id=\"edge18\" class=\"edge\">\n<title>10&#45;&gt;16</title>\n<path fill=\"none\" stroke=\"#ff0000\" d=\"M1143.0237,-173.9735C1148.4098,-161.9585 1155.5905,-145.9401 1161.676,-132.3646\"/>\n<polygon fill=\"#ff0000\" stroke=\"#ff0000\" points=\"1164.9756,-133.5602 1165.8724,-123.0034 1158.588,-130.6967 1164.9756,-133.5602\"/>\n<text text-anchor=\"middle\" x=\"1164.9429\" y=\"-144.8\" font-family=\"Times,serif\" font-size=\"14.00\" fill=\"#000000\">no</text>\n</g>\n<!-- 23 -->\n<g id=\"node20\" class=\"node\">\n<title>23</title>\n<ellipse fill=\"none\" stroke=\"#000000\" cx=\"809.9429\" cy=\"-18\" rx=\"83.3857\" ry=\"18\"/>\n<text text-anchor=\"middle\" x=\"809.9429\" y=\"-14.3\" font-family=\"Times,serif\" font-size=\"14.00\" fill=\"#000000\">leaf=&#45;0.196019903</text>\n</g>\n<!-- 15&#45;&gt;23 -->\n<g id=\"edge19\" class=\"edge\">\n<title>15&#45;&gt;23</title>\n<path fill=\"none\" stroke=\"#0000ff\" d=\"M962.7015,-91.0219C933.2184,-76.9284 887.3592,-55.0067 853.5761,-38.8576\"/>\n<polygon fill=\"#0000ff\" stroke=\"#0000ff\" points=\"854.923,-35.6222 844.3914,-34.4671 851.904,-41.9377 854.923,-35.6222\"/>\n<text text-anchor=\"middle\" x=\"947.4429\" y=\"-57.8\" font-family=\"Times,serif\" font-size=\"14.00\" fill=\"#000000\">yes, missing</text>\n</g>\n<!-- 24 -->\n<g id=\"node21\" class=\"node\">\n<title>24</title>\n<ellipse fill=\"none\" stroke=\"#000000\" cx=\"991.9429\" cy=\"-18\" rx=\"80.6858\" ry=\"18\"/>\n<text text-anchor=\"middle\" x=\"991.9429\" y=\"-14.3\" font-family=\"Times,serif\" font-size=\"14.00\" fill=\"#000000\">leaf=0.198055431</text>\n</g>\n<!-- 15&#45;&gt;24 -->\n<g id=\"edge20\" class=\"edge\">\n<title>15&#45;&gt;24</title>\n<path fill=\"none\" stroke=\"#ff0000\" d=\"M991.9429,-86.9735C991.9429,-75.1918 991.9429,-59.5607 991.9429,-46.1581\"/>\n<polygon fill=\"#ff0000\" stroke=\"#ff0000\" points=\"995.443,-46.0033 991.9429,-36.0034 988.443,-46.0034 995.443,-46.0033\"/>\n<text text-anchor=\"middle\" x=\"999.9429\" y=\"-57.8\" font-family=\"Times,serif\" font-size=\"14.00\" fill=\"#000000\">no</text>\n</g>\n<!-- 25 -->\n<g id=\"node22\" class=\"node\">\n<title>25</title>\n<ellipse fill=\"none\" stroke=\"#000000\" cx=\"1173.9429\" cy=\"-18\" rx=\"83.3857\" ry=\"18\"/>\n<text text-anchor=\"middle\" x=\"1173.9429\" y=\"-14.3\" font-family=\"Times,serif\" font-size=\"14.00\" fill=\"#000000\">leaf=&#45;0.199982584</text>\n</g>\n<!-- 16&#45;&gt;25 -->\n<g id=\"edge21\" class=\"edge\">\n<title>16&#45;&gt;25</title>\n<path fill=\"none\" stroke=\"#0000ff\" d=\"M1173.9429,-86.9735C1173.9429,-75.1918 1173.9429,-59.5607 1173.9429,-46.1581\"/>\n<polygon fill=\"#0000ff\" stroke=\"#0000ff\" points=\"1177.443,-46.0033 1173.9429,-36.0034 1170.443,-46.0034 1177.443,-46.0033\"/>\n<text text-anchor=\"middle\" x=\"1209.4429\" y=\"-57.8\" font-family=\"Times,serif\" font-size=\"14.00\" fill=\"#000000\">yes, missing</text>\n</g>\n<!-- 26 -->\n<g id=\"node23\" class=\"node\">\n<title>26</title>\n<ellipse fill=\"none\" stroke=\"#000000\" cx=\"1354.9429\" cy=\"-18\" rx=\"79.8859\" ry=\"18\"/>\n<text text-anchor=\"middle\" x=\"1354.9429\" y=\"-14.3\" font-family=\"Times,serif\" font-size=\"14.00\" fill=\"#000000\">leaf=0.149933115</text>\n</g>\n<!-- 16&#45;&gt;26 -->\n<g id=\"edge22\" class=\"edge\">\n<title>16&#45;&gt;26</title>\n<path fill=\"none\" stroke=\"#ff0000\" d=\"M1203.1522,-90.9872C1217.0272,-84.3289 1233.8421,-76.2569 1248.9429,-69 1269.665,-59.0417 1292.6607,-47.9791 1311.923,-38.7093\"/>\n<polygon fill=\"#ff0000\" stroke=\"#ff0000\" points=\"1313.5599,-41.8058 1321.0528,-34.3154 1310.5242,-35.4983 1313.5599,-41.8058\"/>\n<text text-anchor=\"middle\" x=\"1286.9429\" y=\"-57.8\" font-family=\"Times,serif\" font-size=\"14.00\" fill=\"#000000\">no</text>\n</g>\n<!-- 17 -->\n<g id=\"node26\" class=\"node\">\n<title>17</title>\n<ellipse fill=\"none\" stroke=\"#000000\" cx=\"1394.9429\" cy=\"-105\" rx=\"83.3857\" ry=\"18\"/>\n<text text-anchor=\"middle\" x=\"1394.9429\" y=\"-101.3\" font-family=\"Times,serif\" font-size=\"14.00\" fill=\"#000000\">leaf=&#45;0.196412548</text>\n</g>\n<!-- 11&#45;&gt;17 -->\n<g id=\"edge25\" class=\"edge\">\n<title>11&#45;&gt;17</title>\n<path fill=\"none\" stroke=\"#0000ff\" d=\"M1394.9429,-173.9735C1394.9429,-162.1918 1394.9429,-146.5607 1394.9429,-133.1581\"/>\n<polygon fill=\"#0000ff\" stroke=\"#0000ff\" points=\"1398.443,-133.0033 1394.9429,-123.0034 1391.443,-133.0034 1398.443,-133.0033\"/>\n<text text-anchor=\"middle\" x=\"1430.4429\" y=\"-144.8\" font-family=\"Times,serif\" font-size=\"14.00\" fill=\"#000000\">yes, missing</text>\n</g>\n<!-- 18 -->\n<g id=\"node27\" class=\"node\">\n<title>18</title>\n<ellipse fill=\"none\" stroke=\"#000000\" cx=\"1535.9429\" cy=\"-105\" rx=\"40.0939\" ry=\"18\"/>\n<text text-anchor=\"middle\" x=\"1535.9429\" y=\"-101.3\" font-family=\"Times,serif\" font-size=\"14.00\" fill=\"#000000\">step&lt;68</text>\n</g>\n<!-- 11&#45;&gt;18 -->\n<g id=\"edge26\" class=\"edge\">\n<title>11&#45;&gt;18</title>\n<path fill=\"none\" stroke=\"#ff0000\" d=\"M1434.696,-174.8281C1446.3253,-169.2997 1458.8795,-162.8243 1469.9429,-156 1483.5298,-147.6192 1497.6542,-136.9987 1509.3334,-127.6218\"/>\n<polygon fill=\"#ff0000\" stroke=\"#ff0000\" points=\"1511.8321,-130.1001 1517.363,-121.0635 1507.404,-124.6787 1511.8321,-130.1001\"/>\n<text text-anchor=\"middle\" x=\"1498.9429\" y=\"-144.8\" font-family=\"Times,serif\" font-size=\"14.00\" fill=\"#000000\">no</text>\n</g>\n<!-- 27 -->\n<g id=\"node28\" class=\"node\">\n<title>27</title>\n<ellipse fill=\"none\" stroke=\"#000000\" cx=\"1535.9429\" cy=\"-18\" rx=\"83.3857\" ry=\"18\"/>\n<text text-anchor=\"middle\" x=\"1535.9429\" y=\"-14.3\" font-family=\"Times,serif\" font-size=\"14.00\" fill=\"#000000\">leaf=&#45;0.191919193</text>\n</g>\n<!-- 18&#45;&gt;27 -->\n<g id=\"edge27\" class=\"edge\">\n<title>18&#45;&gt;27</title>\n<path fill=\"none\" stroke=\"#0000ff\" d=\"M1535.9429,-86.9735C1535.9429,-75.1918 1535.9429,-59.5607 1535.9429,-46.1581\"/>\n<polygon fill=\"#0000ff\" stroke=\"#0000ff\" points=\"1539.443,-46.0033 1535.9429,-36.0034 1532.443,-46.0034 1539.443,-46.0033\"/>\n<text text-anchor=\"middle\" x=\"1571.4429\" y=\"-57.8\" font-family=\"Times,serif\" font-size=\"14.00\" fill=\"#000000\">yes, missing</text>\n</g>\n<!-- 28 -->\n<g id=\"node29\" class=\"node\">\n<title>28</title>\n<ellipse fill=\"none\" stroke=\"#000000\" cx=\"1712.9429\" cy=\"-18\" rx=\"75.2868\" ry=\"18\"/>\n<text text-anchor=\"middle\" x=\"1712.9429\" y=\"-14.3\" font-family=\"Times,serif\" font-size=\"14.00\" fill=\"#000000\">leaf=0.19392179</text>\n</g>\n<!-- 18&#45;&gt;28 -->\n<g id=\"edge28\" class=\"edge\">\n<title>18&#45;&gt;28</title>\n<path fill=\"none\" stroke=\"#ff0000\" d=\"M1563.7762,-91.7713C1577.9266,-85.0125 1595.3789,-76.6258 1610.9429,-69 1630.8674,-59.2378 1652.8942,-48.2493 1671.3645,-38.9789\"/>\n<polygon fill=\"#ff0000\" stroke=\"#ff0000\" points=\"1673.0305,-42.0589 1680.3943,-34.4415 1669.8875,-35.8041 1673.0305,-42.0589\"/>\n<text text-anchor=\"middle\" x=\"1647.9429\" y=\"-57.8\" font-family=\"Times,serif\" font-size=\"14.00\" fill=\"#000000\">no</text>\n</g>\n</g>\n</svg>\n"
          },
          "metadata": {
            "tags": []
          },
          "execution_count": 316
        }
      ]
    },
    {
      "cell_type": "code",
      "metadata": {
        "id": "dHNL2z9jGdTp"
      },
      "source": [
        ""
      ],
      "execution_count": null,
      "outputs": []
    }
  ]
}