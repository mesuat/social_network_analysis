{
  "nbformat": 4,
  "nbformat_minor": 0,
  "metadata": {
    "colab": {
      "name": "da516_project_final.ipynb",
      "version": "0.3.2",
      "provenance": [],
      "collapsed_sections": []
    },
    "kernelspec": {
      "name": "python3",
      "display_name": "Python 3"
    },
    "accelerator": "GPU"
  },
  "cells": [
    {
      "cell_type": "code",
      "metadata": {
        "id": "siHxiwoqOGmt",
        "colab_type": "code",
        "colab": {}
      },
      "source": [
        "# Code to read csv file into Colaboratory:\n",
        "!pip install -U -q PyDrive\n",
        "from pydrive.auth import GoogleAuth\n",
        "from pydrive.drive import GoogleDrive\n",
        "from google.colab import auth\n",
        "from oauth2client.client import GoogleCredentials\n",
        "\n",
        "# Authenticate and create the PyDrive client.\n",
        "auth.authenticate_user()\n",
        "gauth = GoogleAuth()\n",
        "gauth.credentials = GoogleCredentials.get_application_default()\n",
        "drive = GoogleDrive(gauth)"
      ],
      "execution_count": 0,
      "outputs": []
    },
    {
      "cell_type": "code",
      "metadata": {
        "id": "CfCXWAQVNqms",
        "colab_type": "code",
        "outputId": "b4ce48c9-bd6f-49a3-ddf7-b562e4276e08",
        "colab": {
          "base_uri": "https://localhost:8080/",
          "height": 927
        }
      },
      "source": [
        "import pandas as pd\n",
        "import numpy as np\n",
        "import networkx as nx\n",
        "import matplotlib.pyplot as plt\n",
        "import seaborn as sns\n",
        "from matplotlib import pyplot\n",
        "import random as rnd\n",
        "\n",
        "import networkx as nx\n",
        "from networkx.algorithms import bipartite\n",
        "\n",
        "from collections import Counter\n",
        "import matplotlib as mpl\n",
        "\n",
        "from sklearn.model_selection import train_test_split\n",
        "from sklearn.preprocessing import LabelBinarizer, LabelEncoder, StandardScaler, RobustScaler\n",
        "from sklearn.metrics import roc_curve, confusion_matrix, auc, classification_report, accuracy_score, recall_score, f1_score, roc_auc_score, roc_curve\n",
        "\n",
        "import lightgbm\n",
        "\n",
        "!pip install node2vec\n",
        "from node2vec import Node2Vec\n",
        "\n",
        "import warnings\n",
        "warnings.filterwarnings('ignore')\n",
        "\n",
        "\n",
        "!pip install linkpred \n",
        "import linkpred"
      ],
      "execution_count": 0,
      "outputs": [
        {
          "output_type": "stream",
          "text": [
            "Collecting node2vec\n",
            "  Downloading https://files.pythonhosted.org/packages/4a/99/62a34f4c2e76a100eca742d2f909c8c18afdb68c47148a3835f94bba76a3/node2vec-0.3.0.tar.gz\n",
            "Requirement already satisfied: networkx in /usr/local/lib/python3.6/dist-packages (from node2vec) (2.3)\n",
            "Requirement already satisfied: gensim in /usr/local/lib/python3.6/dist-packages (from node2vec) (3.6.0)\n",
            "Requirement already satisfied: numpy in /usr/local/lib/python3.6/dist-packages (from node2vec) (1.16.3)\n",
            "Requirement already satisfied: tqdm in /usr/local/lib/python3.6/dist-packages (from node2vec) (4.28.1)\n",
            "Requirement already satisfied: joblib in /usr/local/lib/python3.6/dist-packages (from node2vec) (0.12.5)\n",
            "Requirement already satisfied: decorator>=4.3.0 in /usr/local/lib/python3.6/dist-packages (from networkx->node2vec) (4.4.0)\n",
            "Requirement already satisfied: six>=1.5.0 in /usr/local/lib/python3.6/dist-packages (from gensim->node2vec) (1.12.0)\n",
            "Requirement already satisfied: scipy>=0.18.1 in /usr/local/lib/python3.6/dist-packages (from gensim->node2vec) (1.2.1)\n",
            "Requirement already satisfied: smart-open>=1.2.1 in /usr/local/lib/python3.6/dist-packages (from gensim->node2vec) (1.8.3)\n",
            "Requirement already satisfied: boto3 in /usr/local/lib/python3.6/dist-packages (from smart-open>=1.2.1->gensim->node2vec) (1.9.148)\n",
            "Requirement already satisfied: boto>=2.32 in /usr/local/lib/python3.6/dist-packages (from smart-open>=1.2.1->gensim->node2vec) (2.49.0)\n",
            "Requirement already satisfied: requests in /usr/local/lib/python3.6/dist-packages (from smart-open>=1.2.1->gensim->node2vec) (2.21.0)\n",
            "Requirement already satisfied: s3transfer<0.3.0,>=0.2.0 in /usr/local/lib/python3.6/dist-packages (from boto3->smart-open>=1.2.1->gensim->node2vec) (0.2.0)\n",
            "Requirement already satisfied: jmespath<1.0.0,>=0.7.1 in /usr/local/lib/python3.6/dist-packages (from boto3->smart-open>=1.2.1->gensim->node2vec) (0.9.4)\n",
            "Requirement already satisfied: botocore<1.13.0,>=1.12.148 in /usr/local/lib/python3.6/dist-packages (from boto3->smart-open>=1.2.1->gensim->node2vec) (1.12.148)\n",
            "Requirement already satisfied: certifi>=2017.4.17 in /usr/local/lib/python3.6/dist-packages (from requests->smart-open>=1.2.1->gensim->node2vec) (2019.3.9)\n",
            "Requirement already satisfied: idna<2.9,>=2.5 in /usr/local/lib/python3.6/dist-packages (from requests->smart-open>=1.2.1->gensim->node2vec) (2.8)\n",
            "Requirement already satisfied: urllib3<1.25,>=1.21.1 in /usr/local/lib/python3.6/dist-packages (from requests->smart-open>=1.2.1->gensim->node2vec) (1.24.3)\n",
            "Requirement already satisfied: chardet<3.1.0,>=3.0.2 in /usr/local/lib/python3.6/dist-packages (from requests->smart-open>=1.2.1->gensim->node2vec) (3.0.4)\n",
            "Requirement already satisfied: python-dateutil<3.0.0,>=2.1; python_version >= \"2.7\" in /usr/local/lib/python3.6/dist-packages (from botocore<1.13.0,>=1.12.148->boto3->smart-open>=1.2.1->gensim->node2vec) (2.5.3)\n",
            "Requirement already satisfied: docutils>=0.10 in /usr/local/lib/python3.6/dist-packages (from botocore<1.13.0,>=1.12.148->boto3->smart-open>=1.2.1->gensim->node2vec) (0.14)\n",
            "Building wheels for collected packages: node2vec\n",
            "  Building wheel for node2vec (setup.py) ... \u001b[?25l\u001b[?25hdone\n",
            "  Stored in directory: /root/.cache/pip/wheels/b3/58/c5/1fff0e4b9b5f90bb5522967f2d08f026d247b9657e70cbf1db\n",
            "Successfully built node2vec\n",
            "Installing collected packages: node2vec\n",
            "Successfully installed node2vec-0.3.0\n",
            "Collecting linkpred\n",
            "  Downloading https://files.pythonhosted.org/packages/7b/94/512e63ae78432e5e24eed8095eb9009978666da36754e0f48cd1533414ce/linkpred-0.4.1.tar.gz\n",
            "Requirement already satisfied: matplotlib>=2.1 in /usr/local/lib/python3.6/dist-packages (from linkpred) (3.0.3)\n",
            "Requirement already satisfied: networkx>=2.1 in /usr/local/lib/python3.6/dist-packages (from linkpred) (2.3)\n",
            "Requirement already satisfied: numpy>=1.14 in /usr/local/lib/python3.6/dist-packages (from linkpred) (1.16.3)\n",
            "Requirement already satisfied: pyyaml>=3.0 in /usr/local/lib/python3.6/dist-packages (from linkpred) (3.13)\n",
            "Requirement already satisfied: scipy>=1.0 in /usr/local/lib/python3.6/dist-packages (from linkpred) (1.2.1)\n",
            "Collecting smokesignal>=0.7 (from linkpred)\n",
            "  Downloading https://files.pythonhosted.org/packages/c2/7d/eef1ce06f78b92b9dfb5f21152ca7bf9eccc856c957de90939f2c3ca1db7/smokesignal-0.7.0.tar.gz\n",
            "Requirement already satisfied: pyparsing!=2.0.4,!=2.1.2,!=2.1.6,>=2.0.1 in /usr/local/lib/python3.6/dist-packages (from matplotlib>=2.1->linkpred) (2.4.0)\n",
            "Requirement already satisfied: python-dateutil>=2.1 in /usr/local/lib/python3.6/dist-packages (from matplotlib>=2.1->linkpred) (2.5.3)\n",
            "Requirement already satisfied: kiwisolver>=1.0.1 in /usr/local/lib/python3.6/dist-packages (from matplotlib>=2.1->linkpred) (1.1.0)\n",
            "Requirement already satisfied: cycler>=0.10 in /usr/local/lib/python3.6/dist-packages (from matplotlib>=2.1->linkpred) (0.10.0)\n",
            "Requirement already satisfied: decorator>=4.3.0 in /usr/local/lib/python3.6/dist-packages (from networkx>=2.1->linkpred) (4.4.0)\n",
            "Requirement already satisfied: six>=1.5 in /usr/local/lib/python3.6/dist-packages (from python-dateutil>=2.1->matplotlib>=2.1->linkpred) (1.12.0)\n",
            "Requirement already satisfied: setuptools in /usr/local/lib/python3.6/dist-packages (from kiwisolver>=1.0.1->matplotlib>=2.1->linkpred) (41.0.1)\n",
            "Building wheels for collected packages: linkpred, smokesignal\n",
            "  Building wheel for linkpred (setup.py) ... \u001b[?25l\u001b[?25hdone\n",
            "  Stored in directory: /root/.cache/pip/wheels/6e/75/f1/0d3d7e7f460f5e8cd80a51b55cec6f4d590749142f92a92803\n",
            "  Building wheel for smokesignal (setup.py) ... \u001b[?25l\u001b[?25hdone\n",
            "  Stored in directory: /root/.cache/pip/wheels/f5/59/c0/5d73164834188869312f332467cda7431d9eef4ae035583009\n",
            "Successfully built linkpred smokesignal\n",
            "Installing collected packages: smokesignal, linkpred\n",
            "Successfully installed linkpred-0.4.1 smokesignal-0.7.0\n"
          ],
          "name": "stdout"
        }
      ]
    },
    {
      "cell_type": "code",
      "metadata": {
        "id": "d1zE2wQWOT5E",
        "colab_type": "code",
        "outputId": "f7abfb4e-b434-4d90-9d2f-cc2025ccbfcb",
        "colab": {
          "base_uri": "https://localhost:8080/",
          "height": 34
        }
      },
      "source": [
        "link = 'https://drive.google.com/open?id=1FHS82KF_Oh_aQwsf6u2xxMqz_6mfg8oV' # The shareable link\n",
        "\n",
        "fluff, id = link.split('=')\n",
        "print (id) # Verify that you have everything after '='"
      ],
      "execution_count": 0,
      "outputs": [
        {
          "output_type": "stream",
          "text": [
            "1FHS82KF_Oh_aQwsf6u2xxMqz_6mfg8oV\n"
          ],
          "name": "stdout"
        }
      ]
    },
    {
      "cell_type": "code",
      "metadata": {
        "id": "4c-1aNbxOyZ3",
        "colab_type": "code",
        "colab": {}
      },
      "source": [
        "downloaded = drive.CreateFile({'id':id}) \n",
        "downloaded.GetContentFile('project_data.csv')  \n",
        "df = pd.read_csv('project_data.csv')\n",
        "# Dataset is now stored in a Pandas Dataframe"
      ],
      "execution_count": 0,
      "outputs": []
    },
    {
      "cell_type": "code",
      "metadata": {
        "id": "W3TyNmTWO6gm",
        "colab_type": "code",
        "outputId": "7e516b5f-0a83-4f0a-b6b6-2497f42a6e05",
        "colab": {
          "base_uri": "https://localhost:8080/",
          "height": 106
        }
      },
      "source": [
        "df = df.replace(\"'\", \"\", regex=True)\n",
        "df.head(2)"
      ],
      "execution_count": 0,
      "outputs": [
        {
          "output_type": "execute_result",
          "data": {
            "text/html": [
              "<div>\n",
              "<style scoped>\n",
              "    .dataframe tbody tr th:only-of-type {\n",
              "        vertical-align: middle;\n",
              "    }\n",
              "\n",
              "    .dataframe tbody tr th {\n",
              "        vertical-align: top;\n",
              "    }\n",
              "\n",
              "    .dataframe thead th {\n",
              "        text-align: right;\n",
              "    }\n",
              "</style>\n",
              "<table border=\"1\" class=\"dataframe\">\n",
              "  <thead>\n",
              "    <tr style=\"text-align: right;\">\n",
              "      <th></th>\n",
              "      <th>step</th>\n",
              "      <th>customer</th>\n",
              "      <th>age</th>\n",
              "      <th>gender</th>\n",
              "      <th>zipcodeOri</th>\n",
              "      <th>merchant</th>\n",
              "      <th>zipMerchant</th>\n",
              "      <th>category</th>\n",
              "      <th>amount</th>\n",
              "      <th>fraud</th>\n",
              "    </tr>\n",
              "  </thead>\n",
              "  <tbody>\n",
              "    <tr>\n",
              "      <th>0</th>\n",
              "      <td>0</td>\n",
              "      <td>C1093826151</td>\n",
              "      <td>4</td>\n",
              "      <td>M</td>\n",
              "      <td>28007</td>\n",
              "      <td>M348934600</td>\n",
              "      <td>28007</td>\n",
              "      <td>es_transportation</td>\n",
              "      <td>4.55</td>\n",
              "      <td>0</td>\n",
              "    </tr>\n",
              "    <tr>\n",
              "      <th>1</th>\n",
              "      <td>0</td>\n",
              "      <td>C352968107</td>\n",
              "      <td>2</td>\n",
              "      <td>M</td>\n",
              "      <td>28007</td>\n",
              "      <td>M348934600</td>\n",
              "      <td>28007</td>\n",
              "      <td>es_transportation</td>\n",
              "      <td>39.68</td>\n",
              "      <td>0</td>\n",
              "    </tr>\n",
              "  </tbody>\n",
              "</table>\n",
              "</div>"
            ],
            "text/plain": [
              "   step     customer age gender  ... zipMerchant           category amount fraud\n",
              "0     0  C1093826151   4      M  ...       28007  es_transportation   4.55     0\n",
              "1     0   C352968107   2      M  ...       28007  es_transportation  39.68     0\n",
              "\n",
              "[2 rows x 10 columns]"
            ]
          },
          "metadata": {
            "tags": []
          },
          "execution_count": 5
        }
      ]
    },
    {
      "cell_type": "code",
      "metadata": {
        "id": "xGNeU-EFjHOe",
        "colab_type": "code",
        "outputId": "6508acdf-8c9a-4369-f941-9a989d65f4e7",
        "colab": {
          "base_uri": "https://localhost:8080/",
          "height": 34
        }
      },
      "source": [
        "len(df[\"customer\"].unique())"
      ],
      "execution_count": 0,
      "outputs": [
        {
          "output_type": "execute_result",
          "data": {
            "text/plain": [
              "4112"
            ]
          },
          "metadata": {
            "tags": []
          },
          "execution_count": 6
        }
      ]
    },
    {
      "cell_type": "code",
      "metadata": {
        "id": "i_qw3-oSO8c_",
        "colab_type": "code",
        "outputId": "465f6dba-3213-4157-d834-245eb5f55eea",
        "colab": {
          "base_uri": "https://localhost:8080/",
          "height": 329
        }
      },
      "source": [
        "# Create two dataframes with fraud and non-fraud data \n",
        "df_fraud = df.loc[df.fraud == 1] \n",
        "df_non_fraud = df.loc[df.fraud == 0]\n",
        "\n",
        "sns.countplot(x=\"fraud\",data=df)\n",
        "plt.title(\"Count of Fraudulent Payments\")\n",
        "plt.show()\n",
        "print(\"Number of normal examples: \",df_non_fraud.fraud.count())\n",
        "print(\"Number of fradulent examples: \",df_fraud.fraud.count())\n",
        "#print(data.fraud.value_counts()) # does the same thing above"
      ],
      "execution_count": 0,
      "outputs": [
        {
          "output_type": "display_data",
          "data": {
            "image/png": "[encoded data removed]",
            "text/plain": [
              "<Figure size 432x288 with 1 Axes>"
            ]
          },
          "metadata": {
            "tags": []
          }
        },
        {
          "output_type": "stream",
          "text": [
            "Number of normal examples:  587443\n",
            "Number of fradulent examples:  7200\n"
          ],
          "name": "stdout"
        }
      ]
    },
    {
      "cell_type": "code",
      "metadata": {
        "id": "BQ3zzrf-QCZ6",
        "colab_type": "code",
        "outputId": "769a56eb-705a-4819-a24b-340548bf1c9d",
        "colab": {
          "base_uri": "https://localhost:8080/",
          "height": 422
        }
      },
      "source": [
        "# Plot histograms of the amounts in fraud and non-fraud data \n",
        "plt.figure(figsize=(20,6))\n",
        "sns.boxplot(x=df.category,y=df.amount)\n",
        "plt.title(\"Boxplot for the Amount spend in category\")\n",
        "plt.ylim(0,3200)\n",
        "plt.legend()\n",
        "plt.show()"
      ],
      "execution_count": 0,
      "outputs": [
        {
          "output_type": "stream",
          "text": [
            "No handles with labels found to put in legend.\n"
          ],
          "name": "stderr"
        },
        {
          "output_type": "display_data",
          "data": {
            "image/png": "[encoded data removed]",
            "text/plain": [
              "<Figure size 1440x432 with 1 Axes>"
            ]
          },
          "metadata": {
            "tags": []
          }
        }
      ]
    },
    {
      "cell_type": "code",
      "metadata": {
        "id": "-g4NOqVUQXnu",
        "colab_type": "code",
        "outputId": "6edda4ba-71d2-436c-f6df-a1c12b8e9de4",
        "colab": {
          "base_uri": "https://localhost:8080/",
          "height": 281
        }
      },
      "source": [
        "# Plot histograms of the amounts in fraud and non-fraud data \n",
        "plt.hist(df_fraud.amount, alpha=0.5, label='fraud',bins=100)\n",
        "plt.hist(df_non_fraud.amount, alpha=0.5, label='nonfraud',bins=100)\n",
        "plt.title(\"Histogram for Fraudulent and Non-Fraudulent Payments Based on Transaction Amount\")\n",
        "plt.ylim(0,3000)\n",
        "plt.xlim(0,1000)\n",
        "plt.legend()\n",
        "plt.show()"
      ],
      "execution_count": 0,
      "outputs": [
        {
          "output_type": "display_data",
          "data": {
            "image/png": "[encoded data removed]",
            "text/plain": [
              "<Figure size 432x288 with 1 Axes>"
            ]
          },
          "metadata": {
            "tags": []
          }
        }
      ]
    },
    {
      "cell_type": "code",
      "metadata": {
        "id": "8whP_6woRjP4",
        "colab_type": "code",
        "colab": {}
      },
      "source": [
        "cat_col = df.select_dtypes('object').columns.tolist()\n"
      ],
      "execution_count": 0,
      "outputs": []
    },
    {
      "cell_type": "code",
      "metadata": {
        "id": "08NiGLzRT_xC",
        "colab_type": "code",
        "outputId": "415d43b0-fddc-4bb4-c2ce-d341084bcee6",
        "colab": {
          "base_uri": "https://localhost:8080/",
          "height": 134
        }
      },
      "source": [
        "cat_col"
      ],
      "execution_count": 0,
      "outputs": [
        {
          "output_type": "execute_result",
          "data": {
            "text/plain": [
              "['customer',\n",
              " 'age',\n",
              " 'gender',\n",
              " 'zipcodeOri',\n",
              " 'merchant',\n",
              " 'zipMerchant',\n",
              " 'category']"
            ]
          },
          "metadata": {
            "tags": []
          },
          "execution_count": 11
        }
      ]
    },
    {
      "cell_type": "code",
      "metadata": {
        "id": "SHgZhhiSUA3Z",
        "colab_type": "code",
        "outputId": "45bc4ccc-05cc-421f-f78a-f3a7662d781a",
        "colab": {
          "base_uri": "https://localhost:8080/",
          "height": 269
        }
      },
      "source": [
        "df.info()"
      ],
      "execution_count": 0,
      "outputs": [
        {
          "output_type": "stream",
          "text": [
            "<class 'pandas.core.frame.DataFrame'>\n",
            "RangeIndex: 594643 entries, 0 to 594642\n",
            "Data columns (total 10 columns):\n",
            "step           594643 non-null int64\n",
            "customer       594643 non-null object\n",
            "age            594643 non-null object\n",
            "gender         594643 non-null object\n",
            "zipcodeOri     594643 non-null object\n",
            "merchant       594643 non-null object\n",
            "zipMerchant    594643 non-null object\n",
            "category       594643 non-null object\n",
            "amount         594643 non-null float64\n",
            "fraud          594643 non-null int64\n",
            "dtypes: float64(1), int64(2), object(7)\n",
            "memory usage: 45.4+ MB\n"
          ],
          "name": "stdout"
        }
      ]
    },
    {
      "cell_type": "markdown",
      "metadata": {
        "id": "2m44hUaX2H6R",
        "colab_type": "text"
      },
      "source": [
        "#Building Model Before SNA"
      ]
    },
    {
      "cell_type": "code",
      "metadata": {
        "id": "egMpnu9qUE91",
        "colab_type": "code",
        "colab": {}
      },
      "source": [
        "X = df.drop([\"fraud\", \"step\"], axis = 1)"
      ],
      "execution_count": 0,
      "outputs": []
    },
    {
      "cell_type": "code",
      "metadata": {
        "id": "S8v2OaEbUmjf",
        "colab_type": "code",
        "colab": {}
      },
      "source": [
        "y = df.fraud"
      ],
      "execution_count": 0,
      "outputs": []
    },
    {
      "cell_type": "code",
      "metadata": {
        "id": "SaSiiJu1vVVw",
        "colab_type": "code",
        "outputId": "8380520f-4b5a-4020-ca36-f1a35506055d",
        "colab": {
          "base_uri": "https://localhost:8080/",
          "height": 34
        }
      },
      "source": [
        "X.shape"
      ],
      "execution_count": 0,
      "outputs": [
        {
          "output_type": "execute_result",
          "data": {
            "text/plain": [
              "(594643, 8)"
            ]
          },
          "metadata": {
            "tags": []
          },
          "execution_count": 15
        }
      ]
    },
    {
      "cell_type": "code",
      "metadata": {
        "id": "l74YOPDETap5",
        "colab_type": "code",
        "outputId": "b3cde99c-9cc3-4b0a-8ff4-fc9111eac2d3",
        "colab": {
          "base_uri": "https://localhost:8080/",
          "height": 106
        }
      },
      "source": [
        "X.tail(2)"
      ],
      "execution_count": 0,
      "outputs": [
        {
          "output_type": "execute_result",
          "data": {
            "text/html": [
              "<div>\n",
              "<style scoped>\n",
              "    .dataframe tbody tr th:only-of-type {\n",
              "        vertical-align: middle;\n",
              "    }\n",
              "\n",
              "    .dataframe tbody tr th {\n",
              "        vertical-align: top;\n",
              "    }\n",
              "\n",
              "    .dataframe thead th {\n",
              "        text-align: right;\n",
              "    }\n",
              "</style>\n",
              "<table border=\"1\" class=\"dataframe\">\n",
              "  <thead>\n",
              "    <tr style=\"text-align: right;\">\n",
              "      <th></th>\n",
              "      <th>customer</th>\n",
              "      <th>age</th>\n",
              "      <th>gender</th>\n",
              "      <th>zipcodeOri</th>\n",
              "      <th>merchant</th>\n",
              "      <th>zipMerchant</th>\n",
              "      <th>category</th>\n",
              "      <th>amount</th>\n",
              "    </tr>\n",
              "  </thead>\n",
              "  <tbody>\n",
              "    <tr>\n",
              "      <th>594641</th>\n",
              "      <td>C1499363341</td>\n",
              "      <td>5</td>\n",
              "      <td>M</td>\n",
              "      <td>28007</td>\n",
              "      <td>M1823072687</td>\n",
              "      <td>28007</td>\n",
              "      <td>es_transportation</td>\n",
              "      <td>14.46</td>\n",
              "    </tr>\n",
              "    <tr>\n",
              "      <th>594642</th>\n",
              "      <td>C616528518</td>\n",
              "      <td>4</td>\n",
              "      <td>F</td>\n",
              "      <td>28007</td>\n",
              "      <td>M1823072687</td>\n",
              "      <td>28007</td>\n",
              "      <td>es_transportation</td>\n",
              "      <td>26.93</td>\n",
              "    </tr>\n",
              "  </tbody>\n",
              "</table>\n",
              "</div>"
            ],
            "text/plain": [
              "           customer age gender  ... zipMerchant           category amount\n",
              "594641  C1499363341   5      M  ...       28007  es_transportation  14.46\n",
              "594642   C616528518   4      F  ...       28007  es_transportation  26.93\n",
              "\n",
              "[2 rows x 8 columns]"
            ]
          },
          "metadata": {
            "tags": []
          },
          "execution_count": 16
        }
      ]
    },
    {
      "cell_type": "code",
      "metadata": {
        "id": "jieWUYTivQUh",
        "colab_type": "code",
        "outputId": "24d48ff1-413a-4247-b4b0-d6035519c417",
        "colab": {
          "base_uri": "https://localhost:8080/",
          "height": 106
        }
      },
      "source": [
        "X[:297321].tail(2)"
      ],
      "execution_count": 0,
      "outputs": [
        {
          "output_type": "execute_result",
          "data": {
            "text/html": [
              "<div>\n",
              "<style scoped>\n",
              "    .dataframe tbody tr th:only-of-type {\n",
              "        vertical-align: middle;\n",
              "    }\n",
              "\n",
              "    .dataframe tbody tr th {\n",
              "        vertical-align: top;\n",
              "    }\n",
              "\n",
              "    .dataframe thead th {\n",
              "        text-align: right;\n",
              "    }\n",
              "</style>\n",
              "<table border=\"1\" class=\"dataframe\">\n",
              "  <thead>\n",
              "    <tr style=\"text-align: right;\">\n",
              "      <th></th>\n",
              "      <th>customer</th>\n",
              "      <th>age</th>\n",
              "      <th>gender</th>\n",
              "      <th>zipcodeOri</th>\n",
              "      <th>merchant</th>\n",
              "      <th>zipMerchant</th>\n",
              "      <th>category</th>\n",
              "      <th>amount</th>\n",
              "    </tr>\n",
              "  </thead>\n",
              "  <tbody>\n",
              "    <tr>\n",
              "      <th>297319</th>\n",
              "      <td>C1971153898</td>\n",
              "      <td>3</td>\n",
              "      <td>M</td>\n",
              "      <td>28007</td>\n",
              "      <td>M1823072687</td>\n",
              "      <td>28007</td>\n",
              "      <td>es_transportation</td>\n",
              "      <td>16.17</td>\n",
              "    </tr>\n",
              "    <tr>\n",
              "      <th>297320</th>\n",
              "      <td>C741739992</td>\n",
              "      <td>2</td>\n",
              "      <td>F</td>\n",
              "      <td>28007</td>\n",
              "      <td>M1823072687</td>\n",
              "      <td>28007</td>\n",
              "      <td>es_transportation</td>\n",
              "      <td>44.30</td>\n",
              "    </tr>\n",
              "  </tbody>\n",
              "</table>\n",
              "</div>"
            ],
            "text/plain": [
              "           customer age gender  ... zipMerchant           category amount\n",
              "297319  C1971153898   3      M  ...       28007  es_transportation  16.17\n",
              "297320   C741739992   2      F  ...       28007  es_transportation  44.30\n",
              "\n",
              "[2 rows x 8 columns]"
            ]
          },
          "metadata": {
            "tags": []
          },
          "execution_count": 17
        }
      ]
    },
    {
      "cell_type": "code",
      "metadata": {
        "id": "IQdgTowsUo9V",
        "colab_type": "code",
        "colab": {}
      },
      "source": [
        "le = LabelEncoder()\n",
        "\n",
        "for c in cat_col:\n",
        "  le.fit(X[c])\n",
        "  X[c] = le.transform(X[c])"
      ],
      "execution_count": 0,
      "outputs": []
    },
    {
      "cell_type": "markdown",
      "metadata": {
        "id": "2BBneCEhGs07",
        "colab_type": "text"
      },
      "source": [
        "##Train-Test Split (%50-%50)"
      ]
    },
    {
      "cell_type": "code",
      "metadata": {
        "id": "xfXaDAqJv4FN",
        "colab_type": "code",
        "colab": {}
      },
      "source": [
        "X_train, X_test, y_train, y_test = X[:297321], X[297321:], y[:297321], y[297321:]"
      ],
      "execution_count": 0,
      "outputs": []
    },
    {
      "cell_type": "code",
      "metadata": {
        "id": "WGVqT8BRRu82",
        "colab_type": "code",
        "colab": {}
      },
      "source": [
        "sc = StandardScaler()\n",
        "\n",
        "sc_col = X.select_dtypes([\"float64\", \"int64\"]).columns.tolist()\n",
        "\n",
        "for i in sc_col:\n",
        "  X_train[i] = sc.fit_transform(np.array(X_train[i]).reshape(-1, 1))\n",
        "  X_test[i] = sc.transform(np.array(X_test[i]).reshape(-1, 1))"
      ],
      "execution_count": 0,
      "outputs": []
    },
    {
      "cell_type": "code",
      "metadata": {
        "id": "ov1oBxXwIDkl",
        "colab_type": "code",
        "outputId": "b5193a97-abdb-4e8c-8e1e-0da8da009144",
        "colab": {
          "base_uri": "https://localhost:8080/",
          "height": 106
        }
      },
      "source": [
        "X_train.head(2)"
      ],
      "execution_count": 0,
      "outputs": [
        {
          "output_type": "execute_result",
          "data": {
            "text/html": [
              "<div>\n",
              "<style scoped>\n",
              "    .dataframe tbody tr th:only-of-type {\n",
              "        vertical-align: middle;\n",
              "    }\n",
              "\n",
              "    .dataframe tbody tr th {\n",
              "        vertical-align: top;\n",
              "    }\n",
              "\n",
              "    .dataframe thead th {\n",
              "        text-align: right;\n",
              "    }\n",
              "</style>\n",
              "<table border=\"1\" class=\"dataframe\">\n",
              "  <thead>\n",
              "    <tr style=\"text-align: right;\">\n",
              "      <th></th>\n",
              "      <th>customer</th>\n",
              "      <th>age</th>\n",
              "      <th>gender</th>\n",
              "      <th>zipcodeOri</th>\n",
              "      <th>merchant</th>\n",
              "      <th>zipMerchant</th>\n",
              "      <th>category</th>\n",
              "      <th>amount</th>\n",
              "    </tr>\n",
              "  </thead>\n",
              "  <tbody>\n",
              "    <tr>\n",
              "      <th>0</th>\n",
              "      <td>-1.543780</td>\n",
              "      <td>0.737881</td>\n",
              "      <td>1.089111</td>\n",
              "      <td>0.0</td>\n",
              "      <td>0.596312</td>\n",
              "      <td>0.0</td>\n",
              "      <td>0.320166</td>\n",
              "      <td>-0.289548</td>\n",
              "    </tr>\n",
              "    <tr>\n",
              "      <th>1</th>\n",
              "      <td>0.606238</td>\n",
              "      <td>-0.758032</td>\n",
              "      <td>1.089111</td>\n",
              "      <td>0.0</td>\n",
              "      <td>0.596312</td>\n",
              "      <td>0.0</td>\n",
              "      <td>0.320166</td>\n",
              "      <td>0.009694</td>\n",
              "    </tr>\n",
              "  </tbody>\n",
              "</table>\n",
              "</div>"
            ],
            "text/plain": [
              "   customer       age    gender  ...  zipMerchant  category    amount\n",
              "0 -1.543780  0.737881  1.089111  ...          0.0  0.320166 -0.289548\n",
              "1  0.606238 -0.758032  1.089111  ...          0.0  0.320166  0.009694\n",
              "\n",
              "[2 rows x 8 columns]"
            ]
          },
          "metadata": {
            "tags": []
          },
          "execution_count": 21
        }
      ]
    },
    {
      "cell_type": "markdown",
      "metadata": {
        "id": "RHDe9hcEHVXR",
        "colab_type": "text"
      },
      "source": [
        "##Train-Validation Split (%80-%20)"
      ]
    },
    {
      "cell_type": "code",
      "metadata": {
        "id": "v2NActeCHSFp",
        "colab_type": "code",
        "colab": {}
      },
      "source": [
        "X_train, X_val, y_train, y_val = X_train[:237856], X_train[237856:], y_train[:237856], y_train[237856:]"
      ],
      "execution_count": 0,
      "outputs": []
    },
    {
      "cell_type": "code",
      "metadata": {
        "id": "c6yoVQgbHvpZ",
        "colab_type": "code",
        "colab": {}
      },
      "source": [
        "sc = StandardScaler()\n",
        "\n",
        "sc_col = X.select_dtypes([\"float64\", \"int64\"]).columns.tolist()\n",
        "\n",
        "for i in sc_col:\n",
        "  X_train[i] = sc.fit_transform(np.array(X_train[i]).reshape(-1, 1))\n",
        "  X_val[i] = sc.transform(np.array(X_val[i]).reshape(-1, 1))"
      ],
      "execution_count": 0,
      "outputs": []
    },
    {
      "cell_type": "code",
      "metadata": {
        "id": "pSYv9VCH0UPw",
        "colab_type": "code",
        "outputId": "8776ae61-bbe6-4f9f-9f47-dd1401aecf5d",
        "colab": {
          "base_uri": "https://localhost:8080/",
          "height": 106
        }
      },
      "source": [
        "X_train.head(2)"
      ],
      "execution_count": 0,
      "outputs": [
        {
          "output_type": "execute_result",
          "data": {
            "text/html": [
              "<div>\n",
              "<style scoped>\n",
              "    .dataframe tbody tr th:only-of-type {\n",
              "        vertical-align: middle;\n",
              "    }\n",
              "\n",
              "    .dataframe tbody tr th {\n",
              "        vertical-align: top;\n",
              "    }\n",
              "\n",
              "    .dataframe thead th {\n",
              "        text-align: right;\n",
              "    }\n",
              "</style>\n",
              "<table border=\"1\" class=\"dataframe\">\n",
              "  <thead>\n",
              "    <tr style=\"text-align: right;\">\n",
              "      <th></th>\n",
              "      <th>customer</th>\n",
              "      <th>age</th>\n",
              "      <th>gender</th>\n",
              "      <th>zipcodeOri</th>\n",
              "      <th>merchant</th>\n",
              "      <th>zipMerchant</th>\n",
              "      <th>category</th>\n",
              "      <th>amount</th>\n",
              "    </tr>\n",
              "  </thead>\n",
              "  <tbody>\n",
              "    <tr>\n",
              "      <th>0</th>\n",
              "      <td>-1.544853</td>\n",
              "      <td>0.738340</td>\n",
              "      <td>1.090001</td>\n",
              "      <td>0.0</td>\n",
              "      <td>0.564267</td>\n",
              "      <td>0.0</td>\n",
              "      <td>0.318357</td>\n",
              "      <td>-0.280284</td>\n",
              "    </tr>\n",
              "    <tr>\n",
              "      <th>1</th>\n",
              "      <td>0.607342</td>\n",
              "      <td>-0.757088</td>\n",
              "      <td>1.090001</td>\n",
              "      <td>0.0</td>\n",
              "      <td>0.564267</td>\n",
              "      <td>0.0</td>\n",
              "      <td>0.318357</td>\n",
              "      <td>0.006009</td>\n",
              "    </tr>\n",
              "  </tbody>\n",
              "</table>\n",
              "</div>"
            ],
            "text/plain": [
              "   customer       age    gender  ...  zipMerchant  category    amount\n",
              "0 -1.544853  0.738340  1.090001  ...          0.0  0.318357 -0.280284\n",
              "1  0.607342 -0.757088  1.090001  ...          0.0  0.318357  0.006009\n",
              "\n",
              "[2 rows x 8 columns]"
            ]
          },
          "metadata": {
            "tags": []
          },
          "execution_count": 24
        }
      ]
    },
    {
      "cell_type": "code",
      "metadata": {
        "id": "T__ZyeesHk5q",
        "colab_type": "code",
        "outputId": "60da0471-8648-4457-a975-ca0081daa892",
        "colab": {
          "base_uri": "https://localhost:8080/",
          "height": 34
        }
      },
      "source": [
        "X_train.shape, X_val.shape, X_test.shape"
      ],
      "execution_count": 0,
      "outputs": [
        {
          "output_type": "execute_result",
          "data": {
            "text/plain": [
              "((237856, 8), (59465, 8), (297322, 8))"
            ]
          },
          "metadata": {
            "tags": []
          },
          "execution_count": 25
        }
      ]
    },
    {
      "cell_type": "code",
      "metadata": {
        "id": "RRiAAY2jVEzV",
        "colab_type": "code",
        "colab": {}
      },
      "source": [
        "parameters = {\n",
        "    'application': 'binary',\n",
        "    'objective': 'binary',\n",
        "    'metric': 'auc',\n",
        "    'is_unbalance': 'true',\n",
        "    'boosting': 'dart',\n",
        "    'num_leaves': 63,\n",
        "    'feature_fraction': 0.5,\n",
        "    'bagging_fraction': 0.5,\n",
        "    'bagging_freq': 20,\n",
        "    'learning_rate': 0.05,\n",
        "    'verbose': 0,\n",
        "    \"lambda_l2\" : 0.5,\n",
        "    \"lambda_l1\" : 0.5,\n",
        "    \"min_gain_to_split\" : 0.2\n",
        "}"
      ],
      "execution_count": 0,
      "outputs": []
    },
    {
      "cell_type": "code",
      "metadata": {
        "id": "GhXI1ouyUpHF",
        "colab_type": "code",
        "colab": {}
      },
      "source": [
        "train_data = lightgbm.Dataset(X_train, label=y_train, categorical_feature=cat_col)\n",
        "val_data = lightgbm.Dataset(X_val, label=y_val)"
      ],
      "execution_count": 0,
      "outputs": []
    },
    {
      "cell_type": "code",
      "metadata": {
        "id": "l9PrGNBSVGuo",
        "colab_type": "code",
        "outputId": "fa5188de-b10c-40fb-bf83-4e596dc3c3bc",
        "colab": {
          "base_uri": "https://localhost:8080/",
          "height": 8417
        }
      },
      "source": [
        "model = lightgbm.train(parameters,\n",
        "                       train_data,\n",
        "                       valid_sets=val_data,\n",
        "                       num_boost_round=500,\n",
        "                       early_stopping_rounds=100)"
      ],
      "execution_count": 0,
      "outputs": [
        {
          "output_type": "stream",
          "text": [
            "[1]\tvalid_0's auc: 0.971714\n",
            "[2]\tvalid_0's auc: 0.978806\n",
            "[3]\tvalid_0's auc: 0.984284\n",
            "[4]\tvalid_0's auc: 0.983593\n",
            "[5]\tvalid_0's auc: 0.983907\n",
            "[6]\tvalid_0's auc: 0.983729\n",
            "[7]\tvalid_0's auc: 0.984512\n",
            "[8]\tvalid_0's auc: 0.986044\n",
            "[9]\tvalid_0's auc: 0.985882\n",
            "[10]\tvalid_0's auc: 0.985912\n",
            "[11]\tvalid_0's auc: 0.985872\n",
            "[12]\tvalid_0's auc: 0.98587\n",
            "[13]\tvalid_0's auc: 0.985767\n",
            "[14]\tvalid_0's auc: 0.985829\n",
            "[15]\tvalid_0's auc: 0.985737\n",
            "[16]\tvalid_0's auc: 0.985755\n",
            "[17]\tvalid_0's auc: 0.985747\n",
            "[18]\tvalid_0's auc: 0.985379\n",
            "[19]\tvalid_0's auc: 0.985898\n",
            "[20]\tvalid_0's auc: 0.986635\n",
            "[21]\tvalid_0's auc: 0.986394\n",
            "[22]\tvalid_0's auc: 0.986235\n",
            "[23]\tvalid_0's auc: 0.986906\n",
            "[24]\tvalid_0's auc: 0.986996\n",
            "[25]\tvalid_0's auc: 0.987014\n",
            "[26]\tvalid_0's auc: 0.987261\n",
            "[27]\tvalid_0's auc: 0.987197\n",
            "[28]\tvalid_0's auc: 0.987396\n",
            "[29]\tvalid_0's auc: 0.987144\n",
            "[30]\tvalid_0's auc: 0.987187\n",
            "[31]\tvalid_0's auc: 0.987368\n",
            "[32]\tvalid_0's auc: 0.98745\n",
            "[33]\tvalid_0's auc: 0.987438\n",
            "[34]\tvalid_0's auc: 0.987805\n",
            "[35]\tvalid_0's auc: 0.987755\n",
            "[36]\tvalid_0's auc: 0.987793\n",
            "[37]\tvalid_0's auc: 0.987792\n",
            "[38]\tvalid_0's auc: 0.987657\n",
            "[39]\tvalid_0's auc: 0.987962\n",
            "[40]\tvalid_0's auc: 0.987978\n",
            "[41]\tvalid_0's auc: 0.987965\n",
            "[42]\tvalid_0's auc: 0.988292\n",
            "[43]\tvalid_0's auc: 0.988285\n",
            "[44]\tvalid_0's auc: 0.988217\n",
            "[45]\tvalid_0's auc: 0.98823\n",
            "[46]\tvalid_0's auc: 0.988369\n",
            "[47]\tvalid_0's auc: 0.988329\n",
            "[48]\tvalid_0's auc: 0.988332\n",
            "[49]\tvalid_0's auc: 0.988369\n",
            "[50]\tvalid_0's auc: 0.9883\n",
            "[51]\tvalid_0's auc: 0.988532\n",
            "[52]\tvalid_0's auc: 0.988536\n",
            "[53]\tvalid_0's auc: 0.988547\n",
            "[54]\tvalid_0's auc: 0.988538\n",
            "[55]\tvalid_0's auc: 0.988539\n",
            "[56]\tvalid_0's auc: 0.988527\n",
            "[57]\tvalid_0's auc: 0.988694\n",
            "[58]\tvalid_0's auc: 0.98876\n",
            "[59]\tvalid_0's auc: 0.988762\n",
            "[60]\tvalid_0's auc: 0.988875\n",
            "[61]\tvalid_0's auc: 0.988991\n",
            "[62]\tvalid_0's auc: 0.98901\n",
            "[63]\tvalid_0's auc: 0.989012\n",
            "[64]\tvalid_0's auc: 0.988998\n",
            "[65]\tvalid_0's auc: 0.988989\n",
            "[66]\tvalid_0's auc: 0.98903\n",
            "[67]\tvalid_0's auc: 0.988978\n",
            "[68]\tvalid_0's auc: 0.988968\n",
            "[69]\tvalid_0's auc: 0.98895\n",
            "[70]\tvalid_0's auc: 0.988954\n",
            "[71]\tvalid_0's auc: 0.989012\n",
            "[72]\tvalid_0's auc: 0.98912\n",
            "[73]\tvalid_0's auc: 0.989137\n",
            "[74]\tvalid_0's auc: 0.989116\n",
            "[75]\tvalid_0's auc: 0.989113\n",
            "[76]\tvalid_0's auc: 0.989066\n",
            "[77]\tvalid_0's auc: 0.989063\n",
            "[78]\tvalid_0's auc: 0.989068\n",
            "[79]\tvalid_0's auc: 0.989051\n",
            "[80]\tvalid_0's auc: 0.989042\n",
            "[81]\tvalid_0's auc: 0.989027\n",
            "[82]\tvalid_0's auc: 0.988995\n",
            "[83]\tvalid_0's auc: 0.989002\n",
            "[84]\tvalid_0's auc: 0.988949\n",
            "[85]\tvalid_0's auc: 0.988961\n",
            "[86]\tvalid_0's auc: 0.989065\n",
            "[87]\tvalid_0's auc: 0.989014\n",
            "[88]\tvalid_0's auc: 0.989024\n",
            "[89]\tvalid_0's auc: 0.989017\n",
            "[90]\tvalid_0's auc: 0.989019\n",
            "[91]\tvalid_0's auc: 0.989134\n",
            "[92]\tvalid_0's auc: 0.989072\n",
            "[93]\tvalid_0's auc: 0.989121\n",
            "[94]\tvalid_0's auc: 0.989124\n",
            "[95]\tvalid_0's auc: 0.989151\n",
            "[96]\tvalid_0's auc: 0.989167\n",
            "[97]\tvalid_0's auc: 0.989259\n",
            "[98]\tvalid_0's auc: 0.989291\n",
            "[99]\tvalid_0's auc: 0.98934\n",
            "[100]\tvalid_0's auc: 0.989421\n",
            "[101]\tvalid_0's auc: 0.98949\n",
            "[102]\tvalid_0's auc: 0.989482\n",
            "[103]\tvalid_0's auc: 0.989471\n",
            "[104]\tvalid_0's auc: 0.98952\n",
            "[105]\tvalid_0's auc: 0.989539\n",
            "[106]\tvalid_0's auc: 0.989548\n",
            "[107]\tvalid_0's auc: 0.989544\n",
            "[108]\tvalid_0's auc: 0.989595\n",
            "[109]\tvalid_0's auc: 0.98958\n",
            "[110]\tvalid_0's auc: 0.98957\n",
            "[111]\tvalid_0's auc: 0.989607\n",
            "[112]\tvalid_0's auc: 0.989546\n",
            "[113]\tvalid_0's auc: 0.989478\n",
            "[114]\tvalid_0's auc: 0.989419\n",
            "[115]\tvalid_0's auc: 0.989647\n",
            "[116]\tvalid_0's auc: 0.98969\n",
            "[117]\tvalid_0's auc: 0.989695\n",
            "[118]\tvalid_0's auc: 0.989634\n",
            "[119]\tvalid_0's auc: 0.989629\n",
            "[120]\tvalid_0's auc: 0.989612\n",
            "[121]\tvalid_0's auc: 0.989627\n",
            "[122]\tvalid_0's auc: 0.989646\n",
            "[123]\tvalid_0's auc: 0.989603\n",
            "[124]\tvalid_0's auc: 0.989526\n",
            "[125]\tvalid_0's auc: 0.989565\n",
            "[126]\tvalid_0's auc: 0.989575\n",
            "[127]\tvalid_0's auc: 0.989881\n",
            "[128]\tvalid_0's auc: 0.989872\n",
            "[129]\tvalid_0's auc: 0.98981\n",
            "[130]\tvalid_0's auc: 0.989852\n",
            "[131]\tvalid_0's auc: 0.989865\n",
            "[132]\tvalid_0's auc: 0.989881\n",
            "[133]\tvalid_0's auc: 0.989848\n",
            "[134]\tvalid_0's auc: 0.989867\n",
            "[135]\tvalid_0's auc: 0.989828\n",
            "[136]\tvalid_0's auc: 0.989886\n",
            "[137]\tvalid_0's auc: 0.989878\n",
            "[138]\tvalid_0's auc: 0.98991\n",
            "[139]\tvalid_0's auc: 0.990036\n",
            "[140]\tvalid_0's auc: 0.990039\n",
            "[141]\tvalid_0's auc: 0.990033\n",
            "[142]\tvalid_0's auc: 0.990033\n",
            "[143]\tvalid_0's auc: 0.990053\n",
            "[144]\tvalid_0's auc: 0.990054\n",
            "[145]\tvalid_0's auc: 0.990048\n",
            "[146]\tvalid_0's auc: 0.990034\n",
            "[147]\tvalid_0's auc: 0.990023\n",
            "[148]\tvalid_0's auc: 0.990055\n",
            "[149]\tvalid_0's auc: 0.989986\n",
            "[150]\tvalid_0's auc: 0.990009\n",
            "[151]\tvalid_0's auc: 0.990031\n",
            "[152]\tvalid_0's auc: 0.990052\n",
            "[153]\tvalid_0's auc: 0.990163\n",
            "[154]\tvalid_0's auc: 0.990172\n",
            "[155]\tvalid_0's auc: 0.990248\n",
            "[156]\tvalid_0's auc: 0.990246\n",
            "[157]\tvalid_0's auc: 0.990253\n",
            "[158]\tvalid_0's auc: 0.990251\n",
            "[159]\tvalid_0's auc: 0.99023\n",
            "[160]\tvalid_0's auc: 0.990219\n",
            "[161]\tvalid_0's auc: 0.990279\n",
            "[162]\tvalid_0's auc: 0.990267\n",
            "[163]\tvalid_0's auc: 0.99032\n",
            "[164]\tvalid_0's auc: 0.990278\n",
            "[165]\tvalid_0's auc: 0.99026\n",
            "[166]\tvalid_0's auc: 0.990311\n",
            "[167]\tvalid_0's auc: 0.990367\n",
            "[168]\tvalid_0's auc: 0.990403\n",
            "[169]\tvalid_0's auc: 0.990406\n",
            "[170]\tvalid_0's auc: 0.990423\n",
            "[171]\tvalid_0's auc: 0.990468\n",
            "[172]\tvalid_0's auc: 0.990489\n",
            "[173]\tvalid_0's auc: 0.99055\n",
            "[174]\tvalid_0's auc: 0.990525\n",
            "[175]\tvalid_0's auc: 0.990496\n",
            "[176]\tvalid_0's auc: 0.990486\n",
            "[177]\tvalid_0's auc: 0.990485\n",
            "[178]\tvalid_0's auc: 0.990484\n",
            "[179]\tvalid_0's auc: 0.990437\n",
            "[180]\tvalid_0's auc: 0.990432\n",
            "[181]\tvalid_0's auc: 0.990497\n",
            "[182]\tvalid_0's auc: 0.990544\n",
            "[183]\tvalid_0's auc: 0.990578\n",
            "[184]\tvalid_0's auc: 0.990531\n",
            "[185]\tvalid_0's auc: 0.990521\n",
            "[186]\tvalid_0's auc: 0.9905\n",
            "[187]\tvalid_0's auc: 0.990524\n",
            "[188]\tvalid_0's auc: 0.990581\n",
            "[189]\tvalid_0's auc: 0.990569\n",
            "[190]\tvalid_0's auc: 0.990561\n",
            "[191]\tvalid_0's auc: 0.99059\n",
            "[192]\tvalid_0's auc: 0.990558\n",
            "[193]\tvalid_0's auc: 0.990671\n",
            "[194]\tvalid_0's auc: 0.990658\n",
            "[195]\tvalid_0's auc: 0.990643\n",
            "[196]\tvalid_0's auc: 0.990668\n",
            "[197]\tvalid_0's auc: 0.990657\n",
            "[198]\tvalid_0's auc: 0.990654\n",
            "[199]\tvalid_0's auc: 0.990646\n",
            "[200]\tvalid_0's auc: 0.990652\n",
            "[201]\tvalid_0's auc: 0.990644\n",
            "[202]\tvalid_0's auc: 0.990636\n",
            "[203]\tvalid_0's auc: 0.990649\n",
            "[204]\tvalid_0's auc: 0.990647\n",
            "[205]\tvalid_0's auc: 0.990656\n",
            "[206]\tvalid_0's auc: 0.990695\n",
            "[207]\tvalid_0's auc: 0.990695\n",
            "[208]\tvalid_0's auc: 0.990746\n",
            "[209]\tvalid_0's auc: 0.990741\n",
            "[210]\tvalid_0's auc: 0.990743\n",
            "[211]\tvalid_0's auc: 0.99074\n",
            "[212]\tvalid_0's auc: 0.990803\n",
            "[213]\tvalid_0's auc: 0.990852\n",
            "[214]\tvalid_0's auc: 0.990876\n",
            "[215]\tvalid_0's auc: 0.990831\n",
            "[216]\tvalid_0's auc: 0.990827\n",
            "[217]\tvalid_0's auc: 0.990824\n",
            "[218]\tvalid_0's auc: 0.990968\n",
            "[219]\tvalid_0's auc: 0.990973\n",
            "[220]\tvalid_0's auc: 0.990961\n",
            "[221]\tvalid_0's auc: 0.990952\n",
            "[222]\tvalid_0's auc: 0.990913\n",
            "[223]\tvalid_0's auc: 0.990873\n",
            "[224]\tvalid_0's auc: 0.990866\n",
            "[225]\tvalid_0's auc: 0.99085\n",
            "[226]\tvalid_0's auc: 0.990837\n",
            "[227]\tvalid_0's auc: 0.990846\n",
            "[228]\tvalid_0's auc: 0.990829\n",
            "[229]\tvalid_0's auc: 0.990833\n",
            "[230]\tvalid_0's auc: 0.990819\n",
            "[231]\tvalid_0's auc: 0.990795\n",
            "[232]\tvalid_0's auc: 0.990782\n",
            "[233]\tvalid_0's auc: 0.990782\n",
            "[234]\tvalid_0's auc: 0.990771\n",
            "[235]\tvalid_0's auc: 0.990772\n",
            "[236]\tvalid_0's auc: 0.990813\n",
            "[237]\tvalid_0's auc: 0.990791\n",
            "[238]\tvalid_0's auc: 0.990774\n",
            "[239]\tvalid_0's auc: 0.990741\n",
            "[240]\tvalid_0's auc: 0.990719\n",
            "[241]\tvalid_0's auc: 0.990716\n",
            "[242]\tvalid_0's auc: 0.990728\n",
            "[243]\tvalid_0's auc: 0.990718\n",
            "[244]\tvalid_0's auc: 0.990727\n",
            "[245]\tvalid_0's auc: 0.990761\n",
            "[246]\tvalid_0's auc: 0.990828\n",
            "[247]\tvalid_0's auc: 0.990893\n",
            "[248]\tvalid_0's auc: 0.990882\n",
            "[249]\tvalid_0's auc: 0.990885\n",
            "[250]\tvalid_0's auc: 0.990874\n",
            "[251]\tvalid_0's auc: 0.990867\n",
            "[252]\tvalid_0's auc: 0.990865\n",
            "[253]\tvalid_0's auc: 0.990844\n",
            "[254]\tvalid_0's auc: 0.990859\n",
            "[255]\tvalid_0's auc: 0.990837\n",
            "[256]\tvalid_0's auc: 0.99087\n",
            "[257]\tvalid_0's auc: 0.990929\n",
            "[258]\tvalid_0's auc: 0.990933\n",
            "[259]\tvalid_0's auc: 0.990925\n",
            "[260]\tvalid_0's auc: 0.99092\n",
            "[261]\tvalid_0's auc: 0.990925\n",
            "[262]\tvalid_0's auc: 0.990948\n",
            "[263]\tvalid_0's auc: 0.990949\n",
            "[264]\tvalid_0's auc: 0.990955\n",
            "[265]\tvalid_0's auc: 0.990959\n",
            "[266]\tvalid_0's auc: 0.990905\n",
            "[267]\tvalid_0's auc: 0.9909\n",
            "[268]\tvalid_0's auc: 0.990902\n",
            "[269]\tvalid_0's auc: 0.990905\n",
            "[270]\tvalid_0's auc: 0.990903\n",
            "[271]\tvalid_0's auc: 0.990904\n",
            "[272]\tvalid_0's auc: 0.990893\n",
            "[273]\tvalid_0's auc: 0.990962\n",
            "[274]\tvalid_0's auc: 0.990967\n",
            "[275]\tvalid_0's auc: 0.990943\n",
            "[276]\tvalid_0's auc: 0.990944\n",
            "[277]\tvalid_0's auc: 0.990962\n",
            "[278]\tvalid_0's auc: 0.990962\n",
            "[279]\tvalid_0's auc: 0.990966\n",
            "[280]\tvalid_0's auc: 0.990963\n",
            "[281]\tvalid_0's auc: 0.990967\n",
            "[282]\tvalid_0's auc: 0.990917\n",
            "[283]\tvalid_0's auc: 0.990917\n",
            "[284]\tvalid_0's auc: 0.990902\n",
            "[285]\tvalid_0's auc: 0.990897\n",
            "[286]\tvalid_0's auc: 0.990889\n",
            "[287]\tvalid_0's auc: 0.991026\n",
            "[288]\tvalid_0's auc: 0.991027\n",
            "[289]\tvalid_0's auc: 0.99101\n",
            "[290]\tvalid_0's auc: 0.991011\n",
            "[291]\tvalid_0's auc: 0.990995\n",
            "[292]\tvalid_0's auc: 0.991002\n",
            "[293]\tvalid_0's auc: 0.991006\n",
            "[294]\tvalid_0's auc: 0.990979\n",
            "[295]\tvalid_0's auc: 0.990982\n",
            "[296]\tvalid_0's auc: 0.990986\n",
            "[297]\tvalid_0's auc: 0.991043\n",
            "[298]\tvalid_0's auc: 0.991032\n",
            "[299]\tvalid_0's auc: 0.991002\n",
            "[300]\tvalid_0's auc: 0.991005\n",
            "[301]\tvalid_0's auc: 0.991014\n",
            "[302]\tvalid_0's auc: 0.991032\n",
            "[303]\tvalid_0's auc: 0.99104\n",
            "[304]\tvalid_0's auc: 0.991033\n",
            "[305]\tvalid_0's auc: 0.99103\n",
            "[306]\tvalid_0's auc: 0.991018\n",
            "[307]\tvalid_0's auc: 0.991015\n",
            "[308]\tvalid_0's auc: 0.991046\n",
            "[309]\tvalid_0's auc: 0.991041\n",
            "[310]\tvalid_0's auc: 0.991017\n",
            "[311]\tvalid_0's auc: 0.990997\n",
            "[312]\tvalid_0's auc: 0.991046\n",
            "[313]\tvalid_0's auc: 0.99107\n",
            "[314]\tvalid_0's auc: 0.991081\n",
            "[315]\tvalid_0's auc: 0.991081\n",
            "[316]\tvalid_0's auc: 0.991063\n",
            "[317]\tvalid_0's auc: 0.991058\n",
            "[318]\tvalid_0's auc: 0.99104\n",
            "[319]\tvalid_0's auc: 0.991037\n",
            "[320]\tvalid_0's auc: 0.991065\n",
            "[321]\tvalid_0's auc: 0.991065\n",
            "[322]\tvalid_0's auc: 0.991056\n",
            "[323]\tvalid_0's auc: 0.991115\n",
            "[324]\tvalid_0's auc: 0.991106\n",
            "[325]\tvalid_0's auc: 0.991093\n",
            "[326]\tvalid_0's auc: 0.991091\n",
            "[327]\tvalid_0's auc: 0.991138\n",
            "[328]\tvalid_0's auc: 0.991144\n",
            "[329]\tvalid_0's auc: 0.991193\n",
            "[330]\tvalid_0's auc: 0.991192\n",
            "[331]\tvalid_0's auc: 0.991186\n",
            "[332]\tvalid_0's auc: 0.991189\n",
            "[333]\tvalid_0's auc: 0.991187\n",
            "[334]\tvalid_0's auc: 0.99119\n",
            "[335]\tvalid_0's auc: 0.991222\n",
            "[336]\tvalid_0's auc: 0.991217\n",
            "[337]\tvalid_0's auc: 0.99119\n",
            "[338]\tvalid_0's auc: 0.991172\n",
            "[339]\tvalid_0's auc: 0.991173\n",
            "[340]\tvalid_0's auc: 0.991177\n",
            "[341]\tvalid_0's auc: 0.991168\n",
            "[342]\tvalid_0's auc: 0.991165\n",
            "[343]\tvalid_0's auc: 0.99115\n",
            "[344]\tvalid_0's auc: 0.991144\n",
            "[345]\tvalid_0's auc: 0.991127\n",
            "[346]\tvalid_0's auc: 0.991124\n",
            "[347]\tvalid_0's auc: 0.991125\n",
            "[348]\tvalid_0's auc: 0.991108\n",
            "[349]\tvalid_0's auc: 0.991116\n",
            "[350]\tvalid_0's auc: 0.991119\n",
            "[351]\tvalid_0's auc: 0.991115\n",
            "[352]\tvalid_0's auc: 0.991231\n",
            "[353]\tvalid_0's auc: 0.991226\n",
            "[354]\tvalid_0's auc: 0.991221\n",
            "[355]\tvalid_0's auc: 0.991228\n",
            "[356]\tvalid_0's auc: 0.991336\n",
            "[357]\tvalid_0's auc: 0.991331\n",
            "[358]\tvalid_0's auc: 0.991364\n",
            "[359]\tvalid_0's auc: 0.991375\n",
            "[360]\tvalid_0's auc: 0.991359\n",
            "[361]\tvalid_0's auc: 0.991356\n",
            "[362]\tvalid_0's auc: 0.991346\n",
            "[363]\tvalid_0's auc: 0.991341\n",
            "[364]\tvalid_0's auc: 0.991341\n",
            "[365]\tvalid_0's auc: 0.99141\n",
            "[366]\tvalid_0's auc: 0.991414\n",
            "[367]\tvalid_0's auc: 0.991412\n",
            "[368]\tvalid_0's auc: 0.991391\n",
            "[369]\tvalid_0's auc: 0.991395\n",
            "[370]\tvalid_0's auc: 0.991348\n",
            "[371]\tvalid_0's auc: 0.991347\n",
            "[372]\tvalid_0's auc: 0.99132\n",
            "[373]\tvalid_0's auc: 0.991349\n",
            "[374]\tvalid_0's auc: 0.991343\n",
            "[375]\tvalid_0's auc: 0.991321\n",
            "[376]\tvalid_0's auc: 0.99132\n",
            "[377]\tvalid_0's auc: 0.991301\n",
            "[378]\tvalid_0's auc: 0.991302\n",
            "[379]\tvalid_0's auc: 0.991298\n",
            "[380]\tvalid_0's auc: 0.991291\n",
            "[381]\tvalid_0's auc: 0.991284\n",
            "[382]\tvalid_0's auc: 0.991286\n",
            "[383]\tvalid_0's auc: 0.991279\n",
            "[384]\tvalid_0's auc: 0.991314\n",
            "[385]\tvalid_0's auc: 0.991308\n",
            "[386]\tvalid_0's auc: 0.991321\n",
            "[387]\tvalid_0's auc: 0.991299\n",
            "[388]\tvalid_0's auc: 0.991298\n",
            "[389]\tvalid_0's auc: 0.991297\n",
            "[390]\tvalid_0's auc: 0.991298\n",
            "[391]\tvalid_0's auc: 0.991293\n",
            "[392]\tvalid_0's auc: 0.99129\n",
            "[393]\tvalid_0's auc: 0.991278\n",
            "[394]\tvalid_0's auc: 0.991296\n",
            "[395]\tvalid_0's auc: 0.991286\n",
            "[396]\tvalid_0's auc: 0.991284\n",
            "[397]\tvalid_0's auc: 0.991299\n",
            "[398]\tvalid_0's auc: 0.991273\n",
            "[399]\tvalid_0's auc: 0.9913\n",
            "[400]\tvalid_0's auc: 0.991268\n",
            "[401]\tvalid_0's auc: 0.991264\n",
            "[402]\tvalid_0's auc: 0.991309\n",
            "[403]\tvalid_0's auc: 0.991302\n",
            "[404]\tvalid_0's auc: 0.991337\n",
            "[405]\tvalid_0's auc: 0.991332\n",
            "[406]\tvalid_0's auc: 0.991335\n",
            "[407]\tvalid_0's auc: 0.991283\n",
            "[408]\tvalid_0's auc: 0.991285\n",
            "[409]\tvalid_0's auc: 0.991317\n",
            "[410]\tvalid_0's auc: 0.991301\n",
            "[411]\tvalid_0's auc: 0.991407\n",
            "[412]\tvalid_0's auc: 0.991413\n",
            "[413]\tvalid_0's auc: 0.991411\n",
            "[414]\tvalid_0's auc: 0.991366\n",
            "[415]\tvalid_0's auc: 0.991371\n",
            "[416]\tvalid_0's auc: 0.991352\n",
            "[417]\tvalid_0's auc: 0.991353\n",
            "[418]\tvalid_0's auc: 0.991356\n",
            "[419]\tvalid_0's auc: 0.991339\n",
            "[420]\tvalid_0's auc: 0.991333\n",
            "[421]\tvalid_0's auc: 0.991374\n",
            "[422]\tvalid_0's auc: 0.991353\n",
            "[423]\tvalid_0's auc: 0.9913\n",
            "[424]\tvalid_0's auc: 0.991271\n",
            "[425]\tvalid_0's auc: 0.991273\n",
            "[426]\tvalid_0's auc: 0.991309\n",
            "[427]\tvalid_0's auc: 0.991353\n",
            "[428]\tvalid_0's auc: 0.991357\n",
            "[429]\tvalid_0's auc: 0.991411\n",
            "[430]\tvalid_0's auc: 0.991414\n",
            "[431]\tvalid_0's auc: 0.991445\n",
            "[432]\tvalid_0's auc: 0.991433\n",
            "[433]\tvalid_0's auc: 0.991426\n",
            "[434]\tvalid_0's auc: 0.991427\n",
            "[435]\tvalid_0's auc: 0.991423\n",
            "[436]\tvalid_0's auc: 0.991414\n",
            "[437]\tvalid_0's auc: 0.991411\n",
            "[438]\tvalid_0's auc: 0.991411\n",
            "[439]\tvalid_0's auc: 0.991417\n",
            "[440]\tvalid_0's auc: 0.991438\n",
            "[441]\tvalid_0's auc: 0.991412\n",
            "[442]\tvalid_0's auc: 0.991385\n",
            "[443]\tvalid_0's auc: 0.991382\n",
            "[444]\tvalid_0's auc: 0.991383\n",
            "[445]\tvalid_0's auc: 0.99144\n",
            "[446]\tvalid_0's auc: 0.991443\n",
            "[447]\tvalid_0's auc: 0.991419\n",
            "[448]\tvalid_0's auc: 0.991385\n",
            "[449]\tvalid_0's auc: 0.9914\n",
            "[450]\tvalid_0's auc: 0.991376\n",
            "[451]\tvalid_0's auc: 0.991355\n",
            "[452]\tvalid_0's auc: 0.991356\n",
            "[453]\tvalid_0's auc: 0.991355\n",
            "[454]\tvalid_0's auc: 0.991356\n",
            "[455]\tvalid_0's auc: 0.991353\n",
            "[456]\tvalid_0's auc: 0.991353\n",
            "[457]\tvalid_0's auc: 0.991349\n",
            "[458]\tvalid_0's auc: 0.991358\n",
            "[459]\tvalid_0's auc: 0.991394\n",
            "[460]\tvalid_0's auc: 0.991396\n",
            "[461]\tvalid_0's auc: 0.991393\n",
            "[462]\tvalid_0's auc: 0.991392\n",
            "[463]\tvalid_0's auc: 0.991394\n",
            "[464]\tvalid_0's auc: 0.991423\n",
            "[465]\tvalid_0's auc: 0.991447\n",
            "[466]\tvalid_0's auc: 0.991449\n",
            "[467]\tvalid_0's auc: 0.991475\n",
            "[468]\tvalid_0's auc: 0.991476\n",
            "[469]\tvalid_0's auc: 0.991484\n",
            "[470]\tvalid_0's auc: 0.991485\n",
            "[471]\tvalid_0's auc: 0.991514\n",
            "[472]\tvalid_0's auc: 0.99152\n",
            "[473]\tvalid_0's auc: 0.991529\n",
            "[474]\tvalid_0's auc: 0.991535\n",
            "[475]\tvalid_0's auc: 0.991561\n",
            "[476]\tvalid_0's auc: 0.991555\n",
            "[477]\tvalid_0's auc: 0.991547\n",
            "[478]\tvalid_0's auc: 0.991549\n",
            "[479]\tvalid_0's auc: 0.99155\n",
            "[480]\tvalid_0's auc: 0.99153\n",
            "[481]\tvalid_0's auc: 0.991521\n",
            "[482]\tvalid_0's auc: 0.991519\n",
            "[483]\tvalid_0's auc: 0.991545\n",
            "[484]\tvalid_0's auc: 0.991529\n",
            "[485]\tvalid_0's auc: 0.991526\n",
            "[486]\tvalid_0's auc: 0.991553\n",
            "[487]\tvalid_0's auc: 0.991554\n",
            "[488]\tvalid_0's auc: 0.991525\n",
            "[489]\tvalid_0's auc: 0.991532\n",
            "[490]\tvalid_0's auc: 0.991534\n",
            "[491]\tvalid_0's auc: 0.991536\n",
            "[492]\tvalid_0's auc: 0.991533\n",
            "[493]\tvalid_0's auc: 0.991533\n",
            "[494]\tvalid_0's auc: 0.991529\n",
            "[495]\tvalid_0's auc: 0.991497\n",
            "[496]\tvalid_0's auc: 0.991523\n",
            "[497]\tvalid_0's auc: 0.991513\n",
            "[498]\tvalid_0's auc: 0.991521\n",
            "[499]\tvalid_0's auc: 0.991521\n",
            "[500]\tvalid_0's auc: 0.991585\n"
          ],
          "name": "stdout"
        }
      ]
    },
    {
      "cell_type": "code",
      "metadata": {
        "id": "tl9JPrCxVjl9",
        "colab_type": "code",
        "colab": {}
      },
      "source": [
        "y_pred = model.predict(X_test)"
      ],
      "execution_count": 0,
      "outputs": []
    },
    {
      "cell_type": "code",
      "metadata": {
        "id": "oLhMHMTjf-CV",
        "colab_type": "code",
        "outputId": "9727b088-9130-488a-91a8-5775e2c6690f",
        "colab": {
          "base_uri": "https://localhost:8080/",
          "height": 286
        }
      },
      "source": [
        "auc = roc_auc_score(y_test, y_pred)\n",
        "print('AUC: %.3f' % auc)\n",
        "# calculate roc curve\n",
        "fpr, tpr, thresholds = roc_curve(y_test, y_pred)\n",
        "# plot no skill\n",
        "pyplot.plot([0, 1], [0, 1], linestyle='--')\n",
        "# plot the roc curve for the model\n",
        "pyplot.plot(fpr, tpr, marker='.')\n",
        "# show the plot\n",
        "pyplot.show()"
      ],
      "execution_count": 0,
      "outputs": [
        {
          "output_type": "stream",
          "text": [
            "AUC: 0.988\n"
          ],
          "name": "stdout"
        },
        {
          "output_type": "display_data",
          "data": {
            "image/png": "[encoded data removed]",
            "text/plain": [
              "<Figure size 432x288 with 1 Axes>"
            ]
          },
          "metadata": {
            "tags": []
          }
        }
      ]
    },
    {
      "cell_type": "code",
      "metadata": {
        "id": "rEXCbvzxXTaW",
        "colab_type": "code",
        "outputId": "1f9bef27-6be2-41b1-d6e5-072e8913d3cd",
        "colab": {
          "base_uri": "https://localhost:8080/",
          "height": 34
        }
      },
      "source": [
        "f1 = {}\n",
        "\n",
        "for a in [0.90, 0.96, 0.97, 0.98, 0.99]:\n",
        "\n",
        "  y_pred = model.predict(X_test)\n",
        "\n",
        "  for i in range(len(y_pred)):\n",
        "      if y_pred[i]>=a:       \n",
        "         y_pred[i]=1\n",
        "      else:  \n",
        "         y_pred[i]=0\n",
        "          \n",
        "  f1[a] = f1_score(y_test, y_pred)\n",
        "  \n",
        "print(f1)"
      ],
      "execution_count": 0,
      "outputs": [
        {
          "output_type": "stream",
          "text": [
            "{0.9: 0.6269098077870872, 0.96: 0.667576584774037, 0.97: 0.6720404615141458, 0.98: 0.6667756169308711, 0.99: 0.6457450904890258}\n"
          ],
          "name": "stdout"
        }
      ]
    },
    {
      "cell_type": "code",
      "metadata": {
        "id": "qPBk7-geicxw",
        "colab_type": "code",
        "outputId": "fb891619-cb99-4a0f-b46f-f43f0482ff10",
        "colab": {
          "base_uri": "https://localhost:8080/",
          "height": 101
        }
      },
      "source": [
        "fpr[:10], tpr[:10], thresholds[:10]"
      ],
      "execution_count": 0,
      "outputs": [
        {
          "output_type": "execute_result",
          "data": {
            "text/plain": [
              "(array([0., 0., 0., 0., 0., 0., 0., 0., 0., 0.]),\n",
              " array([0.        , 0.00364742, 0.00547112, 0.00577508, 0.00759878,\n",
              "        0.00790274, 0.00942249, 0.01337386, 0.01398176, 0.01489362]),\n",
              " array([1.99914819, 0.99914819, 0.9989553 , 0.99886248, 0.99879666,\n",
              "        0.99873156, 0.99870207, 0.99852467, 0.99846699, 0.99833729]))"
            ]
          },
          "metadata": {
            "tags": []
          },
          "execution_count": 32
        }
      ]
    },
    {
      "cell_type": "code",
      "metadata": {
        "id": "JCfcvSZKPOex",
        "colab_type": "code",
        "colab": {}
      },
      "source": [
        "y_pred = model.predict(X_test)"
      ],
      "execution_count": 0,
      "outputs": []
    },
    {
      "cell_type": "code",
      "metadata": {
        "id": "uhEIa5_QfMEO",
        "colab_type": "code",
        "colab": {}
      },
      "source": [
        "for i in range(len(y_pred)):\n",
        "    if y_pred[i]>=.97:\n",
        "       y_pred[i]=1\n",
        "    else:  \n",
        "       y_pred[i]=0"
      ],
      "execution_count": 0,
      "outputs": []
    },
    {
      "cell_type": "code",
      "metadata": {
        "id": "dfxI2l-DX6H7",
        "colab_type": "code",
        "outputId": "8020fb84-05aa-40b5-f2fd-b685a7618b88",
        "colab": {
          "base_uri": "https://localhost:8080/",
          "height": 50
        }
      },
      "source": [
        "confusion_matrix(y_test, y_pred)"
      ],
      "execution_count": 0,
      "outputs": [
        {
          "output_type": "execute_result",
          "data": {
            "text/plain": [
              "array([[293121,    911],\n",
              "       [  1164,   2126]])"
            ]
          },
          "metadata": {
            "tags": []
          },
          "execution_count": 35
        }
      ]
    },
    {
      "cell_type": "code",
      "metadata": {
        "id": "iz29zKnpgfQu",
        "colab_type": "code",
        "outputId": "56560a81-c77e-40fa-8b6c-fc26c9600518",
        "colab": {
          "base_uri": "https://localhost:8080/",
          "height": 34
        }
      },
      "source": [
        "accuracy_score(y_test, y_pred)"
      ],
      "execution_count": 0,
      "outputs": [
        {
          "output_type": "execute_result",
          "data": {
            "text/plain": [
              "0.993021034434048"
            ]
          },
          "metadata": {
            "tags": []
          },
          "execution_count": 36
        }
      ]
    },
    {
      "cell_type": "code",
      "metadata": {
        "id": "2ycD1hVyglEy",
        "colab_type": "code",
        "outputId": "028db461-b3b5-4d43-824d-ae5c5034f8fb",
        "colab": {
          "base_uri": "https://localhost:8080/",
          "height": 34
        }
      },
      "source": [
        "recall_score(y_test, y_pred)"
      ],
      "execution_count": 0,
      "outputs": [
        {
          "output_type": "execute_result",
          "data": {
            "text/plain": [
              "0.6462006079027356"
            ]
          },
          "metadata": {
            "tags": []
          },
          "execution_count": 37
        }
      ]
    },
    {
      "cell_type": "code",
      "metadata": {
        "id": "HfWstdKKgpee",
        "colab_type": "code",
        "outputId": "af8f871e-45b9-4bb6-d63b-f162ec67e107",
        "colab": {
          "base_uri": "https://localhost:8080/",
          "height": 34
        }
      },
      "source": [
        "f1_score(y_test, y_pred)"
      ],
      "execution_count": 0,
      "outputs": [
        {
          "output_type": "execute_result",
          "data": {
            "text/plain": [
              "0.6720404615141458"
            ]
          },
          "metadata": {
            "tags": []
          },
          "execution_count": 38
        }
      ]
    },
    {
      "cell_type": "code",
      "metadata": {
        "id": "mrWPh2JQgxOm",
        "colab_type": "code",
        "outputId": "b89ec5f9-ea32-49d4-b718-3303c848fac9",
        "colab": {
          "base_uri": "https://localhost:8080/",
          "height": 168
        }
      },
      "source": [
        "print(classification_report(y_test, y_pred))"
      ],
      "execution_count": 0,
      "outputs": [
        {
          "output_type": "stream",
          "text": [
            "              precision    recall  f1-score   support\n",
            "\n",
            "           0       1.00      1.00      1.00    294032\n",
            "           1       0.70      0.65      0.67      3290\n",
            "\n",
            "   micro avg       0.99      0.99      0.99    297322\n",
            "   macro avg       0.85      0.82      0.83    297322\n",
            "weighted avg       0.99      0.99      0.99    297322\n",
            "\n"
          ],
          "name": "stdout"
        }
      ]
    },
    {
      "cell_type": "code",
      "metadata": {
        "id": "cJfJjVVzm2G1",
        "colab_type": "code",
        "outputId": "d4350d07-d6c4-4c71-d462-deb7f20b488a",
        "colab": {
          "base_uri": "https://localhost:8080/",
          "height": 312
        }
      },
      "source": [
        "lightgbm.plot_importance(model)"
      ],
      "execution_count": 0,
      "outputs": [
        {
          "output_type": "execute_result",
          "data": {
            "text/plain": [
              "<matplotlib.axes._subplots.AxesSubplot at 0x7faf65b8acf8>"
            ]
          },
          "metadata": {
            "tags": []
          },
          "execution_count": 40
        },
        {
          "output_type": "display_data",
          "data": {
            "image/png": "[encoded data removed]",
            "text/plain": [
              "<Figure size 432x288 with 1 Axes>"
            ]
          },
          "metadata": {
            "tags": []
          }
        }
      ]
    },
    {
      "cell_type": "markdown",
      "metadata": {
        "id": "QppEbM2e2Pel",
        "colab_type": "text"
      },
      "source": [
        "#Using SNA for Credit Card Default Prediction"
      ]
    },
    {
      "cell_type": "markdown",
      "metadata": {
        "id": "p2roKMmxNqIv",
        "colab_type": "text"
      },
      "source": [
        "##Multigraph of Transactions"
      ]
    },
    {
      "cell_type": "code",
      "metadata": {
        "id": "PlydPWXnrEgE",
        "colab_type": "code",
        "outputId": "154708f1-d488-4319-b873-5ce87e2976db",
        "colab": {
          "base_uri": "https://localhost:8080/",
          "height": 34
        }
      },
      "source": [
        "G_mult = nx.MultiGraph()\n",
        "\n",
        "for i in range(297321):\n",
        "    G_mult.add_nodes_from([df[\"customer\"][i]], age = df[\"age\"][i], gender = df[\"gender\"][i], zip_code_cust = df[\"zipcodeOri\"][i], bipartite=0)\n",
        "    G_mult.add_nodes_from([df[\"merchant\"][i]], zip_code_merc = df[\"zipMerchant\"][i], bipartite=1)\n",
        "    G_mult.add_edges_from([(df[\"customer\"][i], df[\"merchant\"][i])], amount = df[\"amount\"][i], fraud = df[\"fraud\"][i], step = df[\"step\"][i], category = df[\"category\"][i])\n",
        "\n",
        "len(G_mult.nodes()), len(G_mult.edges())"
      ],
      "execution_count": 0,
      "outputs": [
        {
          "output_type": "execute_result",
          "data": {
            "text/plain": [
              "(4159, 297321)"
            ]
          },
          "metadata": {
            "tags": []
          },
          "execution_count": 41
        }
      ]
    },
    {
      "cell_type": "code",
      "metadata": {
        "id": "AszI0y5SkjYi",
        "colab_type": "code",
        "outputId": "3523d837-33e8-47a7-cfb0-a25c5ab496d6",
        "colab": {
          "base_uri": "https://localhost:8080/",
          "height": 34
        }
      },
      "source": [
        "nx.is_connected(G_mult)"
      ],
      "execution_count": 0,
      "outputs": [
        {
          "output_type": "execute_result",
          "data": {
            "text/plain": [
              "True"
            ]
          },
          "metadata": {
            "tags": []
          },
          "execution_count": 42
        }
      ]
    },
    {
      "cell_type": "markdown",
      "metadata": {
        "id": "aHxRqYrQnrtX",
        "colab_type": "text"
      },
      "source": [
        "###Calculating SimRank"
      ]
    },
    {
      "cell_type": "code",
      "metadata": {
        "id": "XthZzjZbZM_G",
        "colab_type": "code",
        "colab": {}
      },
      "source": [
        "#const = rnd.uniform(0.45,0.7)\n",
        "#iter_const = rnd.randint(5,30)\n",
        "\n",
        "\n",
        "const = 0.6068600098021981\n",
        "iter_const = 28\n",
        "\n",
        "simrank = linkpred.predictors.SimRank(G_mult)\n",
        "simrank_results = simrank.predict(c=const, weight = \"fraud\", num_iterations = iter_const)"
      ],
      "execution_count": 0,
      "outputs": []
    },
    {
      "cell_type": "markdown",
      "metadata": {
        "id": "rqL91wRBOjyp",
        "colab_type": "text"
      },
      "source": [
        "##Graph of Transactions"
      ]
    },
    {
      "cell_type": "code",
      "metadata": {
        "id": "hRY9ffgYLfLr",
        "colab_type": "code",
        "outputId": "a29a30b7-1802-43f5-9c14-478fdd137a82",
        "colab": {
          "base_uri": "https://localhost:8080/",
          "height": 106
        }
      },
      "source": [
        "fraud_edges = df[:297321].groupby([\"customer\", \"merchant\"]).sum().reset_index().sort_values([\"fraud\"], ascending = False)\n",
        "\n",
        "fraud_edges.head(2)"
      ],
      "execution_count": 0,
      "outputs": [
        {
          "output_type": "execute_result",
          "data": {
            "text/html": [
              "<div>\n",
              "<style scoped>\n",
              "    .dataframe tbody tr th:only-of-type {\n",
              "        vertical-align: middle;\n",
              "    }\n",
              "\n",
              "    .dataframe tbody tr th {\n",
              "        vertical-align: top;\n",
              "    }\n",
              "\n",
              "    .dataframe thead th {\n",
              "        text-align: right;\n",
              "    }\n",
              "</style>\n",
              "<table border=\"1\" class=\"dataframe\">\n",
              "  <thead>\n",
              "    <tr style=\"text-align: right;\">\n",
              "      <th></th>\n",
              "      <th>customer</th>\n",
              "      <th>merchant</th>\n",
              "      <th>step</th>\n",
              "      <th>amount</th>\n",
              "      <th>fraud</th>\n",
              "    </tr>\n",
              "  </thead>\n",
              "  <tbody>\n",
              "    <tr>\n",
              "      <th>4866</th>\n",
              "      <td>C1275518867</td>\n",
              "      <td>M980657600</td>\n",
              "      <td>1042</td>\n",
              "      <td>10864.97</td>\n",
              "      <td>32</td>\n",
              "    </tr>\n",
              "    <tr>\n",
              "      <th>14344</th>\n",
              "      <td>C1849046345</td>\n",
              "      <td>M480139044</td>\n",
              "      <td>864</td>\n",
              "      <td>8658.00</td>\n",
              "      <td>24</td>\n",
              "    </tr>\n",
              "  </tbody>\n",
              "</table>\n",
              "</div>"
            ],
            "text/plain": [
              "          customer    merchant  step    amount  fraud\n",
              "4866   C1275518867  M980657600  1042  10864.97     32\n",
              "14344  C1849046345  M480139044   864   8658.00     24"
            ]
          },
          "metadata": {
            "tags": []
          },
          "execution_count": 44
        }
      ]
    },
    {
      "cell_type": "code",
      "metadata": {
        "id": "_TZQCBZS4pwx",
        "colab_type": "code",
        "outputId": "c282d708-fbca-4388-980e-0b07d2fb5a9b",
        "colab": {
          "base_uri": "https://localhost:8080/",
          "height": 106
        }
      },
      "source": [
        "fraud_cust = df[:297321].groupby([\"customer\"]).sum().reset_index().sort_values([\"fraud\"], ascending = False)\n",
        "\n",
        "fraud_cust.head(2)"
      ],
      "execution_count": 0,
      "outputs": [
        {
          "output_type": "execute_result",
          "data": {
            "text/html": [
              "<div>\n",
              "<style scoped>\n",
              "    .dataframe tbody tr th:only-of-type {\n",
              "        vertical-align: middle;\n",
              "    }\n",
              "\n",
              "    .dataframe tbody tr th {\n",
              "        vertical-align: top;\n",
              "    }\n",
              "\n",
              "    .dataframe thead th {\n",
              "        text-align: right;\n",
              "    }\n",
              "</style>\n",
              "<table border=\"1\" class=\"dataframe\">\n",
              "  <thead>\n",
              "    <tr style=\"text-align: right;\">\n",
              "      <th></th>\n",
              "      <th>customer</th>\n",
              "      <th>step</th>\n",
              "      <th>amount</th>\n",
              "      <th>fraud</th>\n",
              "    </tr>\n",
              "  </thead>\n",
              "  <tbody>\n",
              "    <tr>\n",
              "      <th>614</th>\n",
              "      <td>C1275518867</td>\n",
              "      <td>6889</td>\n",
              "      <td>43961.11</td>\n",
              "      <td>97</td>\n",
              "    </tr>\n",
              "    <tr>\n",
              "      <th>1836</th>\n",
              "      <td>C1849046345</td>\n",
              "      <td>3798</td>\n",
              "      <td>38364.68</td>\n",
              "      <td>89</td>\n",
              "    </tr>\n",
              "  </tbody>\n",
              "</table>\n",
              "</div>"
            ],
            "text/plain": [
              "         customer  step    amount  fraud\n",
              "614   C1275518867  6889  43961.11     97\n",
              "1836  C1849046345  3798  38364.68     89"
            ]
          },
          "metadata": {
            "tags": []
          },
          "execution_count": 45
        }
      ]
    },
    {
      "cell_type": "code",
      "metadata": {
        "id": "HuVAXtDA406G",
        "colab_type": "code",
        "outputId": "daf87064-f3c6-4c77-c982-ab96bffead13",
        "colab": {
          "base_uri": "https://localhost:8080/",
          "height": 106
        }
      },
      "source": [
        "fraud_merc = df[:297321].groupby([\"merchant\"]).sum().reset_index().sort_values([\"fraud\"], ascending = False)\n",
        "\n",
        "fraud_merc.head(2)"
      ],
      "execution_count": 0,
      "outputs": [
        {
          "output_type": "execute_result",
          "data": {
            "text/html": [
              "<div>\n",
              "<style scoped>\n",
              "    .dataframe tbody tr th:only-of-type {\n",
              "        vertical-align: middle;\n",
              "    }\n",
              "\n",
              "    .dataframe tbody tr th {\n",
              "        vertical-align: top;\n",
              "    }\n",
              "\n",
              "    .dataframe thead th {\n",
              "        text-align: right;\n",
              "    }\n",
              "</style>\n",
              "<table border=\"1\" class=\"dataframe\">\n",
              "  <thead>\n",
              "    <tr style=\"text-align: right;\">\n",
              "      <th></th>\n",
              "      <th>merchant</th>\n",
              "      <th>step</th>\n",
              "      <th>amount</th>\n",
              "      <th>fraud</th>\n",
              "    </tr>\n",
              "  </thead>\n",
              "  <tbody>\n",
              "    <tr>\n",
              "      <th>34</th>\n",
              "      <td>M480139044</td>\n",
              "      <td>101625</td>\n",
              "      <td>501473.46</td>\n",
              "      <td>884</td>\n",
              "    </tr>\n",
              "    <tr>\n",
              "      <th>49</th>\n",
              "      <td>M980657600</td>\n",
              "      <td>49347</td>\n",
              "      <td>313513.48</td>\n",
              "      <td>850</td>\n",
              "    </tr>\n",
              "  </tbody>\n",
              "</table>\n",
              "</div>"
            ],
            "text/plain": [
              "      merchant    step     amount  fraud\n",
              "34  M480139044  101625  501473.46    884\n",
              "49  M980657600   49347  313513.48    850"
            ]
          },
          "metadata": {
            "tags": []
          },
          "execution_count": 46
        }
      ]
    },
    {
      "cell_type": "code",
      "metadata": {
        "id": "SKDbbIhU3InA",
        "colab_type": "code",
        "colab": {}
      },
      "source": [
        "cust_fraud_dic = {}\n",
        "\n",
        "for index, row in fraud_cust.iterrows():\n",
        "  cust_fraud_dic[fraud_cust[\"customer\"][index]] = fraud_cust[\"fraud\"][index]"
      ],
      "execution_count": 0,
      "outputs": []
    },
    {
      "cell_type": "code",
      "metadata": {
        "id": "QxAZqgna3s89",
        "colab_type": "code",
        "colab": {}
      },
      "source": [
        "merc_fraud_dic = {}\n",
        "\n",
        "for index, row in fraud_merc.iterrows():\n",
        "  merc_fraud_dic[fraud_merc[\"merchant\"][index]] = fraud_merc[\"fraud\"][index]"
      ],
      "execution_count": 0,
      "outputs": []
    },
    {
      "cell_type": "code",
      "metadata": {
        "id": "_kyiYnbsM6xQ",
        "colab_type": "code",
        "colab": {}
      },
      "source": [
        "G = nx.Graph()\n",
        "\n",
        "#G = nx.from_pandas_edgelist(df, \"customer\", \"merchant\",[\"step\", \"amount\", \"fraud\"])\n",
        "\n",
        "\n",
        "for i in range(297321):\n",
        "    G.add_nodes_from([df[\"customer\"][i]], age = df[\"age\"][i], gender = df[\"gender\"][i], zip_code_cust = df[\"zipcodeOri\"][i], bipartite=0)\n",
        "    G.add_nodes_from([df[\"merchant\"][i]], zip_code_merc = df[\"zipMerchant\"][i], bipartite=1)     \n",
        "\n",
        "for j in range(len(fraud_edges)):\n",
        "  G.add_edges_from([(fraud_edges[\"customer\"][j], fraud_edges[\"merchant\"][j])], fraud = fraud_edges[\"fraud\"][j])"
      ],
      "execution_count": 0,
      "outputs": []
    },
    {
      "cell_type": "code",
      "metadata": {
        "id": "rzwvqTXDnn3h",
        "colab_type": "code",
        "outputId": "8044de69-46d8-494c-8e8c-d68c979041a3",
        "colab": {
          "base_uri": "https://localhost:8080/",
          "height": 34
        }
      },
      "source": [
        "len(G.nodes()), len(G.edges())"
      ],
      "execution_count": 0,
      "outputs": [
        {
          "output_type": "execute_result",
          "data": {
            "text/plain": [
              "(4159, 31887)"
            ]
          },
          "metadata": {
            "tags": []
          },
          "execution_count": 50
        }
      ]
    },
    {
      "cell_type": "code",
      "metadata": {
        "id": "YZBVwJxw7NTh",
        "colab_type": "code",
        "outputId": "8d594104-8ed5-4e5b-f0d9-85e9e1555952",
        "colab": {
          "base_uri": "https://localhost:8080/",
          "height": 34
        }
      },
      "source": [
        "nx.is_connected(G)"
      ],
      "execution_count": 0,
      "outputs": [
        {
          "output_type": "execute_result",
          "data": {
            "text/plain": [
              "True"
            ]
          },
          "metadata": {
            "tags": []
          },
          "execution_count": 51
        }
      ]
    },
    {
      "cell_type": "markdown",
      "metadata": {
        "id": "HTHrjeTfolVL",
        "colab_type": "text"
      },
      "source": [
        "###Calculating Association Strength, Common Neighbors, Degree Product, Jaccard, Max Overlap, Min Overlap, Pearson, Resource Allocation Algorthms"
      ]
    },
    {
      "cell_type": "code",
      "metadata": {
        "id": "VvkAIqEdok08",
        "colab_type": "code",
        "colab": {}
      },
      "source": [
        "assoc_str = linkpred.predictors.AssociationStrength(G)\n",
        "assoc_str_results = assoc_str.predict(weight = \"fraud\")"
      ],
      "execution_count": 0,
      "outputs": []
    },
    {
      "cell_type": "code",
      "metadata": {
        "id": "1HRAfVrMphXQ",
        "colab_type": "code",
        "colab": {}
      },
      "source": [
        "comm = linkpred.predictors.CommonNeighbours(G)\n",
        "comm_results = comm.predict(weight = \"fraud\")"
      ],
      "execution_count": 0,
      "outputs": []
    },
    {
      "cell_type": "code",
      "metadata": {
        "id": "jsIAl7PApxS0",
        "colab_type": "code",
        "colab": {}
      },
      "source": [
        "degr_prod = linkpred.predictors.DegreeProduct(G)\n",
        "degr_prod_results = degr_prod.predict(weight = \"fraud\")"
      ],
      "execution_count": 0,
      "outputs": []
    },
    {
      "cell_type": "code",
      "metadata": {
        "id": "83p6er85pxQG",
        "colab_type": "code",
        "colab": {}
      },
      "source": [
        "jac = linkpred.predictors.Jaccard(G)\n",
        "jac_results = jac.predict(weight = \"fraud\")"
      ],
      "execution_count": 0,
      "outputs": []
    },
    {
      "cell_type": "code",
      "metadata": {
        "id": "4FmrtM4ipxNU",
        "colab_type": "code",
        "colab": {}
      },
      "source": [
        "max_lap = linkpred.predictors.MaxOverlap(G)\n",
        "max_lap_results = max_lap.predict(weight = \"fraud\")"
      ],
      "execution_count": 0,
      "outputs": []
    },
    {
      "cell_type": "code",
      "metadata": {
        "id": "ud3Yu-lCpxKm",
        "colab_type": "code",
        "colab": {}
      },
      "source": [
        "min_lap = linkpred.predictors.MinOverlap(G)\n",
        "min_lap_results = min_lap.predict(weight = \"fraud\")"
      ],
      "execution_count": 0,
      "outputs": []
    },
    {
      "cell_type": "code",
      "metadata": {
        "id": "TVsET8hFphGG",
        "colab_type": "code",
        "colab": {}
      },
      "source": [
        "pear = linkpred.predictors.Pearson(G)\n",
        "pear_results = pear.predict(weight = \"fraud\")"
      ],
      "execution_count": 0,
      "outputs": []
    },
    {
      "cell_type": "code",
      "metadata": {
        "id": "94YJC1JrOA5y",
        "colab_type": "code",
        "colab": {}
      },
      "source": [
        "customers, merchants = bipartite.sets(G_mult)"
      ],
      "execution_count": 0,
      "outputs": []
    },
    {
      "cell_type": "code",
      "metadata": {
        "id": "EAmN_D1NkPKR",
        "colab_type": "code",
        "outputId": "41c74bd2-d9ff-4a8d-a443-ddf0fcdb1302",
        "colab": {
          "base_uri": "https://localhost:8080/",
          "height": 34
        }
      },
      "source": [
        "len(merchants), len(customers)"
      ],
      "execution_count": 0,
      "outputs": [
        {
          "output_type": "execute_result",
          "data": {
            "text/plain": [
              "(50, 4109)"
            ]
          },
          "metadata": {
            "tags": []
          },
          "execution_count": 66
        }
      ]
    },
    {
      "cell_type": "code",
      "metadata": {
        "id": "IBfpB4Ao4Mfa",
        "colab_type": "code",
        "outputId": "825b3753-2dbf-49be-abd1-95a7468a00d7",
        "colab": {
          "base_uri": "https://localhost:8080/",
          "height": 34
        }
      },
      "source": [
        "len(G.nodes()), len(G.edges())"
      ],
      "execution_count": 0,
      "outputs": [
        {
          "output_type": "execute_result",
          "data": {
            "text/plain": [
              "(4159, 31887)"
            ]
          },
          "metadata": {
            "tags": []
          },
          "execution_count": 67
        }
      ]
    },
    {
      "cell_type": "code",
      "metadata": {
        "id": "E14Kqr6uzCFo",
        "colab_type": "code",
        "outputId": "601d0f3f-a8c1-405a-ef83-408362f3401e",
        "colab": {
          "base_uri": "https://localhost:8080/",
          "height": 34
        }
      },
      "source": [
        "nx.is_bipartite(G)"
      ],
      "execution_count": 0,
      "outputs": [
        {
          "output_type": "execute_result",
          "data": {
            "text/plain": [
              "True"
            ]
          },
          "metadata": {
            "tags": []
          },
          "execution_count": 68
        }
      ]
    },
    {
      "cell_type": "code",
      "metadata": {
        "id": "AJOmnJtON9jP",
        "colab_type": "code",
        "colab": {}
      },
      "source": [
        "cust_proj = bipartite.weighted_projected_graph(G, customers)"
      ],
      "execution_count": 0,
      "outputs": []
    },
    {
      "cell_type": "code",
      "metadata": {
        "id": "jaccinG4d858",
        "colab_type": "code",
        "colab": {}
      },
      "source": [
        "merc_proj = bipartite.weighted_projected_graph(G, merchants)"
      ],
      "execution_count": 0,
      "outputs": []
    },
    {
      "cell_type": "code",
      "metadata": {
        "colab_type": "code",
        "id": "Q5n3ztmFY1rM",
        "outputId": "0a4e9b15-d248-4ab5-fa19-88412f290761",
        "colab": {
          "base_uri": "https://localhost:8080/",
          "height": 34
        }
      },
      "source": [
        "len(cust_proj), len(merc_proj)"
      ],
      "execution_count": 0,
      "outputs": [
        {
          "output_type": "execute_result",
          "data": {
            "text/plain": [
              "(4109, 50)"
            ]
          },
          "metadata": {
            "tags": []
          },
          "execution_count": 71
        }
      ]
    },
    {
      "cell_type": "code",
      "metadata": {
        "id": "ufao7IuZYVDn",
        "colab_type": "code",
        "colab": {}
      },
      "source": [
        "cust_proj_list = list(cust_proj.edges()(data = True))"
      ],
      "execution_count": 0,
      "outputs": []
    },
    {
      "cell_type": "code",
      "metadata": {
        "id": "qGQ9vEwzeTXp",
        "colab_type": "code",
        "colab": {}
      },
      "source": [
        "merc_proj_list = list(merc_proj.edges()(data = True))"
      ],
      "execution_count": 0,
      "outputs": []
    },
    {
      "cell_type": "code",
      "metadata": {
        "id": "71-1FEtVaxRA",
        "colab_type": "code",
        "colab": {}
      },
      "source": [
        "selected_cust = []\n",
        "\n",
        "for i in range(len(cust_proj_list)):\n",
        "  if cust_proj_list[i][2][\"weight\"] > 6:\n",
        "    selected_cust += [(cust_proj_list[i][0], cust_proj_list[i][1], cust_proj_list[i][2])]"
      ],
      "execution_count": 0,
      "outputs": []
    },
    {
      "cell_type": "code",
      "metadata": {
        "id": "HE_N0v--ezjC",
        "colab_type": "code",
        "colab": {}
      },
      "source": [
        "selected_merc = []\n",
        "\n",
        "for i in range(len(merc_proj_list)):\n",
        "  if merc_proj_list[i][2][\"weight\"] > 2:\n",
        "    selected_merc += [(merc_proj_list[i][0], merc_proj_list[i][1], merc_proj_list[i][2])]"
      ],
      "execution_count": 0,
      "outputs": []
    },
    {
      "cell_type": "code",
      "metadata": {
        "id": "Lpywzwqw-kFF",
        "colab_type": "code",
        "outputId": "8461e1ee-4290-42a7-8632-69e0f34c6205",
        "colab": {
          "base_uri": "https://localhost:8080/",
          "height": 34
        }
      },
      "source": [
        "len(selected_cust), len(selected_merc)"
      ],
      "execution_count": 0,
      "outputs": [
        {
          "output_type": "execute_result",
          "data": {
            "text/plain": [
              "(371038, 1020)"
            ]
          },
          "metadata": {
            "tags": []
          },
          "execution_count": 77
        }
      ]
    },
    {
      "cell_type": "code",
      "metadata": {
        "id": "q5lzE9bQ-6x1",
        "colab_type": "code",
        "colab": {}
      },
      "source": [
        "selected_merc_graph = nx.Graph(selected_merc)"
      ],
      "execution_count": 0,
      "outputs": []
    },
    {
      "cell_type": "code",
      "metadata": {
        "id": "-r7kMqO3Ae8E",
        "colab_type": "code",
        "colab": {}
      },
      "source": [
        "selected_cust_graph = nx.Graph(selected_cust)"
      ],
      "execution_count": 0,
      "outputs": []
    },
    {
      "cell_type": "code",
      "metadata": {
        "id": "eJNw8MtCdzAh",
        "colab_type": "code",
        "outputId": "e1f4d03d-5bad-4ecc-a9e2-8a11286b1db6",
        "colab": {
          "base_uri": "https://localhost:8080/",
          "height": 34
        }
      },
      "source": [
        "len(selected_cust), len(selected_merc), len(selected_cust_graph.nodes()), len(selected_merc_graph.nodes())"
      ],
      "execution_count": 0,
      "outputs": [
        {
          "output_type": "execute_result",
          "data": {
            "text/plain": [
              "(371038, 1020, 2809, 49)"
            ]
          },
          "metadata": {
            "tags": []
          },
          "execution_count": 80
        }
      ]
    },
    {
      "cell_type": "code",
      "metadata": {
        "id": "KKOyLLAgH6xU",
        "colab_type": "code",
        "colab": {}
      },
      "source": [
        "personalization_cust = cust_fraud_dic"
      ],
      "execution_count": 0,
      "outputs": []
    },
    {
      "cell_type": "code",
      "metadata": {
        "id": "4gMq_NqEH6qq",
        "colab_type": "code",
        "colab": {}
      },
      "source": [
        "personalization_merc = merc_fraud_dic"
      ],
      "execution_count": 0,
      "outputs": []
    },
    {
      "cell_type": "markdown",
      "metadata": {
        "id": "IdOqks_rQmf8",
        "colab_type": "text"
      },
      "source": [
        "###Calculating Personalized PageRank Based on Bipartite Networks"
      ]
    },
    {
      "cell_type": "code",
      "metadata": {
        "id": "PvTYis1jfx-Z",
        "colab_type": "code",
        "outputId": "c87bb684-1495-46bf-8cc1-12bb644beb01",
        "colab": {
          "base_uri": "https://localhost:8080/",
          "height": 54
        }
      },
      "source": [
        "pr_merc = dict(nx.pagerank(selected_merc_graph, alpha=0.85, personalization=personalization_merc))\n",
        "\n",
        "sorted_pr_merc = sorted(pr_merc.items(), key=lambda kv: -kv[1])\n",
        "\n",
        "print(sorted_pr_merc)"
      ],
      "execution_count": 0,
      "outputs": [
        {
          "output_type": "stream",
          "text": [
            "[('M348934600', 0.08354552233367382), ('M480139044', 0.06710436122805753), ('M855959430', 0.06459684282170805), ('M1823072687', 0.0645619534226022), ('M85975013', 0.057202493549817), ('M151143676', 0.05620185253008643), ('M980657600', 0.05099266546521843), ('M209847108', 0.043886136514010105), ('M1053599405', 0.03930410583273517), ('M1946091778', 0.035712934851047186), ('M1198415165', 0.03205146794161712), ('M1535107174', 0.030039077369058257), ('M1600850729', 0.02957072298491687), ('M349281107', 0.021900019873773092), ('M1888755466', 0.021211544656175398), ('M732195782', 0.020517938097396306), ('M1649169323', 0.020257138139319883), ('M840466850', 0.018735481901886238), ('M547558035', 0.018625746561555752), ('M1913465890', 0.017617567027741112), ('M78078399', 0.01632826707546936), ('M1741626453', 0.01614988001195423), ('M50039827', 0.01603878929338534), ('M692898500', 0.01422991756888635), ('M3697346', 0.011585045749362794), ('M2122776122', 0.011430385072711768), ('M1842530320', 0.011089460771255185), ('M923029380', 0.010609909540698001), ('M17379832', 0.009293547933497313), ('M2011752106', 0.009091605636981836), ('M1873032707', 0.008643387444390737), ('M1294758098', 0.008486045033110387), ('M1872033263', 0.0072595796733436885), ('M1400236507', 0.007218728512316929), ('M1352454843', 0.005763852542016939), ('M857378720', 0.0054008577794066835), ('M97925176', 0.005015994943517205), ('M1748431652', 0.0048438888537413235), ('M45060432', 0.004822988501817193), ('M1313686961', 0.004764731432431866), ('M677738360', 0.0047348785474072), ('M348875670', 0.0023829684292939984), ('M495352832', 0.0023183373050510657), ('M1353266412', 0.0022291691401632187), ('M1788569036', 0.0020594554376634415), ('M2080407379', 0.0017007645746510151), ('M1416436880', 0.0016420128411278145), ('M933210764', 0.00105318675150835), ('M117188757', 0.0001767905004428649)]\n"
          ],
          "name": "stdout"
        }
      ]
    },
    {
      "cell_type": "markdown",
      "metadata": {
        "id": "dfHqXKbCWShG",
        "colab_type": "text"
      },
      "source": [
        "###Calculating degree with MultiGraph with Weights (Fraud)"
      ]
    },
    {
      "cell_type": "code",
      "metadata": {
        "id": "Npcjz-akAFgr",
        "colab_type": "code",
        "colab": {}
      },
      "source": [
        "degree = dict(nx.degree(G_mult, weight = \"fraud\"))"
      ],
      "execution_count": 0,
      "outputs": []
    },
    {
      "cell_type": "markdown",
      "metadata": {
        "id": "A0yBXbWtkbqB",
        "colab_type": "text"
      },
      "source": [
        "###Calculating EigenVector Centrality with MultiGraph with Weights (Fraud)"
      ]
    },
    {
      "cell_type": "code",
      "metadata": {
        "id": "GnvXyCl6Nhg7",
        "colab_type": "code",
        "colab": {}
      },
      "source": [
        "eig_cent = dict(nx.eigenvector_centrality_numpy(G_mult, weight = \"fraud\"))"
      ],
      "execution_count": 0,
      "outputs": []
    },
    {
      "cell_type": "markdown",
      "metadata": {
        "id": "zCWUe0qnkfAR",
        "colab_type": "text"
      },
      "source": [
        "###Calculating Betweenness Centrality with MultiGraph with Weights (Fraud)"
      ]
    },
    {
      "cell_type": "code",
      "metadata": {
        "id": "f7UX7Z0tRP9V",
        "colab_type": "code",
        "colab": {}
      },
      "source": [
        "betw_cent = dict(nx.betweenness_centrality(G_mult, weight = \"fraud\"))"
      ],
      "execution_count": 0,
      "outputs": []
    },
    {
      "cell_type": "markdown",
      "metadata": {
        "id": "Ex_pvqf0PF8-",
        "colab_type": "text"
      },
      "source": [
        "##Train-Test Split (50%-50%)"
      ]
    },
    {
      "cell_type": "code",
      "metadata": {
        "colab_type": "code",
        "id": "BXSs1UQeLhTu",
        "colab": {}
      },
      "source": [
        "X_sna = df.drop([\"fraud\", \"step\"], axis = 1)"
      ],
      "execution_count": 0,
      "outputs": []
    },
    {
      "cell_type": "code",
      "metadata": {
        "colab_type": "code",
        "id": "rtMbyuJvLhTv",
        "colab": {}
      },
      "source": [
        "y_sna = df.fraud"
      ],
      "execution_count": 0,
      "outputs": []
    },
    {
      "cell_type": "code",
      "metadata": {
        "id": "mvGjsIWrbWah",
        "colab_type": "code",
        "colab": {}
      },
      "source": [
        "X_sna[\"cust_merc_comb\"] = list(zip(X_sna.customer, X_sna.merchant))"
      ],
      "execution_count": 0,
      "outputs": []
    },
    {
      "cell_type": "markdown",
      "metadata": {
        "id": "Whn6fzbtWTrw",
        "colab_type": "text"
      },
      "source": [
        "###Apply Weighted Degree, Centrality Measures, Personalized PageRank Score\n",
        "\n"
      ]
    },
    {
      "cell_type": "code",
      "metadata": {
        "id": "5du7GsIlGbjH",
        "colab_type": "code",
        "colab": {}
      },
      "source": [
        "X_sna[\"degree_merc\"] = X_sna.merchant.map(degree)\n",
        "X_sna[\"degree_cust\"] = X_sna.customer.map(degree)\n",
        "\n",
        "X_sna[\"betw_cent_merc\"] = X_sna.merchant.map(betw_cent)\n",
        "X_sna[\"betw_cent_cust\"] = X_sna.customer.map(betw_cent)\n",
        "\n",
        "X_sna[\"eig_cent_merc\"] = X_sna.merchant.map(eig_cent)\n",
        "X_sna[\"eig_cent_cust\"] = X_sna.customer.map(eig_cent)\n",
        "\n",
        "X_sna[\"pr_cust\"] = X_sna.customer.map(pr_cust)\n",
        "X_sna[\"pr_merc\"] = X_sna.merchant.map(pr_merc)"
      ],
      "execution_count": 0,
      "outputs": []
    },
    {
      "cell_type": "markdown",
      "metadata": {
        "id": "RhJdIm7yZia9",
        "colab_type": "text"
      },
      "source": [
        "###Apply SimRank, Association Strength, Common Neighbors, Degree Product, Jaccard, Max Overlap, Min Overlap, Pearson, Resource Allocation Algorithms"
      ]
    },
    {
      "cell_type": "code",
      "metadata": {
        "id": "DxvHJXPZZAMH",
        "colab_type": "code",
        "colab": {}
      },
      "source": [
        "X_sna[\"Simrank\"] = X_sna[\"cust_merc_comb\"].map(simrank_results)\n",
        "X_sna[\"Assoc_Stren\"] = X_sna[\"cust_merc_comb\"].map(assoc_str_results)\n",
        "X_sna[\"Comm_Neigh\"] = X_sna[\"cust_merc_comb\"].map(comm_results)\n",
        "X_sna[\"Degr_Prod\"] = X_sna[\"cust_merc_comb\"].map(degr_prod_results)\n",
        "X_sna[\"Jaccard\"] = X_sna[\"cust_merc_comb\"].map(jac_results)\n",
        "X_sna[\"Max_Over_Lap\"] = X_sna[\"cust_merc_comb\"].map(max_lap_results)\n",
        "X_sna[\"Min_Over_Lap\"] = X_sna[\"cust_merc_comb\"].map(min_lap_results)\n",
        "X_sna[\"Pearson\"] = X_sna[\"cust_merc_comb\"].map(pear_results)"
      ],
      "execution_count": 0,
      "outputs": []
    },
    {
      "cell_type": "code",
      "metadata": {
        "id": "EHHj1AjXYmh_",
        "colab_type": "code",
        "outputId": "6cc1c4db-a18d-4397-e7f3-c444e60f46bf",
        "colab": {
          "base_uri": "https://localhost:8080/",
          "height": 160
        }
      },
      "source": [
        "X_sna.head(2)"
      ],
      "execution_count": 0,
      "outputs": [
        {
          "output_type": "execute_result",
          "data": {
            "text/html": [
              "<div>\n",
              "<style scoped>\n",
              "    .dataframe tbody tr th:only-of-type {\n",
              "        vertical-align: middle;\n",
              "    }\n",
              "\n",
              "    .dataframe tbody tr th {\n",
              "        vertical-align: top;\n",
              "    }\n",
              "\n",
              "    .dataframe thead th {\n",
              "        text-align: right;\n",
              "    }\n",
              "</style>\n",
              "<table border=\"1\" class=\"dataframe\">\n",
              "  <thead>\n",
              "    <tr style=\"text-align: right;\">\n",
              "      <th></th>\n",
              "      <th>customer</th>\n",
              "      <th>age</th>\n",
              "      <th>gender</th>\n",
              "      <th>zipcodeOri</th>\n",
              "      <th>merchant</th>\n",
              "      <th>zipMerchant</th>\n",
              "      <th>category</th>\n",
              "      <th>amount</th>\n",
              "      <th>cust_merc_comb</th>\n",
              "      <th>degree_merc</th>\n",
              "      <th>degree_cust</th>\n",
              "      <th>betw_cent_merc</th>\n",
              "      <th>betw_cent_cust</th>\n",
              "      <th>eig_cent_merc</th>\n",
              "      <th>eig_cent_cust</th>\n",
              "      <th>pr_cust</th>\n",
              "      <th>pr_merc</th>\n",
              "      <th>Simrank</th>\n",
              "      <th>Assoc_Stren</th>\n",
              "      <th>Comm_Neigh</th>\n",
              "      <th>Degr_Prod</th>\n",
              "      <th>Jaccard</th>\n",
              "      <th>Max_Over_Lap</th>\n",
              "      <th>Min_Over_Lap</th>\n",
              "      <th>Pearson</th>\n",
              "    </tr>\n",
              "  </thead>\n",
              "  <tbody>\n",
              "    <tr>\n",
              "      <th>0</th>\n",
              "      <td>C1093826151</td>\n",
              "      <td>4</td>\n",
              "      <td>M</td>\n",
              "      <td>28007</td>\n",
              "      <td>M348934600</td>\n",
              "      <td>28007</td>\n",
              "      <td>es_transportation</td>\n",
              "      <td>4.55</td>\n",
              "      <td>(C1093826151, M348934600)</td>\n",
              "      <td>0</td>\n",
              "      <td>0.0</td>\n",
              "      <td>0.296889</td>\n",
              "      <td>0.000003</td>\n",
              "      <td>-2.882246e-21</td>\n",
              "      <td>-1.320560e-18</td>\n",
              "      <td>NaN</td>\n",
              "      <td>0.083546</td>\n",
              "      <td>0.000166</td>\n",
              "      <td>0.0</td>\n",
              "      <td>0.0</td>\n",
              "      <td>0.0</td>\n",
              "      <td>0.0</td>\n",
              "      <td>0.0</td>\n",
              "      <td>0.0</td>\n",
              "      <td>0.0</td>\n",
              "    </tr>\n",
              "    <tr>\n",
              "      <th>1</th>\n",
              "      <td>C352968107</td>\n",
              "      <td>2</td>\n",
              "      <td>M</td>\n",
              "      <td>28007</td>\n",
              "      <td>M348934600</td>\n",
              "      <td>28007</td>\n",
              "      <td>es_transportation</td>\n",
              "      <td>39.68</td>\n",
              "      <td>(C352968107, M348934600)</td>\n",
              "      <td>0</td>\n",
              "      <td>0.0</td>\n",
              "      <td>0.296889</td>\n",
              "      <td>0.000017</td>\n",
              "      <td>-2.882246e-21</td>\n",
              "      <td>7.109528e-18</td>\n",
              "      <td>0.000332</td>\n",
              "      <td>0.083546</td>\n",
              "      <td>0.000166</td>\n",
              "      <td>0.0</td>\n",
              "      <td>0.0</td>\n",
              "      <td>0.0</td>\n",
              "      <td>0.0</td>\n",
              "      <td>0.0</td>\n",
              "      <td>0.0</td>\n",
              "      <td>0.0</td>\n",
              "    </tr>\n",
              "  </tbody>\n",
              "</table>\n",
              "</div>"
            ],
            "text/plain": [
              "      customer age gender  ... Max_Over_Lap Min_Over_Lap Pearson\n",
              "0  C1093826151   4      M  ...          0.0          0.0     0.0\n",
              "1   C352968107   2      M  ...          0.0          0.0     0.0\n",
              "\n",
              "[2 rows x 25 columns]"
            ]
          },
          "metadata": {
            "tags": []
          },
          "execution_count": 94
        }
      ]
    },
    {
      "cell_type": "code",
      "metadata": {
        "id": "0Hp42BnasjBO",
        "colab_type": "code",
        "outputId": "b33a3bcc-9791-4a09-e989-29ced6d4076a",
        "colab": {
          "base_uri": "https://localhost:8080/",
          "height": 454
        }
      },
      "source": [
        "X_sna.isnull().sum()"
      ],
      "execution_count": 0,
      "outputs": [
        {
          "output_type": "execute_result",
          "data": {
            "text/plain": [
              "customer               0\n",
              "age                    0\n",
              "gender                 0\n",
              "zipcodeOri             0\n",
              "merchant               0\n",
              "zipMerchant            0\n",
              "category               0\n",
              "amount                 0\n",
              "cust_merc_comb         0\n",
              "degree_merc            0\n",
              "degree_cust           86\n",
              "betw_cent_merc         0\n",
              "betw_cent_cust        86\n",
              "eig_cent_merc          0\n",
              "eig_cent_cust         86\n",
              "pr_cust           167651\n",
              "pr_merc                3\n",
              "Simrank                0\n",
              "Assoc_Stren            0\n",
              "Comm_Neigh             0\n",
              "Degr_Prod              0\n",
              "Jaccard                0\n",
              "Max_Over_Lap           0\n",
              "Min_Over_Lap           0\n",
              "Pearson                0\n",
              "dtype: int64"
            ]
          },
          "metadata": {
            "tags": []
          },
          "execution_count": 95
        }
      ]
    },
    {
      "cell_type": "code",
      "metadata": {
        "id": "sKZF4cawspNu",
        "colab_type": "code",
        "colab": {}
      },
      "source": [
        "X_sna.fillna(0, inplace = True)"
      ],
      "execution_count": 0,
      "outputs": []
    },
    {
      "cell_type": "code",
      "metadata": {
        "id": "OpnODhACcQ9L",
        "colab_type": "code",
        "outputId": "90e77136-78f8-49ac-c84c-bc83913949b9",
        "colab": {
          "base_uri": "https://localhost:8080/",
          "height": 454
        }
      },
      "source": [
        "X_sna.dtypes"
      ],
      "execution_count": 0,
      "outputs": [
        {
          "output_type": "execute_result",
          "data": {
            "text/plain": [
              "customer           object\n",
              "age                object\n",
              "gender             object\n",
              "zipcodeOri         object\n",
              "merchant           object\n",
              "zipMerchant        object\n",
              "category           object\n",
              "amount            float64\n",
              "cust_merc_comb     object\n",
              "degree_merc         int64\n",
              "degree_cust       float64\n",
              "betw_cent_merc    float64\n",
              "betw_cent_cust    float64\n",
              "eig_cent_merc     float64\n",
              "eig_cent_cust     float64\n",
              "pr_cust           float64\n",
              "pr_merc           float64\n",
              "Simrank           float64\n",
              "Assoc_Stren       float64\n",
              "Comm_Neigh        float64\n",
              "Degr_Prod         float64\n",
              "Jaccard           float64\n",
              "Max_Over_Lap      float64\n",
              "Min_Over_Lap      float64\n",
              "Pearson           float64\n",
              "dtype: object"
            ]
          },
          "metadata": {
            "tags": []
          },
          "execution_count": 97
        }
      ]
    },
    {
      "cell_type": "code",
      "metadata": {
        "id": "L-AYkN_yeZsz",
        "colab_type": "code",
        "colab": {}
      },
      "source": [
        "X_sna.drop(\"cust_merc_comb\", axis = 1, inplace = True)"
      ],
      "execution_count": 0,
      "outputs": []
    },
    {
      "cell_type": "code",
      "metadata": {
        "id": "JQXr-W5Wc82W",
        "colab_type": "code",
        "colab": {}
      },
      "source": [
        "#X_sna[\"cust_merc_comb\"] = X_sna[\"cust_merc_comb\"].astype(str)"
      ],
      "execution_count": 0,
      "outputs": []
    },
    {
      "cell_type": "code",
      "metadata": {
        "id": "vzu0fn-VtcPN",
        "colab_type": "code",
        "colab": {}
      },
      "source": [
        "cat_col = X_sna.select_dtypes('object').columns.tolist()\n",
        "\n",
        "le = LabelEncoder()\n",
        "\n",
        "for c in cat_col:\n",
        "  le.fit(X_sna[c])\n",
        "  X_sna[c] = le.transform(X_sna[c])"
      ],
      "execution_count": 0,
      "outputs": []
    },
    {
      "cell_type": "code",
      "metadata": {
        "id": "pUqxHpk5-shv",
        "colab_type": "code",
        "colab": {}
      },
      "source": [
        "X_train_sna, X_test_sna, y_train_sna, y_test_sna = X_sna[:297321], X_sna[297321:], y_sna[:297321], y_sna[297321:]"
      ],
      "execution_count": 0,
      "outputs": []
    },
    {
      "cell_type": "code",
      "metadata": {
        "id": "krg92nrrSTsO",
        "colab_type": "code",
        "outputId": "b7acd859-28dd-4a0c-8611-e2f455424445",
        "colab": {
          "base_uri": "https://localhost:8080/",
          "height": 34
        }
      },
      "source": [
        "X_train_sna.shape, X_test_sna.shape"
      ],
      "execution_count": 0,
      "outputs": [
        {
          "output_type": "execute_result",
          "data": {
            "text/plain": [
              "((297321, 24), (297322, 24))"
            ]
          },
          "metadata": {
            "tags": []
          },
          "execution_count": 102
        }
      ]
    },
    {
      "cell_type": "code",
      "metadata": {
        "id": "vUVXEW08POJp",
        "colab_type": "code",
        "outputId": "dc2a663a-397b-4f39-fee7-b30ef36eb2f1",
        "colab": {
          "base_uri": "https://localhost:8080/",
          "height": 126
        }
      },
      "source": [
        "X_train_sna.head(2)"
      ],
      "execution_count": 0,
      "outputs": [
        {
          "output_type": "execute_result",
          "data": {
            "text/html": [
              "<div>\n",
              "<style scoped>\n",
              "    .dataframe tbody tr th:only-of-type {\n",
              "        vertical-align: middle;\n",
              "    }\n",
              "\n",
              "    .dataframe tbody tr th {\n",
              "        vertical-align: top;\n",
              "    }\n",
              "\n",
              "    .dataframe thead th {\n",
              "        text-align: right;\n",
              "    }\n",
              "</style>\n",
              "<table border=\"1\" class=\"dataframe\">\n",
              "  <thead>\n",
              "    <tr style=\"text-align: right;\">\n",
              "      <th></th>\n",
              "      <th>customer</th>\n",
              "      <th>age</th>\n",
              "      <th>gender</th>\n",
              "      <th>zipcodeOri</th>\n",
              "      <th>merchant</th>\n",
              "      <th>zipMerchant</th>\n",
              "      <th>category</th>\n",
              "      <th>amount</th>\n",
              "      <th>degree_merc</th>\n",
              "      <th>degree_cust</th>\n",
              "      <th>betw_cent_merc</th>\n",
              "      <th>betw_cent_cust</th>\n",
              "      <th>eig_cent_merc</th>\n",
              "      <th>eig_cent_cust</th>\n",
              "      <th>pr_cust</th>\n",
              "      <th>pr_merc</th>\n",
              "      <th>Simrank</th>\n",
              "      <th>Assoc_Stren</th>\n",
              "      <th>Comm_Neigh</th>\n",
              "      <th>Degr_Prod</th>\n",
              "      <th>Jaccard</th>\n",
              "      <th>Max_Over_Lap</th>\n",
              "      <th>Min_Over_Lap</th>\n",
              "      <th>Pearson</th>\n",
              "    </tr>\n",
              "  </thead>\n",
              "  <tbody>\n",
              "    <tr>\n",
              "      <th>0</th>\n",
              "      <td>210</td>\n",
              "      <td>4</td>\n",
              "      <td>2</td>\n",
              "      <td>0</td>\n",
              "      <td>30</td>\n",
              "      <td>0</td>\n",
              "      <td>12</td>\n",
              "      <td>4.55</td>\n",
              "      <td>0</td>\n",
              "      <td>0.0</td>\n",
              "      <td>0.296889</td>\n",
              "      <td>0.000003</td>\n",
              "      <td>-2.882246e-21</td>\n",
              "      <td>-1.320560e-18</td>\n",
              "      <td>0.000000</td>\n",
              "      <td>0.083546</td>\n",
              "      <td>0.000166</td>\n",
              "      <td>0.0</td>\n",
              "      <td>0.0</td>\n",
              "      <td>0.0</td>\n",
              "      <td>0.0</td>\n",
              "      <td>0.0</td>\n",
              "      <td>0.0</td>\n",
              "      <td>0.0</td>\n",
              "    </tr>\n",
              "    <tr>\n",
              "      <th>1</th>\n",
              "      <td>2753</td>\n",
              "      <td>2</td>\n",
              "      <td>2</td>\n",
              "      <td>0</td>\n",
              "      <td>30</td>\n",
              "      <td>0</td>\n",
              "      <td>12</td>\n",
              "      <td>39.68</td>\n",
              "      <td>0</td>\n",
              "      <td>0.0</td>\n",
              "      <td>0.296889</td>\n",
              "      <td>0.000017</td>\n",
              "      <td>-2.882246e-21</td>\n",
              "      <td>7.109528e-18</td>\n",
              "      <td>0.000332</td>\n",
              "      <td>0.083546</td>\n",
              "      <td>0.000166</td>\n",
              "      <td>0.0</td>\n",
              "      <td>0.0</td>\n",
              "      <td>0.0</td>\n",
              "      <td>0.0</td>\n",
              "      <td>0.0</td>\n",
              "      <td>0.0</td>\n",
              "      <td>0.0</td>\n",
              "    </tr>\n",
              "  </tbody>\n",
              "</table>\n",
              "</div>"
            ],
            "text/plain": [
              "   customer  age  gender  ...  Max_Over_Lap  Min_Over_Lap  Pearson\n",
              "0       210    4       2  ...           0.0           0.0      0.0\n",
              "1      2753    2       2  ...           0.0           0.0      0.0\n",
              "\n",
              "[2 rows x 24 columns]"
            ]
          },
          "metadata": {
            "tags": []
          },
          "execution_count": 103
        }
      ]
    },
    {
      "cell_type": "code",
      "metadata": {
        "id": "xL73lVm4L-C8",
        "colab_type": "code",
        "colab": {}
      },
      "source": [
        "sc = StandardScaler()\n",
        "\n",
        "sc_col = X_sna.select_dtypes([\"float64\", \"int64\"]).columns.tolist()\n",
        "\n",
        "for i in sc_col:\n",
        "  X_train_sna[i] = sc.fit_transform(np.array(X_train_sna[i]).reshape(-1, 1))\n",
        "  X_test_sna[i] = sc.transform(np.array(X_test_sna[i]).reshape(-1, 1))"
      ],
      "execution_count": 0,
      "outputs": []
    },
    {
      "cell_type": "markdown",
      "metadata": {
        "id": "sbyKPsHJRN7p",
        "colab_type": "text"
      },
      "source": [
        "##Train-Validation Split (80%-20%)"
      ]
    },
    {
      "cell_type": "code",
      "metadata": {
        "colab_type": "code",
        "id": "PXOGjvOfRxHM",
        "colab": {}
      },
      "source": [
        "X_train_sna, X_val_sna, y_train_sna, y_val_sna = X_train_sna[:237856], X_train_sna[237856:], y_train_sna[:237856], y_train_sna[237856:]"
      ],
      "execution_count": 0,
      "outputs": []
    },
    {
      "cell_type": "code",
      "metadata": {
        "id": "1TLMi55fSI8o",
        "colab_type": "code",
        "outputId": "2cf76fc0-e6ff-41ef-d5d1-c365d23541c0",
        "colab": {
          "base_uri": "https://localhost:8080/",
          "height": 34
        }
      },
      "source": [
        "X_val_sna.shape"
      ],
      "execution_count": 0,
      "outputs": [
        {
          "output_type": "execute_result",
          "data": {
            "text/plain": [
              "(59465, 24)"
            ]
          },
          "metadata": {
            "tags": []
          },
          "execution_count": 106
        }
      ]
    },
    {
      "cell_type": "code",
      "metadata": {
        "colab_type": "code",
        "id": "GCu2YlKwRxHO",
        "colab": {}
      },
      "source": [
        "sc = StandardScaler()\n",
        "\n",
        "sc_col = X.select_dtypes([\"float64\", \"int64\"]).columns.tolist()\n",
        "\n",
        "for i in sc_col:\n",
        "  X_train_sna[i] = sc.fit_transform(np.array(X_train_sna[i]).reshape(-1, 1))\n",
        "  X_val_sna[i] = sc.transform(np.array(X_val_sna[i]).reshape(-1, 1))"
      ],
      "execution_count": 0,
      "outputs": []
    },
    {
      "cell_type": "code",
      "metadata": {
        "colab_type": "code",
        "id": "_qmYajMDRxHP",
        "outputId": "082cdf52-2f29-472e-ac3b-bc659787acdc",
        "colab": {
          "base_uri": "https://localhost:8080/",
          "height": 34
        }
      },
      "source": [
        "X_train_sna.shape, X_val_sna.shape, X_test_sna.shape"
      ],
      "execution_count": 0,
      "outputs": [
        {
          "output_type": "execute_result",
          "data": {
            "text/plain": [
              "((237856, 24), (59465, 24), (297322, 24))"
            ]
          },
          "metadata": {
            "tags": []
          },
          "execution_count": 108
        }
      ]
    },
    {
      "cell_type": "code",
      "metadata": {
        "id": "0ksYsPGSOhQC",
        "colab_type": "code",
        "outputId": "878d9e45-aa7a-429d-fa0d-13600182bd4b",
        "colab": {
          "base_uri": "https://localhost:8080/",
          "height": 186
        }
      },
      "source": [
        "X_train_sna.head(4)"
      ],
      "execution_count": 0,
      "outputs": [
        {
          "output_type": "execute_result",
          "data": {
            "text/html": [
              "<div>\n",
              "<style scoped>\n",
              "    .dataframe tbody tr th:only-of-type {\n",
              "        vertical-align: middle;\n",
              "    }\n",
              "\n",
              "    .dataframe tbody tr th {\n",
              "        vertical-align: top;\n",
              "    }\n",
              "\n",
              "    .dataframe thead th {\n",
              "        text-align: right;\n",
              "    }\n",
              "</style>\n",
              "<table border=\"1\" class=\"dataframe\">\n",
              "  <thead>\n",
              "    <tr style=\"text-align: right;\">\n",
              "      <th></th>\n",
              "      <th>customer</th>\n",
              "      <th>age</th>\n",
              "      <th>gender</th>\n",
              "      <th>zipcodeOri</th>\n",
              "      <th>merchant</th>\n",
              "      <th>zipMerchant</th>\n",
              "      <th>category</th>\n",
              "      <th>amount</th>\n",
              "      <th>degree_merc</th>\n",
              "      <th>degree_cust</th>\n",
              "      <th>betw_cent_merc</th>\n",
              "      <th>betw_cent_cust</th>\n",
              "      <th>eig_cent_merc</th>\n",
              "      <th>eig_cent_cust</th>\n",
              "      <th>pr_cust</th>\n",
              "      <th>pr_merc</th>\n",
              "      <th>Simrank</th>\n",
              "      <th>Assoc_Stren</th>\n",
              "      <th>Comm_Neigh</th>\n",
              "      <th>Degr_Prod</th>\n",
              "      <th>Jaccard</th>\n",
              "      <th>Max_Over_Lap</th>\n",
              "      <th>Min_Over_Lap</th>\n",
              "      <th>Pearson</th>\n",
              "    </tr>\n",
              "  </thead>\n",
              "  <tbody>\n",
              "    <tr>\n",
              "      <th>0</th>\n",
              "      <td>-1.544853</td>\n",
              "      <td>0.738340</td>\n",
              "      <td>1.090001</td>\n",
              "      <td>0.0</td>\n",
              "      <td>0.564267</td>\n",
              "      <td>0.0</td>\n",
              "      <td>0.318357</td>\n",
              "      <td>-0.280284</td>\n",
              "      <td>-0.166343</td>\n",
              "      <td>-0.162225</td>\n",
              "      <td>1.058713</td>\n",
              "      <td>-0.551070</td>\n",
              "      <td>-0.152374</td>\n",
              "      <td>-0.150719</td>\n",
              "      <td>-0.423646</td>\n",
              "      <td>0.846476</td>\n",
              "      <td>-0.07135</td>\n",
              "      <td>0.0</td>\n",
              "      <td>0.0</td>\n",
              "      <td>-0.041098</td>\n",
              "      <td>0.0</td>\n",
              "      <td>0.0</td>\n",
              "      <td>0.0</td>\n",
              "      <td>0.0</td>\n",
              "    </tr>\n",
              "    <tr>\n",
              "      <th>1</th>\n",
              "      <td>0.607342</td>\n",
              "      <td>-0.757088</td>\n",
              "      <td>1.090001</td>\n",
              "      <td>0.0</td>\n",
              "      <td>0.564267</td>\n",
              "      <td>0.0</td>\n",
              "      <td>0.318357</td>\n",
              "      <td>0.006009</td>\n",
              "      <td>-0.166343</td>\n",
              "      <td>-0.162225</td>\n",
              "      <td>1.058713</td>\n",
              "      <td>-0.274292</td>\n",
              "      <td>-0.152374</td>\n",
              "      <td>-0.150719</td>\n",
              "      <td>0.137836</td>\n",
              "      <td>0.846476</td>\n",
              "      <td>-0.07135</td>\n",
              "      <td>0.0</td>\n",
              "      <td>0.0</td>\n",
              "      <td>-0.041098</td>\n",
              "      <td>0.0</td>\n",
              "      <td>0.0</td>\n",
              "      <td>0.0</td>\n",
              "      <td>0.0</td>\n",
              "    </tr>\n",
              "    <tr>\n",
              "      <th>2</th>\n",
              "      <td>0.211264</td>\n",
              "      <td>0.738340</td>\n",
              "      <td>-0.897651</td>\n",
              "      <td>0.0</td>\n",
              "      <td>-0.872640</td>\n",
              "      <td>0.0</td>\n",
              "      <td>0.318357</td>\n",
              "      <td>-0.098224</td>\n",
              "      <td>-0.166343</td>\n",
              "      <td>-0.162225</td>\n",
              "      <td>-0.664743</td>\n",
              "      <td>2.944750</td>\n",
              "      <td>-0.152374</td>\n",
              "      <td>-0.150719</td>\n",
              "      <td>1.312838</td>\n",
              "      <td>-0.314713</td>\n",
              "      <td>-0.07135</td>\n",
              "      <td>0.0</td>\n",
              "      <td>0.0</td>\n",
              "      <td>-0.041098</td>\n",
              "      <td>0.0</td>\n",
              "      <td>0.0</td>\n",
              "      <td>0.0</td>\n",
              "      <td>0.0</td>\n",
              "    </tr>\n",
              "    <tr>\n",
              "      <th>3</th>\n",
              "      <td>-0.326150</td>\n",
              "      <td>-0.009374</td>\n",
              "      <td>1.090001</td>\n",
              "      <td>0.0</td>\n",
              "      <td>0.564267</td>\n",
              "      <td>0.0</td>\n",
              "      <td>0.318357</td>\n",
              "      <td>-0.176785</td>\n",
              "      <td>-0.166343</td>\n",
              "      <td>-0.162225</td>\n",
              "      <td>1.058713</td>\n",
              "      <td>-0.457988</td>\n",
              "      <td>-0.152374</td>\n",
              "      <td>-0.150719</td>\n",
              "      <td>-0.214287</td>\n",
              "      <td>0.846476</td>\n",
              "      <td>-0.07135</td>\n",
              "      <td>0.0</td>\n",
              "      <td>0.0</td>\n",
              "      <td>-0.041098</td>\n",
              "      <td>0.0</td>\n",
              "      <td>0.0</td>\n",
              "      <td>0.0</td>\n",
              "      <td>0.0</td>\n",
              "    </tr>\n",
              "  </tbody>\n",
              "</table>\n",
              "</div>"
            ],
            "text/plain": [
              "   customer       age    gender  ...  Max_Over_Lap  Min_Over_Lap  Pearson\n",
              "0 -1.544853  0.738340  1.090001  ...           0.0           0.0      0.0\n",
              "1  0.607342 -0.757088  1.090001  ...           0.0           0.0      0.0\n",
              "2  0.211264  0.738340 -0.897651  ...           0.0           0.0      0.0\n",
              "3 -0.326150 -0.009374  1.090001  ...           0.0           0.0      0.0\n",
              "\n",
              "[4 rows x 24 columns]"
            ]
          },
          "metadata": {
            "tags": []
          },
          "execution_count": 109
        }
      ]
    },
    {
      "cell_type": "code",
      "metadata": {
        "id": "s5DP7lznKcba",
        "colab_type": "code",
        "colab": {}
      },
      "source": [
        "parameters = {\n",
        "    'application': 'binary',\n",
        "    'objective': 'binary',\n",
        "    'metric': 'auc',\n",
        "    'is_unbalance': 'true',\n",
        "    'boosting': 'dart',\n",
        "    'num_leaves': 63,\n",
        "    'feature_fraction': 0.5,\n",
        "    'bagging_fraction': 0.5,\n",
        "    'bagging_freq': 20,\n",
        "    'learning_rate': 0.05,\n",
        "    'verbose': 0,\n",
        "    \"lambda_l2\" : 0.5,\n",
        "    \"lambda_l1\" : 0.5,\n",
        "    \"min_gain_to_split\" : 0.2,\n",
        "    \"max_depth\" : 3\n",
        "}"
      ],
      "execution_count": 0,
      "outputs": []
    },
    {
      "cell_type": "code",
      "metadata": {
        "id": "i6VMt6HVKdO2",
        "colab_type": "code",
        "colab": {}
      },
      "source": [
        "train_data_sna = lightgbm.Dataset(X_train_sna, label=y_train_sna, categorical_feature=cat_col)\n",
        "val_data_sna = lightgbm.Dataset(X_val_sna, label=y_val_sna)"
      ],
      "execution_count": 0,
      "outputs": []
    },
    {
      "cell_type": "code",
      "metadata": {
        "id": "W9ul_pBqKdLk",
        "colab_type": "code",
        "outputId": "b63295ab-40f6-40ab-e1f6-e389110c1302",
        "colab": {
          "base_uri": "https://localhost:8080/",
          "height": 8417
        }
      },
      "source": [
        "model_sna = lightgbm.train(parameters,\n",
        "                       train_data_sna,\n",
        "                       valid_sets=val_data_sna,\n",
        "                       num_boost_round=500,\n",
        "                       early_stopping_rounds=100)"
      ],
      "execution_count": 0,
      "outputs": [
        {
          "output_type": "stream",
          "text": [
            "[1]\tvalid_0's auc: 0.99595\n",
            "[2]\tvalid_0's auc: 0.997414\n",
            "[3]\tvalid_0's auc: 0.997945\n",
            "[4]\tvalid_0's auc: 0.99822\n",
            "[5]\tvalid_0's auc: 0.998228\n",
            "[6]\tvalid_0's auc: 0.998227\n",
            "[7]\tvalid_0's auc: 0.998227\n",
            "[8]\tvalid_0's auc: 0.998228\n",
            "[9]\tvalid_0's auc: 0.998395\n",
            "[10]\tvalid_0's auc: 0.998582\n",
            "[11]\tvalid_0's auc: 0.998658\n",
            "[12]\tvalid_0's auc: 0.998634\n",
            "[13]\tvalid_0's auc: 0.99869\n",
            "[14]\tvalid_0's auc: 0.99871\n",
            "[15]\tvalid_0's auc: 0.998747\n",
            "[16]\tvalid_0's auc: 0.998756\n",
            "[17]\tvalid_0's auc: 0.998769\n",
            "[18]\tvalid_0's auc: 0.998781\n",
            "[19]\tvalid_0's auc: 0.998879\n",
            "[20]\tvalid_0's auc: 0.998893\n",
            "[21]\tvalid_0's auc: 0.998894\n",
            "[22]\tvalid_0's auc: 0.998895\n",
            "[23]\tvalid_0's auc: 0.998895\n",
            "[24]\tvalid_0's auc: 0.998884\n",
            "[25]\tvalid_0's auc: 0.998898\n",
            "[26]\tvalid_0's auc: 0.998884\n",
            "[27]\tvalid_0's auc: 0.998884\n",
            "[28]\tvalid_0's auc: 0.998882\n",
            "[29]\tvalid_0's auc: 0.998882\n",
            "[30]\tvalid_0's auc: 0.998894\n",
            "[31]\tvalid_0's auc: 0.998892\n",
            "[32]\tvalid_0's auc: 0.998922\n",
            "[33]\tvalid_0's auc: 0.998971\n",
            "[34]\tvalid_0's auc: 0.998991\n",
            "[35]\tvalid_0's auc: 0.999002\n",
            "[36]\tvalid_0's auc: 0.999008\n",
            "[37]\tvalid_0's auc: 0.999001\n",
            "[38]\tvalid_0's auc: 0.999016\n",
            "[39]\tvalid_0's auc: 0.999016\n",
            "[40]\tvalid_0's auc: 0.999014\n",
            "[41]\tvalid_0's auc: 0.999014\n",
            "[42]\tvalid_0's auc: 0.999051\n",
            "[43]\tvalid_0's auc: 0.999052\n",
            "[44]\tvalid_0's auc: 0.999069\n",
            "[45]\tvalid_0's auc: 0.999068\n",
            "[46]\tvalid_0's auc: 0.999078\n",
            "[47]\tvalid_0's auc: 0.999087\n",
            "[48]\tvalid_0's auc: 0.999087\n",
            "[49]\tvalid_0's auc: 0.999091\n",
            "[50]\tvalid_0's auc: 0.99909\n",
            "[51]\tvalid_0's auc: 0.999095\n",
            "[52]\tvalid_0's auc: 0.999092\n",
            "[53]\tvalid_0's auc: 0.999086\n",
            "[54]\tvalid_0's auc: 0.999093\n",
            "[55]\tvalid_0's auc: 0.999121\n",
            "[56]\tvalid_0's auc: 0.999123\n",
            "[57]\tvalid_0's auc: 0.999129\n",
            "[58]\tvalid_0's auc: 0.999127\n",
            "[59]\tvalid_0's auc: 0.999128\n",
            "[60]\tvalid_0's auc: 0.999143\n",
            "[61]\tvalid_0's auc: 0.999128\n",
            "[62]\tvalid_0's auc: 0.999121\n",
            "[63]\tvalid_0's auc: 0.999129\n",
            "[64]\tvalid_0's auc: 0.999138\n",
            "[65]\tvalid_0's auc: 0.999131\n",
            "[66]\tvalid_0's auc: 0.999135\n",
            "[67]\tvalid_0's auc: 0.999125\n",
            "[68]\tvalid_0's auc: 0.99912\n",
            "[69]\tvalid_0's auc: 0.999125\n",
            "[70]\tvalid_0's auc: 0.999134\n",
            "[71]\tvalid_0's auc: 0.999137\n",
            "[72]\tvalid_0's auc: 0.999149\n",
            "[73]\tvalid_0's auc: 0.999154\n",
            "[74]\tvalid_0's auc: 0.999151\n",
            "[75]\tvalid_0's auc: 0.999151\n",
            "[76]\tvalid_0's auc: 0.999147\n",
            "[77]\tvalid_0's auc: 0.999147\n",
            "[78]\tvalid_0's auc: 0.999147\n",
            "[79]\tvalid_0's auc: 0.999151\n",
            "[80]\tvalid_0's auc: 0.999152\n",
            "[81]\tvalid_0's auc: 0.999151\n",
            "[82]\tvalid_0's auc: 0.999144\n",
            "[83]\tvalid_0's auc: 0.999146\n",
            "[84]\tvalid_0's auc: 0.999147\n",
            "[85]\tvalid_0's auc: 0.999147\n",
            "[86]\tvalid_0's auc: 0.999147\n",
            "[87]\tvalid_0's auc: 0.999151\n",
            "[88]\tvalid_0's auc: 0.999153\n",
            "[89]\tvalid_0's auc: 0.999153\n",
            "[90]\tvalid_0's auc: 0.999153\n",
            "[91]\tvalid_0's auc: 0.999152\n",
            "[92]\tvalid_0's auc: 0.999172\n",
            "[93]\tvalid_0's auc: 0.999155\n",
            "[94]\tvalid_0's auc: 0.999165\n",
            "[95]\tvalid_0's auc: 0.999165\n",
            "[96]\tvalid_0's auc: 0.999165\n",
            "[97]\tvalid_0's auc: 0.99914\n",
            "[98]\tvalid_0's auc: 0.999144\n",
            "[99]\tvalid_0's auc: 0.999139\n",
            "[100]\tvalid_0's auc: 0.999147\n",
            "[101]\tvalid_0's auc: 0.999143\n",
            "[102]\tvalid_0's auc: 0.999146\n",
            "[103]\tvalid_0's auc: 0.999146\n",
            "[104]\tvalid_0's auc: 0.99916\n",
            "[105]\tvalid_0's auc: 0.999157\n",
            "[106]\tvalid_0's auc: 0.99916\n",
            "[107]\tvalid_0's auc: 0.999162\n",
            "[108]\tvalid_0's auc: 0.999172\n",
            "[109]\tvalid_0's auc: 0.999173\n",
            "[110]\tvalid_0's auc: 0.999173\n",
            "[111]\tvalid_0's auc: 0.999179\n",
            "[112]\tvalid_0's auc: 0.999185\n",
            "[113]\tvalid_0's auc: 0.999179\n",
            "[114]\tvalid_0's auc: 0.999185\n",
            "[115]\tvalid_0's auc: 0.999188\n",
            "[116]\tvalid_0's auc: 0.999185\n",
            "[117]\tvalid_0's auc: 0.999188\n",
            "[118]\tvalid_0's auc: 0.99918\n",
            "[119]\tvalid_0's auc: 0.999181\n",
            "[120]\tvalid_0's auc: 0.999181\n",
            "[121]\tvalid_0's auc: 0.999187\n",
            "[122]\tvalid_0's auc: 0.999191\n",
            "[123]\tvalid_0's auc: 0.999187\n",
            "[124]\tvalid_0's auc: 0.999204\n",
            "[125]\tvalid_0's auc: 0.999207\n",
            "[126]\tvalid_0's auc: 0.999206\n",
            "[127]\tvalid_0's auc: 0.999197\n",
            "[128]\tvalid_0's auc: 0.999196\n",
            "[129]\tvalid_0's auc: 0.999187\n",
            "[130]\tvalid_0's auc: 0.999183\n",
            "[131]\tvalid_0's auc: 0.999186\n",
            "[132]\tvalid_0's auc: 0.99917\n",
            "[133]\tvalid_0's auc: 0.999154\n",
            "[134]\tvalid_0's auc: 0.999147\n",
            "[135]\tvalid_0's auc: 0.999174\n",
            "[136]\tvalid_0's auc: 0.999164\n",
            "[137]\tvalid_0's auc: 0.999163\n",
            "[138]\tvalid_0's auc: 0.999153\n",
            "[139]\tvalid_0's auc: 0.999178\n",
            "[140]\tvalid_0's auc: 0.999179\n",
            "[141]\tvalid_0's auc: 0.999178\n",
            "[142]\tvalid_0's auc: 0.999179\n",
            "[143]\tvalid_0's auc: 0.999198\n",
            "[144]\tvalid_0's auc: 0.999201\n",
            "[145]\tvalid_0's auc: 0.999198\n",
            "[146]\tvalid_0's auc: 0.999198\n",
            "[147]\tvalid_0's auc: 0.999199\n",
            "[148]\tvalid_0's auc: 0.999201\n",
            "[149]\tvalid_0's auc: 0.999212\n",
            "[150]\tvalid_0's auc: 0.999211\n",
            "[151]\tvalid_0's auc: 0.999208\n",
            "[152]\tvalid_0's auc: 0.999205\n",
            "[153]\tvalid_0's auc: 0.999201\n",
            "[154]\tvalid_0's auc: 0.9992\n",
            "[155]\tvalid_0's auc: 0.999209\n",
            "[156]\tvalid_0's auc: 0.999209\n",
            "[157]\tvalid_0's auc: 0.99921\n",
            "[158]\tvalid_0's auc: 0.999212\n",
            "[159]\tvalid_0's auc: 0.999211\n",
            "[160]\tvalid_0's auc: 0.999211\n",
            "[161]\tvalid_0's auc: 0.999225\n",
            "[162]\tvalid_0's auc: 0.999226\n",
            "[163]\tvalid_0's auc: 0.999236\n",
            "[164]\tvalid_0's auc: 0.99924\n",
            "[165]\tvalid_0's auc: 0.999247\n",
            "[166]\tvalid_0's auc: 0.999249\n",
            "[167]\tvalid_0's auc: 0.999248\n",
            "[168]\tvalid_0's auc: 0.999255\n",
            "[169]\tvalid_0's auc: 0.999251\n",
            "[170]\tvalid_0's auc: 0.99925\n",
            "[171]\tvalid_0's auc: 0.999256\n",
            "[172]\tvalid_0's auc: 0.999256\n",
            "[173]\tvalid_0's auc: 0.999254\n",
            "[174]\tvalid_0's auc: 0.99926\n",
            "[175]\tvalid_0's auc: 0.999254\n",
            "[176]\tvalid_0's auc: 0.999254\n",
            "[177]\tvalid_0's auc: 0.999254\n",
            "[178]\tvalid_0's auc: 0.999255\n",
            "[179]\tvalid_0's auc: 0.999246\n",
            "[180]\tvalid_0's auc: 0.999247\n",
            "[181]\tvalid_0's auc: 0.999252\n",
            "[182]\tvalid_0's auc: 0.999262\n",
            "[183]\tvalid_0's auc: 0.999258\n",
            "[184]\tvalid_0's auc: 0.99927\n",
            "[185]\tvalid_0's auc: 0.999271\n",
            "[186]\tvalid_0's auc: 0.999269\n",
            "[187]\tvalid_0's auc: 0.999267\n",
            "[188]\tvalid_0's auc: 0.999271\n",
            "[189]\tvalid_0's auc: 0.999272\n",
            "[190]\tvalid_0's auc: 0.999272\n",
            "[191]\tvalid_0's auc: 0.999272\n",
            "[192]\tvalid_0's auc: 0.999268\n",
            "[193]\tvalid_0's auc: 0.999274\n",
            "[194]\tvalid_0's auc: 0.999274\n",
            "[195]\tvalid_0's auc: 0.999274\n",
            "[196]\tvalid_0's auc: 0.999286\n",
            "[197]\tvalid_0's auc: 0.999286\n",
            "[198]\tvalid_0's auc: 0.999286\n",
            "[199]\tvalid_0's auc: 0.999292\n",
            "[200]\tvalid_0's auc: 0.999292\n",
            "[201]\tvalid_0's auc: 0.999292\n",
            "[202]\tvalid_0's auc: 0.999291\n",
            "[203]\tvalid_0's auc: 0.999298\n",
            "[204]\tvalid_0's auc: 0.999298\n",
            "[205]\tvalid_0's auc: 0.999296\n",
            "[206]\tvalid_0's auc: 0.999304\n",
            "[207]\tvalid_0's auc: 0.999305\n",
            "[208]\tvalid_0's auc: 0.999309\n",
            "[209]\tvalid_0's auc: 0.999308\n",
            "[210]\tvalid_0's auc: 0.999307\n",
            "[211]\tvalid_0's auc: 0.999307\n",
            "[212]\tvalid_0's auc: 0.99931\n",
            "[213]\tvalid_0's auc: 0.999314\n",
            "[214]\tvalid_0's auc: 0.99932\n",
            "[215]\tvalid_0's auc: 0.999318\n",
            "[216]\tvalid_0's auc: 0.999318\n",
            "[217]\tvalid_0's auc: 0.999327\n",
            "[218]\tvalid_0's auc: 0.999331\n",
            "[219]\tvalid_0's auc: 0.999331\n",
            "[220]\tvalid_0's auc: 0.999335\n",
            "[221]\tvalid_0's auc: 0.999335\n",
            "[222]\tvalid_0's auc: 0.999339\n",
            "[223]\tvalid_0's auc: 0.999335\n",
            "[224]\tvalid_0's auc: 0.999335\n",
            "[225]\tvalid_0's auc: 0.999335\n",
            "[226]\tvalid_0's auc: 0.999335\n",
            "[227]\tvalid_0's auc: 0.999335\n",
            "[228]\tvalid_0's auc: 0.999337\n",
            "[229]\tvalid_0's auc: 0.999337\n",
            "[230]\tvalid_0's auc: 0.999337\n",
            "[231]\tvalid_0's auc: 0.999338\n",
            "[232]\tvalid_0's auc: 0.99934\n",
            "[233]\tvalid_0's auc: 0.999339\n",
            "[234]\tvalid_0's auc: 0.99934\n",
            "[235]\tvalid_0's auc: 0.999341\n",
            "[236]\tvalid_0's auc: 0.999345\n",
            "[237]\tvalid_0's auc: 0.999347\n",
            "[238]\tvalid_0's auc: 0.999344\n",
            "[239]\tvalid_0's auc: 0.999346\n",
            "[240]\tvalid_0's auc: 0.999347\n",
            "[241]\tvalid_0's auc: 0.999347\n",
            "[242]\tvalid_0's auc: 0.999347\n",
            "[243]\tvalid_0's auc: 0.999347\n",
            "[244]\tvalid_0's auc: 0.999346\n",
            "[245]\tvalid_0's auc: 0.999349\n",
            "[246]\tvalid_0's auc: 0.999351\n",
            "[247]\tvalid_0's auc: 0.999351\n",
            "[248]\tvalid_0's auc: 0.999351\n",
            "[249]\tvalid_0's auc: 0.999351\n",
            "[250]\tvalid_0's auc: 0.999349\n",
            "[251]\tvalid_0's auc: 0.999349\n",
            "[252]\tvalid_0's auc: 0.999349\n",
            "[253]\tvalid_0's auc: 0.99935\n",
            "[254]\tvalid_0's auc: 0.999352\n",
            "[255]\tvalid_0's auc: 0.999355\n",
            "[256]\tvalid_0's auc: 0.999356\n",
            "[257]\tvalid_0's auc: 0.999357\n",
            "[258]\tvalid_0's auc: 0.999361\n",
            "[259]\tvalid_0's auc: 0.999361\n",
            "[260]\tvalid_0's auc: 0.999361\n",
            "[261]\tvalid_0's auc: 0.999361\n",
            "[262]\tvalid_0's auc: 0.999357\n",
            "[263]\tvalid_0's auc: 0.999355\n",
            "[264]\tvalid_0's auc: 0.999353\n",
            "[265]\tvalid_0's auc: 0.999353\n",
            "[266]\tvalid_0's auc: 0.999354\n",
            "[267]\tvalid_0's auc: 0.999353\n",
            "[268]\tvalid_0's auc: 0.999355\n",
            "[269]\tvalid_0's auc: 0.999355\n",
            "[270]\tvalid_0's auc: 0.999358\n",
            "[271]\tvalid_0's auc: 0.999357\n",
            "[272]\tvalid_0's auc: 0.999361\n",
            "[273]\tvalid_0's auc: 0.999361\n",
            "[274]\tvalid_0's auc: 0.999362\n",
            "[275]\tvalid_0's auc: 0.999364\n",
            "[276]\tvalid_0's auc: 0.999364\n",
            "[277]\tvalid_0's auc: 0.999364\n",
            "[278]\tvalid_0's auc: 0.999364\n",
            "[279]\tvalid_0's auc: 0.999367\n",
            "[280]\tvalid_0's auc: 0.999367\n",
            "[281]\tvalid_0's auc: 0.999366\n",
            "[282]\tvalid_0's auc: 0.999368\n",
            "[283]\tvalid_0's auc: 0.999368\n",
            "[284]\tvalid_0's auc: 0.999369\n",
            "[285]\tvalid_0's auc: 0.999373\n",
            "[286]\tvalid_0's auc: 0.999373\n",
            "[287]\tvalid_0's auc: 0.999373\n",
            "[288]\tvalid_0's auc: 0.999373\n",
            "[289]\tvalid_0's auc: 0.999375\n",
            "[290]\tvalid_0's auc: 0.999376\n",
            "[291]\tvalid_0's auc: 0.999376\n",
            "[292]\tvalid_0's auc: 0.999376\n",
            "[293]\tvalid_0's auc: 0.999376\n",
            "[294]\tvalid_0's auc: 0.999375\n",
            "[295]\tvalid_0's auc: 0.999375\n",
            "[296]\tvalid_0's auc: 0.999375\n",
            "[297]\tvalid_0's auc: 0.999375\n",
            "[298]\tvalid_0's auc: 0.999375\n",
            "[299]\tvalid_0's auc: 0.999374\n",
            "[300]\tvalid_0's auc: 0.999374\n",
            "[301]\tvalid_0's auc: 0.999374\n",
            "[302]\tvalid_0's auc: 0.999373\n",
            "[303]\tvalid_0's auc: 0.999373\n",
            "[304]\tvalid_0's auc: 0.999373\n",
            "[305]\tvalid_0's auc: 0.999373\n",
            "[306]\tvalid_0's auc: 0.999373\n",
            "[307]\tvalid_0's auc: 0.999373\n",
            "[308]\tvalid_0's auc: 0.999373\n",
            "[309]\tvalid_0's auc: 0.999373\n",
            "[310]\tvalid_0's auc: 0.999374\n",
            "[311]\tvalid_0's auc: 0.999377\n",
            "[312]\tvalid_0's auc: 0.999379\n",
            "[313]\tvalid_0's auc: 0.999379\n",
            "[314]\tvalid_0's auc: 0.999378\n",
            "[315]\tvalid_0's auc: 0.999378\n",
            "[316]\tvalid_0's auc: 0.999379\n",
            "[317]\tvalid_0's auc: 0.999379\n",
            "[318]\tvalid_0's auc: 0.999377\n",
            "[319]\tvalid_0's auc: 0.999377\n",
            "[320]\tvalid_0's auc: 0.999375\n",
            "[321]\tvalid_0's auc: 0.999375\n",
            "[322]\tvalid_0's auc: 0.999378\n",
            "[323]\tvalid_0's auc: 0.999376\n",
            "[324]\tvalid_0's auc: 0.999376\n",
            "[325]\tvalid_0's auc: 0.999376\n",
            "[326]\tvalid_0's auc: 0.999376\n",
            "[327]\tvalid_0's auc: 0.999376\n",
            "[328]\tvalid_0's auc: 0.999376\n",
            "[329]\tvalid_0's auc: 0.999376\n",
            "[330]\tvalid_0's auc: 0.999376\n",
            "[331]\tvalid_0's auc: 0.999376\n",
            "[332]\tvalid_0's auc: 0.999376\n",
            "[333]\tvalid_0's auc: 0.999376\n",
            "[334]\tvalid_0's auc: 0.999376\n",
            "[335]\tvalid_0's auc: 0.999376\n",
            "[336]\tvalid_0's auc: 0.999375\n",
            "[337]\tvalid_0's auc: 0.999376\n",
            "[338]\tvalid_0's auc: 0.999376\n",
            "[339]\tvalid_0's auc: 0.999376\n",
            "[340]\tvalid_0's auc: 0.999377\n",
            "[341]\tvalid_0's auc: 0.999378\n",
            "[342]\tvalid_0's auc: 0.999379\n",
            "[343]\tvalid_0's auc: 0.999377\n",
            "[344]\tvalid_0's auc: 0.999377\n",
            "[345]\tvalid_0's auc: 0.999376\n",
            "[346]\tvalid_0's auc: 0.999373\n",
            "[347]\tvalid_0's auc: 0.999373\n",
            "[348]\tvalid_0's auc: 0.999376\n",
            "[349]\tvalid_0's auc: 0.999378\n",
            "[350]\tvalid_0's auc: 0.999378\n",
            "[351]\tvalid_0's auc: 0.99938\n",
            "[352]\tvalid_0's auc: 0.999381\n",
            "[353]\tvalid_0's auc: 0.999379\n",
            "[354]\tvalid_0's auc: 0.999379\n",
            "[355]\tvalid_0's auc: 0.999379\n",
            "[356]\tvalid_0's auc: 0.999379\n",
            "[357]\tvalid_0's auc: 0.999379\n",
            "[358]\tvalid_0's auc: 0.999377\n",
            "[359]\tvalid_0's auc: 0.999377\n",
            "[360]\tvalid_0's auc: 0.999378\n",
            "[361]\tvalid_0's auc: 0.999382\n",
            "[362]\tvalid_0's auc: 0.999386\n",
            "[363]\tvalid_0's auc: 0.999386\n",
            "[364]\tvalid_0's auc: 0.999386\n",
            "[365]\tvalid_0's auc: 0.999386\n",
            "[366]\tvalid_0's auc: 0.999386\n",
            "[367]\tvalid_0's auc: 0.999386\n",
            "[368]\tvalid_0's auc: 0.999387\n",
            "[369]\tvalid_0's auc: 0.999387\n",
            "[370]\tvalid_0's auc: 0.999388\n",
            "[371]\tvalid_0's auc: 0.999388\n",
            "[372]\tvalid_0's auc: 0.99939\n",
            "[373]\tvalid_0's auc: 0.999391\n",
            "[374]\tvalid_0's auc: 0.999389\n",
            "[375]\tvalid_0's auc: 0.999392\n",
            "[376]\tvalid_0's auc: 0.999392\n",
            "[377]\tvalid_0's auc: 0.999393\n",
            "[378]\tvalid_0's auc: 0.999393\n",
            "[379]\tvalid_0's auc: 0.999393\n",
            "[380]\tvalid_0's auc: 0.999394\n",
            "[381]\tvalid_0's auc: 0.999393\n",
            "[382]\tvalid_0's auc: 0.999393\n",
            "[383]\tvalid_0's auc: 0.99939\n",
            "[384]\tvalid_0's auc: 0.999387\n",
            "[385]\tvalid_0's auc: 0.999387\n",
            "[386]\tvalid_0's auc: 0.999387\n",
            "[387]\tvalid_0's auc: 0.999386\n",
            "[388]\tvalid_0's auc: 0.999383\n",
            "[389]\tvalid_0's auc: 0.999381\n",
            "[390]\tvalid_0's auc: 0.999379\n",
            "[391]\tvalid_0's auc: 0.999379\n",
            "[392]\tvalid_0's auc: 0.999377\n",
            "[393]\tvalid_0's auc: 0.999377\n",
            "[394]\tvalid_0's auc: 0.999379\n",
            "[395]\tvalid_0's auc: 0.999379\n",
            "[396]\tvalid_0's auc: 0.999379\n",
            "[397]\tvalid_0's auc: 0.999377\n",
            "[398]\tvalid_0's auc: 0.999375\n",
            "[399]\tvalid_0's auc: 0.999375\n",
            "[400]\tvalid_0's auc: 0.999376\n",
            "[401]\tvalid_0's auc: 0.999376\n",
            "[402]\tvalid_0's auc: 0.999379\n",
            "[403]\tvalid_0's auc: 0.999379\n",
            "[404]\tvalid_0's auc: 0.999381\n",
            "[405]\tvalid_0's auc: 0.999383\n",
            "[406]\tvalid_0's auc: 0.999383\n",
            "[407]\tvalid_0's auc: 0.999386\n",
            "[408]\tvalid_0's auc: 0.999386\n",
            "[409]\tvalid_0's auc: 0.999388\n",
            "[410]\tvalid_0's auc: 0.999389\n",
            "[411]\tvalid_0's auc: 0.999392\n",
            "[412]\tvalid_0's auc: 0.999392\n",
            "[413]\tvalid_0's auc: 0.999392\n",
            "[414]\tvalid_0's auc: 0.999393\n",
            "[415]\tvalid_0's auc: 0.999394\n",
            "[416]\tvalid_0's auc: 0.999397\n",
            "[417]\tvalid_0's auc: 0.999397\n",
            "[418]\tvalid_0's auc: 0.999396\n",
            "[419]\tvalid_0's auc: 0.999399\n",
            "[420]\tvalid_0's auc: 0.999399\n",
            "[421]\tvalid_0's auc: 0.999399\n",
            "[422]\tvalid_0's auc: 0.999404\n",
            "[423]\tvalid_0's auc: 0.999405\n",
            "[424]\tvalid_0's auc: 0.999402\n",
            "[425]\tvalid_0's auc: 0.999401\n",
            "[426]\tvalid_0's auc: 0.999399\n",
            "[427]\tvalid_0's auc: 0.999399\n",
            "[428]\tvalid_0's auc: 0.999399\n",
            "[429]\tvalid_0's auc: 0.999399\n",
            "[430]\tvalid_0's auc: 0.999399\n",
            "[431]\tvalid_0's auc: 0.999397\n",
            "[432]\tvalid_0's auc: 0.9994\n",
            "[433]\tvalid_0's auc: 0.999402\n",
            "[434]\tvalid_0's auc: 0.999402\n",
            "[435]\tvalid_0's auc: 0.999402\n",
            "[436]\tvalid_0's auc: 0.999399\n",
            "[437]\tvalid_0's auc: 0.999397\n",
            "[438]\tvalid_0's auc: 0.999397\n",
            "[439]\tvalid_0's auc: 0.999396\n",
            "[440]\tvalid_0's auc: 0.999397\n",
            "[441]\tvalid_0's auc: 0.999399\n",
            "[442]\tvalid_0's auc: 0.999398\n",
            "[443]\tvalid_0's auc: 0.999398\n",
            "[444]\tvalid_0's auc: 0.999402\n",
            "[445]\tvalid_0's auc: 0.999403\n",
            "[446]\tvalid_0's auc: 0.999403\n",
            "[447]\tvalid_0's auc: 0.999404\n",
            "[448]\tvalid_0's auc: 0.999403\n",
            "[449]\tvalid_0's auc: 0.999402\n",
            "[450]\tvalid_0's auc: 0.999403\n",
            "[451]\tvalid_0's auc: 0.999405\n",
            "[452]\tvalid_0's auc: 0.999405\n",
            "[453]\tvalid_0's auc: 0.999405\n",
            "[454]\tvalid_0's auc: 0.999404\n",
            "[455]\tvalid_0's auc: 0.999406\n",
            "[456]\tvalid_0's auc: 0.999406\n",
            "[457]\tvalid_0's auc: 0.999406\n",
            "[458]\tvalid_0's auc: 0.999408\n",
            "[459]\tvalid_0's auc: 0.999408\n",
            "[460]\tvalid_0's auc: 0.999408\n",
            "[461]\tvalid_0's auc: 0.99941\n",
            "[462]\tvalid_0's auc: 0.999409\n",
            "[463]\tvalid_0's auc: 0.99941\n",
            "[464]\tvalid_0's auc: 0.999409\n",
            "[465]\tvalid_0's auc: 0.999408\n",
            "[466]\tvalid_0's auc: 0.999408\n",
            "[467]\tvalid_0's auc: 0.999408\n",
            "[468]\tvalid_0's auc: 0.999408\n",
            "[469]\tvalid_0's auc: 0.999408\n",
            "[470]\tvalid_0's auc: 0.999407\n",
            "[471]\tvalid_0's auc: 0.999409\n",
            "[472]\tvalid_0's auc: 0.999409\n",
            "[473]\tvalid_0's auc: 0.999409\n",
            "[474]\tvalid_0's auc: 0.999413\n",
            "[475]\tvalid_0's auc: 0.999412\n",
            "[476]\tvalid_0's auc: 0.999412\n",
            "[477]\tvalid_0's auc: 0.99941\n",
            "[478]\tvalid_0's auc: 0.99941\n",
            "[479]\tvalid_0's auc: 0.99941\n",
            "[480]\tvalid_0's auc: 0.999409\n",
            "[481]\tvalid_0's auc: 0.999411\n",
            "[482]\tvalid_0's auc: 0.999413\n",
            "[483]\tvalid_0's auc: 0.999413\n",
            "[484]\tvalid_0's auc: 0.999413\n",
            "[485]\tvalid_0's auc: 0.999414\n",
            "[486]\tvalid_0's auc: 0.999414\n",
            "[487]\tvalid_0's auc: 0.999414\n",
            "[488]\tvalid_0's auc: 0.999414\n",
            "[489]\tvalid_0's auc: 0.999413\n",
            "[490]\tvalid_0's auc: 0.999413\n",
            "[491]\tvalid_0's auc: 0.999413\n",
            "[492]\tvalid_0's auc: 0.999413\n",
            "[493]\tvalid_0's auc: 0.999413\n",
            "[494]\tvalid_0's auc: 0.999413\n",
            "[495]\tvalid_0's auc: 0.999413\n",
            "[496]\tvalid_0's auc: 0.999412\n",
            "[497]\tvalid_0's auc: 0.999411\n",
            "[498]\tvalid_0's auc: 0.999413\n",
            "[499]\tvalid_0's auc: 0.999413\n",
            "[500]\tvalid_0's auc: 0.999414\n"
          ],
          "name": "stdout"
        }
      ]
    },
    {
      "cell_type": "code",
      "metadata": {
        "colab_type": "code",
        "id": "H2pbV-iPLAeS",
        "colab": {}
      },
      "source": [
        "y_pred_sna = model_sna.predict(X_test_sna)"
      ],
      "execution_count": 0,
      "outputs": []
    },
    {
      "cell_type": "code",
      "metadata": {
        "colab_type": "code",
        "id": "CQV4BfKvLAeV",
        "outputId": "3399b637-e136-430d-b79f-902f79d75f16",
        "colab": {
          "base_uri": "https://localhost:8080/",
          "height": 286
        }
      },
      "source": [
        "auc = roc_auc_score(y_test_sna, y_pred_sna)\n",
        "print('AUC: %.3f' % auc)\n",
        "# calculate roc curve\n",
        "fpr, tpr, thresholds = roc_curve(y_test_sna, y_pred_sna)\n",
        "# plot no skill\n",
        "pyplot.plot([0, 1], [0, 1], linestyle='--')\n",
        "# plot the roc curve for the model\n",
        "pyplot.plot(fpr, tpr, marker='.')\n",
        "# show the plot\n",
        "pyplot.show()"
      ],
      "execution_count": 0,
      "outputs": [
        {
          "output_type": "stream",
          "text": [
            "AUC: 0.996\n"
          ],
          "name": "stdout"
        },
        {
          "output_type": "display_data",
          "data": {
            "image/png": "[encoded data removed]",
            "text/plain": [
              "<Figure size 432x288 with 1 Axes>"
            ]
          },
          "metadata": {
            "tags": []
          }
        }
      ]
    },
    {
      "cell_type": "code",
      "metadata": {
        "colab_type": "code",
        "id": "ub0C3bBpLAeY",
        "outputId": "03a07a98-4408-41c4-92c5-4c7c34f6ae15",
        "colab": {
          "base_uri": "https://localhost:8080/",
          "height": 101
        }
      },
      "source": [
        "fpr[:10], tpr[:10], thresholds[:10]"
      ],
      "execution_count": 0,
      "outputs": [
        {
          "output_type": "execute_result",
          "data": {
            "text/plain": [
              "(array([0., 0., 0., 0., 0., 0., 0., 0., 0., 0.]),\n",
              " array([0.        , 0.00030395, 0.0006079 , 0.00121581, 0.00212766,\n",
              "        0.00334347, 0.00364742, 0.00607903, 0.01550152, 0.01671733]),\n",
              " array([1.99952887, 0.99952887, 0.99950164, 0.99948272, 0.99947696,\n",
              "        0.99947576, 0.99947121, 0.99943416, 0.99941614, 0.99940679]))"
            ]
          },
          "metadata": {
            "tags": []
          },
          "execution_count": 132
        }
      ]
    },
    {
      "cell_type": "code",
      "metadata": {
        "id": "muh_PbZoVQOp",
        "colab_type": "code",
        "outputId": "e1cdda00-6893-4853-cf31-22486e56c43c",
        "colab": {
          "base_uri": "https://localhost:8080/",
          "height": 34
        }
      },
      "source": [
        "f1 = {}\n",
        "\n",
        "for a in [0.90, 0.95, 0.96, 0.97, 0.98, 0.99]:\n",
        "\n",
        "  y_pred_sna = model_sna.predict(X_test_sna)\n",
        "\n",
        "  for i in range(len(y_pred_sna)):\n",
        "      if y_pred_sna[i]>=a:       \n",
        "         y_pred_sna[i]=1\n",
        "      else:  \n",
        "         y_pred_sna[i]=0\n",
        "          \n",
        "  f1[a]= f1_score(y_test_sna, y_pred_sna)\n",
        "  \n",
        "print(f1)"
      ],
      "execution_count": 0,
      "outputs": [
        {
          "output_type": "stream",
          "text": [
            "{0.9: 0.7127590673575129, 0.95: 0.7176917760884589, 0.96: 0.715444287729196, 0.97: 0.7108542532057072, 0.98: 0.6935849056603773, 0.99: 0.642120169937285}\n"
          ],
          "name": "stdout"
        }
      ]
    },
    {
      "cell_type": "code",
      "metadata": {
        "id": "7p9kxae6jiOp",
        "colab_type": "code",
        "colab": {}
      },
      "source": [
        "y_pred_sna = model_sna.predict(X_test_sna)"
      ],
      "execution_count": 0,
      "outputs": []
    },
    {
      "cell_type": "code",
      "metadata": {
        "colab_type": "code",
        "id": "-nVtf25wLAea",
        "colab": {}
      },
      "source": [
        "for i in range(len(y_pred_sna)):\n",
        "    if y_pred_sna[i]>=0.95:      \n",
        "       y_pred_sna[i]=1\n",
        "    else:  \n",
        "       y_pred_sna[i]=0"
      ],
      "execution_count": 0,
      "outputs": []
    },
    {
      "cell_type": "code",
      "metadata": {
        "colab_type": "code",
        "id": "q13Z3OoxLAec",
        "outputId": "a08c3d48-30d7-4219-ebb7-af71e358d79b",
        "colab": {
          "base_uri": "https://localhost:8080/",
          "height": 50
        }
      },
      "source": [
        "confusion_matrix(y_test_sna, y_pred_sna)"
      ],
      "execution_count": 0,
      "outputs": [
        {
          "output_type": "execute_result",
          "data": {
            "text/plain": [
              "array([[293611,    421],\n",
              "       [  1213,   2077]])"
            ]
          },
          "metadata": {
            "tags": []
          },
          "execution_count": 138
        }
      ]
    },
    {
      "cell_type": "code",
      "metadata": {
        "colab_type": "code",
        "id": "q1dWHx_CLAef",
        "outputId": "a9d977aa-5497-4ccc-e017-40e930a57083",
        "colab": {
          "base_uri": "https://localhost:8080/",
          "height": 34
        }
      },
      "source": [
        "accuracy_score(y_test_sna, y_pred_sna)"
      ],
      "execution_count": 0,
      "outputs": [
        {
          "output_type": "execute_result",
          "data": {
            "text/plain": [
              "0.994504274826619"
            ]
          },
          "metadata": {
            "tags": []
          },
          "execution_count": 139
        }
      ]
    },
    {
      "cell_type": "code",
      "metadata": {
        "colab_type": "code",
        "id": "FKFJmh54LAeh",
        "outputId": "77db5c25-4fbb-4349-ce69-135644e716fe",
        "colab": {
          "base_uri": "https://localhost:8080/",
          "height": 34
        }
      },
      "source": [
        "recall_score(y_test_sna, y_pred_sna)"
      ],
      "execution_count": 0,
      "outputs": [
        {
          "output_type": "execute_result",
          "data": {
            "text/plain": [
              "0.6313069908814589"
            ]
          },
          "metadata": {
            "tags": []
          },
          "execution_count": 140
        }
      ]
    },
    {
      "cell_type": "code",
      "metadata": {
        "colab_type": "code",
        "id": "Dt3lquduLAej",
        "outputId": "88f32e11-7bd0-4bd6-98fc-713d64827c83",
        "colab": {
          "base_uri": "https://localhost:8080/",
          "height": 34
        }
      },
      "source": [
        "f1_score(y_test_sna, y_pred_sna)"
      ],
      "execution_count": 0,
      "outputs": [
        {
          "output_type": "execute_result",
          "data": {
            "text/plain": [
              "0.7176917760884589"
            ]
          },
          "metadata": {
            "tags": []
          },
          "execution_count": 141
        }
      ]
    },
    {
      "cell_type": "code",
      "metadata": {
        "colab_type": "code",
        "id": "BIkAixwALAeo",
        "outputId": "4707c3f7-135f-4cbb-ba0d-ab075405493a",
        "colab": {
          "base_uri": "https://localhost:8080/",
          "height": 168
        }
      },
      "source": [
        "print(classification_report(y_test_sna, y_pred_sna))"
      ],
      "execution_count": 0,
      "outputs": [
        {
          "output_type": "stream",
          "text": [
            "              precision    recall  f1-score   support\n",
            "\n",
            "           0       1.00      1.00      1.00    294032\n",
            "           1       0.83      0.63      0.72      3290\n",
            "\n",
            "   micro avg       0.99      0.99      0.99    297322\n",
            "   macro avg       0.91      0.81      0.86    297322\n",
            "weighted avg       0.99      0.99      0.99    297322\n",
            "\n"
          ],
          "name": "stdout"
        }
      ]
    },
    {
      "cell_type": "code",
      "metadata": {
        "colab_type": "code",
        "id": "RESI9tVELAer",
        "outputId": "533b3d52-6e34-4b00-ee07-43ca9c0f2df7",
        "colab": {
          "base_uri": "https://localhost:8080/",
          "height": 312
        }
      },
      "source": [
        "lightgbm.plot_importance(model_sna)"
      ],
      "execution_count": 0,
      "outputs": [
        {
          "output_type": "execute_result",
          "data": {
            "text/plain": [
              "<matplotlib.axes._subplots.AxesSubplot at 0x7fae172bc518>"
            ]
          },
          "metadata": {
            "tags": []
          },
          "execution_count": 143
        },
        {
          "output_type": "display_data",
          "data": {
            "image/png": "[encoded data removed]",
            "text/plain": [
              "<Figure size 432x288 with 1 Axes>"
            ]
          },
          "metadata": {
            "tags": []
          }
        }
      ]
    },
    {
      "cell_type": "markdown",
      "metadata": {
        "colab_type": "text",
        "id": "67w8GP6wQXgt"
      },
      "source": [
        "##Train-Test Split (50%-50%)"
      ]
    },
    {
      "cell_type": "code",
      "metadata": {
        "colab_type": "code",
        "id": "Gow56G5lQXgu",
        "colab": {}
      },
      "source": [
        "X_sna = df.drop([\"fraud\", \"step\"], axis = 1)"
      ],
      "execution_count": 0,
      "outputs": []
    },
    {
      "cell_type": "code",
      "metadata": {
        "colab_type": "code",
        "id": "3GqNbt3jQXgv",
        "colab": {}
      },
      "source": [
        "y_sna = df.fraud"
      ],
      "execution_count": 0,
      "outputs": []
    },
    {
      "cell_type": "code",
      "metadata": {
        "colab_type": "code",
        "id": "6zctZ1YnQXgx",
        "colab": {}
      },
      "source": [
        "X_sna[\"cust_merc_comb\"] = list(zip(X_sna.customer, X_sna.merchant))"
      ],
      "execution_count": 0,
      "outputs": []
    },
    {
      "cell_type": "markdown",
      "metadata": {
        "colab_type": "text",
        "id": "LOtm1WOgQXg1"
      },
      "source": [
        "###Apply SimRank Algorithm"
      ]
    },
    {
      "cell_type": "code",
      "metadata": {
        "colab_type": "code",
        "id": "OvqBCuGeQXg2",
        "colab": {}
      },
      "source": [
        "X_sna[\"Simrank\"] = X_sna[\"cust_merc_comb\"].map(simrank_results)"
      ],
      "execution_count": 0,
      "outputs": []
    },
    {
      "cell_type": "code",
      "metadata": {
        "colab_type": "code",
        "id": "qEKGyHVrQXg3",
        "outputId": "443dcfe9-b671-4041-80b0-4bd6a079d46d",
        "colab": {
          "base_uri": "https://localhost:8080/",
          "height": 106
        }
      },
      "source": [
        "X_sna.head(2)"
      ],
      "execution_count": 0,
      "outputs": [
        {
          "output_type": "execute_result",
          "data": {
            "text/html": [
              "<div>\n",
              "<style scoped>\n",
              "    .dataframe tbody tr th:only-of-type {\n",
              "        vertical-align: middle;\n",
              "    }\n",
              "\n",
              "    .dataframe tbody tr th {\n",
              "        vertical-align: top;\n",
              "    }\n",
              "\n",
              "    .dataframe thead th {\n",
              "        text-align: right;\n",
              "    }\n",
              "</style>\n",
              "<table border=\"1\" class=\"dataframe\">\n",
              "  <thead>\n",
              "    <tr style=\"text-align: right;\">\n",
              "      <th></th>\n",
              "      <th>customer</th>\n",
              "      <th>age</th>\n",
              "      <th>gender</th>\n",
              "      <th>zipcodeOri</th>\n",
              "      <th>merchant</th>\n",
              "      <th>zipMerchant</th>\n",
              "      <th>category</th>\n",
              "      <th>amount</th>\n",
              "      <th>cust_merc_comb</th>\n",
              "      <th>Simrank</th>\n",
              "    </tr>\n",
              "  </thead>\n",
              "  <tbody>\n",
              "    <tr>\n",
              "      <th>0</th>\n",
              "      <td>C1093826151</td>\n",
              "      <td>4</td>\n",
              "      <td>M</td>\n",
              "      <td>28007</td>\n",
              "      <td>M348934600</td>\n",
              "      <td>28007</td>\n",
              "      <td>es_transportation</td>\n",
              "      <td>4.55</td>\n",
              "      <td>(C1093826151, M348934600)</td>\n",
              "      <td>0.000166</td>\n",
              "    </tr>\n",
              "    <tr>\n",
              "      <th>1</th>\n",
              "      <td>C352968107</td>\n",
              "      <td>2</td>\n",
              "      <td>M</td>\n",
              "      <td>28007</td>\n",
              "      <td>M348934600</td>\n",
              "      <td>28007</td>\n",
              "      <td>es_transportation</td>\n",
              "      <td>39.68</td>\n",
              "      <td>(C352968107, M348934600)</td>\n",
              "      <td>0.000166</td>\n",
              "    </tr>\n",
              "  </tbody>\n",
              "</table>\n",
              "</div>"
            ],
            "text/plain": [
              "      customer age gender  ... amount             cust_merc_comb   Simrank\n",
              "0  C1093826151   4      M  ...   4.55  (C1093826151, M348934600)  0.000166\n",
              "1   C352968107   2      M  ...  39.68   (C352968107, M348934600)  0.000166\n",
              "\n",
              "[2 rows x 10 columns]"
            ]
          },
          "metadata": {
            "tags": []
          },
          "execution_count": 305
        }
      ]
    },
    {
      "cell_type": "code",
      "metadata": {
        "colab_type": "code",
        "id": "L4Q1Lea3QXg9",
        "outputId": "d7d0290d-1591-49b2-bc5c-85f370522742",
        "colab": {
          "base_uri": "https://localhost:8080/",
          "height": 202
        }
      },
      "source": [
        "X_sna.isnull().sum()"
      ],
      "execution_count": 0,
      "outputs": [
        {
          "output_type": "execute_result",
          "data": {
            "text/plain": [
              "customer          0\n",
              "age               0\n",
              "gender            0\n",
              "zipcodeOri        0\n",
              "merchant          0\n",
              "zipMerchant       0\n",
              "category          0\n",
              "amount            0\n",
              "cust_merc_comb    0\n",
              "Simrank           0\n",
              "dtype: int64"
            ]
          },
          "metadata": {
            "tags": []
          },
          "execution_count": 306
        }
      ]
    },
    {
      "cell_type": "code",
      "metadata": {
        "colab_type": "code",
        "id": "tJJXKa0GQXg_",
        "colab": {}
      },
      "source": [
        "X_sna.fillna(0, inplace = True)"
      ],
      "execution_count": 0,
      "outputs": []
    },
    {
      "cell_type": "code",
      "metadata": {
        "colab_type": "code",
        "id": "WeI4y9W5QXhB",
        "outputId": "f76dd6ef-c1a0-4aa0-b059-68006f5e97af",
        "colab": {
          "base_uri": "https://localhost:8080/",
          "height": 202
        }
      },
      "source": [
        "X_sna.dtypes"
      ],
      "execution_count": 0,
      "outputs": [
        {
          "output_type": "execute_result",
          "data": {
            "text/plain": [
              "customer           object\n",
              "age                object\n",
              "gender             object\n",
              "zipcodeOri         object\n",
              "merchant           object\n",
              "zipMerchant        object\n",
              "category           object\n",
              "amount            float64\n",
              "cust_merc_comb     object\n",
              "Simrank           float64\n",
              "dtype: object"
            ]
          },
          "metadata": {
            "tags": []
          },
          "execution_count": 308
        }
      ]
    },
    {
      "cell_type": "code",
      "metadata": {
        "colab_type": "code",
        "id": "xZOALhVpQXhC",
        "colab": {}
      },
      "source": [
        "X_sna.drop(\"cust_merc_comb\", axis = 1, inplace = True)"
      ],
      "execution_count": 0,
      "outputs": []
    },
    {
      "cell_type": "code",
      "metadata": {
        "colab_type": "code",
        "id": "y5iQvXLfQXhD",
        "colab": {}
      },
      "source": [
        "#X_sna[\"cust_merc_comb\"] = X_sna[\"cust_merc_comb\"].astype(str)"
      ],
      "execution_count": 0,
      "outputs": []
    },
    {
      "cell_type": "code",
      "metadata": {
        "colab_type": "code",
        "id": "sdQmXyvPQXhF",
        "colab": {}
      },
      "source": [
        "cat_col = X_sna.select_dtypes('object').columns.tolist()\n",
        "\n",
        "le = LabelEncoder()\n",
        "\n",
        "for c in cat_col:\n",
        "  le.fit(X_sna[c])\n",
        "  X_sna[c] = le.transform(X_sna[c])"
      ],
      "execution_count": 0,
      "outputs": []
    },
    {
      "cell_type": "code",
      "metadata": {
        "colab_type": "code",
        "id": "MEzPQYoOQXhH",
        "colab": {}
      },
      "source": [
        "X_train_sna, X_test_sna, y_train_sna, y_test_sna = X_sna[:297321], X_sna[297321:], y_sna[:297321], y_sna[297321:]"
      ],
      "execution_count": 0,
      "outputs": []
    },
    {
      "cell_type": "code",
      "metadata": {
        "colab_type": "code",
        "id": "lSv3uZBaQXhL",
        "outputId": "99a499df-dba3-44bc-da2e-8afce3c6d34c",
        "colab": {
          "base_uri": "https://localhost:8080/",
          "height": 34
        }
      },
      "source": [
        "X_train_sna.shape, X_test_sna.shape"
      ],
      "execution_count": 0,
      "outputs": [
        {
          "output_type": "execute_result",
          "data": {
            "text/plain": [
              "((297321, 9), (297322, 9))"
            ]
          },
          "metadata": {
            "tags": []
          },
          "execution_count": 313
        }
      ]
    },
    {
      "cell_type": "code",
      "metadata": {
        "colab_type": "code",
        "id": "EXRfzBbIQXhO",
        "outputId": "d29e85ac-18cd-4563-f56d-dc2763f896bb",
        "colab": {
          "base_uri": "https://localhost:8080/",
          "height": 106
        }
      },
      "source": [
        "X_train_sna.head(2)"
      ],
      "execution_count": 0,
      "outputs": [
        {
          "output_type": "execute_result",
          "data": {
            "text/html": [
              "<div>\n",
              "<style scoped>\n",
              "    .dataframe tbody tr th:only-of-type {\n",
              "        vertical-align: middle;\n",
              "    }\n",
              "\n",
              "    .dataframe tbody tr th {\n",
              "        vertical-align: top;\n",
              "    }\n",
              "\n",
              "    .dataframe thead th {\n",
              "        text-align: right;\n",
              "    }\n",
              "</style>\n",
              "<table border=\"1\" class=\"dataframe\">\n",
              "  <thead>\n",
              "    <tr style=\"text-align: right;\">\n",
              "      <th></th>\n",
              "      <th>customer</th>\n",
              "      <th>age</th>\n",
              "      <th>gender</th>\n",
              "      <th>zipcodeOri</th>\n",
              "      <th>merchant</th>\n",
              "      <th>zipMerchant</th>\n",
              "      <th>category</th>\n",
              "      <th>amount</th>\n",
              "      <th>Simrank</th>\n",
              "    </tr>\n",
              "  </thead>\n",
              "  <tbody>\n",
              "    <tr>\n",
              "      <th>0</th>\n",
              "      <td>210</td>\n",
              "      <td>4</td>\n",
              "      <td>2</td>\n",
              "      <td>0</td>\n",
              "      <td>30</td>\n",
              "      <td>0</td>\n",
              "      <td>12</td>\n",
              "      <td>4.55</td>\n",
              "      <td>0.000166</td>\n",
              "    </tr>\n",
              "    <tr>\n",
              "      <th>1</th>\n",
              "      <td>2753</td>\n",
              "      <td>2</td>\n",
              "      <td>2</td>\n",
              "      <td>0</td>\n",
              "      <td>30</td>\n",
              "      <td>0</td>\n",
              "      <td>12</td>\n",
              "      <td>39.68</td>\n",
              "      <td>0.000166</td>\n",
              "    </tr>\n",
              "  </tbody>\n",
              "</table>\n",
              "</div>"
            ],
            "text/plain": [
              "   customer  age  gender  zipcodeOri  ...  zipMerchant  category  amount   Simrank\n",
              "0       210    4       2           0  ...            0        12    4.55  0.000166\n",
              "1      2753    2       2           0  ...            0        12   39.68  0.000166\n",
              "\n",
              "[2 rows x 9 columns]"
            ]
          },
          "metadata": {
            "tags": []
          },
          "execution_count": 314
        }
      ]
    },
    {
      "cell_type": "code",
      "metadata": {
        "colab_type": "code",
        "id": "UGtdpeDWQXhR",
        "colab": {}
      },
      "source": [
        "sc = StandardScaler()\n",
        "\n",
        "sc_col = X_sna.select_dtypes([\"float64\", \"int64\"]).columns.tolist()\n",
        "\n",
        "for i in sc_col:\n",
        "  X_train_sna[i] = sc.fit_transform(np.array(X_train_sna[i]).reshape(-1, 1))\n",
        "  X_test_sna[i] = sc.transform(np.array(X_test_sna[i]).reshape(-1, 1))"
      ],
      "execution_count": 0,
      "outputs": []
    },
    {
      "cell_type": "markdown",
      "metadata": {
        "colab_type": "text",
        "id": "6cJzW9e1QXhT"
      },
      "source": [
        "##Train-Validation Split (80%-20%)"
      ]
    },
    {
      "cell_type": "code",
      "metadata": {
        "colab_type": "code",
        "id": "8Uf3lJVeQXhU",
        "colab": {}
      },
      "source": [
        "X_train_sna, X_val_sna, y_train_sna, y_val_sna = X_train_sna[:237856], X_train_sna[237856:], y_train_sna[:237856], y_train_sna[237856:]"
      ],
      "execution_count": 0,
      "outputs": []
    },
    {
      "cell_type": "code",
      "metadata": {
        "colab_type": "code",
        "id": "9CEJxtSDQXhW",
        "outputId": "b2cfc186-28ab-45a8-8f17-311b084c1ac1",
        "colab": {
          "base_uri": "https://localhost:8080/",
          "height": 34
        }
      },
      "source": [
        "X_val_sna.shape"
      ],
      "execution_count": 0,
      "outputs": [
        {
          "output_type": "execute_result",
          "data": {
            "text/plain": [
              "(59465, 9)"
            ]
          },
          "metadata": {
            "tags": []
          },
          "execution_count": 317
        }
      ]
    },
    {
      "cell_type": "code",
      "metadata": {
        "colab_type": "code",
        "id": "ODmX-iTTQXhX",
        "colab": {}
      },
      "source": [
        "sc = StandardScaler()\n",
        "\n",
        "sc_col = X.select_dtypes([\"float64\", \"int64\"]).columns.tolist()\n",
        "\n",
        "for i in sc_col:\n",
        "  X_train_sna[i] = sc.fit_transform(np.array(X_train_sna[i]).reshape(-1, 1))\n",
        "  X_val_sna[i] = sc.transform(np.array(X_val_sna[i]).reshape(-1, 1))"
      ],
      "execution_count": 0,
      "outputs": []
    },
    {
      "cell_type": "code",
      "metadata": {
        "colab_type": "code",
        "id": "L5HxuEduQXhY",
        "outputId": "e19c9e79-7dea-411e-c620-773898e64d74",
        "colab": {
          "base_uri": "https://localhost:8080/",
          "height": 34
        }
      },
      "source": [
        "X_train_sna.shape, X_val_sna.shape, X_test_sna.shape"
      ],
      "execution_count": 0,
      "outputs": [
        {
          "output_type": "execute_result",
          "data": {
            "text/plain": [
              "((237856, 9), (59465, 9), (297322, 9))"
            ]
          },
          "metadata": {
            "tags": []
          },
          "execution_count": 319
        }
      ]
    },
    {
      "cell_type": "code",
      "metadata": {
        "colab_type": "code",
        "id": "2R2sPhRgQXhd",
        "outputId": "5e1f0922-8c92-4721-a4f2-0504db44fd84",
        "colab": {
          "base_uri": "https://localhost:8080/",
          "height": 166
        }
      },
      "source": [
        "X_train_sna.head(4)"
      ],
      "execution_count": 0,
      "outputs": [
        {
          "output_type": "execute_result",
          "data": {
            "text/html": [
              "<div>\n",
              "<style scoped>\n",
              "    .dataframe tbody tr th:only-of-type {\n",
              "        vertical-align: middle;\n",
              "    }\n",
              "\n",
              "    .dataframe tbody tr th {\n",
              "        vertical-align: top;\n",
              "    }\n",
              "\n",
              "    .dataframe thead th {\n",
              "        text-align: right;\n",
              "    }\n",
              "</style>\n",
              "<table border=\"1\" class=\"dataframe\">\n",
              "  <thead>\n",
              "    <tr style=\"text-align: right;\">\n",
              "      <th></th>\n",
              "      <th>customer</th>\n",
              "      <th>age</th>\n",
              "      <th>gender</th>\n",
              "      <th>zipcodeOri</th>\n",
              "      <th>merchant</th>\n",
              "      <th>zipMerchant</th>\n",
              "      <th>category</th>\n",
              "      <th>amount</th>\n",
              "      <th>Simrank</th>\n",
              "    </tr>\n",
              "  </thead>\n",
              "  <tbody>\n",
              "    <tr>\n",
              "      <th>0</th>\n",
              "      <td>-1.544853</td>\n",
              "      <td>0.738340</td>\n",
              "      <td>1.090001</td>\n",
              "      <td>0.0</td>\n",
              "      <td>0.564267</td>\n",
              "      <td>0.0</td>\n",
              "      <td>0.318357</td>\n",
              "      <td>-0.280284</td>\n",
              "      <td>-0.07135</td>\n",
              "    </tr>\n",
              "    <tr>\n",
              "      <th>1</th>\n",
              "      <td>0.607342</td>\n",
              "      <td>-0.757088</td>\n",
              "      <td>1.090001</td>\n",
              "      <td>0.0</td>\n",
              "      <td>0.564267</td>\n",
              "      <td>0.0</td>\n",
              "      <td>0.318357</td>\n",
              "      <td>0.006009</td>\n",
              "      <td>-0.07135</td>\n",
              "    </tr>\n",
              "    <tr>\n",
              "      <th>2</th>\n",
              "      <td>0.211264</td>\n",
              "      <td>0.738340</td>\n",
              "      <td>-0.897651</td>\n",
              "      <td>0.0</td>\n",
              "      <td>-0.872640</td>\n",
              "      <td>0.0</td>\n",
              "      <td>0.318357</td>\n",
              "      <td>-0.098224</td>\n",
              "      <td>-0.07135</td>\n",
              "    </tr>\n",
              "    <tr>\n",
              "      <th>3</th>\n",
              "      <td>-0.326150</td>\n",
              "      <td>-0.009374</td>\n",
              "      <td>1.090001</td>\n",
              "      <td>0.0</td>\n",
              "      <td>0.564267</td>\n",
              "      <td>0.0</td>\n",
              "      <td>0.318357</td>\n",
              "      <td>-0.176785</td>\n",
              "      <td>-0.07135</td>\n",
              "    </tr>\n",
              "  </tbody>\n",
              "</table>\n",
              "</div>"
            ],
            "text/plain": [
              "   customer       age    gender  ...  category    amount  Simrank\n",
              "0 -1.544853  0.738340  1.090001  ...  0.318357 -0.280284 -0.07135\n",
              "1  0.607342 -0.757088  1.090001  ...  0.318357  0.006009 -0.07135\n",
              "2  0.211264  0.738340 -0.897651  ...  0.318357 -0.098224 -0.07135\n",
              "3 -0.326150 -0.009374  1.090001  ...  0.318357 -0.176785 -0.07135\n",
              "\n",
              "[4 rows x 9 columns]"
            ]
          },
          "metadata": {
            "tags": []
          },
          "execution_count": 320
        }
      ]
    },
    {
      "cell_type": "code",
      "metadata": {
        "colab_type": "code",
        "id": "dhkkYC7LQXhf",
        "colab": {}
      },
      "source": [
        "parameters = {\n",
        "    'application': 'binary',\n",
        "    'objective': 'binary',\n",
        "    'metric': 'auc',\n",
        "    'is_unbalance': 'true',\n",
        "    'boosting': 'dart',\n",
        "    'num_leaves': 63,\n",
        "    'feature_fraction': 0.5,\n",
        "    'bagging_fraction': 0.5,\n",
        "    'bagging_freq': 20,\n",
        "    'learning_rate': 0.05,\n",
        "    'verbose': 0,\n",
        "    \"lambda_l2\" : 0.5,\n",
        "    \"lambda_l1\" : 0.5,\n",
        "    \"min_gain_to_split\" : 0.2,\n",
        "    \"max_depth\" : 3\n",
        "}"
      ],
      "execution_count": 0,
      "outputs": []
    },
    {
      "cell_type": "code",
      "metadata": {
        "colab_type": "code",
        "id": "KAVhiryZQXhh",
        "colab": {}
      },
      "source": [
        "train_data_sna = lightgbm.Dataset(X_train_sna, label=y_train_sna, categorical_feature=cat_col)\n",
        "val_data_sna = lightgbm.Dataset(X_val_sna, label=y_val_sna)"
      ],
      "execution_count": 0,
      "outputs": []
    },
    {
      "cell_type": "code",
      "metadata": {
        "colab_type": "code",
        "id": "lPUlxcf7QXhi",
        "outputId": "0ad02ccd-bfc8-45ea-b281-585a1e5c7c4a",
        "colab": {
          "base_uri": "https://localhost:8080/",
          "height": 8417
        }
      },
      "source": [
        "model_sna = lightgbm.train(parameters,\n",
        "                       train_data_sna,\n",
        "                       valid_sets=val_data_sna,\n",
        "                       num_boost_round=500,\n",
        "                       early_stopping_rounds=100)"
      ],
      "execution_count": 0,
      "outputs": [
        {
          "output_type": "stream",
          "text": [
            "[1]\tvalid_0's auc: 0.955742\n",
            "[2]\tvalid_0's auc: 0.983836\n",
            "[3]\tvalid_0's auc: 0.985896\n",
            "[4]\tvalid_0's auc: 0.986321\n",
            "[5]\tvalid_0's auc: 0.987458\n",
            "[6]\tvalid_0's auc: 0.987979\n",
            "[7]\tvalid_0's auc: 0.988267\n",
            "[8]\tvalid_0's auc: 0.987906\n",
            "[9]\tvalid_0's auc: 0.988943\n",
            "[10]\tvalid_0's auc: 0.989742\n",
            "[11]\tvalid_0's auc: 0.989976\n",
            "[12]\tvalid_0's auc: 0.989615\n",
            "[13]\tvalid_0's auc: 0.989802\n",
            "[14]\tvalid_0's auc: 0.989966\n",
            "[15]\tvalid_0's auc: 0.990616\n",
            "[16]\tvalid_0's auc: 0.991153\n",
            "[17]\tvalid_0's auc: 0.991205\n",
            "[18]\tvalid_0's auc: 0.991191\n",
            "[19]\tvalid_0's auc: 0.991657\n",
            "[20]\tvalid_0's auc: 0.991732\n",
            "[21]\tvalid_0's auc: 0.991596\n",
            "[22]\tvalid_0's auc: 0.991593\n",
            "[23]\tvalid_0's auc: 0.991597\n",
            "[24]\tvalid_0's auc: 0.991734\n",
            "[25]\tvalid_0's auc: 0.991834\n",
            "[26]\tvalid_0's auc: 0.99191\n",
            "[27]\tvalid_0's auc: 0.991907\n",
            "[28]\tvalid_0's auc: 0.991784\n",
            "[29]\tvalid_0's auc: 0.991856\n",
            "[30]\tvalid_0's auc: 0.992191\n",
            "[31]\tvalid_0's auc: 0.992142\n",
            "[32]\tvalid_0's auc: 0.992342\n",
            "[33]\tvalid_0's auc: 0.993249\n",
            "[34]\tvalid_0's auc: 0.993209\n",
            "[35]\tvalid_0's auc: 0.993177\n",
            "[36]\tvalid_0's auc: 0.992775\n",
            "[37]\tvalid_0's auc: 0.992729\n",
            "[38]\tvalid_0's auc: 0.993532\n",
            "[39]\tvalid_0's auc: 0.994126\n",
            "[40]\tvalid_0's auc: 0.994108\n",
            "[41]\tvalid_0's auc: 0.993881\n",
            "[42]\tvalid_0's auc: 0.994457\n",
            "[43]\tvalid_0's auc: 0.994381\n",
            "[44]\tvalid_0's auc: 0.994379\n",
            "[45]\tvalid_0's auc: 0.994569\n",
            "[46]\tvalid_0's auc: 0.995264\n",
            "[47]\tvalid_0's auc: 0.995639\n",
            "[48]\tvalid_0's auc: 0.995657\n",
            "[49]\tvalid_0's auc: 0.995632\n",
            "[50]\tvalid_0's auc: 0.995394\n",
            "[51]\tvalid_0's auc: 0.995912\n",
            "[52]\tvalid_0's auc: 0.996057\n",
            "[53]\tvalid_0's auc: 0.995949\n",
            "[54]\tvalid_0's auc: 0.996309\n",
            "[55]\tvalid_0's auc: 0.99623\n",
            "[56]\tvalid_0's auc: 0.996091\n",
            "[57]\tvalid_0's auc: 0.996151\n",
            "[58]\tvalid_0's auc: 0.996802\n",
            "[59]\tvalid_0's auc: 0.996751\n",
            "[60]\tvalid_0's auc: 0.996956\n",
            "[61]\tvalid_0's auc: 0.997453\n",
            "[62]\tvalid_0's auc: 0.997491\n",
            "[63]\tvalid_0's auc: 0.997511\n",
            "[64]\tvalid_0's auc: 0.997467\n",
            "[65]\tvalid_0's auc: 0.997375\n",
            "[66]\tvalid_0's auc: 0.997368\n",
            "[67]\tvalid_0's auc: 0.997311\n",
            "[68]\tvalid_0's auc: 0.997458\n",
            "[69]\tvalid_0's auc: 0.997367\n",
            "[70]\tvalid_0's auc: 0.997307\n",
            "[71]\tvalid_0's auc: 0.997302\n",
            "[72]\tvalid_0's auc: 0.997249\n",
            "[73]\tvalid_0's auc: 0.997382\n",
            "[74]\tvalid_0's auc: 0.997325\n",
            "[75]\tvalid_0's auc: 0.997509\n",
            "[76]\tvalid_0's auc: 0.997532\n",
            "[77]\tvalid_0's auc: 0.997501\n",
            "[78]\tvalid_0's auc: 0.997464\n",
            "[79]\tvalid_0's auc: 0.997466\n",
            "[80]\tvalid_0's auc: 0.997482\n",
            "[81]\tvalid_0's auc: 0.997436\n",
            "[82]\tvalid_0's auc: 0.997487\n",
            "[83]\tvalid_0's auc: 0.997479\n",
            "[84]\tvalid_0's auc: 0.997487\n",
            "[85]\tvalid_0's auc: 0.99745\n",
            "[86]\tvalid_0's auc: 0.997573\n",
            "[87]\tvalid_0's auc: 0.997582\n",
            "[88]\tvalid_0's auc: 0.997543\n",
            "[89]\tvalid_0's auc: 0.997515\n",
            "[90]\tvalid_0's auc: 0.997487\n",
            "[91]\tvalid_0's auc: 0.997809\n",
            "[92]\tvalid_0's auc: 0.997757\n",
            "[93]\tvalid_0's auc: 0.997794\n",
            "[94]\tvalid_0's auc: 0.997784\n",
            "[95]\tvalid_0's auc: 0.997785\n",
            "[96]\tvalid_0's auc: 0.997754\n",
            "[97]\tvalid_0's auc: 0.997839\n",
            "[98]\tvalid_0's auc: 0.997834\n",
            "[99]\tvalid_0's auc: 0.997824\n",
            "[100]\tvalid_0's auc: 0.997865\n",
            "[101]\tvalid_0's auc: 0.997983\n",
            "[102]\tvalid_0's auc: 0.997942\n",
            "[103]\tvalid_0's auc: 0.997922\n",
            "[104]\tvalid_0's auc: 0.99792\n",
            "[105]\tvalid_0's auc: 0.998033\n",
            "[106]\tvalid_0's auc: 0.998019\n",
            "[107]\tvalid_0's auc: 0.997988\n",
            "[108]\tvalid_0's auc: 0.998072\n",
            "[109]\tvalid_0's auc: 0.998052\n",
            "[110]\tvalid_0's auc: 0.998033\n",
            "[111]\tvalid_0's auc: 0.998122\n",
            "[112]\tvalid_0's auc: 0.998144\n",
            "[113]\tvalid_0's auc: 0.998194\n",
            "[114]\tvalid_0's auc: 0.998233\n",
            "[115]\tvalid_0's auc: 0.998254\n",
            "[116]\tvalid_0's auc: 0.998299\n",
            "[117]\tvalid_0's auc: 0.998288\n",
            "[118]\tvalid_0's auc: 0.998305\n",
            "[119]\tvalid_0's auc: 0.998293\n",
            "[120]\tvalid_0's auc: 0.998277\n",
            "[121]\tvalid_0's auc: 0.998275\n",
            "[122]\tvalid_0's auc: 0.998271\n",
            "[123]\tvalid_0's auc: 0.998263\n",
            "[124]\tvalid_0's auc: 0.998336\n",
            "[125]\tvalid_0's auc: 0.998332\n",
            "[126]\tvalid_0's auc: 0.998324\n",
            "[127]\tvalid_0's auc: 0.998363\n",
            "[128]\tvalid_0's auc: 0.998359\n",
            "[129]\tvalid_0's auc: 0.998391\n",
            "[130]\tvalid_0's auc: 0.998426\n",
            "[131]\tvalid_0's auc: 0.998423\n",
            "[132]\tvalid_0's auc: 0.998439\n",
            "[133]\tvalid_0's auc: 0.998465\n",
            "[134]\tvalid_0's auc: 0.998511\n",
            "[135]\tvalid_0's auc: 0.998487\n",
            "[136]\tvalid_0's auc: 0.998544\n",
            "[137]\tvalid_0's auc: 0.998542\n",
            "[138]\tvalid_0's auc: 0.998511\n",
            "[139]\tvalid_0's auc: 0.998524\n",
            "[140]\tvalid_0's auc: 0.998518\n",
            "[141]\tvalid_0's auc: 0.998514\n",
            "[142]\tvalid_0's auc: 0.998506\n",
            "[143]\tvalid_0's auc: 0.998612\n",
            "[144]\tvalid_0's auc: 0.998608\n",
            "[145]\tvalid_0's auc: 0.998664\n",
            "[146]\tvalid_0's auc: 0.998652\n",
            "[147]\tvalid_0's auc: 0.998644\n",
            "[148]\tvalid_0's auc: 0.99864\n",
            "[149]\tvalid_0's auc: 0.998639\n",
            "[150]\tvalid_0's auc: 0.998613\n",
            "[151]\tvalid_0's auc: 0.998632\n",
            "[152]\tvalid_0's auc: 0.998662\n",
            "[153]\tvalid_0's auc: 0.998623\n",
            "[154]\tvalid_0's auc: 0.998624\n",
            "[155]\tvalid_0's auc: 0.998664\n",
            "[156]\tvalid_0's auc: 0.998662\n",
            "[157]\tvalid_0's auc: 0.998658\n",
            "[158]\tvalid_0's auc: 0.998658\n",
            "[159]\tvalid_0's auc: 0.998658\n",
            "[160]\tvalid_0's auc: 0.998652\n",
            "[161]\tvalid_0's auc: 0.998674\n",
            "[162]\tvalid_0's auc: 0.998674\n",
            "[163]\tvalid_0's auc: 0.998639\n",
            "[164]\tvalid_0's auc: 0.998673\n",
            "[165]\tvalid_0's auc: 0.998672\n",
            "[166]\tvalid_0's auc: 0.998693\n",
            "[167]\tvalid_0's auc: 0.998715\n",
            "[168]\tvalid_0's auc: 0.998725\n",
            "[169]\tvalid_0's auc: 0.998732\n",
            "[170]\tvalid_0's auc: 0.998742\n",
            "[171]\tvalid_0's auc: 0.998748\n",
            "[172]\tvalid_0's auc: 0.998764\n",
            "[173]\tvalid_0's auc: 0.998781\n",
            "[174]\tvalid_0's auc: 0.998794\n",
            "[175]\tvalid_0's auc: 0.998807\n",
            "[176]\tvalid_0's auc: 0.998806\n",
            "[177]\tvalid_0's auc: 0.998805\n",
            "[178]\tvalid_0's auc: 0.9988\n",
            "[179]\tvalid_0's auc: 0.998818\n",
            "[180]\tvalid_0's auc: 0.998815\n",
            "[181]\tvalid_0's auc: 0.998819\n",
            "[182]\tvalid_0's auc: 0.998798\n",
            "[183]\tvalid_0's auc: 0.998802\n",
            "[184]\tvalid_0's auc: 0.998799\n",
            "[185]\tvalid_0's auc: 0.998794\n",
            "[186]\tvalid_0's auc: 0.998808\n",
            "[187]\tvalid_0's auc: 0.998788\n",
            "[188]\tvalid_0's auc: 0.998801\n",
            "[189]\tvalid_0's auc: 0.998798\n",
            "[190]\tvalid_0's auc: 0.998798\n",
            "[191]\tvalid_0's auc: 0.998808\n",
            "[192]\tvalid_0's auc: 0.998815\n",
            "[193]\tvalid_0's auc: 0.998812\n",
            "[194]\tvalid_0's auc: 0.998813\n",
            "[195]\tvalid_0's auc: 0.99881\n",
            "[196]\tvalid_0's auc: 0.998809\n",
            "[197]\tvalid_0's auc: 0.998808\n",
            "[198]\tvalid_0's auc: 0.998807\n",
            "[199]\tvalid_0's auc: 0.998815\n",
            "[200]\tvalid_0's auc: 0.998809\n",
            "[201]\tvalid_0's auc: 0.998809\n",
            "[202]\tvalid_0's auc: 0.998805\n",
            "[203]\tvalid_0's auc: 0.998808\n",
            "[204]\tvalid_0's auc: 0.998808\n",
            "[205]\tvalid_0's auc: 0.99882\n",
            "[206]\tvalid_0's auc: 0.99882\n",
            "[207]\tvalid_0's auc: 0.998817\n",
            "[208]\tvalid_0's auc: 0.998821\n",
            "[209]\tvalid_0's auc: 0.998816\n",
            "[210]\tvalid_0's auc: 0.998812\n",
            "[211]\tvalid_0's auc: 0.99881\n",
            "[212]\tvalid_0's auc: 0.998819\n",
            "[213]\tvalid_0's auc: 0.998829\n",
            "[214]\tvalid_0's auc: 0.998838\n",
            "[215]\tvalid_0's auc: 0.998839\n",
            "[216]\tvalid_0's auc: 0.998837\n",
            "[217]\tvalid_0's auc: 0.998842\n",
            "[218]\tvalid_0's auc: 0.998851\n",
            "[219]\tvalid_0's auc: 0.998858\n",
            "[220]\tvalid_0's auc: 0.99886\n",
            "[221]\tvalid_0's auc: 0.99886\n",
            "[222]\tvalid_0's auc: 0.998858\n",
            "[223]\tvalid_0's auc: 0.998875\n",
            "[224]\tvalid_0's auc: 0.998875\n",
            "[225]\tvalid_0's auc: 0.998873\n",
            "[226]\tvalid_0's auc: 0.998873\n",
            "[227]\tvalid_0's auc: 0.998873\n",
            "[228]\tvalid_0's auc: 0.998876\n",
            "[229]\tvalid_0's auc: 0.998876\n",
            "[230]\tvalid_0's auc: 0.998861\n",
            "[231]\tvalid_0's auc: 0.998868\n",
            "[232]\tvalid_0's auc: 0.998871\n",
            "[233]\tvalid_0's auc: 0.998869\n",
            "[234]\tvalid_0's auc: 0.998872\n",
            "[235]\tvalid_0's auc: 0.998872\n",
            "[236]\tvalid_0's auc: 0.998868\n",
            "[237]\tvalid_0's auc: 0.998867\n",
            "[238]\tvalid_0's auc: 0.998853\n",
            "[239]\tvalid_0's auc: 0.99885\n",
            "[240]\tvalid_0's auc: 0.998866\n",
            "[241]\tvalid_0's auc: 0.998864\n",
            "[242]\tvalid_0's auc: 0.998868\n",
            "[243]\tvalid_0's auc: 0.998867\n",
            "[244]\tvalid_0's auc: 0.998873\n",
            "[245]\tvalid_0's auc: 0.998877\n",
            "[246]\tvalid_0's auc: 0.998875\n",
            "[247]\tvalid_0's auc: 0.998863\n",
            "[248]\tvalid_0's auc: 0.998862\n",
            "[249]\tvalid_0's auc: 0.998861\n",
            "[250]\tvalid_0's auc: 0.998858\n",
            "[251]\tvalid_0's auc: 0.998856\n",
            "[252]\tvalid_0's auc: 0.998855\n",
            "[253]\tvalid_0's auc: 0.998861\n",
            "[254]\tvalid_0's auc: 0.998852\n",
            "[255]\tvalid_0's auc: 0.998861\n",
            "[256]\tvalid_0's auc: 0.998871\n",
            "[257]\tvalid_0's auc: 0.998878\n",
            "[258]\tvalid_0's auc: 0.998886\n",
            "[259]\tvalid_0's auc: 0.998885\n",
            "[260]\tvalid_0's auc: 0.998886\n",
            "[261]\tvalid_0's auc: 0.998884\n",
            "[262]\tvalid_0's auc: 0.998884\n",
            "[263]\tvalid_0's auc: 0.998884\n",
            "[264]\tvalid_0's auc: 0.9989\n",
            "[265]\tvalid_0's auc: 0.998906\n",
            "[266]\tvalid_0's auc: 0.998911\n",
            "[267]\tvalid_0's auc: 0.99891\n",
            "[268]\tvalid_0's auc: 0.998912\n",
            "[269]\tvalid_0's auc: 0.998911\n",
            "[270]\tvalid_0's auc: 0.998914\n",
            "[271]\tvalid_0's auc: 0.998912\n",
            "[272]\tvalid_0's auc: 0.998918\n",
            "[273]\tvalid_0's auc: 0.998921\n",
            "[274]\tvalid_0's auc: 0.998921\n",
            "[275]\tvalid_0's auc: 0.998924\n",
            "[276]\tvalid_0's auc: 0.998924\n",
            "[277]\tvalid_0's auc: 0.998938\n",
            "[278]\tvalid_0's auc: 0.998937\n",
            "[279]\tvalid_0's auc: 0.99894\n",
            "[280]\tvalid_0's auc: 0.998939\n",
            "[281]\tvalid_0's auc: 0.998943\n",
            "[282]\tvalid_0's auc: 0.998942\n",
            "[283]\tvalid_0's auc: 0.998941\n",
            "[284]\tvalid_0's auc: 0.998946\n",
            "[285]\tvalid_0's auc: 0.99895\n",
            "[286]\tvalid_0's auc: 0.998955\n",
            "[287]\tvalid_0's auc: 0.998957\n",
            "[288]\tvalid_0's auc: 0.998955\n",
            "[289]\tvalid_0's auc: 0.998954\n",
            "[290]\tvalid_0's auc: 0.998959\n",
            "[291]\tvalid_0's auc: 0.998962\n",
            "[292]\tvalid_0's auc: 0.998961\n",
            "[293]\tvalid_0's auc: 0.998961\n",
            "[294]\tvalid_0's auc: 0.998969\n",
            "[295]\tvalid_0's auc: 0.998967\n",
            "[296]\tvalid_0's auc: 0.998966\n",
            "[297]\tvalid_0's auc: 0.998971\n",
            "[298]\tvalid_0's auc: 0.998971\n",
            "[299]\tvalid_0's auc: 0.998982\n",
            "[300]\tvalid_0's auc: 0.998981\n",
            "[301]\tvalid_0's auc: 0.998982\n",
            "[302]\tvalid_0's auc: 0.998987\n",
            "[303]\tvalid_0's auc: 0.998985\n",
            "[304]\tvalid_0's auc: 0.998985\n",
            "[305]\tvalid_0's auc: 0.998984\n",
            "[306]\tvalid_0's auc: 0.998982\n",
            "[307]\tvalid_0's auc: 0.998982\n",
            "[308]\tvalid_0's auc: 0.998984\n",
            "[309]\tvalid_0's auc: 0.998985\n",
            "[310]\tvalid_0's auc: 0.998979\n",
            "[311]\tvalid_0's auc: 0.998991\n",
            "[312]\tvalid_0's auc: 0.998992\n",
            "[313]\tvalid_0's auc: 0.998991\n",
            "[314]\tvalid_0's auc: 0.998996\n",
            "[315]\tvalid_0's auc: 0.998995\n",
            "[316]\tvalid_0's auc: 0.998994\n",
            "[317]\tvalid_0's auc: 0.998998\n",
            "[318]\tvalid_0's auc: 0.998998\n",
            "[319]\tvalid_0's auc: 0.998997\n",
            "[320]\tvalid_0's auc: 0.998997\n",
            "[321]\tvalid_0's auc: 0.998996\n",
            "[322]\tvalid_0's auc: 0.998997\n",
            "[323]\tvalid_0's auc: 0.999006\n",
            "[324]\tvalid_0's auc: 0.999004\n",
            "[325]\tvalid_0's auc: 0.999013\n",
            "[326]\tvalid_0's auc: 0.999013\n",
            "[327]\tvalid_0's auc: 0.999013\n",
            "[328]\tvalid_0's auc: 0.999013\n",
            "[329]\tvalid_0's auc: 0.999019\n",
            "[330]\tvalid_0's auc: 0.999018\n",
            "[331]\tvalid_0's auc: 0.999017\n",
            "[332]\tvalid_0's auc: 0.99902\n",
            "[333]\tvalid_0's auc: 0.999018\n",
            "[334]\tvalid_0's auc: 0.999018\n",
            "[335]\tvalid_0's auc: 0.999024\n",
            "[336]\tvalid_0's auc: 0.999024\n",
            "[337]\tvalid_0's auc: 0.999027\n",
            "[338]\tvalid_0's auc: 0.999027\n",
            "[339]\tvalid_0's auc: 0.999027\n",
            "[340]\tvalid_0's auc: 0.999026\n",
            "[341]\tvalid_0's auc: 0.999031\n",
            "[342]\tvalid_0's auc: 0.999038\n",
            "[343]\tvalid_0's auc: 0.99904\n",
            "[344]\tvalid_0's auc: 0.99904\n",
            "[345]\tvalid_0's auc: 0.999035\n",
            "[346]\tvalid_0's auc: 0.999038\n",
            "[347]\tvalid_0's auc: 0.999037\n",
            "[348]\tvalid_0's auc: 0.99904\n",
            "[349]\tvalid_0's auc: 0.99904\n",
            "[350]\tvalid_0's auc: 0.999039\n",
            "[351]\tvalid_0's auc: 0.999046\n",
            "[352]\tvalid_0's auc: 0.99904\n",
            "[353]\tvalid_0's auc: 0.999041\n",
            "[354]\tvalid_0's auc: 0.99904\n",
            "[355]\tvalid_0's auc: 0.99904\n",
            "[356]\tvalid_0's auc: 0.999043\n",
            "[357]\tvalid_0's auc: 0.999042\n",
            "[358]\tvalid_0's auc: 0.999044\n",
            "[359]\tvalid_0's auc: 0.999045\n",
            "[360]\tvalid_0's auc: 0.999046\n",
            "[361]\tvalid_0's auc: 0.999053\n",
            "[362]\tvalid_0's auc: 0.999055\n",
            "[363]\tvalid_0's auc: 0.999053\n",
            "[364]\tvalid_0's auc: 0.999052\n",
            "[365]\tvalid_0's auc: 0.999053\n",
            "[366]\tvalid_0's auc: 0.999053\n",
            "[367]\tvalid_0's auc: 0.999052\n",
            "[368]\tvalid_0's auc: 0.999053\n",
            "[369]\tvalid_0's auc: 0.999052\n",
            "[370]\tvalid_0's auc: 0.999053\n",
            "[371]\tvalid_0's auc: 0.999053\n",
            "[372]\tvalid_0's auc: 0.999054\n",
            "[373]\tvalid_0's auc: 0.999056\n",
            "[374]\tvalid_0's auc: 0.999061\n",
            "[375]\tvalid_0's auc: 0.999064\n",
            "[376]\tvalid_0's auc: 0.999064\n",
            "[377]\tvalid_0's auc: 0.999068\n",
            "[378]\tvalid_0's auc: 0.999068\n",
            "[379]\tvalid_0's auc: 0.999067\n",
            "[380]\tvalid_0's auc: 0.999066\n",
            "[381]\tvalid_0's auc: 0.999065\n",
            "[382]\tvalid_0's auc: 0.999064\n",
            "[383]\tvalid_0's auc: 0.999068\n",
            "[384]\tvalid_0's auc: 0.999067\n",
            "[385]\tvalid_0's auc: 0.999067\n",
            "[386]\tvalid_0's auc: 0.999071\n",
            "[387]\tvalid_0's auc: 0.999071\n",
            "[388]\tvalid_0's auc: 0.999072\n",
            "[389]\tvalid_0's auc: 0.999072\n",
            "[390]\tvalid_0's auc: 0.999075\n",
            "[391]\tvalid_0's auc: 0.999074\n",
            "[392]\tvalid_0's auc: 0.999074\n",
            "[393]\tvalid_0's auc: 0.999074\n",
            "[394]\tvalid_0's auc: 0.999075\n",
            "[395]\tvalid_0's auc: 0.999078\n",
            "[396]\tvalid_0's auc: 0.999077\n",
            "[397]\tvalid_0's auc: 0.999078\n",
            "[398]\tvalid_0's auc: 0.999079\n",
            "[399]\tvalid_0's auc: 0.99908\n",
            "[400]\tvalid_0's auc: 0.999081\n",
            "[401]\tvalid_0's auc: 0.999081\n",
            "[402]\tvalid_0's auc: 0.999082\n",
            "[403]\tvalid_0's auc: 0.999082\n",
            "[404]\tvalid_0's auc: 0.999084\n",
            "[405]\tvalid_0's auc: 0.999083\n",
            "[406]\tvalid_0's auc: 0.999084\n",
            "[407]\tvalid_0's auc: 0.999089\n",
            "[408]\tvalid_0's auc: 0.999089\n",
            "[409]\tvalid_0's auc: 0.999089\n",
            "[410]\tvalid_0's auc: 0.99909\n",
            "[411]\tvalid_0's auc: 0.999092\n",
            "[412]\tvalid_0's auc: 0.999092\n",
            "[413]\tvalid_0's auc: 0.999091\n",
            "[414]\tvalid_0's auc: 0.999091\n",
            "[415]\tvalid_0's auc: 0.999091\n",
            "[416]\tvalid_0's auc: 0.999092\n",
            "[417]\tvalid_0's auc: 0.999091\n",
            "[418]\tvalid_0's auc: 0.999091\n",
            "[419]\tvalid_0's auc: 0.999092\n",
            "[420]\tvalid_0's auc: 0.999091\n",
            "[421]\tvalid_0's auc: 0.999094\n",
            "[422]\tvalid_0's auc: 0.999092\n",
            "[423]\tvalid_0's auc: 0.999094\n",
            "[424]\tvalid_0's auc: 0.999095\n",
            "[425]\tvalid_0's auc: 0.999095\n",
            "[426]\tvalid_0's auc: 0.999094\n",
            "[427]\tvalid_0's auc: 0.999095\n",
            "[428]\tvalid_0's auc: 0.999094\n",
            "[429]\tvalid_0's auc: 0.999096\n",
            "[430]\tvalid_0's auc: 0.999096\n",
            "[431]\tvalid_0's auc: 0.999103\n",
            "[432]\tvalid_0's auc: 0.999105\n",
            "[433]\tvalid_0's auc: 0.999106\n",
            "[434]\tvalid_0's auc: 0.999106\n",
            "[435]\tvalid_0's auc: 0.999105\n",
            "[436]\tvalid_0's auc: 0.999106\n",
            "[437]\tvalid_0's auc: 0.999107\n",
            "[438]\tvalid_0's auc: 0.999107\n",
            "[439]\tvalid_0's auc: 0.999108\n",
            "[440]\tvalid_0's auc: 0.999108\n",
            "[441]\tvalid_0's auc: 0.99911\n",
            "[442]\tvalid_0's auc: 0.999109\n",
            "[443]\tvalid_0's auc: 0.999109\n",
            "[444]\tvalid_0's auc: 0.999113\n",
            "[445]\tvalid_0's auc: 0.999117\n",
            "[446]\tvalid_0's auc: 0.999117\n",
            "[447]\tvalid_0's auc: 0.999119\n",
            "[448]\tvalid_0's auc: 0.99912\n",
            "[449]\tvalid_0's auc: 0.999119\n",
            "[450]\tvalid_0's auc: 0.999121\n",
            "[451]\tvalid_0's auc: 0.999121\n",
            "[452]\tvalid_0's auc: 0.999121\n",
            "[453]\tvalid_0's auc: 0.99912\n",
            "[454]\tvalid_0's auc: 0.999121\n",
            "[455]\tvalid_0's auc: 0.999126\n",
            "[456]\tvalid_0's auc: 0.999126\n",
            "[457]\tvalid_0's auc: 0.999125\n",
            "[458]\tvalid_0's auc: 0.999125\n",
            "[459]\tvalid_0's auc: 0.999127\n",
            "[460]\tvalid_0's auc: 0.999127\n",
            "[461]\tvalid_0's auc: 0.999127\n",
            "[462]\tvalid_0's auc: 0.999127\n",
            "[463]\tvalid_0's auc: 0.999126\n",
            "[464]\tvalid_0's auc: 0.999126\n",
            "[465]\tvalid_0's auc: 0.999126\n",
            "[466]\tvalid_0's auc: 0.999125\n",
            "[467]\tvalid_0's auc: 0.99913\n",
            "[468]\tvalid_0's auc: 0.999129\n",
            "[469]\tvalid_0's auc: 0.999131\n",
            "[470]\tvalid_0's auc: 0.999133\n",
            "[471]\tvalid_0's auc: 0.999133\n",
            "[472]\tvalid_0's auc: 0.999133\n",
            "[473]\tvalid_0's auc: 0.999133\n",
            "[474]\tvalid_0's auc: 0.999135\n",
            "[475]\tvalid_0's auc: 0.999135\n",
            "[476]\tvalid_0's auc: 0.999135\n",
            "[477]\tvalid_0's auc: 0.999136\n",
            "[478]\tvalid_0's auc: 0.999135\n",
            "[479]\tvalid_0's auc: 0.999135\n",
            "[480]\tvalid_0's auc: 0.999135\n",
            "[481]\tvalid_0's auc: 0.999136\n",
            "[482]\tvalid_0's auc: 0.999137\n",
            "[483]\tvalid_0's auc: 0.999137\n",
            "[484]\tvalid_0's auc: 0.999137\n",
            "[485]\tvalid_0's auc: 0.999137\n",
            "[486]\tvalid_0's auc: 0.999137\n",
            "[487]\tvalid_0's auc: 0.999137\n",
            "[488]\tvalid_0's auc: 0.999138\n",
            "[489]\tvalid_0's auc: 0.999137\n",
            "[490]\tvalid_0's auc: 0.999137\n",
            "[491]\tvalid_0's auc: 0.999137\n",
            "[492]\tvalid_0's auc: 0.999137\n",
            "[493]\tvalid_0's auc: 0.999136\n",
            "[494]\tvalid_0's auc: 0.999137\n",
            "[495]\tvalid_0's auc: 0.999137\n",
            "[496]\tvalid_0's auc: 0.999137\n",
            "[497]\tvalid_0's auc: 0.999142\n",
            "[498]\tvalid_0's auc: 0.999142\n",
            "[499]\tvalid_0's auc: 0.999141\n",
            "[500]\tvalid_0's auc: 0.999143\n"
          ],
          "name": "stdout"
        }
      ]
    },
    {
      "cell_type": "code",
      "metadata": {
        "colab_type": "code",
        "id": "QKF5dPJYQXhk",
        "colab": {}
      },
      "source": [
        "y_pred_sna = model_sna.predict(X_test_sna)"
      ],
      "execution_count": 0,
      "outputs": []
    },
    {
      "cell_type": "code",
      "metadata": {
        "colab_type": "code",
        "id": "r7diAn8FQXhl",
        "outputId": "1c2d379d-0f3a-417c-87dc-d5b0e0cf0933",
        "colab": {
          "base_uri": "https://localhost:8080/",
          "height": 286
        }
      },
      "source": [
        "auc = roc_auc_score(y_test_sna, y_pred_sna)\n",
        "print('AUC: %.3f' % auc)\n",
        "# calculate roc curve\n",
        "fpr, tpr, thresholds = roc_curve(y_test_sna, y_pred_sna)\n",
        "# plot no skill\n",
        "pyplot.plot([0, 1], [0, 1], linestyle='--')\n",
        "# plot the roc curve for the model\n",
        "pyplot.plot(fpr, tpr, marker='.')\n",
        "# show the plot\n",
        "pyplot.show()"
      ],
      "execution_count": 0,
      "outputs": [
        {
          "output_type": "stream",
          "text": [
            "AUC: 0.998\n"
          ],
          "name": "stdout"
        },
        {
          "output_type": "display_data",
          "data": {
            "image/png": "[encoded data removed]",
            "text/plain": [
              "<Figure size 432x288 with 1 Axes>"
            ]
          },
          "metadata": {
            "tags": []
          }
        }
      ]
    },
    {
      "cell_type": "code",
      "metadata": {
        "colab_type": "code",
        "id": "PWsOIXmIQXhn",
        "outputId": "2058c7bd-7920-43f1-9fdc-146216801d02",
        "colab": {
          "base_uri": "https://localhost:8080/",
          "height": 101
        }
      },
      "source": [
        "fpr[:10], tpr[:10], thresholds[:10]"
      ],
      "execution_count": 0,
      "outputs": [
        {
          "output_type": "execute_result",
          "data": {
            "text/plain": [
              "(array([0., 0., 0., 0., 0., 0., 0., 0., 0., 0.]),\n",
              " array([0.        , 0.00030395, 0.0006079 , 0.00273556, 0.00334347,\n",
              "        0.00395137, 0.00455927, 0.01276596, 0.01306991, 0.01367781]),\n",
              " array([1.99900056, 0.99900056, 0.99898407, 0.99893916, 0.99892166,\n",
              "        0.99889171, 0.99889061, 0.99888489, 0.99887342, 0.99887068]))"
            ]
          },
          "metadata": {
            "tags": []
          },
          "execution_count": 353
        }
      ]
    },
    {
      "cell_type": "code",
      "metadata": {
        "colab_type": "code",
        "id": "9S2k1wVwQXhp",
        "outputId": "dbe69b6f-1a72-4149-9dab-9033a03e5e63",
        "colab": {
          "base_uri": "https://localhost:8080/",
          "height": 34
        }
      },
      "source": [
        "f1 = {}\n",
        "\n",
        "for a in [0.6, 0.7, 0.75, 0.8, 0.85, 0.90, 0.95]:\n",
        "\n",
        "  y_pred_sna = model_sna.predict(X_test_sna)\n",
        "\n",
        "  for i in range(len(y_pred_sna)):\n",
        "      if y_pred_sna[i]>=a:       \n",
        "         y_pred_sna[i]=1\n",
        "      else:  \n",
        "         y_pred_sna[i]=0\n",
        "          \n",
        "  f1[a]= f1_score(y_test_sna, y_pred_sna)\n",
        "  \n",
        "print(f1)"
      ],
      "execution_count": 0,
      "outputs": [
        {
          "output_type": "stream",
          "text": [
            "{0.6: 0.6894382022471911, 0.7: 0.7294854801783347, 0.75: 0.7495272910626497, 0.8: 0.7734674963590625, 0.85: 0.7972222222222223, 0.9: 0.821608785989908, 0.95: 0.8034748401901327}\n"
          ],
          "name": "stdout"
        }
      ]
    },
    {
      "cell_type": "code",
      "metadata": {
        "colab_type": "code",
        "id": "_OnrEliaQXhq",
        "colab": {}
      },
      "source": [
        "y_pred_sna = model_sna.predict(X_test_sna)"
      ],
      "execution_count": 0,
      "outputs": []
    },
    {
      "cell_type": "code",
      "metadata": {
        "colab_type": "code",
        "id": "sXKKmApZQXhs",
        "colab": {}
      },
      "source": [
        "for i in range(len(y_pred_sna)):\n",
        "    if y_pred_sna[i]>=0.9:      \n",
        "       y_pred_sna[i]=1\n",
        "    else:  \n",
        "       y_pred_sna[i]=0"
      ],
      "execution_count": 0,
      "outputs": []
    },
    {
      "cell_type": "code",
      "metadata": {
        "colab_type": "code",
        "id": "C4j6hN5fQXht",
        "outputId": "e49a0626-6886-40e7-d85a-5a01fbfc0fa7",
        "colab": {
          "base_uri": "https://localhost:8080/",
          "height": 50
        }
      },
      "source": [
        "confusion_matrix(y_test_sna, y_pred_sna)"
      ],
      "execution_count": 0,
      "outputs": [
        {
          "output_type": "execute_result",
          "data": {
            "text/plain": [
              "array([[293352,    680],\n",
              "       [   522,   2768]])"
            ]
          },
          "metadata": {
            "tags": []
          },
          "execution_count": 377
        }
      ]
    },
    {
      "cell_type": "code",
      "metadata": {
        "colab_type": "code",
        "id": "K47wuXq0QXhv",
        "outputId": "4a2a2eda-29ec-46ea-8f90-c17f93707622",
        "colab": {
          "base_uri": "https://localhost:8080/",
          "height": 34
        }
      },
      "source": [
        "accuracy_score(y_test_sna, y_pred_sna)"
      ],
      "execution_count": 0,
      "outputs": [
        {
          "output_type": "execute_result",
          "data": {
            "text/plain": [
              "0.9959572450070967"
            ]
          },
          "metadata": {
            "tags": []
          },
          "execution_count": 378
        }
      ]
    },
    {
      "cell_type": "code",
      "metadata": {
        "colab_type": "code",
        "id": "ut_zrQXGQXhx",
        "outputId": "877e9dce-5a9b-4ded-a540-9e73feaf8b4b",
        "colab": {
          "base_uri": "https://localhost:8080/",
          "height": 34
        }
      },
      "source": [
        "recall_score(y_test_sna, y_pred_sna)"
      ],
      "execution_count": 0,
      "outputs": [
        {
          "output_type": "execute_result",
          "data": {
            "text/plain": [
              "0.841337386018237"
            ]
          },
          "metadata": {
            "tags": []
          },
          "execution_count": 379
        }
      ]
    },
    {
      "cell_type": "code",
      "metadata": {
        "colab_type": "code",
        "id": "idrEZNYfQXhy",
        "outputId": "cff1cdb6-b8dc-4c8e-b8e3-666179420fda",
        "colab": {
          "base_uri": "https://localhost:8080/",
          "height": 34
        }
      },
      "source": [
        "f1_score(y_test_sna, y_pred_sna)"
      ],
      "execution_count": 0,
      "outputs": [
        {
          "output_type": "execute_result",
          "data": {
            "text/plain": [
              "0.821608785989908"
            ]
          },
          "metadata": {
            "tags": []
          },
          "execution_count": 380
        }
      ]
    },
    {
      "cell_type": "code",
      "metadata": {
        "colab_type": "code",
        "id": "RW7Cyx8nQXhz",
        "outputId": "469faefa-713d-437f-8115-54b6acf0bce2",
        "colab": {
          "base_uri": "https://localhost:8080/",
          "height": 168
        }
      },
      "source": [
        "print(classification_report(y_test_sna, y_pred_sna))"
      ],
      "execution_count": 0,
      "outputs": [
        {
          "output_type": "stream",
          "text": [
            "              precision    recall  f1-score   support\n",
            "\n",
            "           0       1.00      1.00      1.00    294032\n",
            "           1       0.80      0.84      0.82      3290\n",
            "\n",
            "   micro avg       1.00      1.00      1.00    297322\n",
            "   macro avg       0.90      0.92      0.91    297322\n",
            "weighted avg       1.00      1.00      1.00    297322\n",
            "\n"
          ],
          "name": "stdout"
        }
      ]
    },
    {
      "cell_type": "code",
      "metadata": {
        "colab_type": "code",
        "id": "t64utOf5QXh0",
        "outputId": "3a47c0b3-42f4-4d66-90d9-063b9f2dd36e",
        "colab": {
          "base_uri": "https://localhost:8080/",
          "height": 312
        }
      },
      "source": [
        "lightgbm.plot_importance(model_sna)"
      ],
      "execution_count": 0,
      "outputs": [
        {
          "output_type": "execute_result",
          "data": {
            "text/plain": [
              "<matplotlib.axes._subplots.AxesSubplot at 0x7fae1734a1d0>"
            ]
          },
          "metadata": {
            "tags": []
          },
          "execution_count": 382
        },
        {
          "output_type": "display_data",
          "data": {
            "image/png": "[encoded data removed]",
            "text/plain": [
              "<Figure size 432x288 with 1 Axes>"
            ]
          },
          "metadata": {
            "tags": []
          }
        }
      ]
    },
    {
      "cell_type": "markdown",
      "metadata": {
        "id": "xsASuWMnBmNv",
        "colab_type": "text"
      },
      "source": [
        "#Report"
      ]
    },
    {
      "cell_type": "code",
      "metadata": {
        "id": "BQxP_16xKdE1",
        "colab_type": "code",
        "colab": {}
      },
      "source": [
        "G_mult_report = nx.MultiGraph()\n",
        "\n",
        "for i in range(len(df)):\n",
        "    G_mult_report.add_nodes_from([df[\"customer\"][i]], age = df[\"age\"][i], gender = df[\"gender\"][i], zip_code_cust = df[\"zipcodeOri\"][i], bipartite=0)\n",
        "    G_mult_report.add_nodes_from([df[\"merchant\"][i]], zip_code_merc = df[\"zipMerchant\"][i], bipartite=1)\n",
        "    G_mult_report.add_edges_from([(df[\"customer\"][i], df[\"merchant\"][i])], amount = df[\"amount\"][i], fraud = df[\"fraud\"][i], step = df[\"step\"][i], category = df[\"category\"][i])\n",
        "\n",
        "len(G_mult_report.nodes()), len(G_mult_report.edges())"
      ],
      "execution_count": 0,
      "outputs": []
    },
    {
      "cell_type": "code",
      "metadata": {
        "id": "e6kv3v9IKdBy",
        "colab_type": "code",
        "colab": {}
      },
      "source": [
        "print(\"Number of edges:\", len(G_mult_report.edges()))"
      ],
      "execution_count": 0,
      "outputs": []
    },
    {
      "cell_type": "code",
      "metadata": {
        "id": "cTxhE34mH3Cm",
        "colab_type": "code",
        "colab": {}
      },
      "source": [
        "print(\"Number of nodes:\", len(G_mult_report.nodes()))"
      ],
      "execution_count": 0,
      "outputs": []
    },
    {
      "cell_type": "code",
      "metadata": {
        "id": "Ev2WUO5tID78",
        "colab_type": "code",
        "colab": {}
      },
      "source": [
        "tot_deg = 0\n",
        "for i in range(len(list(G_mult_report.degree))):\n",
        "    tot_deg += list(G_mult_report.degree)[i][1]\n",
        "\n",
        "av_deg = tot_deg / len(G_mult_report.nodes())\n",
        "print(\"Average Degree:\", av_deg)\n"
      ],
      "execution_count": 0,
      "outputs": []
    },
    {
      "cell_type": "code",
      "metadata": {
        "id": "LfIPTUK4IOT4",
        "colab_type": "code",
        "colab": {}
      },
      "source": [
        "plt.title(\"Degree Distribution\")\n",
        "plt.hist(list(dict(nx.degree(G_mult_report)).values()))\n",
        "plt.show()\n"
      ],
      "execution_count": 0,
      "outputs": []
    },
    {
      "cell_type": "code",
      "metadata": {
        "id": "3otq58b4JazN",
        "colab_type": "code",
        "colab": {}
      },
      "source": [
        "degree_sequence=sorted(dict(G_mult_report.degree()).values(),reverse=True)\n",
        "dmax=max(degree_sequence)\n",
        "\n",
        "plt.loglog(degree_sequence,'b-',marker='o')\n",
        "plt.title(\"Loglog Degree Distribution\")\n",
        "plt.ylabel(\"degree\")\n",
        "plt.xlabel(\"rank\")\n",
        "plt.show()"
      ],
      "execution_count": 0,
      "outputs": []
    },
    {
      "cell_type": "code",
      "metadata": {
        "id": "pJD_qWPWI6Xf",
        "colab_type": "code",
        "colab": {}
      },
      "source": [
        "G_report = nx.Graph()\n",
        "\n",
        "\n",
        "for i in range(len(df)):\n",
        "    G_report.add_nodes_from([df[\"customer\"][i]], age = df[\"age\"][i], gender = df[\"gender\"][i], zip_code_cust = df[\"zipcodeOri\"][i], bipartite=0)\n",
        "    G_report.add_nodes_from([df[\"merchant\"][i]], zip_code_merc = df[\"zipMerchant\"][i], bipartite=1)     \n",
        "\n",
        "\n",
        "len(G_report.nodes()), len(G_report.edges())"
      ],
      "execution_count": 0,
      "outputs": []
    },
    {
      "cell_type": "code",
      "metadata": {
        "id": "LHEtuLFHIegA",
        "colab_type": "code",
        "colab": {}
      },
      "source": [
        "print(\"Diameter of the network\")\n",
        "print(nx.diameter(G_mult_report))\n"
      ],
      "execution_count": 0,
      "outputs": []
    },
    {
      "cell_type": "code",
      "metadata": {
        "id": "PdcWxTr8IgZd",
        "colab_type": "code",
        "colab": {}
      },
      "source": [
        ""
      ],
      "execution_count": 0,
      "outputs": []
    }
  ]
}