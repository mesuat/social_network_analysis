{
  "nbformat": 4,
  "nbformat_minor": 0,
  "metadata": {
    "colab": {
      "name": "da516_project_final.ipynb",
      "version": "0.3.2",
      "provenance": [],
      "collapsed_sections": [],
      "include_colab_link": true
    },
    "kernelspec": {
      "name": "python3",
      "display_name": "Python 3"
    },
    "accelerator": "GPU"
  },
  "cells": [
    {
      "cell_type": "markdown",
      "metadata": {
        "id": "view-in-github",
        "colab_type": "text"
      },
      "source": [
        "<a href=\"https://colab.research.google.com/github/mesuat/social_network_analysis_fraud_detection/blob/master/modelling.ipynb\" target=\"_parent\"><img src=\"https://colab.research.google.com/assets/colab-badge.svg\" alt=\"Open In Colab\"/></a>"
      ]
    },
    {
      "cell_type": "code",
      "metadata": {
        "id": "siHxiwoqOGmt",
        "colab_type": "code",
        "colab": {}
      },
      "source": [
        "# Code to read csv file into Colaboratory:\n",
        "!pip install -U -q PyDrive\n",
        "from pydrive.auth import GoogleAuth\n",
        "from pydrive.drive import GoogleDrive\n",
        "from google.colab import auth\n",
        "from oauth2client.client import GoogleCredentials\n",
        "\n",
        "# Authenticate and create the PyDrive client.\n",
        "auth.authenticate_user()\n",
        "gauth = GoogleAuth()\n",
        "gauth.credentials = GoogleCredentials.get_application_default()\n",
        "drive = GoogleDrive(gauth)"
      ],
      "execution_count": 0,
      "outputs": []
    },
    {
      "cell_type": "code",
      "metadata": {
        "id": "CfCXWAQVNqms",
        "colab_type": "code",
        "outputId": "b4ce48c9-bd6f-49a3-ddf7-b562e4276e08",
        "colab": {
          "base_uri": "https://localhost:8080/",
          "height": 927
        }
      },
      "source": [
        "import pandas as pd\n",
        "import numpy as np\n",
        "import networkx as nx\n",
        "import matplotlib.pyplot as plt\n",
        "import seaborn as sns\n",
        "from matplotlib import pyplot\n",
        "import random as rnd\n",
        "\n",
        "import networkx as nx\n",
        "from networkx.algorithms import bipartite\n",
        "\n",
        "from collections import Counter\n",
        "import matplotlib as mpl\n",
        "\n",
        "from sklearn.model_selection import train_test_split\n",
        "from sklearn.preprocessing import LabelBinarizer, LabelEncoder, StandardScaler, RobustScaler\n",
        "from sklearn.metrics import roc_curve, confusion_matrix, auc, classification_report, accuracy_score, recall_score, f1_score, roc_auc_score, roc_curve\n",
        "\n",
        "import lightgbm\n",
        "\n",
        "!pip install node2vec\n",
        "from node2vec import Node2Vec\n",
        "\n",
        "import warnings\n",
        "warnings.filterwarnings('ignore')\n",
        "\n",
        "\n",
        "!pip install linkpred \n",
        "import linkpred"
      ],
      "execution_count": 0,
      "outputs": [
        {
          "output_type": "stream",
          "text": [
            "Collecting node2vec\n",
            "  Downloading https://files.pythonhosted.org/packages/4a/99/62a34f4c2e76a100eca742d2f909c8c18afdb68c47148a3835f94bba76a3/node2vec-0.3.0.tar.gz\n",
            "Requirement already satisfied: networkx in /usr/local/lib/python3.6/dist-packages (from node2vec) (2.3)\n",
            "Requirement already satisfied: gensim in /usr/local/lib/python3.6/dist-packages (from node2vec) (3.6.0)\n",
            "Requirement already satisfied: numpy in /usr/local/lib/python3.6/dist-packages (from node2vec) (1.16.3)\n",
            "Requirement already satisfied: tqdm in /usr/local/lib/python3.6/dist-packages (from node2vec) (4.28.1)\n",
            "Requirement already satisfied: joblib in /usr/local/lib/python3.6/dist-packages (from node2vec) (0.12.5)\n",
            "Requirement already satisfied: decorator>=4.3.0 in /usr/local/lib/python3.6/dist-packages (from networkx->node2vec) (4.4.0)\n",
            "Requirement already satisfied: six>=1.5.0 in /usr/local/lib/python3.6/dist-packages (from gensim->node2vec) (1.12.0)\n",
            "Requirement already satisfied: scipy>=0.18.1 in /usr/local/lib/python3.6/dist-packages (from gensim->node2vec) (1.2.1)\n",
            "Requirement already satisfied: smart-open>=1.2.1 in /usr/local/lib/python3.6/dist-packages (from gensim->node2vec) (1.8.3)\n",
            "Requirement already satisfied: boto3 in /usr/local/lib/python3.6/dist-packages (from smart-open>=1.2.1->gensim->node2vec) (1.9.148)\n",
            "Requirement already satisfied: boto>=2.32 in /usr/local/lib/python3.6/dist-packages (from smart-open>=1.2.1->gensim->node2vec) (2.49.0)\n",
            "Requirement already satisfied: requests in /usr/local/lib/python3.6/dist-packages (from smart-open>=1.2.1->gensim->node2vec) (2.21.0)\n",
            "Requirement already satisfied: s3transfer<0.3.0,>=0.2.0 in /usr/local/lib/python3.6/dist-packages (from boto3->smart-open>=1.2.1->gensim->node2vec) (0.2.0)\n",
            "Requirement already satisfied: jmespath<1.0.0,>=0.7.1 in /usr/local/lib/python3.6/dist-packages (from boto3->smart-open>=1.2.1->gensim->node2vec) (0.9.4)\n",
            "Requirement already satisfied: botocore<1.13.0,>=1.12.148 in /usr/local/lib/python3.6/dist-packages (from boto3->smart-open>=1.2.1->gensim->node2vec) (1.12.148)\n",
            "Requirement already satisfied: certifi>=2017.4.17 in /usr/local/lib/python3.6/dist-packages (from requests->smart-open>=1.2.1->gensim->node2vec) (2019.3.9)\n",
            "Requirement already satisfied: idna<2.9,>=2.5 in /usr/local/lib/python3.6/dist-packages (from requests->smart-open>=1.2.1->gensim->node2vec) (2.8)\n",
            "Requirement already satisfied: urllib3<1.25,>=1.21.1 in /usr/local/lib/python3.6/dist-packages (from requests->smart-open>=1.2.1->gensim->node2vec) (1.24.3)\n",
            "Requirement already satisfied: chardet<3.1.0,>=3.0.2 in /usr/local/lib/python3.6/dist-packages (from requests->smart-open>=1.2.1->gensim->node2vec) (3.0.4)\n",
            "Requirement already satisfied: python-dateutil<3.0.0,>=2.1; python_version >= \"2.7\" in /usr/local/lib/python3.6/dist-packages (from botocore<1.13.0,>=1.12.148->boto3->smart-open>=1.2.1->gensim->node2vec) (2.5.3)\n",
            "Requirement already satisfied: docutils>=0.10 in /usr/local/lib/python3.6/dist-packages (from botocore<1.13.0,>=1.12.148->boto3->smart-open>=1.2.1->gensim->node2vec) (0.14)\n",
            "Building wheels for collected packages: node2vec\n",
            "  Building wheel for node2vec (setup.py) ... \u001b[?25l\u001b[?25hdone\n",
            "  Stored in directory: /root/.cache/pip/wheels/b3/58/c5/1fff0e4b9b5f90bb5522967f2d08f026d247b9657e70cbf1db\n",
            "Successfully built node2vec\n",
            "Installing collected packages: node2vec\n",
            "Successfully installed node2vec-0.3.0\n",
            "Collecting linkpred\n",
            "  Downloading https://files.pythonhosted.org/packages/7b/94/512e63ae78432e5e24eed8095eb9009978666da36754e0f48cd1533414ce/linkpred-0.4.1.tar.gz\n",
            "Requirement already satisfied: matplotlib>=2.1 in /usr/local/lib/python3.6/dist-packages (from linkpred) (3.0.3)\n",
            "Requirement already satisfied: networkx>=2.1 in /usr/local/lib/python3.6/dist-packages (from linkpred) (2.3)\n",
            "Requirement already satisfied: numpy>=1.14 in /usr/local/lib/python3.6/dist-packages (from linkpred) (1.16.3)\n",
            "Requirement already satisfied: pyyaml>=3.0 in /usr/local/lib/python3.6/dist-packages (from linkpred) (3.13)\n",
            "Requirement already satisfied: scipy>=1.0 in /usr/local/lib/python3.6/dist-packages (from linkpred) (1.2.1)\n",
            "Collecting smokesignal>=0.7 (from linkpred)\n",
            "  Downloading https://files.pythonhosted.org/packages/c2/7d/eef1ce06f78b92b9dfb5f21152ca7bf9eccc856c957de90939f2c3ca1db7/smokesignal-0.7.0.tar.gz\n",
            "Requirement already satisfied: pyparsing!=2.0.4,!=2.1.2,!=2.1.6,>=2.0.1 in /usr/local/lib/python3.6/dist-packages (from matplotlib>=2.1->linkpred) (2.4.0)\n",
            "Requirement already satisfied: python-dateutil>=2.1 in /usr/local/lib/python3.6/dist-packages (from matplotlib>=2.1->linkpred) (2.5.3)\n",
            "Requirement already satisfied: kiwisolver>=1.0.1 in /usr/local/lib/python3.6/dist-packages (from matplotlib>=2.1->linkpred) (1.1.0)\n",
            "Requirement already satisfied: cycler>=0.10 in /usr/local/lib/python3.6/dist-packages (from matplotlib>=2.1->linkpred) (0.10.0)\n",
            "Requirement already satisfied: decorator>=4.3.0 in /usr/local/lib/python3.6/dist-packages (from networkx>=2.1->linkpred) (4.4.0)\n",
            "Requirement already satisfied: six>=1.5 in /usr/local/lib/python3.6/dist-packages (from python-dateutil>=2.1->matplotlib>=2.1->linkpred) (1.12.0)\n",
            "Requirement already satisfied: setuptools in /usr/local/lib/python3.6/dist-packages (from kiwisolver>=1.0.1->matplotlib>=2.1->linkpred) (41.0.1)\n",
            "Building wheels for collected packages: linkpred, smokesignal\n",
            "  Building wheel for linkpred (setup.py) ... \u001b[?25l\u001b[?25hdone\n",
            "  Stored in directory: /root/.cache/pip/wheels/6e/75/f1/0d3d7e7f460f5e8cd80a51b55cec6f4d590749142f92a92803\n",
            "  Building wheel for smokesignal (setup.py) ... \u001b[?25l\u001b[?25hdone\n",
            "  Stored in directory: /root/.cache/pip/wheels/f5/59/c0/5d73164834188869312f332467cda7431d9eef4ae035583009\n",
            "Successfully built linkpred smokesignal\n",
            "Installing collected packages: smokesignal, linkpred\n",
            "Successfully installed linkpred-0.4.1 smokesignal-0.7.0\n"
          ],
          "name": "stdout"
        }
      ]
    },
    {
      "cell_type": "code",
      "metadata": {
        "id": "d1zE2wQWOT5E",
        "colab_type": "code",
        "outputId": "f7abfb4e-b434-4d90-9d2f-cc2025ccbfcb",
        "colab": {
          "base_uri": "https://localhost:8080/",
          "height": 34
        }
      },
      "source": [
        "link = 'https://drive.google.com/open?id=1FHS82KF_Oh_aQwsf6u2xxMqz_6mfg8oV' # The shareable link\n",
        "\n",
        "fluff, id = link.split('=')\n",
        "print (id) # Verify that you have everything after '='"
      ],
      "execution_count": 0,
      "outputs": [
        {
          "output_type": "stream",
          "text": [
            "1FHS82KF_Oh_aQwsf6u2xxMqz_6mfg8oV\n"
          ],
          "name": "stdout"
        }
      ]
    },
    {
      "cell_type": "code",
      "metadata": {
        "id": "4c-1aNbxOyZ3",
        "colab_type": "code",
        "colab": {}
      },
      "source": [
        "downloaded = drive.CreateFile({'id':id}) \n",
        "downloaded.GetContentFile('project_data.csv')  \n",
        "df = pd.read_csv('project_data.csv')\n",
        "# Dataset is now stored in a Pandas Dataframe"
      ],
      "execution_count": 0,
      "outputs": []
    },
    {
      "cell_type": "code",
      "metadata": {
        "id": "W3TyNmTWO6gm",
        "colab_type": "code",
        "outputId": "7e516b5f-0a83-4f0a-b6b6-2497f42a6e05",
        "colab": {
          "base_uri": "https://localhost:8080/",
          "height": 106
        }
      },
      "source": [
        "df = df.replace(\"'\", \"\", regex=True)\n",
        "df.head(2)"
      ],
      "execution_count": 0,
      "outputs": [
        {
          "output_type": "execute_result",
          "data": {
            "text/html": [
              "<div>\n",
              "<style scoped>\n",
              "    .dataframe tbody tr th:only-of-type {\n",
              "        vertical-align: middle;\n",
              "    }\n",
              "\n",
              "    .dataframe tbody tr th {\n",
              "        vertical-align: top;\n",
              "    }\n",
              "\n",
              "    .dataframe thead th {\n",
              "        text-align: right;\n",
              "    }\n",
              "</style>\n",
              "<table border=\"1\" class=\"dataframe\">\n",
              "  <thead>\n",
              "    <tr style=\"text-align: right;\">\n",
              "      <th></th>\n",
              "      <th>step</th>\n",
              "      <th>customer</th>\n",
              "      <th>age</th>\n",
              "      <th>gender</th>\n",
              "      <th>zipcodeOri</th>\n",
              "      <th>merchant</th>\n",
              "      <th>zipMerchant</th>\n",
              "      <th>category</th>\n",
              "      <th>amount</th>\n",
              "      <th>fraud</th>\n",
              "    </tr>\n",
              "  </thead>\n",
              "  <tbody>\n",
              "    <tr>\n",
              "      <th>0</th>\n",
              "      <td>0</td>\n",
              "      <td>C1093826151</td>\n",
              "      <td>4</td>\n",
              "      <td>M</td>\n",
              "      <td>28007</td>\n",
              "      <td>M348934600</td>\n",
              "      <td>28007</td>\n",
              "      <td>es_transportation</td>\n",
              "      <td>4.55</td>\n",
              "      <td>0</td>\n",
              "    </tr>\n",
              "    <tr>\n",
              "      <th>1</th>\n",
              "      <td>0</td>\n",
              "      <td>C352968107</td>\n",
              "      <td>2</td>\n",
              "      <td>M</td>\n",
              "      <td>28007</td>\n",
              "      <td>M348934600</td>\n",
              "      <td>28007</td>\n",
              "      <td>es_transportation</td>\n",
              "      <td>39.68</td>\n",
              "      <td>0</td>\n",
              "    </tr>\n",
              "  </tbody>\n",
              "</table>\n",
              "</div>"
            ],
            "text/plain": [
              "   step     customer age gender  ... zipMerchant           category amount fraud\n",
              "0     0  C1093826151   4      M  ...       28007  es_transportation   4.55     0\n",
              "1     0   C352968107   2      M  ...       28007  es_transportation  39.68     0\n",
              "\n",
              "[2 rows x 10 columns]"
            ]
          },
          "metadata": {
            "tags": []
          },
          "execution_count": 5
        }
      ]
    },
    {
      "cell_type": "code",
      "metadata": {
        "id": "xGNeU-EFjHOe",
        "colab_type": "code",
        "outputId": "6508acdf-8c9a-4369-f941-9a989d65f4e7",
        "colab": {
          "base_uri": "https://localhost:8080/",
          "height": 34
        }
      },
      "source": [
        "len(df[\"customer\"].unique())"
      ],
      "execution_count": 0,
      "outputs": [
        {
          "output_type": "execute_result",
          "data": {
            "text/plain": [
              "4112"
            ]
          },
          "metadata": {
            "tags": []
          },
          "execution_count": 6
        }
      ]
    },
    {
      "cell_type": "code",
      "metadata": {
        "id": "i_qw3-oSO8c_",
        "colab_type": "code",
        "outputId": "465f6dba-3213-4157-d834-245eb5f55eea",
        "colab": {
          "base_uri": "https://localhost:8080/",
          "height": 329
        }
      },
      "source": [
        "# Create two dataframes with fraud and non-fraud data \n",
        "df_fraud = df.loc[df.fraud == 1] \n",
        "df_non_fraud = df.loc[df.fraud == 0]\n",
        "\n",
        "sns.countplot(x=\"fraud\",data=df)\n",
        "plt.title(\"Count of Fraudulent Payments\")\n",
        "plt.show()\n",
        "print(\"Number of normal examples: \",df_non_fraud.fraud.count())\n",
        "print(\"Number of fradulent examples: \",df_fraud.fraud.count())\n",
        "#print(data.fraud.value_counts()) # does the same thing above"
      ],
      "execution_count": 0,
      "outputs": [
        {
          "output_type": "display_data",
          "data": {
            "image/png": "[encoded data removed]",
            "text/plain": [
              "<Figure size 432x288 with 1 Axes>"
            ]
          },
          "metadata": {
            "tags": []
          }
        },
        {
          "output_type": "stream",
          "text": [
            "Number of normal examples:  587443\n",
            "Number of fradulent examples:  7200\n"
          ],
          "name": "stdout"
        }
      ]
    },
    {
      "cell_type": "code",
      "metadata": {
        "id": "BQ3zzrf-QCZ6",
        "colab_type": "code",
        "outputId": "769a56eb-705a-4819-a24b-340548bf1c9d",
        "colab": {
          "base_uri": "https://localhost:8080/",
          "height": 422
        }
      },
      "source": [
        "# Plot histograms of the amounts in fraud and non-fraud data \n",
        "plt.figure(figsize=(20,6))\n",
        "sns.boxplot(x=df.category,y=df.amount)\n",
        "plt.title(\"Boxplot for the Amount spend in category\")\n",
        "plt.ylim(0,3200)\n",
        "plt.legend()\n",
        "plt.show()"
      ],
      "execution_count": 0,
      "outputs": [
        {
          "output_type": "stream",
          "text": [
            "No handles with labels found to put in legend.\n"
          ],
          "name": "stderr"
        },
        {
          "output_type": "display_data",
          "data": {
            "image/png": "[encoded data removed]",
            "text/plain": [
              "<Figure size 1440x432 with 1 Axes>"
            ]
          },
          "metadata": {
            "tags": []
          }
        }
      ]
    },
    {
      "cell_type": "code",
      "metadata": {
        "id": "-g4NOqVUQXnu",
        "colab_type": "code",
        "outputId": "6edda4ba-71d2-436c-f6df-a1c12b8e9de4",
        "colab": {
          "base_uri": "https://localhost:8080/",
          "height": 281
        }
      },
      "source": [
        "# Plot histograms of the amounts in fraud and non-fraud data \n",
        "plt.hist(df_fraud.amount, alpha=0.5, label='fraud',bins=100)\n",
        "plt.hist(df_non_fraud.amount, alpha=0.5, label='nonfraud',bins=100)\n",
        "plt.title(\"Histogram for Fraudulent and Non-Fraudulent Payments Based on Transaction Amount\")\n",
        "plt.ylim(0,3000)\n",
        "plt.xlim(0,1000)\n",
        "plt.legend()\n",
        "plt.show()"
      ],
      "execution_count": 0,
      "outputs": [
        {
          "output_type": "display_data",
          "data": {
            "image/png": "[encoded data removed]",
            "text/plain": [
              "<Figure size 432x288 with 1 Axes>"
            ]
          },
          "metadata": {
            "tags": []
          }
        }
      ]
    },
    {
      "cell_type": "code",
      "metadata": {
        "id": "8whP_6woRjP4",
        "colab_type": "code",
        "colab": {}
      },
      "source": [
        "cat_col = df.select_dtypes('object').columns.tolist()\n"
      ],
      "execution_count": 0,
      "outputs": []
    },
    {
      "cell_type": "code",
      "metadata": {
        "id": "08NiGLzRT_xC",
        "colab_type": "code",
        "outputId": "415d43b0-fddc-4bb4-c2ce-d341084bcee6",
        "colab": {
          "base_uri": "https://localhost:8080/",
          "height": 134
        }
      },
      "source": [
        "cat_col"
      ],
      "execution_count": 0,
      "outputs": [
        {
          "output_type": "execute_result",
          "data": {
            "text/plain": [
              "['customer',\n",
              " 'age',\n",
              " 'gender',\n",
              " 'zipcodeOri',\n",
              " 'merchant',\n",
              " 'zipMerchant',\n",
              " 'category']"
            ]
          },
          "metadata": {
            "tags": []
          },
          "execution_count": 11
        }
      ]
    },
    {
      "cell_type": "code",
      "metadata": {
        "id": "SHgZhhiSUA3Z",
        "colab_type": "code",
        "outputId": "45bc4ccc-05cc-421f-f78a-f3a7662d781a",
        "colab": {
          "base_uri": "https://localhost:8080/",
          "height": 269
        }
      },
      "source": [
        "df.info()"
      ],
      "execution_count": 0,
      "outputs": [
        {
          "output_type": "stream",
          "text": [
            "<class 'pandas.core.frame.DataFrame'>\n",
            "RangeIndex: 594643 entries, 0 to 594642\n",
            "Data columns (total 10 columns):\n",
            "step           594643 non-null int64\n",
            "customer       594643 non-null object\n",
            "age            594643 non-null object\n",
            "gender         594643 non-null object\n",
            "zipcodeOri     594643 non-null object\n",
            "merchant       594643 non-null object\n",
            "zipMerchant    594643 non-null object\n",
            "category       594643 non-null object\n",
            "amount         594643 non-null float64\n",
            "fraud          594643 non-null int64\n",
            "dtypes: float64(1), int64(2), object(7)\n",
            "memory usage: 45.4+ MB\n"
          ],
          "name": "stdout"
        }
      ]
    },
    {
      "cell_type": "markdown",
      "metadata": {
        "id": "2m44hUaX2H6R",
        "colab_type": "text"
      },
      "source": [
        "#Building Model Before SNA"
      ]
    },
    {
      "cell_type": "code",
      "metadata": {
        "id": "egMpnu9qUE91",
        "colab_type": "code",
        "colab": {}
      },
      "source": [
        "X = df.drop([\"fraud\", \"step\"], axis = 1)"
      ],
      "execution_count": 0,
      "outputs": []
    },
    {
      "cell_type": "code",
      "metadata": {
        "id": "S8v2OaEbUmjf",
        "colab_type": "code",
        "colab": {}
      },
      "source": [
        "y = df.fraud"
      ],
      "execution_count": 0,
      "outputs": []
    },
    {
      "cell_type": "code",
      "metadata": {
        "id": "SaSiiJu1vVVw",
        "colab_type": "code",
        "outputId": "8380520f-4b5a-4020-ca36-f1a35506055d",
        "colab": {
          "base_uri": "https://localhost:8080/",
          "height": 34
        }
      },
      "source": [
        "X.shape"
      ],
      "execution_count": 0,
      "outputs": [
        {
          "output_type": "execute_result",
          "data": {
            "text/plain": [
              "(594643, 8)"
            ]
          },
          "metadata": {
            "tags": []
          },
          "execution_count": 15
        }
      ]
    },
    {
      "cell_type": "code",
      "metadata": {
        "id": "l74YOPDETap5",
        "colab_type": "code",
        "outputId": "b3cde99c-9cc3-4b0a-8ff4-fc9111eac2d3",
        "colab": {
          "base_uri": "https://localhost:8080/",
          "height": 106
        }
      },
      "source": [
        "X.tail(2)"
      ],
      "execution_count": 0,
      "outputs": [
        {
          "output_type": "execute_result",
          "data": {
            "text/html": [
              "<div>\n",
              "<style scoped>\n",
              "    .dataframe tbody tr th:only-of-type {\n",
              "        vertical-align: middle;\n",
              "    }\n",
              "\n",
              "    .dataframe tbody tr th {\n",
              "        vertical-align: top;\n",
              "    }\n",
              "\n",
              "    .dataframe thead th {\n",
              "        text-align: right;\n",
              "    }\n",
              "</style>\n",
              "<table border=\"1\" class=\"dataframe\">\n",
              "  <thead>\n",
              "    <tr style=\"text-align: right;\">\n",
              "      <th></th>\n",
              "      <th>customer</th>\n",
              "      <th>age</th>\n",
              "      <th>gender</th>\n",
              "      <th>zipcodeOri</th>\n",
              "      <th>merchant</th>\n",
              "      <th>zipMerchant</th>\n",
              "      <th>category</th>\n",
              "      <th>amount</th>\n",
              "    </tr>\n",
              "  </thead>\n",
              "  <tbody>\n",
              "    <tr>\n",
              "      <th>594641</th>\n",
              "      <td>C1499363341</td>\n",
              "      <td>5</td>\n",
              "      <td>M</td>\n",
              "      <td>28007</td>\n",
              "      <td>M1823072687</td>\n",
              "      <td>28007</td>\n",
              "      <td>es_transportation</td>\n",
              "      <td>14.46</td>\n",
              "    </tr>\n",
              "    <tr>\n",
              "      <th>594642</th>\n",
              "      <td>C616528518</td>\n",
              "      <td>4</td>\n",
              "      <td>F</td>\n",
              "      <td>28007</td>\n",
              "      <td>M1823072687</td>\n",
              "      <td>28007</td>\n",
              "      <td>es_transportation</td>\n",
              "      <td>26.93</td>\n",
              "    </tr>\n",
              "  </tbody>\n",
              "</table>\n",
              "</div>"
            ],
            "text/plain": [
              "           customer age gender  ... zipMerchant           category amount\n",
              "594641  C1499363341   5      M  ...       28007  es_transportation  14.46\n",
              "594642   C616528518   4      F  ...       28007  es_transportation  26.93\n",
              "\n",
              "[2 rows x 8 columns]"
            ]
          },
          "metadata": {
            "tags": []
          },
          "execution_count": 16
        }
      ]
    },
    {
      "cell_type": "code",
      "metadata": {
        "id": "jieWUYTivQUh",
        "colab_type": "code",
        "outputId": "24d48ff1-413a-4247-b4b0-d6035519c417",
        "colab": {
          "base_uri": "https://localhost:8080/",
          "height": 106
        }
      },
      "source": [
        "X[:297321].tail(2)"
      ],
      "execution_count": 0,
      "outputs": [
        {
          "output_type": "execute_result",
          "data": {
            "text/html": [
              "<div>\n",
              "<style scoped>\n",
              "    .dataframe tbody tr th:only-of-type {\n",
              "        vertical-align: middle;\n",
              "    }\n",
              "\n",
              "    .dataframe tbody tr th {\n",
              "        vertical-align: top;\n",
              "    }\n",
              "\n",
              "    .dataframe thead th {\n",
              "        text-align: right;\n",
              "    }\n",
              "</style>\n",
              "<table border=\"1\" class=\"dataframe\">\n",
              "  <thead>\n",
              "    <tr style=\"text-align: right;\">\n",
              "      <th></th>\n",
              "      <th>customer</th>\n",
              "      <th>age</th>\n",
              "      <th>gender</th>\n",
              "      <th>zipcodeOri</th>\n",
              "      <th>merchant</th>\n",
              "      <th>zipMerchant</th>\n",
              "      <th>category</th>\n",
              "      <th>amount</th>\n",
              "    </tr>\n",
              "  </thead>\n",
              "  <tbody>\n",
              "    <tr>\n",
              "      <th>297319</th>\n",
              "      <td>C1971153898</td>\n",
              "      <td>3</td>\n",
              "      <td>M</td>\n",
              "      <td>28007</td>\n",
              "      <td>M1823072687</td>\n",
              "      <td>28007</td>\n",
              "      <td>es_transportation</td>\n",
              "      <td>16.17</td>\n",
              "    </tr>\n",
              "    <tr>\n",
              "      <th>297320</th>\n",
              "      <td>C741739992</td>\n",
              "      <td>2</td>\n",
              "      <td>F</td>\n",
              "      <td>28007</td>\n",
              "      <td>M1823072687</td>\n",
              "      <td>28007</td>\n",
              "      <td>es_transportation</td>\n",
              "      <td>44.30</td>\n",
              "    </tr>\n",
              "  </tbody>\n",
              "</table>\n",
              "</div>"
            ],
            "text/plain": [
              "           customer age gender  ... zipMerchant           category amount\n",
              "297319  C1971153898   3      M  ...       28007  es_transportation  16.17\n",
              "297320   C741739992   2      F  ...       28007  es_transportation  44.30\n",
              "\n",
              "[2 rows x 8 columns]"
            ]
          },
          "metadata": {
            "tags": []
          },
          "execution_count": 17
        }
      ]
    },
    {
      "cell_type": "code",
      "metadata": {
        "id": "IQdgTowsUo9V",
        "colab_type": "code",
        "colab": {}
      },
      "source": [
        "le = LabelEncoder()\n",
        "\n",
        "for c in cat_col:\n",
        "  le.fit(X[c])\n",
        "  X[c] = le.transform(X[c])"
      ],
      "execution_count": 0,
      "outputs": []
    },
    {
      "cell_type": "markdown",
      "metadata": {
        "id": "2BBneCEhGs07",
        "colab_type": "text"
      },
      "source": [
        "##Train-Test Split (%50-%50)"
      ]
    },
    {
      "cell_type": "code",
      "metadata": {
        "id": "xfXaDAqJv4FN",
        "colab_type": "code",
        "colab": {}
      },
      "source": [
        "X_train, X_test, y_train, y_test = X[:297321], X[297321:], y[:297321], y[297321:]"
      ],
      "execution_count": 0,
      "outputs": []
    },
    {
      "cell_type": "code",
      "metadata": {
        "id": "WGVqT8BRRu82",
        "colab_type": "code",
        "colab": {}
      },
      "source": [
        "sc = StandardScaler()\n",
        "\n",
        "sc_col = X.select_dtypes([\"float64\", \"int64\"]).columns.tolist()\n",
        "\n",
        "for i in sc_col:\n",
        "  X_train[i] = sc.fit_transform(np.array(X_train[i]).reshape(-1, 1))\n",
        "  X_test[i] = sc.transform(np.array(X_test[i]).reshape(-1, 1))"
      ],
      "execution_count": 0,
      "outputs": []
    },
    {
      "cell_type": "code",
      "metadata": {
        "id": "ov1oBxXwIDkl",
        "colab_type": "code",
        "outputId": "b5193a97-abdb-4e8c-8e1e-0da8da009144",
        "colab": {
          "base_uri": "https://localhost:8080/",
          "height": 106
        }
      },
      "source": [
        "X_train.head(2)"
      ],
      "execution_count": 0,
      "outputs": [
        {
          "output_type": "execute_result",
          "data": {
            "text/html": [
              "<div>\n",
              "<style scoped>\n",
              "    .dataframe tbody tr th:only-of-type {\n",
              "        vertical-align: middle;\n",
              "    }\n",
              "\n",
              "    .dataframe tbody tr th {\n",
              "        vertical-align: top;\n",
              "    }\n",
              "\n",
              "    .dataframe thead th {\n",
              "        text-align: right;\n",
              "    }\n",
              "</style>\n",
              "<table border=\"1\" class=\"dataframe\">\n",
              "  <thead>\n",
              "    <tr style=\"text-align: right;\">\n",
              "      <th></th>\n",
              "      <th>customer</th>\n",
              "      <th>age</th>\n",
              "      <th>gender</th>\n",
              "      <th>zipcodeOri</th>\n",
              "      <th>merchant</th>\n",
              "      <th>zipMerchant</th>\n",
              "      <th>category</th>\n",
              "      <th>amount</th>\n",
              "    </tr>\n",
              "  </thead>\n",
              "  <tbody>\n",
              "    <tr>\n",
              "      <th>0</th>\n",
              "      <td>-1.543780</td>\n",
              "      <td>0.737881</td>\n",
              "      <td>1.089111</td>\n",
              "      <td>0.0</td>\n",
              "      <td>0.596312</td>\n",
              "      <td>0.0</td>\n",
              "      <td>0.320166</td>\n",
              "      <td>-0.289548</td>\n",
              "    </tr>\n",
              "    <tr>\n",
              "      <th>1</th>\n",
              "      <td>0.606238</td>\n",
              "      <td>-0.758032</td>\n",
              "      <td>1.089111</td>\n",
              "      <td>0.0</td>\n",
              "      <td>0.596312</td>\n",
              "      <td>0.0</td>\n",
              "      <td>0.320166</td>\n",
              "      <td>0.009694</td>\n",
              "    </tr>\n",
              "  </tbody>\n",
              "</table>\n",
              "</div>"
            ],
            "text/plain": [
              "   customer       age    gender  ...  zipMerchant  category    amount\n",
              "0 -1.543780  0.737881  1.089111  ...          0.0  0.320166 -0.289548\n",
              "1  0.606238 -0.758032  1.089111  ...          0.0  0.320166  0.009694\n",
              "\n",
              "[2 rows x 8 columns]"
            ]
          },
          "metadata": {
            "tags": []
          },
          "execution_count": 21
        }
      ]
    },
    {
      "cell_type": "markdown",
      "metadata": {
        "id": "RHDe9hcEHVXR",
        "colab_type": "text"
      },
      "source": [
        "##Train-Validation Split (%80-%20)"
      ]
    },
    {
      "cell_type": "code",
      "metadata": {
        "id": "v2NActeCHSFp",
        "colab_type": "code",
        "colab": {}
      },
      "source": [
        "X_train, X_val, y_train, y_val = X_train[:237856], X_train[237856:], y_train[:237856], y_train[237856:]"
      ],
      "execution_count": 0,
      "outputs": []
    },
    {
      "cell_type": "code",
      "metadata": {
        "id": "c6yoVQgbHvpZ",
        "colab_type": "code",
        "colab": {}
      },
      "source": [
        "sc = StandardScaler()\n",
        "\n",
        "sc_col = X.select_dtypes([\"float64\", \"int64\"]).columns.tolist()\n",
        "\n",
        "for i in sc_col:\n",
        "  X_train[i] = sc.fit_transform(np.array(X_train[i]).reshape(-1, 1))\n",
        "  X_val[i] = sc.transform(np.array(X_val[i]).reshape(-1, 1))"
      ],
      "execution_count": 0,
      "outputs": []
    },
    {
      "cell_type": "code",
      "metadata": {
        "id": "pSYv9VCH0UPw",
        "colab_type": "code",
        "outputId": "8776ae61-bbe6-4f9f-9f47-dd1401aecf5d",
        "colab": {
          "base_uri": "https://localhost:8080/",
          "height": 106
        }
      },
      "source": [
        "X_train.head(2)"
      ],
      "execution_count": 0,
      "outputs": [
        {
          "output_type": "execute_result",
          "data": {
            "text/html": [
              "<div>\n",
              "<style scoped>\n",
              "    .dataframe tbody tr th:only-of-type {\n",
              "        vertical-align: middle;\n",
              "    }\n",
              "\n",
              "    .dataframe tbody tr th {\n",
              "        vertical-align: top;\n",
              "    }\n",
              "\n",
              "    .dataframe thead th {\n",
              "        text-align: right;\n",
              "    }\n",
              "</style>\n",
              "<table border=\"1\" class=\"dataframe\">\n",
              "  <thead>\n",
              "    <tr style=\"text-align: right;\">\n",
              "      <th></th>\n",
              "      <th>customer</th>\n",
              "      <th>age</th>\n",
              "      <th>gender</th>\n",
              "      <th>zipcodeOri</th>\n",
              "      <th>merchant</th>\n",
              "      <th>zipMerchant</th>\n",
              "      <th>category</th>\n",
              "      <th>amount</th>\n",
              "    </tr>\n",
              "  </thead>\n",
              "  <tbody>\n",
              "    <tr>\n",
              "      <th>0</th>\n",
              "      <td>-1.544853</td>\n",
              "      <td>0.738340</td>\n",
              "      <td>1.090001</td>\n",
              "      <td>0.0</td>\n",
              "      <td>0.564267</td>\n",
              "      <td>0.0</td>\n",
              "      <td>0.318357</td>\n",
              "      <td>-0.280284</td>\n",
              "    </tr>\n",
              "    <tr>\n",
              "      <th>1</th>\n",
              "      <td>0.607342</td>\n",
              "      <td>-0.757088</td>\n",
              "      <td>1.090001</td>\n",
              "      <td>0.0</td>\n",
              "      <td>0.564267</td>\n",
              "      <td>0.0</td>\n",
              "      <td>0.318357</td>\n",
              "      <td>0.006009</td>\n",
              "    </tr>\n",
              "  </tbody>\n",
              "</table>\n",
              "</div>"
            ],
            "text/plain": [
              "   customer       age    gender  ...  zipMerchant  category    amount\n",
              "0 -1.544853  0.738340  1.090001  ...          0.0  0.318357 -0.280284\n",
              "1  0.607342 -0.757088  1.090001  ...          0.0  0.318357  0.006009\n",
              "\n",
              "[2 rows x 8 columns]"
            ]
          },
          "metadata": {
            "tags": []
          },
          "execution_count": 24
        }
      ]
    },
    {
      "cell_type": "code",
      "metadata": {
        "id": "T__ZyeesHk5q",
        "colab_type": "code",
        "outputId": "60da0471-8648-4457-a975-ca0081daa892",
        "colab": {
          "base_uri": "https://localhost:8080/",
          "height": 34
        }
      },
      "source": [
        "X_train.shape, X_val.shape, X_test.shape"
      ],
      "execution_count": 0,
      "outputs": [
        {
          "output_type": "execute_result",
          "data": {
            "text/plain": [
              "((237856, 8), (59465, 8), (297322, 8))"
            ]
          },
          "metadata": {
            "tags": []
          },
          "execution_count": 25
        }
      ]
    },
    {
      "cell_type": "code",
      "metadata": {
        "id": "RRiAAY2jVEzV",
        "colab_type": "code",
        "colab": {}
      },
      "source": [
        "parameters = {\n",
        "    'application': 'binary',\n",
        "    'objective': 'binary',\n",
        "    'metric': 'auc',\n",
        "    'is_unbalance': 'true',\n",
        "    'boosting': 'dart',\n",
        "    'num_leaves': 63,\n",
        "    'feature_fraction': 0.5,\n",
        "    'bagging_fraction': 0.5,\n",
        "    'bagging_freq': 20,\n",
        "    'learning_rate': 0.05,\n",
        "    'verbose': 0,\n",
        "    \"lambda_l2\" : 0.5,\n",
        "    \"lambda_l1\" : 0.5,\n",
        "    \"min_gain_to_split\" : 0.2\n",
        "}"
      ],
      "execution_count": 0,
      "outputs": []
    },
    {
      "cell_type": "code",
      "metadata": {
        "id": "GhXI1ouyUpHF",
        "colab_type": "code",
        "colab": {}
      },
      "source": [
        "train_data = lightgbm.Dataset(X_train, label=y_train, categorical_feature=cat_col)\n",
        "val_data = lightgbm.Dataset(X_val, label=y_val)"
      ],
      "execution_count": 0,
      "outputs": []
    },
    {
      "cell_type": "code",
      "metadata": {
        "id": "l9PrGNBSVGuo",
        "colab_type": "code",
        "outputId": "fa5188de-b10c-40fb-bf83-4e596dc3c3bc",
        "colab": {
          "base_uri": "https://localhost:8080/",
          "height": 8417
        }
      },
      "source": [
        "model = lightgbm.train(parameters,\n",
        "                       train_data,\n",
        "                       valid_sets=val_data,\n",
        "                       num_boost_round=500,\n",
        "                       early_stopping_rounds=100)"
      ],
      "execution_count": 0,
      "outputs": [
        {
          "output_type": "stream",
          "text": [
            "[1]\tvalid_0's auc: 0.971714\n",
            "[2]\tvalid_0's auc: 0.978806\n",
            "[3]\tvalid_0's auc: 0.984284\n",
            "[4]\tvalid_0's auc: 0.983593\n",
            "[5]\tvalid_0's auc: 0.983907\n",
            "[6]\tvalid_0's auc: 0.983729\n",
            "[7]\tvalid_0's auc: 0.984512\n",
            "[8]\tvalid_0's auc: 0.986044\n",
            "[9]\tvalid_0's auc: 0.985882\n",
            "[10]\tvalid_0's auc: 0.985912\n",
            "[11]\tvalid_0's auc: 0.985872\n",
            "[12]\tvalid_0's auc: 0.98587\n",
            "[13]\tvalid_0's auc: 0.985767\n",
            "[14]\tvalid_0's auc: 0.985829\n",
            "[15]\tvalid_0's auc: 0.985737\n",
            "[16]\tvalid_0's auc: 0.985755\n",
            "[17]\tvalid_0's auc: 0.985747\n",
            "[18]\tvalid_0's auc: 0.985379\n",
            "[19]\tvalid_0's auc: 0.985898\n",
            "[20]\tvalid_0's auc: 0.986635\n",
            "[21]\tvalid_0's auc: 0.986394\n",
            "[22]\tvalid_0's auc: 0.986235\n",
            "[23]\tvalid_0's auc: 0.986906\n",
            "[24]\tvalid_0's auc: 0.986996\n",
            "[25]\tvalid_0's auc: 0.987014\n",
            "[26]\tvalid_0's auc: 0.987261\n",
            "[27]\tvalid_0's auc: 0.987197\n",
            "[28]\tvalid_0's auc: 0.987396\n",
            "[29]\tvalid_0's auc: 0.987144\n",
            "[30]\tvalid_0's auc: 0.987187\n",
            "[31]\tvalid_0's auc: 0.987368\n",
            "[32]\tvalid_0's auc: 0.98745\n",
            "[33]\tvalid_0's auc: 0.987438\n",
            "[34]\tvalid_0's auc: 0.987805\n",
            "[35]\tvalid_0's auc: 0.987755\n",
            "[36]\tvalid_0's auc: 0.987793\n",
            "[37]\tvalid_0's auc: 0.987792\n",
            "[38]\tvalid_0's auc: 0.987657\n",
            "[39]\tvalid_0's auc: 0.987962\n",
            "[40]\tvalid_0's auc: 0.987978\n",
            "[41]\tvalid_0's auc: 0.987965\n",
            "[42]\tvalid_0's auc: 0.988292\n",
            "[43]\tvalid_0's auc: 0.988285\n",
            "[44]\tvalid_0's auc: 0.988217\n",
            "[45]\tvalid_0's auc: 0.98823\n",
            "[46]\tvalid_0's auc: 0.988369\n",
            "[47]\tvalid_0's auc: 0.988329\n",
            "[48]\tvalid_0's auc: 0.988332\n",
            "[49]\tvalid_0's auc: 0.988369\n",
            "[50]\tvalid_0's auc: 0.9883\n",
            "[51]\tvalid_0's auc: 0.988532\n",
            "[52]\tvalid_0's auc: 0.988536\n",
            "[53]\tvalid_0's auc: 0.988547\n",
            "[54]\tvalid_0's auc: 0.988538\n",
            "[55]\tvalid_0's auc: 0.988539\n",
            "[56]\tvalid_0's auc: 0.988527\n",
            "[57]\tvalid_0's auc: 0.988694\n",
            "[58]\tvalid_0's auc: 0.98876\n",
            "[59]\tvalid_0's auc: 0.988762\n",
            "[60]\tvalid_0's auc: 0.988875\n",
            "[61]\tvalid_0's auc: 0.988991\n",
            "[62]\tvalid_0's auc: 0.98901\n",
            "[63]\tvalid_0's auc: 0.989012\n",
            "[64]\tvalid_0's auc: 0.988998\n",
            "[65]\tvalid_0's auc: 0.988989\n",
            "[66]\tvalid_0's auc: 0.98903\n",
            "[67]\tvalid_0's auc: 0.988978\n",
            "[68]\tvalid_0's auc: 0.988968\n",
            "[69]\tvalid_0's auc: 0.98895\n",
            "[70]\tvalid_0's auc: 0.988954\n",
            "[71]\tvalid_0's auc: 0.989012\n",
            "[72]\tvalid_0's auc: 0.98912\n",
            "[73]\tvalid_0's auc: 0.989137\n",
            "[74]\tvalid_0's auc: 0.989116\n",
            "[75]\tvalid_0's auc: 0.989113\n",
            "[76]\tvalid_0's auc: 0.989066\n",
            "[77]\tvalid_0's auc: 0.989063\n",
            "[78]\tvalid_0's auc: 0.989068\n",
            "[79]\tvalid_0's auc: 0.989051\n",
            "[80]\tvalid_0's auc: 0.989042\n",
            "[81]\tvalid_0's auc: 0.989027\n",
            "[82]\tvalid_0's auc: 0.988995\n",
            "[83]\tvalid_0's auc: 0.989002\n",
            "[84]\tvalid_0's auc: 0.988949\n",
            "[85]\tvalid_0's auc: 0.988961\n",
            "[86]\tvalid_0's auc: 0.989065\n",
            "[87]\tvalid_0's auc: 0.989014\n",
            "[88]\tvalid_0's auc: 0.989024\n",
            "[89]\tvalid_0's auc: 0.989017\n",
            "[90]\tvalid_0's auc: 0.989019\n",
            "[91]\tvalid_0's auc: 0.989134\n",
            "[92]\tvalid_0's auc: 0.989072\n",
            "[93]\tvalid_0's auc: 0.989121\n",
            "[94]\tvalid_0's auc: 0.989124\n",
            "[95]\tvalid_0's auc: 0.989151\n",
            "[96]\tvalid_0's auc: 0.989167\n",
            "[97]\tvalid_0's auc: 0.989259\n",
            "[98]\tvalid_0's auc: 0.989291\n",
            "[99]\tvalid_0's auc: 0.98934\n",
            "[100]\tvalid_0's auc: 0.989421\n",
            "[101]\tvalid_0's auc: 0.98949\n",
            "[102]\tvalid_0's auc: 0.989482\n",
            "[103]\tvalid_0's auc: 0.989471\n",
            "[104]\tvalid_0's auc: 0.98952\n",
            "[105]\tvalid_0's auc: 0.989539\n",
            "[106]\tvalid_0's auc: 0.989548\n",
            "[107]\tvalid_0's auc: 0.989544\n",
            "[108]\tvalid_0's auc: 0.989595\n",
            "[109]\tvalid_0's auc: 0.98958\n",
            "[110]\tvalid_0's auc: 0.98957\n",
            "[111]\tvalid_0's auc: 0.989607\n",
            "[112]\tvalid_0's auc: 0.989546\n",
            "[113]\tvalid_0's auc: 0.989478\n",
            "[114]\tvalid_0's auc: 0.989419\n",
            "[115]\tvalid_0's auc: 0.989647\n",
            "[116]\tvalid_0's auc: 0.98969\n",
            "[117]\tvalid_0's auc: 0.989695\n",
            "[118]\tvalid_0's auc: 0.989634\n",
            "[119]\tvalid_0's auc: 0.989629\n",
            "[120]\tvalid_0's auc: 0.989612\n",
            "[121]\tvalid_0's auc: 0.989627\n",
            "[122]\tvalid_0's auc: 0.989646\n",
            "[123]\tvalid_0's auc: 0.989603\n",
            "[124]\tvalid_0's auc: 0.989526\n",
            "[125]\tvalid_0's auc: 0.989565\n",
            "[126]\tvalid_0's auc: 0.989575\n",
            "[127]\tvalid_0's auc: 0.989881\n",
            "[128]\tvalid_0's auc: 0.989872\n",
            "[129]\tvalid_0's auc: 0.98981\n",
            "[130]\tvalid_0's auc: 0.989852\n",
            "[131]\tvalid_0's auc: 0.989865\n",
            "[132]\tvalid_0's auc: 0.989881\n",
            "[133]\tvalid_0's auc: 0.989848\n",
            "[134]\tvalid_0's auc: 0.989867\n",
            "[135]\tvalid_0's auc: 0.989828\n",
            "[136]\tvalid_0's auc: 0.989886\n",
            "[137]\tvalid_0's auc: 0.989878\n",
            "[138]\tvalid_0's auc: 0.98991\n",
            "[139]\tvalid_0's auc: 0.990036\n",
            "[140]\tvalid_0's auc: 0.990039\n",
            "[141]\tvalid_0's auc: 0.990033\n",
            "[142]\tvalid_0's auc: 0.990033\n",
            "[143]\tvalid_0's auc: 0.990053\n",
            "[144]\tvalid_0's auc: 0.990054\n",
            "[145]\tvalid_0's auc: 0.990048\n",
            "[146]\tvalid_0's auc: 0.990034\n",
            "[147]\tvalid_0's auc: 0.990023\n",
            "[148]\tvalid_0's auc: 0.990055\n",
            "[149]\tvalid_0's auc: 0.989986\n",
            "[150]\tvalid_0's auc: 0.990009\n",
            "[151]\tvalid_0's auc: 0.990031\n",
            "[152]\tvalid_0's auc: 0.990052\n",
            "[153]\tvalid_0's auc: 0.990163\n",
            "[154]\tvalid_0's auc: 0.990172\n",
            "[155]\tvalid_0's auc: 0.990248\n",
            "[156]\tvalid_0's auc: 0.990246\n",
            "[157]\tvalid_0's auc: 0.990253\n",
            "[158]\tvalid_0's auc: 0.990251\n",
            "[159]\tvalid_0's auc: 0.99023\n",
            "[160]\tvalid_0's auc: 0.990219\n",
            "[161]\tvalid_0's auc: 0.990279\n",
            "[162]\tvalid_0's auc: 0.990267\n",
            "[163]\tvalid_0's auc: 0.99032\n",
            "[164]\tvalid_0's auc: 0.990278\n",
            "[165]\tvalid_0's auc: 0.99026\n",
            "[166]\tvalid_0's auc: 0.990311\n",
            "[167]\tvalid_0's auc: 0.990367\n",
            "[168]\tvalid_0's auc: 0.990403\n",
            "[169]\tvalid_0's auc: 0.990406\n",
            "[170]\tvalid_0's auc: 0.990423\n",
            "[171]\tvalid_0's auc: 0.990468\n",
            "[172]\tvalid_0's auc: 0.990489\n",
            "[173]\tvalid_0's auc: 0.99055\n",
            "[174]\tvalid_0's auc: 0.990525\n",
            "[175]\tvalid_0's auc: 0.990496\n",
            "[176]\tvalid_0's auc: 0.990486\n",
            "[177]\tvalid_0's auc: 0.990485\n",
            "[178]\tvalid_0's auc: 0.990484\n",
            "[179]\tvalid_0's auc: 0.990437\n",
            "[180]\tvalid_0's auc: 0.990432\n",
            "[181]\tvalid_0's auc: 0.990497\n",
            "[182]\tvalid_0's auc: 0.990544\n",
            "[183]\tvalid_0's auc: 0.990578\n",
            "[184]\tvalid_0's auc: 0.990531\n",
            "[185]\tvalid_0's auc: 0.990521\n",
            "[186]\tvalid_0's auc: 0.9905\n",
            "[187]\tvalid_0's auc: 0.990524\n",
            "[188]\tvalid_0's auc: 0.990581\n",
            "[189]\tvalid_0's auc: 0.990569\n",
            "[190]\tvalid_0's auc: 0.990561\n",
            "[191]\tvalid_0's auc: 0.99059\n",
            "[192]\tvalid_0's auc: 0.990558\n",
            "[193]\tvalid_0's auc: 0.990671\n",
            "[194]\tvalid_0's auc: 0.990658\n",
            "[195]\tvalid_0's auc: 0.990643\n",
            "[196]\tvalid_0's auc: 0.990668\n",
            "[197]\tvalid_0's auc: 0.990657\n",
            "[198]\tvalid_0's auc: 0.990654\n",
            "[199]\tvalid_0's auc: 0.990646\n",
            "[200]\tvalid_0's auc: 0.990652\n",
            "[201]\tvalid_0's auc: 0.990644\n",
            "[202]\tvalid_0's auc: 0.990636\n",
            "[203]\tvalid_0's auc: 0.990649\n",
            "[204]\tvalid_0's auc: 0.990647\n",
            "[205]\tvalid_0's auc: 0.990656\n",
            "[206]\tvalid_0's auc: 0.990695\n",
            "[207]\tvalid_0's auc: 0.990695\n",
            "[208]\tvalid_0's auc: 0.990746\n",
            "[209]\tvalid_0's auc: 0.990741\n",
            "[210]\tvalid_0's auc: 0.990743\n",
            "[211]\tvalid_0's auc: 0.99074\n",
            "[212]\tvalid_0's auc: 0.990803\n",
            "[213]\tvalid_0's auc: 0.990852\n",
            "[214]\tvalid_0's auc: 0.990876\n",
            "[215]\tvalid_0's auc: 0.990831\n",
            "[216]\tvalid_0's auc: 0.990827\n",
            "[217]\tvalid_0's auc: 0.990824\n",
            "[218]\tvalid_0's auc: 0.990968\n",
            "[219]\tvalid_0's auc: 0.990973\n",
            "[220]\tvalid_0's auc: 0.990961\n",
            "[221]\tvalid_0's auc: 0.990952\n",
            "[222]\tvalid_0's auc: 0.990913\n",
            "[223]\tvalid_0's auc: 0.990873\n",
            "[224]\tvalid_0's auc: 0.990866\n",
            "[225]\tvalid_0's auc: 0.99085\n",
            "[226]\tvalid_0's auc: 0.990837\n",
            "[227]\tvalid_0's auc: 0.990846\n",
            "[228]\tvalid_0's auc: 0.990829\n",
            "[229]\tvalid_0's auc: 0.990833\n",
            "[230]\tvalid_0's auc: 0.990819\n",
            "[231]\tvalid_0's auc: 0.990795\n",
            "[232]\tvalid_0's auc: 0.990782\n",
            "[233]\tvalid_0's auc: 0.990782\n",
            "[234]\tvalid_0's auc: 0.990771\n",
            "[235]\tvalid_0's auc: 0.990772\n",
            "[236]\tvalid_0's auc: 0.990813\n",
            "[237]\tvalid_0's auc: 0.990791\n",
            "[238]\tvalid_0's auc: 0.990774\n",
            "[239]\tvalid_0's auc: 0.990741\n",
            "[240]\tvalid_0's auc: 0.990719\n",
            "[241]\tvalid_0's auc: 0.990716\n",
            "[242]\tvalid_0's auc: 0.990728\n",
            "[243]\tvalid_0's auc: 0.990718\n",
            "[244]\tvalid_0's auc: 0.990727\n",
            "[245]\tvalid_0's auc: 0.990761\n",
            "[246]\tvalid_0's auc: 0.990828\n",
            "[247]\tvalid_0's auc: 0.990893\n",
            "[248]\tvalid_0's auc: 0.990882\n",
            "[249]\tvalid_0's auc: 0.990885\n",
            "[250]\tvalid_0's auc: 0.990874\n",
            "[251]\tvalid_0's auc: 0.990867\n",
            "[252]\tvalid_0's auc: 0.990865\n",
            "[253]\tvalid_0's auc: 0.990844\n",
            "[254]\tvalid_0's auc: 0.990859\n",
            "[255]\tvalid_0's auc: 0.990837\n",
            "[256]\tvalid_0's auc: 0.99087\n",
            "[257]\tvalid_0's auc: 0.990929\n",
            "[258]\tvalid_0's auc: 0.990933\n",
            "[259]\tvalid_0's auc: 0.990925\n",
            "[260]\tvalid_0's auc: 0.99092\n",
            "[261]\tvalid_0's auc: 0.990925\n",
            "[262]\tvalid_0's auc: 0.990948\n",
            "[263]\tvalid_0's auc: 0.990949\n",
            "[264]\tvalid_0's auc: 0.990955\n",
            "[265]\tvalid_0's auc: 0.990959\n",
            "[266]\tvalid_0's auc: 0.990905\n",
            "[267]\tvalid_0's auc: 0.9909\n",
            "[268]\tvalid_0's auc: 0.990902\n",
            "[269]\tvalid_0's auc: 0.990905\n",
            "[270]\tvalid_0's auc: 0.990903\n",
            "[271]\tvalid_0's auc: 0.990904\n",
            "[272]\tvalid_0's auc: 0.990893\n",
            "[273]\tvalid_0's auc: 0.990962\n",
            "[274]\tvalid_0's auc: 0.990967\n",
            "[275]\tvalid_0's auc: 0.990943\n",
            "[276]\tvalid_0's auc: 0.990944\n",
            "[277]\tvalid_0's auc: 0.990962\n",
            "[278]\tvalid_0's auc: 0.990962\n",
            "[279]\tvalid_0's auc: 0.990966\n",
            "[280]\tvalid_0's auc: 0.990963\n",
            "[281]\tvalid_0's auc: 0.990967\n",
            "[282]\tvalid_0's auc: 0.990917\n",
            "[283]\tvalid_0's auc: 0.990917\n",
            "[284]\tvalid_0's auc: 0.990902\n",
            "[285]\tvalid_0's auc: 0.990897\n",
            "[286]\tvalid_0's auc: 0.990889\n",
            "[287]\tvalid_0's auc: 0.991026\n",
            "[288]\tvalid_0's auc: 0.991027\n",
            "[289]\tvalid_0's auc: 0.99101\n",
            "[290]\tvalid_0's auc: 0.991011\n",
            "[291]\tvalid_0's auc: 0.990995\n",
            "[292]\tvalid_0's auc: 0.991002\n",
            "[293]\tvalid_0's auc: 0.991006\n",
            "[294]\tvalid_0's auc: 0.990979\n",
            "[295]\tvalid_0's auc: 0.990982\n",
            "[296]\tvalid_0's auc: 0.990986\n",
            "[297]\tvalid_0's auc: 0.991043\n",
            "[298]\tvalid_0's auc: 0.991032\n",
            "[299]\tvalid_0's auc: 0.991002\n",
            "[300]\tvalid_0's auc: 0.991005\n",
            "[301]\tvalid_0's auc: 0.991014\n",
            "[302]\tvalid_0's auc: 0.991032\n",
            "[303]\tvalid_0's auc: 0.99104\n",
            "[304]\tvalid_0's auc: 0.991033\n",
            "[305]\tvalid_0's auc: 0.99103\n",
            "[306]\tvalid_0's auc: 0.991018\n",
            "[307]\tvalid_0's auc: 0.991015\n",
            "[308]\tvalid_0's auc: 0.991046\n",
            "[309]\tvalid_0's auc: 0.991041\n",
            "[310]\tvalid_0's auc: 0.991017\n",
            "[311]\tvalid_0's auc: 0.990997\n",
            "[312]\tvalid_0's auc: 0.991046\n",
            "[313]\tvalid_0's auc: 0.99107\n",
            "[314]\tvalid_0's auc: 0.991081\n",
            "[315]\tvalid_0's auc: 0.991081\n",
            "[316]\tvalid_0's auc: 0.991063\n",
            "[317]\tvalid_0's auc: 0.991058\n",
            "[318]\tvalid_0's auc: 0.99104\n",
            "[319]\tvalid_0's auc: 0.991037\n",
            "[320]\tvalid_0's auc: 0.991065\n",
            "[321]\tvalid_0's auc: 0.991065\n",
            "[322]\tvalid_0's auc: 0.991056\n",
            "[323]\tvalid_0's auc: 0.991115\n",
            "[324]\tvalid_0's auc: 0.991106\n",
            "[325]\tvalid_0's auc: 0.991093\n",
            "[326]\tvalid_0's auc: 0.991091\n",
            "[327]\tvalid_0's auc: 0.991138\n",
            "[328]\tvalid_0's auc: 0.991144\n",
            "[329]\tvalid_0's auc: 0.991193\n",
            "[330]\tvalid_0's auc: 0.991192\n",
            "[331]\tvalid_0's auc: 0.991186\n",
            "[332]\tvalid_0's auc: 0.991189\n",
            "[333]\tvalid_0's auc: 0.991187\n",
            "[334]\tvalid_0's auc: 0.99119\n",
            "[335]\tvalid_0's auc: 0.991222\n",
            "[336]\tvalid_0's auc: 0.991217\n",
            "[337]\tvalid_0's auc: 0.99119\n",
            "[338]\tvalid_0's auc: 0.991172\n",
            "[339]\tvalid_0's auc: 0.991173\n",
            "[340]\tvalid_0's auc: 0.991177\n",
            "[341]\tvalid_0's auc: 0.991168\n",
            "[342]\tvalid_0's auc: 0.991165\n",
            "[343]\tvalid_0's auc: 0.99115\n",
            "[344]\tvalid_0's auc: 0.991144\n",
            "[345]\tvalid_0's auc: 0.991127\n",
            "[346]\tvalid_0's auc: 0.991124\n",
            "[347]\tvalid_0's auc: 0.991125\n",
            "[348]\tvalid_0's auc: 0.991108\n",
            "[349]\tvalid_0's auc: 0.991116\n",
            "[350]\tvalid_0's auc: 0.991119\n",
            "[351]\tvalid_0's auc: 0.991115\n",
            "[352]\tvalid_0's auc: 0.991231\n",
            "[353]\tvalid_0's auc: 0.991226\n",
            "[354]\tvalid_0's auc: 0.991221\n",
            "[355]\tvalid_0's auc: 0.991228\n",
            "[356]\tvalid_0's auc: 0.991336\n",
            "[357]\tvalid_0's auc: 0.991331\n",
            "[358]\tvalid_0's auc: 0.991364\n",
            "[359]\tvalid_0's auc: 0.991375\n",
            "[360]\tvalid_0's auc: 0.991359\n",
            "[361]\tvalid_0's auc: 0.991356\n",
            "[362]\tvalid_0's auc: 0.991346\n",
            "[363]\tvalid_0's auc: 0.991341\n",
            "[364]\tvalid_0's auc: 0.991341\n",
            "[365]\tvalid_0's auc: 0.99141\n",
            "[366]\tvalid_0's auc: 0.991414\n",
            "[367]\tvalid_0's auc: 0.991412\n",
            "[368]\tvalid_0's auc: 0.991391\n",
            "[369]\tvalid_0's auc: 0.991395\n",
            "[370]\tvalid_0's auc: 0.991348\n",
            "[371]\tvalid_0's auc: 0.991347\n",
            "[372]\tvalid_0's auc: 0.99132\n",
            "[373]\tvalid_0's auc: 0.991349\n",
            "[374]\tvalid_0's auc: 0.991343\n",
            "[375]\tvalid_0's auc: 0.991321\n",
            "[376]\tvalid_0's auc: 0.99132\n",
            "[377]\tvalid_0's auc: 0.991301\n",
            "[378]\tvalid_0's auc: 0.991302\n",
            "[379]\tvalid_0's auc: 0.991298\n",
            "[380]\tvalid_0's auc: 0.991291\n",
            "[381]\tvalid_0's auc: 0.991284\n",
            "[382]\tvalid_0's auc: 0.991286\n",
            "[383]\tvalid_0's auc: 0.991279\n",
            "[384]\tvalid_0's auc: 0.991314\n",
            "[385]\tvalid_0's auc: 0.991308\n",
            "[386]\tvalid_0's auc: 0.991321\n",
            "[387]\tvalid_0's auc: 0.991299\n",
            "[388]\tvalid_0's auc: 0.991298\n",
            "[389]\tvalid_0's auc: 0.991297\n",
            "[390]\tvalid_0's auc: 0.991298\n",
            "[391]\tvalid_0's auc: 0.991293\n",
            "[392]\tvalid_0's auc: 0.99129\n",
            "[393]\tvalid_0's auc: 0.991278\n",
            "[394]\tvalid_0's auc: 0.991296\n",
            "[395]\tvalid_0's auc: 0.991286\n",
            "[396]\tvalid_0's auc: 0.991284\n",
            "[397]\tvalid_0's auc: 0.991299\n",
            "[398]\tvalid_0's auc: 0.991273\n",
            "[399]\tvalid_0's auc: 0.9913\n",
            "[400]\tvalid_0's auc: 0.991268\n",
            "[401]\tvalid_0's auc: 0.991264\n",
            "[402]\tvalid_0's auc: 0.991309\n",
            "[403]\tvalid_0's auc: 0.991302\n",
            "[404]\tvalid_0's auc: 0.991337\n",
            "[405]\tvalid_0's auc: 0.991332\n",
            "[406]\tvalid_0's auc: 0.991335\n",
            "[407]\tvalid_0's auc: 0.991283\n",
            "[408]\tvalid_0's auc: 0.991285\n",
            "[409]\tvalid_0's auc: 0.991317\n",
            "[410]\tvalid_0's auc: 0.991301\n",
            "[411]\tvalid_0's auc: 0.991407\n",
            "[412]\tvalid_0's auc: 0.991413\n",
            "[413]\tvalid_0's auc: 0.991411\n",
            "[414]\tvalid_0's auc: 0.991366\n",
            "[415]\tvalid_0's auc: 0.991371\n",
            "[416]\tvalid_0's auc: 0.991352\n",
            "[417]\tvalid_0's auc: 0.991353\n",
            "[418]\tvalid_0's auc: 0.991356\n",
            "[419]\tvalid_0's auc: 0.991339\n",
            "[420]\tvalid_0's auc: 0.991333\n",
            "[421]\tvalid_0's auc: 0.991374\n",
            "[422]\tvalid_0's auc: 0.991353\n",
            "[423]\tvalid_0's auc: 0.9913\n",
            "[424]\tvalid_0's auc: 0.991271\n",
            "[425]\tvalid_0's auc: 0.991273\n",
            "[426]\tvalid_0's auc: 0.991309\n",
            "[427]\tvalid_0's auc: 0.991353\n",
            "[428]\tvalid_0's auc: 0.991357\n",
            "[429]\tvalid_0's auc: 0.991411\n",
            "[430]\tvalid_0's auc: 0.991414\n",
            "[431]\tvalid_0's auc: 0.991445\n",
            "[432]\tvalid_0's auc: 0.991433\n",
            "[433]\tvalid_0's auc: 0.991426\n",
            "[434]\tvalid_0's auc: 0.991427\n",
            "[435]\tvalid_0's auc: 0.991423\n",
            "[436]\tvalid_0's auc: 0.991414\n",
            "[437]\tvalid_0's auc: 0.991411\n",
            "[438]\tvalid_0's auc: 0.991411\n",
            "[439]\tvalid_0's auc: 0.991417\n",
            "[440]\tvalid_0's auc: 0.991438\n",
            "[441]\tvalid_0's auc: 0.991412\n",
            "[442]\tvalid_0's auc: 0.991385\n",
            "[443]\tvalid_0's auc: 0.991382\n",
            "[444]\tvalid_0's auc: 0.991383\n",
            "[445]\tvalid_0's auc: 0.99144\n",
            "[446]\tvalid_0's auc: 0.991443\n",
            "[447]\tvalid_0's auc: 0.991419\n",
            "[448]\tvalid_0's auc: 0.991385\n",
            "[449]\tvalid_0's auc: 0.9914\n",
            "[450]\tvalid_0's auc: 0.991376\n",
            "[451]\tvalid_0's auc: 0.991355\n",
            "[452]\tvalid_0's auc: 0.991356\n",
            "[453]\tvalid_0's auc: 0.991355\n",
            "[454]\tvalid_0's auc: 0.991356\n",
            "[455]\tvalid_0's auc: 0.991353\n",
            "[456]\tvalid_0's auc: 0.991353\n",
            "[457]\tvalid_0's auc: 0.991349\n",
            "[458]\tvalid_0's auc: 0.991358\n",
            "[459]\tvalid_0's auc: 0.991394\n",
            "[460]\tvalid_0's auc: 0.991396\n",
            "[461]\tvalid_0's auc: 0.991393\n",
            "[462]\tvalid_0's auc: 0.991392\n",
            "[463]\tvalid_0's auc: 0.991394\n",
            "[464]\tvalid_0's auc: 0.991423\n",
            "[465]\tvalid_0's auc: 0.991447\n",
            "[466]\tvalid_0's auc: 0.991449\n",
            "[467]\tvalid_0's auc: 0.991475\n",
            "[468]\tvalid_0's auc: 0.991476\n",
            "[469]\tvalid_0's auc: 0.991484\n",
            "[470]\tvalid_0's auc: 0.991485\n",
            "[471]\tvalid_0's auc: 0.991514\n",
            "[472]\tvalid_0's auc: 0.99152\n",
            "[473]\tvalid_0's auc: 0.991529\n",
            "[474]\tvalid_0's auc: 0.991535\n",
            "[475]\tvalid_0's auc: 0.991561\n",
            "[476]\tvalid_0's auc: 0.991555\n",
            "[477]\tvalid_0's auc: 0.991547\n",
            "[478]\tvalid_0's auc: 0.991549\n",
            "[479]\tvalid_0's auc: 0.99155\n",
            "[480]\tvalid_0's auc: 0.99153\n",
            "[481]\tvalid_0's auc: 0.991521\n",
            "[482]\tvalid_0's auc: 0.991519\n",
            "[483]\tvalid_0's auc: 0.991545\n",
            "[484]\tvalid_0's auc: 0.991529\n",
            "[485]\tvalid_0's auc: 0.991526\n",
            "[486]\tvalid_0's auc: 0.991553\n",
            "[487]\tvalid_0's auc: 0.991554\n",
            "[488]\tvalid_0's auc: 0.991525\n",
            "[489]\tvalid_0's auc: 0.991532\n",
            "[490]\tvalid_0's auc: 0.991534\n",
            "[491]\tvalid_0's auc: 0.991536\n",
            "[492]\tvalid_0's auc: 0.991533\n",
            "[493]\tvalid_0's auc: 0.991533\n",
            "[494]\tvalid_0's auc: 0.991529\n",
            "[495]\tvalid_0's auc: 0.991497\n",
            "[496]\tvalid_0's auc: 0.991523\n",
            "[497]\tvalid_0's auc: 0.991513\n",
            "[498]\tvalid_0's auc: 0.991521\n",
            "[499]\tvalid_0's auc: 0.991521\n",
            "[500]\tvalid_0's auc: 0.991585\n"
          ],
          "name": "stdout"
        }
      ]
    },
    {
      "cell_type": "code",
      "metadata": {
        "id": "tl9JPrCxVjl9",
        "colab_type": "code",
        "colab": {}
      },
      "source": [
        "y_pred = model.predict(X_test)"
      ],
      "execution_count": 0,
      "outputs": []
    },
    {
      "cell_type": "code",
      "metadata": {
        "id": "oLhMHMTjf-CV",
        "colab_type": "code",
        "outputId": "9727b088-9130-488a-91a8-5775e2c6690f",
        "colab": {
          "base_uri": "https://localhost:8080/",
          "height": 286
        }
      },
      "source": [
        "auc = roc_auc_score(y_test, y_pred)\n",
        "print('AUC: %.3f' % auc)\n",
        "# calculate roc curve\n",
        "fpr, tpr, thresholds = roc_curve(y_test, y_pred)\n",
        "# plot no skill\n",
        "pyplot.plot([0, 1], [0, 1], linestyle='--')\n",
        "# plot the roc curve for the model\n",
        "pyplot.plot(fpr, tpr, marker='.')\n",
        "# show the plot\n",
        "pyplot.show()"
      ],
      "execution_count": 0,
      "outputs": [
        {
          "output_type": "stream",
          "text": [
            "AUC: 0.988\n"
          ],
          "name": "stdout"
        },
        {
          "output_type": "display_data",
          "data": {
            "image/png": "[encoded data removed]",
            "text/plain": [
              "<Figure size 432x288 with 1 Axes>"
            ]
          },
          "metadata": {
            "tags": []
          }
        }
      ]
    },
    {
      "cell_type": "code",
      "metadata": {
        "id": "rEXCbvzxXTaW",
        "colab_type": "code",
        "outputId": "1f9bef27-6be2-41b1-d6e5-072e8913d3cd",
        "colab": {
          "base_uri": "https://localhost:8080/",
          "height": 34
        }
      },
      "source": [
        "f1 = {}\n",
        "\n",
        "for a in [0.90, 0.96, 0.97, 0.98, 0.99]:\n",
        "\n",
        "  y_pred = model.predict(X_test)\n",
        "\n",
        "  for i in range(len(y_pred)):\n",
        "      if y_pred[i]>=a:       \n",
        "         y_pred[i]=1\n",
        "      else:  \n",
        "         y_pred[i]=0\n",
        "          \n",
        "  f1[a] = f1_score(y_test, y_pred)\n",
        "  \n",
        "print(f1)"
      ],
      "execution_count": 0,
      "outputs": [
        {
          "output_type": "stream",
          "text": [
            "{0.9: 0.6269098077870872, 0.96: 0.667576584774037, 0.97: 0.6720404615141458, 0.98: 0.6667756169308711, 0.99: 0.6457450904890258}\n"
          ],
          "name": "stdout"
        }
      ]
    },
    {
      "cell_type": "code",
      "metadata": {
        "id": "qPBk7-geicxw",
        "colab_type": "code",
        "outputId": "fb891619-cb99-4a0f-b46f-f43f0482ff10",
        "colab": {
          "base_uri": "https://localhost:8080/",
          "height": 101
        }
      },
      "source": [
        "fpr[:10], tpr[:10], thresholds[:10]"
      ],
      "execution_count": 0,
      "outputs": [
        {
          "output_type": "execute_result",
          "data": {
            "text/plain": [
              "(array([0., 0., 0., 0., 0., 0., 0., 0., 0., 0.]),\n",
              " array([0.        , 0.00364742, 0.00547112, 0.00577508, 0.00759878,\n",
              "        0.00790274, 0.00942249, 0.01337386, 0.01398176, 0.01489362]),\n",
              " array([1.99914819, 0.99914819, 0.9989553 , 0.99886248, 0.99879666,\n",
              "        0.99873156, 0.99870207, 0.99852467, 0.99846699, 0.99833729]))"
            ]
          },
          "metadata": {
            "tags": []
          },
          "execution_count": 32
        }
      ]
    },
    {
      "cell_type": "code",
      "metadata": {
        "id": "JCfcvSZKPOex",
        "colab_type": "code",
        "colab": {}
      },
      "source": [
        "y_pred = model.predict(X_test)"
      ],
      "execution_count": 0,
      "outputs": []
    },
    {
      "cell_type": "code",
      "metadata": {
        "id": "uhEIa5_QfMEO",
        "colab_type": "code",
        "colab": {}
      },
      "source": [
        "for i in range(len(y_pred)):\n",
        "    if y_pred[i]>=.97:\n",
        "       y_pred[i]=1\n",
        "    else:  \n",
        "       y_pred[i]=0"
      ],
      "execution_count": 0,
      "outputs": []
    },
    {
      "cell_type": "code",
      "metadata": {
        "id": "dfxI2l-DX6H7",
        "colab_type": "code",
        "outputId": "8020fb84-05aa-40b5-f2fd-b685a7618b88",
        "colab": {
          "base_uri": "https://localhost:8080/",
          "height": 50
        }
      },
      "source": [
        "confusion_matrix(y_test, y_pred)"
      ],
      "execution_count": 0,
      "outputs": [
        {
          "output_type": "execute_result",
          "data": {
            "text/plain": [
              "array([[293121,    911],\n",
              "       [  1164,   2126]])"
            ]
          },
          "metadata": {
            "tags": []
          },
          "execution_count": 35
        }
      ]
    },
    {
      "cell_type": "code",
      "metadata": {
        "id": "iz29zKnpgfQu",
        "colab_type": "code",
        "outputId": "56560a81-c77e-40fa-8b6c-fc26c9600518",
        "colab": {
          "base_uri": "https://localhost:8080/",
          "height": 34
        }
      },
      "source": [
        "accuracy_score(y_test, y_pred)"
      ],
      "execution_count": 0,
      "outputs": [
        {
          "output_type": "execute_result",
          "data": {
            "text/plain": [
              "0.993021034434048"
            ]
          },
          "metadata": {
            "tags": []
          },
          "execution_count": 36
        }
      ]
    },
    {
      "cell_type": "code",
      "metadata": {
        "id": "2ycD1hVyglEy",
        "colab_type": "code",
        "outputId": "028db461-b3b5-4d43-824d-ae5c5034f8fb",
        "colab": {
          "base_uri": "https://localhost:8080/",
          "height": 34
        }
      },
      "source": [
        "recall_score(y_test, y_pred)"
      ],
      "execution_count": 0,
      "outputs": [
        {
          "output_type": "execute_result",
          "data": {
            "text/plain": [
              "0.6462006079027356"
            ]
          },
          "metadata": {
            "tags": []
          },
          "execution_count": 37
        }
      ]
    },
    {
      "cell_type": "code",
      "metadata": {
        "id": "HfWstdKKgpee",
        "colab_type": "code",
        "outputId": "af8f871e-45b9-4bb6-d63b-f162ec67e107",
        "colab": {
          "base_uri": "https://localhost:8080/",
          "height": 34
        }
      },
      "source": [
        "f1_score(y_test, y_pred)"
      ],
      "execution_count": 0,
      "outputs": [
        {
          "output_type": "execute_result",
          "data": {
            "text/plain": [
              "0.6720404615141458"
            ]
          },
          "metadata": {
            "tags": []
          },
          "execution_count": 38
        }
      ]
    },
    {
      "cell_type": "code",
      "metadata": {
        "id": "mrWPh2JQgxOm",
        "colab_type": "code",
        "outputId": "b89ec5f9-ea32-49d4-b718-3303c848fac9",
        "colab": {
          "base_uri": "https://localhost:8080/",
          "height": 168
        }
      },
      "source": [
        "print(classification_report(y_test, y_pred))"
      ],
      "execution_count": 0,
      "outputs": [
        {
          "output_type": "stream",
          "text": [
            "              precision    recall  f1-score   support\n",
            "\n",
            "           0       1.00      1.00      1.00    294032\n",
            "           1       0.70      0.65      0.67      3290\n",
            "\n",
            "   micro avg       0.99      0.99      0.99    297322\n",
            "   macro avg       0.85      0.82      0.83    297322\n",
            "weighted avg       0.99      0.99      0.99    297322\n",
            "\n"
          ],
          "name": "stdout"
        }
      ]
    },
    {
      "cell_type": "code",
      "metadata": {
        "id": "cJfJjVVzm2G1",
        "colab_type": "code",
        "outputId": "d4350d07-d6c4-4c71-d462-deb7f20b488a",
        "colab": {
          "base_uri": "https://localhost:8080/",
          "height": 312
        }
      },
      "source": [
        "lightgbm.plot_importance(model)"
      ],
      "execution_count": 0,
      "outputs": [
        {
          "output_type": "execute_result",
          "data": {
            "text/plain": [
              "<matplotlib.axes._subplots.AxesSubplot at 0x7faf65b8acf8>"
            ]
          },
          "metadata": {
            "tags": []
          },
          "execution_count": 40
        },
        {
          "output_type": "display_data",
          "data": {
            "image/png": "[encoded data removed]",
            "text/plain": [
              "<Figure size 432x288 with 1 Axes>"
            ]
          },
          "metadata": {
            "tags": []
          }
        }
      ]
    },
    {
      "cell_type": "markdown",
      "metadata": {
        "id": "QppEbM2e2Pel",
        "colab_type": "text"
      },
      "source": [
        "#Using SNA for Credit Card Default Prediction"
      ]
    },
    {
      "cell_type": "markdown",
      "metadata": {
        "id": "p2roKMmxNqIv",
        "colab_type": "text"
      },
      "source": [
        "##Multigraph of Transactions"
      ]
    },
    {
      "cell_type": "code",
      "metadata": {
        "id": "PlydPWXnrEgE",
        "colab_type": "code",
        "outputId": "154708f1-d488-4319-b873-5ce87e2976db",
        "colab": {
          "base_uri": "https://localhost:8080/",
          "height": 34
        }
      },
      "source": [
        "G_mult = nx.MultiGraph()\n",
        "\n",
        "for i in range(297321):\n",
        "    G_mult.add_nodes_from([df[\"customer\"][i]], age = df[\"age\"][i], gender = df[\"gender\"][i], zip_code_cust = df[\"zipcodeOri\"][i], bipartite=0)\n",
        "    G_mult.add_nodes_from([df[\"merchant\"][i]], zip_code_merc = df[\"zipMerchant\"][i], bipartite=1)\n",
        "    G_mult.add_edges_from([(df[\"customer\"][i], df[\"merchant\"][i])], amount = df[\"amount\"][i], fraud = df[\"fraud\"][i], step = df[\"step\"][i], category = df[\"category\"][i])\n",
        "\n",
        "len(G_mult.nodes()), len(G_mult.edges())"
      ],
      "execution_count": 0,
      "outputs": [
        {
          "output_type": "execute_result",
          "data": {
            "text/plain": [
              "(4159, 297321)"
            ]
          },
          "metadata": {
            "tags": []
          },
          "execution_count": 41
        }
      ]
    },
    {
      "cell_type": "code",
      "metadata": {
        "id": "AszI0y5SkjYi",
        "colab_type": "code",
        "outputId": "3523d837-33e8-47a7-cfb0-a25c5ab496d6",
        "colab": {
          "base_uri": "https://localhost:8080/",
          "height": 34
        }
      },
      "source": [
        "nx.is_connected(G_mult)"
      ],
      "execution_count": 0,
      "outputs": [
        {
          "output_type": "execute_result",
          "data": {
            "text/plain": [
              "True"
            ]
          },
          "metadata": {
            "tags": []
          },
          "execution_count": 42
        }
      ]
    },
    {
      "cell_type": "markdown",
      "metadata": {
        "id": "aHxRqYrQnrtX",
        "colab_type": "text"
      },
      "source": [
        "###Calculating SimRank"
      ]
    },
    {
      "cell_type": "code",
      "metadata": {
        "id": "XthZzjZbZM_G",
        "colab_type": "code",
        "colab": {}
      },
      "source": [
        "#const = rnd.uniform(0.45,0.7)\n",
        "#iter_const = rnd.randint(5,30)\n",
        "\n",
        "\n",
        "const = 0.6068600098021981\n",
        "iter_const = 28\n",
        "\n",
        "simrank = linkpred.predictors.SimRank(G_mult)\n",
        "simrank_results = simrank.predict(c=const, weight = \"fraud\", num_iterations = iter_const)"
      ],
      "execution_count": 0,
      "outputs": []
    },
    {
      "cell_type": "markdown",
      "metadata": {
        "id": "rqL91wRBOjyp",
        "colab_type": "text"
      },
      "source": [
        "##Graph of Transactions"
      ]
    },
    {
      "cell_type": "code",
      "metadata": {
        "id": "hRY9ffgYLfLr",
        "colab_type": "code",
        "outputId": "a29a30b7-1802-43f5-9c14-478fdd137a82",
        "colab": {
          "base_uri": "https://localhost:8080/",
          "height": 106
        }
      },
      "source": [
        "fraud_edges = df[:297321].groupby([\"customer\", \"merchant\"]).sum().reset_index().sort_values([\"fraud\"], ascending = False)\n",
        "\n",
        "fraud_edges.head(2)"
      ],
      "execution_count": 0,
      "outputs": [
        {
          "output_type": "execute_result",
          "data": {
            "text/html": [
              "<div>\n",
              "<style scoped>\n",
              "    .dataframe tbody tr th:only-of-type {\n",
              "        vertical-align: middle;\n",
              "    }\n",
              "\n",
              "    .dataframe tbody tr th {\n",
              "        vertical-align: top;\n",
              "    }\n",
              "\n",
              "    .dataframe thead th {\n",
              "        text-align: right;\n",
              "    }\n",
              "</style>\n",
              "<table border=\"1\" class=\"dataframe\">\n",
              "  <thead>\n",
              "    <tr style=\"text-align: right;\">\n",
              "      <th></th>\n",
              "      <th>customer</th>\n",
              "      <th>merchant</th>\n",
              "      <th>step</th>\n",
              "      <th>amount</th>\n",
              "      <th>fraud</th>\n",
              "    </tr>\n",
              "  </thead>\n",
              "  <tbody>\n",
              "    <tr>\n",
              "      <th>4866</th>\n",
              "      <td>C1275518867</td>\n",
              "      <td>M980657600</td>\n",
              "      <td>1042</td>\n",
              "      <td>10864.97</td>\n",
              "      <td>32</td>\n",
              "    </tr>\n",
              "    <tr>\n",
              "      <th>14344</th>\n",
              "      <td>C1849046345</td>\n",
              "      <td>M480139044</td>\n",
              "      <td>864</td>\n",
              "      <td>8658.00</td>\n",
              "      <td>24</td>\n",
              "    </tr>\n",
              "  </tbody>\n",
              "</table>\n",
              "</div>"
            ],
            "text/plain": [
              "          customer    merchant  step    amount  fraud\n",
              "4866   C1275518867  M980657600  1042  10864.97     32\n",
              "14344  C1849046345  M480139044   864   8658.00     24"
            ]
          },
          "metadata": {
            "tags": []
          },
          "execution_count": 44
        }
      ]
    },
    {
      "cell_type": "code",
      "metadata": {
        "id": "_TZQCBZS4pwx",
        "colab_type": "code",
        "outputId": "c282d708-fbca-4388-980e-0b07d2fb5a9b",
        "colab": {
          "base_uri": "https://localhost:8080/",
          "height": 106
        }
      },
      "source": [
        "fraud_cust = df[:297321].groupby([\"customer\"]).sum().reset_index().sort_values([\"fraud\"], ascending = False)\n",
        "\n",
        "fraud_cust.head(2)"
      ],
      "execution_count": 0,
      "outputs": [
        {
          "output_type": "execute_result",
          "data": {
            "text/html": [
              "<div>\n",
              "<style scoped>\n",
              "    .dataframe tbody tr th:only-of-type {\n",
              "        vertical-align: middle;\n",
              "    }\n",
              "\n",
              "    .dataframe tbody tr th {\n",
              "        vertical-align: top;\n",
              "    }\n",
              "\n",
              "    .dataframe thead th {\n",
              "        text-align: right;\n",
              "    }\n",
              "</style>\n",
              "<table border=\"1\" class=\"dataframe\">\n",
              "  <thead>\n",
              "    <tr style=\"text-align: right;\">\n",
              "      <th></th>\n",
              "      <th>customer</th>\n",
              "      <th>step</th>\n",
              "      <th>amount</th>\n",
              "      <th>fraud</th>\n",
              "    </tr>\n",
              "  </thead>\n",
              "  <tbody>\n",
              "    <tr>\n",
              "      <th>614</th>\n",
              "      <td>C1275518867</td>\n",
              "      <td>6889</td>\n",
              "      <td>43961.11</td>\n",
              "      <td>97</td>\n",
              "    </tr>\n",
              "    <tr>\n",
              "      <th>1836</th>\n",
              "      <td>C1849046345</td>\n",
              "      <td>3798</td>\n",
              "      <td>38364.68</td>\n",
              "      <td>89</td>\n",
              "    </tr>\n",
              "  </tbody>\n",
              "</table>\n",
              "</div>"
            ],
            "text/plain": [
              "         customer  step    amount  fraud\n",
              "614   C1275518867  6889  43961.11     97\n",
              "1836  C1849046345  3798  38364.68     89"
            ]
          },
          "metadata": {
            "tags": []
          },
          "execution_count": 45
        }
      ]
    },
    {
      "cell_type": "code",
      "metadata": {
        "id": "HuVAXtDA406G",
        "colab_type": "code",
        "outputId": "daf87064-f3c6-4c77-c982-ab96bffead13",
        "colab": {
          "base_uri": "https://localhost:8080/",
          "height": 106
        }
      },
      "source": [
        "fraud_merc = df[:297321].groupby([\"merchant\"]).sum().reset_index().sort_values([\"fraud\"], ascending = False)\n",
        "\n",
        "fraud_merc.head(2)"
      ],
      "execution_count": 0,
      "outputs": [
        {
          "output_type": "execute_result",
          "data": {
            "text/html": [
              "<div>\n",
              "<style scoped>\n",
              "    .dataframe tbody tr th:only-of-type {\n",
              "        vertical-align: middle;\n",
              "    }\n",
              "\n",
              "    .dataframe tbody tr th {\n",
              "        vertical-align: top;\n",
              "    }\n",
              "\n",
              "    .dataframe thead th {\n",
              "        text-align: right;\n",
              "    }\n",
              "</style>\n",
              "<table border=\"1\" class=\"dataframe\">\n",
              "  <thead>\n",
              "    <tr style=\"text-align: right;\">\n",
              "      <th></th>\n",
              "      <th>merchant</th>\n",
              "      <th>step</th>\n",
              "      <th>amount</th>\n",
              "      <th>fraud</th>\n",
              "    </tr>\n",
              "  </thead>\n",
              "  <tbody>\n",
              "    <tr>\n",
              "      <th>34</th>\n",
              "      <td>M480139044</td>\n",
              "      <td>101625</td>\n",
              "      <td>501473.46</td>\n",
              "      <td>884</td>\n",
              "    </tr>\n",
              "    <tr>\n",
              "      <th>49</th>\n",
              "      <td>M980657600</td>\n",
              "      <td>49347</td>\n",
              "      <td>313513.48</td>\n",
              "      <td>850</td>\n",
              "    </tr>\n",
              "  </tbody>\n",
              "</table>\n",
              "</div>"
            ],
            "text/plain": [
              "      merchant    step     amount  fraud\n",
              "34  M480139044  101625  501473.46    884\n",
              "49  M980657600   49347  313513.48    850"
            ]
          },
          "metadata": {
            "tags": []
          },
          "execution_count": 46
        }
      ]
    },
    {
      "cell_type": "code",
      "metadata": {
        "id": "SKDbbIhU3InA",
        "colab_type": "code",
        "colab": {}
      },
      "source": [
        "cust_fraud_dic = {}\n",
        "\n",
        "for index, row in fraud_cust.iterrows():\n",
        "  cust_fraud_dic[fraud_cust[\"customer\"][index]] = fraud_cust[\"fraud\"][index]"
      ],
      "execution_count": 0,
      "outputs": []
    },
    {
      "cell_type": "code",
      "metadata": {
        "id": "QxAZqgna3s89",
        "colab_type": "code",
        "colab": {}
      },
      "source": [
        "merc_fraud_dic = {}\n",
        "\n",
        "for index, row in fraud_merc.iterrows():\n",
        "  merc_fraud_dic[fraud_merc[\"merchant\"][index]] = fraud_merc[\"fraud\"][index]"
      ],
      "execution_count": 0,
      "outputs": []
    },
    {
      "cell_type": "code",
      "metadata": {
        "id": "_kyiYnbsM6xQ",
        "colab_type": "code",
        "colab": {}
      },
      "source": [
        "G = nx.Graph()\n",
        "\n",
        "#G = nx.from_pandas_edgelist(df, \"customer\", \"merchant\",[\"step\", \"amount\", \"fraud\"])\n",
        "\n",
        "\n",
        "for i in range(297321):\n",
        "    G.add_nodes_from([df[\"customer\"][i]], age = df[\"age\"][i], gender = df[\"gender\"][i], zip_code_cust = df[\"zipcodeOri\"][i], bipartite=0)\n",
        "    G.add_nodes_from([df[\"merchant\"][i]], zip_code_merc = df[\"zipMerchant\"][i], bipartite=1)     \n",
        "\n",
        "for j in range(len(fraud_edges)):\n",
        "  G.add_edges_from([(fraud_edges[\"customer\"][j], fraud_edges[\"merchant\"][j])], fraud = fraud_edges[\"fraud\"][j])"
      ],
      "execution_count": 0,
      "outputs": []
    },
    {
      "cell_type": "code",
      "metadata": {
        "id": "rzwvqTXDnn3h",
        "colab_type": "code",
        "outputId": "8044de69-46d8-494c-8e8c-d68c979041a3",
        "colab": {
          "base_uri": "https://localhost:8080/",
          "height": 34
        }
      },
      "source": [
        "len(G.nodes()), len(G.edges())"
      ],
      "execution_count": 0,
      "outputs": [
        {
          "output_type": "execute_result",
          "data": {
            "text/plain": [
              "(4159, 31887)"
            ]
          },
          "metadata": {
            "tags": []
          },
          "execution_count": 50
        }
      ]
    },
    {
      "cell_type": "code",
      "metadata": {
        "id": "YZBVwJxw7NTh",
        "colab_type": "code",
        "outputId": "8d594104-8ed5-4e5b-f0d9-85e9e1555952",
        "colab": {
          "base_uri": "https://localhost:8080/",
          "height": 34
        }
      },
      "source": [
        "nx.is_connected(G)"
      ],
      "execution_count": 0,
      "outputs": [
        {
          "output_type": "execute_result",
          "data": {
            "text/plain": [
              "True"
            ]
          },
          "metadata": {
            "tags": []
          },
          "execution_count": 51
        }
      ]
    },
    {
      "cell_type": "markdown",
      "metadata": {
        "id": "HTHrjeTfolVL",
        "colab_type": "text"
      },
      "source": [
        "###Calculating Association Strength, Common Neighbors, Degree Product, Jaccard, Max Overlap, Min Overlap, Pearson, Resource Allocation Algorthms"
      ]
    },
    {
      "cell_type": "code",
      "metadata": {
        "id": "VvkAIqEdok08",
        "colab_type": "code",
        "colab": {}
      },
      "source": [
        "assoc_str = linkpred.predictors.AssociationStrength(G)\n",
        "assoc_str_results = assoc_str.predict(weight = \"fraud\")"
      ],
      "execution_count": 0,
      "outputs": []
    },
    {
      "cell_type": "code",
      "metadata": {
        "id": "1HRAfVrMphXQ",
        "colab_type": "code",
        "colab": {}
      },
      "source": [
        "comm = linkpred.predictors.CommonNeighbours(G)\n",
        "comm_results = comm.predict(weight = \"fraud\")"
      ],
      "execution_count": 0,
      "outputs": []
    },
    {
      "cell_type": "code",
      "metadata": {
        "id": "jsIAl7PApxS0",
        "colab_type": "code",
        "colab": {}
      },
      "source": [
        "degr_prod = linkpred.predictors.DegreeProduct(G)\n",
        "degr_prod_results = degr_prod.predict(weight = \"fraud\")"
      ],
      "execution_count": 0,
      "outputs": []
    },
    {
      "cell_type": "code",
      "metadata": {
        "id": "83p6er85pxQG",
        "colab_type": "code",
        "colab": {}
      },
      "source": [
        "jac = linkpred.predictors.Jaccard(G)\n",
        "jac_results = jac.predict(weight = \"fraud\")"
      ],
      "execution_count": 0,
      "outputs": []
    },
    {
      "cell_type": "code",
      "metadata": {
        "id": "4FmrtM4ipxNU",
        "colab_type": "code",
        "colab": {}
      },
      "source": [
        "max_lap = linkpred.predictors.MaxOverlap(G)\n",
        "max_lap_results = max_lap.predict(weight = \"fraud\")"
      ],
      "execution_count": 0,
      "outputs": []
    },
    {
      "cell_type": "code",
      "metadata": {
        "id": "ud3Yu-lCpxKm",
        "colab_type": "code",
        "colab": {}
      },
      "source": [
        "min_lap = linkpred.predictors.MinOverlap(G)\n",
        "min_lap_results = min_lap.predict(weight = \"fraud\")"
      ],
      "execution_count": 0,
      "outputs": []
    },
    {
      "cell_type": "code",
      "metadata": {
        "id": "TVsET8hFphGG",
        "colab_type": "code",
        "colab": {}
      },
      "source": [
        "pear = linkpred.predictors.Pearson(G)\n",
        "pear_results = pear.predict(weight = \"fraud\")"
      ],
      "execution_count": 0,
      "outputs": []
    },
    {
      "cell_type": "code",
      "metadata": {
        "id": "94YJC1JrOA5y",
        "colab_type": "code",
        "colab": {}
      },
      "source": [
        "customers, merchants = bipartite.sets(G_mult)"
      ],
      "execution_count": 0,
      "outputs": []
    },
    {
      "cell_type": "code",
      "metadata": {
        "id": "EAmN_D1NkPKR",
        "colab_type": "code",
        "outputId": "41c74bd2-d9ff-4a8d-a443-ddf0fcdb1302",
        "colab": {
          "base_uri": "https://localhost:8080/",
          "height": 34
        }
      },
      "source": [
        "len(merchants), len(customers)"
      ],
      "execution_count": 0,
      "outputs": [
        {
          "output_type": "execute_result",
          "data": {
            "text/plain": [
              "(50, 4109)"
            ]
          },
          "metadata": {
            "tags": []
          },
          "execution_count": 66
        }
      ]
    },
    {
      "cell_type": "code",
      "metadata": {
        "id": "IBfpB4Ao4Mfa",
        "colab_type": "code",
        "outputId": "825b3753-2dbf-49be-abd1-95a7468a00d7",
        "colab": {
          "base_uri": "https://localhost:8080/",
          "height": 34
        }
      },
      "source": [
        "len(G.nodes()), len(G.edges())"
      ],
      "execution_count": 0,
      "outputs": [
        {
          "output_type": "execute_result",
          "data": {
            "text/plain": [
              "(4159, 31887)"
            ]
          },
          "metadata": {
            "tags": []
          },
          "execution_count": 67
        }
      ]
    },
    {
      "cell_type": "code",
      "metadata": {
        "id": "E14Kqr6uzCFo",
        "colab_type": "code",
        "outputId": "601d0f3f-a8c1-405a-ef83-408362f3401e",
        "colab": {
          "base_uri": "https://localhost:8080/",
          "height": 34
        }
      },
      "source": [
        "nx.is_bipartite(G)"
      ],
      "execution_count": 0,
      "outputs": [
        {
          "output_type": "execute_result",
          "data": {
            "text/plain": [
              "True"
            ]
          },
          "metadata": {
            "tags": []
          },
          "execution_count": 68
        }
      ]
    },
    {
      "cell_type": "code",
      "metadata": {
        "id": "AJOmnJtON9jP",
        "colab_type": "code",
        "colab": {}
      },
      "source": [
        "cust_proj = bipartite.weighted_projected_graph(G, customers)"
      ],
      "execution_count": 0,
      "outputs": []
    },
    {
      "cell_type": "code",
      "metadata": {
        "id": "jaccinG4d858",
        "colab_type": "code",
        "colab": {}
      },
      "source": [
        "merc_proj = bipartite.weighted_projected_graph(G, merchants)"
      ],
      "execution_count": 0,
      "outputs": []
    },
    {
      "cell_type": "code",
      "metadata": {
        "colab_type": "code",
        "id": "Q5n3ztmFY1rM",
        "outputId": "0a4e9b15-d248-4ab5-fa19-88412f290761",
        "colab": {
          "base_uri": "https://localhost:8080/",
          "height": 34
        }
      },
      "source": [
        "len(cust_proj), len(merc_proj)"
      ],
      "execution_count": 0,
      "outputs": [
        {
          "output_type": "execute_result",
          "data": {
            "text/plain": [
              "(4109, 50)"
            ]
          },
          "metadata": {
            "tags": []
          },
          "execution_count": 71
        }
      ]
    },
    {
      "cell_type": "code",
      "metadata": {
        "id": "ufao7IuZYVDn",
        "colab_type": "code",
        "colab": {}
      },
      "source": [
        "cust_proj_list = list(cust_proj.edges()(data = True))"
      ],
      "execution_count": 0,
      "outputs": []
    },
    {
      "cell_type": "code",
      "metadata": {
        "id": "qGQ9vEwzeTXp",
        "colab_type": "code",
        "colab": {}
      },
      "source": [
        "merc_proj_list = list(merc_proj.edges()(data = True))"
      ],
      "execution_count": 0,
      "outputs": []
    },
    {
      "cell_type": "code",
      "metadata": {
        "id": "71-1FEtVaxRA",
        "colab_type": "code",
        "colab": {}
      },
      "source": [
        "selected_cust = []\n",
        "\n",
        "for i in range(len(cust_proj_list)):\n",
        "  if cust_proj_list[i][2][\"weight\"] > 6:\n",
        "    selected_cust += [(cust_proj_list[i][0], cust_proj_list[i][1], cust_proj_list[i][2])]"
      ],
      "execution_count": 0,
      "outputs": []
    },
    {
      "cell_type": "code",
      "metadata": {
        "id": "HE_N0v--ezjC",
        "colab_type": "code",
        "colab": {}
      },
      "source": [
        "selected_merc = []\n",
        "\n",
        "for i in range(len(merc_proj_list)):\n",
        "  if merc_proj_list[i][2][\"weight\"] > 2:\n",
        "    selected_merc += [(merc_proj_list[i][0], merc_proj_list[i][1], merc_proj_list[i][2])]"
      ],
      "execution_count": 0,
      "outputs": []
    },
    {
      "cell_type": "code",
      "metadata": {
        "id": "Lpywzwqw-kFF",
        "colab_type": "code",
        "outputId": "8461e1ee-4290-42a7-8632-69e0f34c6205",
        "colab": {
          "base_uri": "https://localhost:8080/",
          "height": 34
        }
      },
      "source": [
        "len(selected_cust), len(selected_merc)"
      ],
      "execution_count": 0,
      "outputs": [
        {
          "output_type": "execute_result",
          "data": {
            "text/plain": [
              "(371038, 1020)"
            ]
          },
          "metadata": {
            "tags": []
          },
          "execution_count": 77
        }
      ]
    },
    {
      "cell_type": "code",
      "metadata": {
        "id": "q5lzE9bQ-6x1",
        "colab_type": "code",
        "colab": {}
      },
      "source": [
        "selected_merc_graph = nx.Graph(selected_merc)"
      ],
      "execution_count": 0,
      "outputs": []
    },
    {
      "cell_type": "code",
      "metadata": {
        "id": "-r7kMqO3Ae8E",
        "colab_type": "code",
        "colab": {}
      },
      "source": [
        "selected_cust_graph = nx.Graph(selected_cust)"
      ],
      "execution_count": 0,
      "outputs": []
    },
    {
      "cell_type": "code",
      "metadata": {
        "id": "eJNw8MtCdzAh",
        "colab_type": "code",
        "outputId": "e1f4d03d-5bad-4ecc-a9e2-8a11286b1db6",
        "colab": {
          "base_uri": "https://localhost:8080/",
          "height": 34
        }
      },
      "source": [
        "len(selected_cust), len(selected_merc), len(selected_cust_graph.nodes()), len(selected_merc_graph.nodes())"
      ],
      "execution_count": 0,
      "outputs": [
        {
          "output_type": "execute_result",
          "data": {
            "text/plain": [
              "(371038, 1020, 2809, 49)"
            ]
          },
          "metadata": {
            "tags": []
          },
          "execution_count": 80
        }
      ]
    },
    {
      "cell_type": "code",
      "metadata": {
        "id": "KKOyLLAgH6xU",
        "colab_type": "code",
        "colab": {}
      },
      "source": [
        "personalization_cust = cust_fraud_dic"
      ],
      "execution_count": 0,
      "outputs": []
    },
    {
      "cell_type": "code",
      "metadata": {
        "id": "4gMq_NqEH6qq",
        "colab_type": "code",
        "colab": {}
      },
      "source": [
        "personalization_merc = merc_fraud_dic"
      ],
      "execution_count": 0,
      "outputs": []
    },
    {
      "cell_type": "markdown",
      "metadata": {
        "id": "IdOqks_rQmf8",
        "colab_type": "text"
      },
      "source": [
        "###Calculating Personalized PageRank Based on Bipartite Networks"
      ]
    },
    {
      "cell_type": "code",
      "metadata": {
        "id": "PvTYis1jfx-Z",
        "colab_type": "code",
        "outputId": "c87bb684-1495-46bf-8cc1-12bb644beb01",
        "colab": {
          "base_uri": "https://localhost:8080/",
          "height": 54
        }
      },
      "source": [
        "pr_merc = dict(nx.pagerank(selected_merc_graph, alpha=0.85, personalization=personalization_merc))\n",
        "\n",
        "sorted_pr_merc = sorted(pr_merc.items(), key=lambda kv: -kv[1])\n",
        "\n",
        "print(sorted_pr_merc)"
      ],
      "execution_count": 0,
      "outputs": [
        {
          "output_type": "stream",
          "text": [
            "[('M348934600', 0.08354552233367382), ('M480139044', 0.06710436122805753), ('M855959430', 0.06459684282170805), ('M1823072687', 0.0645619534226022), ('M85975013', 0.057202493549817), ('M151143676', 0.05620185253008643), ('M980657600', 0.05099266546521843), ('M209847108', 0.043886136514010105), ('M1053599405', 0.03930410583273517), ('M1946091778', 0.035712934851047186), ('M1198415165', 0.03205146794161712), ('M1535107174', 0.030039077369058257), ('M1600850729', 0.02957072298491687), ('M349281107', 0.021900019873773092), ('M1888755466', 0.021211544656175398), ('M732195782', 0.020517938097396306), ('M1649169323', 0.020257138139319883), ('M840466850', 0.018735481901886238), ('M547558035', 0.018625746561555752), ('M1913465890', 0.017617567027741112), ('M78078399', 0.01632826707546936), ('M1741626453', 0.01614988001195423), ('M50039827', 0.01603878929338534), ('M692898500', 0.01422991756888635), ('M3697346', 0.011585045749362794), ('M2122776122', 0.011430385072711768), ('M1842530320', 0.011089460771255185), ('M923029380', 0.010609909540698001), ('M17379832', 0.009293547933497313), ('M2011752106', 0.009091605636981836), ('M1873032707', 0.008643387444390737), ('M1294758098', 0.008486045033110387), ('M1872033263', 0.0072595796733436885), ('M1400236507', 0.007218728512316929), ('M1352454843', 0.005763852542016939), ('M857378720', 0.0054008577794066835), ('M97925176', 0.005015994943517205), ('M1748431652', 0.0048438888537413235), ('M45060432', 0.004822988501817193), ('M1313686961', 0.004764731432431866), ('M677738360', 0.0047348785474072), ('M348875670', 0.0023829684292939984), ('M495352832', 0.0023183373050510657), ('M1353266412', 0.0022291691401632187), ('M1788569036', 0.0020594554376634415), ('M2080407379', 0.0017007645746510151), ('M1416436880', 0.0016420128411278145), ('M933210764', 0.00105318675150835), ('M117188757', 0.0001767905004428649)]\n"
          ],
          "name": "stdout"
        }
      ]
    },
    {
      "cell_type": "code",
      "metadata": {
        "id": "D0NE_GJd_Y_W",
        "colab_type": "code",
        "outputId": "92ef9d43-8f2f-45bf-e417-5ce2be772db0",
        "colab": {
          "base_uri": "https://localhost:8080/",
          "height": 54
        }
      },
      "source": [
        "pr_cust = dict(nx.pagerank_numpy(selected_cust_graph, alpha=0.85, personalization=personalization_cust))\n",
        "\n",
        "sorted_pr_cust = sorted(pr_cust.items(), key=lambda kv: -kv[1])\n",
        "\n",
        "print(sorted_pr_cust)"
      ],
      "execution_count": 0,
      "outputs": [
        {
          "output_type": "stream",
          "text": [
            "[('C1275518867', 0.011624063801615046), ('C1978250683', 0.010202710496320181), ('C1849046345', 0.008606087497087663), ('C806399525', 0.007748230037911436), ('C1572610482', 0.006746578508803942), ('C1175850429', 0.006250968881330931), ('C1350963410', 0.006030298297820652), ('C1079254393', 0.0055254993437973045), ('C218446443', 0.005421448193631933), ('C811312110', 0.00521341526947183), ('C2004941826', 0.0051240073125358165), ('C515668508', 0.0051136899966422724), ('C1464489812', 0.004934808530728009), ('C1312615175', 0.004790972074141397), ('C2113737065', 0.004056150970669735), ('C910454738', 0.004016331618325708), ('C1685492470', 0.0036799064501528483), ('C1728122351', 0.0035484870234824893), ('C1817318774', 0.0034874955982012695), ('C587299231', 0.0031138495738662468), ('C1994736634', 0.0030925573087122013), ('C1143401925', 0.002956615841059092), ('C1994178184', 0.002857225997397819), ('C1777502922', 0.002835832273063597), ('C1653588482', 0.0027688373283616123), ('C553434543', 0.002722526728042325), ('C1647495093', 0.0027209247844347285), ('C1338396147', 0.002599203498176211), ('C189036899', 0.002483092555388236), ('C375144053', 0.0024827063842625314), ('C1321173882', 0.0023103552995800765), ('C525850964', 0.002238143317014696), ('C793132240', 0.0022369331355735714), ('C1499701993', 0.002166207087461214), ('C617723960', 0.002148369044961905), ('C341292164', 0.002056025632863174), ('C44151986', 0.0020531722993741234), ('C1983734850', 0.0020008338051232394), ('C912671040', 0.00197306308944666), ('C1163388474', 0.001958988812321676), ('C980181294', 0.0019273523571329578), ('C1503009287', 0.0019156929558785487), ('C922544599', 0.0018863548507907855), ('C995844287', 0.0018610177838772936), ('C1977646698', 0.0018518017949680037), ('C704456922', 0.001845133487540374), ('C1947369699', 0.001843847010010318), ('C430579454', 0.0018258600081664266), ('C1100337763', 0.0017889388756854444), ('C1510535804', 0.001787736275769797), ('C968150727', 0.0017842055398918034), ('C1057813963', 0.00177741183486123), ('C483912131', 0.0017753464682712732), ('C1383269171', 0.0017391518756584826), ('C605859862', 0.0017335092641410344), ('C1771537982', 0.0016798802301541706), ('C1931900243', 0.001655002983654633), ('C1846274338', 0.0016521862183018115), ('C1213984358', 0.0016226065508798025), ('C1192557067', 0.001620939359811055), ('C881073190', 0.0016105761181753804), ('C974315171', 0.0015976280200970612), ('C1413412440', 0.0015498507420989276), ('C417267123', 0.0015373865282967071), ('C656901929', 0.001532412159933138), ('C1305161735', 0.001517960779497741), ('C46027917', 0.0015139627639273049), ('C1214929092', 0.0015120931186610811), ('C1979396384', 0.0015072184529279517), ('C1199767081', 0.0015072184529279517), ('C1382187685', 0.0015029883059039378), ('C615281750', 0.0014978039523141364), ('C2051369004', 0.0014970803756170171), ('C1223439629', 0.0014941368648663715), ('C1949984685', 0.001486924022491122), ('C230958403', 0.0014771395990898313), ('C2055156879', 0.0014421280986967385), ('C297432139', 0.0014419342987724282), ('C661876608', 0.0014342997183843863), ('C1269217373', 0.0014329625249399742), ('C1046896257', 0.0014307005117628624), ('C928090253', 0.001430023046820626), ('C1850870588', 0.0014254782872167183), ('C404075543', 0.0014252928035222124), ('C1896850232', 0.0014209494525921067), ('C187473376', 0.0014097598211094996), ('C279936687', 0.0014062549540723255), ('C1080032135', 0.0013978967418869328), ('C1744858817', 0.0013854921717705102), ('C335592096', 0.0013819453729972814), ('C1450140987', 0.0013768508975191837), ('C296571542', 0.0013676824642198996), ('C132320296', 0.0013669990340809443), ('C446179646', 0.0013592298146615678), ('C133764711', 0.0013545904407161532), ('C150587559', 0.0013506391621141438), ('C1156808163', 0.0013487296173474662), ('C1906711479', 0.0013437559083941432), ('C1045324088', 0.0013386967202180199), ('C208514238', 0.0013181586131162891), ('C1734487337', 0.0013167117659696333), ('C1981089677', 0.0013043490827222605), ('C201406562', 0.001301404732240504), ('C1338125837', 0.0013008116573428056), ('C611182051', 0.00130007449638595), ('C1134333439', 0.0012994360005660862), ('C2094120486', 0.0012841306850172247), ('C1195893546', 0.0012813503817816424), ('C1565570610', 0.001273749520415201), ('C528277773', 0.0012717411783658272), ('C2087229084', 0.0012715091125138059), ('C451189693', 0.0012521111737809224), ('C655625028', 0.001218464522260787), ('C422403315', 0.0012138757844289436), ('C951578955', 0.0011972579768724455), ('C676229147', 0.0011949209606249094), ('C1214828746', 0.0011870695627219684), ('C2044438336', 0.0011847173207060928), ('C1791793827', 0.0011773462425247138), ('C583110837', 0.0011762437561706725), ('C660024200', 0.0011694544750593186), ('C374616385', 0.001167952302172224), ('C1273692645', 0.001160585453242408), ('C1644158733', 0.001155226978920251), ('C1420354861', 0.0011529073250587513), ('C126638730', 0.001147506807201132), ('C1237248073', 0.0011467259458737618), ('C546386486', 0.0011433396432165145), ('C1136643517', 0.0011334183228691652), ('C226946948', 0.0011109483587679058), ('C53497422', 0.0011062043730626521), ('C1857140958', 0.001106188819652143), ('C21207783', 0.001103572352358746), ('C85075290', 0.0011028296908091875), ('C2117552812', 0.0011004885149823078), ('C267009229', 0.0011004885149823078), ('C16723337', 0.0010998463519604515), ('C1476505660', 0.0010985849748481552), ('C1597422235', 0.0010956637768495417), ('C1180936672', 0.0010826612816992028), ('C236932311', 0.0010803453465665397), ('C1935661715', 0.0010715282236081292), ('C1886620334', 0.0010605504261819644), ('C1342849651', 0.0010604094086859182), ('C1594422820', 0.0010595088115324465), ('C172707110', 0.001058229834768243), ('C1348847019', 0.0010564387060587855), ('C1902104464', 0.0010550324672572889), ('C11116138', 0.0010437021988568991), ('C732771224', 0.0010413705762650903), ('C1763624260', 0.0010369694313321156), ('C1486069778', 0.0010339202059213633), ('C1036903280', 0.0010332711860212773), ('C537423962', 0.0010332076622440478), ('C1054818236', 0.0010271998780778916), ('C497553923', 0.001026535772949386), ('C2054744914', 0.0010256008767459092), ('C375459759', 0.0010236282984082126), ('C1032319289', 0.0010229518441985193), ('C1404684380', 0.0010212014185507032), ('C976209265', 0.0010179786847966197), ('C1490048317', 0.0010177977080960865), ('C294914134', 0.0010172788114725664), ('C1606614105', 0.0010151937950323804), ('C2011875751', 0.0010067443914185462), ('C859741683', 0.0010050592332347067), ('C874212917', 0.0010049069515041913), ('C1427325535', 0.0010029140963543873), ('C34948851', 0.0009986461755898898), ('C1631930247', 0.0009960042072443558), ('C1580712621', 0.0009940110435433596), ('C381446674', 0.000990818308569772), ('C809339851', 0.0009885527034925613), ('C1744280753', 0.0009875888605130124), ('C1174217921', 0.0009868254065043302), ('C2092733799', 0.0009863270899126103), ('C1372889664', 0.0009837963798093126), ('C2129810887', 0.0009797532103766498), ('C323852731', 0.0009514856512851753), ('C812882942', 0.0009506259218025958), ('C2032185280', 0.0009485949364214232), ('C1389188684', 0.0009409437854692803), ('C773517519', 0.0009398912970919275), ('C449179311', 0.000938680525352678), ('C961154945', 0.0009343509789044262), ('C1257820473', 0.0009334806213558419), ('C660232446', 0.0009327290018716612), ('C447271561', 0.0009310263743401006), ('C1866572071', 0.0009274266045968062), ('C354729496', 0.0009266028352227496), ('C1209743372', 0.0009247640207048631), ('C1249070059', 0.0009226787867918023), ('C353985741', 0.000922475745116359), ('C204205576', 0.0009181887796342526), ('C1457086535', 0.0009129980058803442), ('C1142956269', 0.000910109606142536), ('C1289219178', 0.0009088528284994289), ('C1533572842', 0.0009065060303660145), ('C1959067413', 0.0009062063072679982), ('C564473555', 0.0008967950764814229), ('C1308910127', 0.000895200711504164), ('C1638710158', 0.0008941179178093467), ('C837031785', 0.000893938813698343), ('C168710517', 0.0008938557730451874), ('C119274188', 0.0008938517160277493), ('C1317710133', 0.0008898785311265284), ('C486996910', 0.0008886555172945612), ('C2104407126', 0.000888407189888542), ('C1657925669', 0.0008754556199901221), ('C389281305', 0.0008738310641703328), ('C1524019070', 0.0008689374280262001), ('C944695695', 0.0008680493835689491), ('C20239039', 0.0008679759048440272), ('C1637357651', 0.0008678588322916908), ('C1826105311', 0.000866766274886071), ('C1374607221', 0.0008646373869116818), ('C1289997724', 0.0008596539548294656), ('C1914057832', 0.0008592014177068128), ('C1862240946', 0.0008566959518543529), ('C2086664398', 0.0008544489116909872), ('C759236361', 0.0008539247050193147), ('C1129265408', 0.0008537461555273657), ('C2084566155', 0.0008529238519817566), ('C194016923', 0.0008506720652573154), ('C190398591', 0.000848282126328429), ('C608547225', 0.0008463650056666277), ('C1920284556', 0.0008459896452335788), ('C1882101149', 0.0008459896452335786), ('C299858046', 0.0008453549891304754), ('C1806256044', 0.0008435288040830947), ('C1819254965', 0.000839841837715432), ('C379301962', 0.0008376110486567388), ('C236847402', 0.0008366751862407075), ('C2075935351', 0.0008360329792773877), ('C1248026439', 0.0008359628928491319), ('C1873506157', 0.0008357999464555894), ('C821630606', 0.000835157094541905), ('C1818841328', 0.0008349598096782003), ('C941334726', 0.0008345920032010726), ('C430880678', 0.00082818794901879), ('C1991822900', 0.0008251188663982588), ('C481108455', 0.0008229122782902297), ('C759915530', 0.0008229122782902295), ('C115986226', 0.0008225724942679825), ('C858160484', 0.0008224484986060892), ('C1781953799', 0.0008221720123624862), ('C732095806', 0.0008212009230206705), ('C1166337448', 0.0008189748308087229), ('C1129737137', 0.0008182273052802855), ('C1282114843', 0.0008163143049401297), ('C1372042334', 0.0008152193326692668), ('C1933962406', 0.0008110663624148847), ('C1556534733', 0.0008103908697059455), ('C864134074', 0.0008074393976880091), ('C696806398', 0.0008070514865024292), ('C1928842916', 0.0008045288185984573), ('C1517707344', 0.0008032749635210907), ('C1914582232', 0.000802725384272022), ('C1702053445', 0.000801674030336312), ('C33256704', 0.0008008374685756651), ('C864725258', 0.0008001982434049275), ('C1150646122', 0.0007980344363393675), ('C752270622', 0.0007975685723811425), ('C231476583', 0.0007958010332672205), ('C678697032', 0.0007934978655407999), ('C245117318', 0.0007875438192696841), ('C1211514218', 0.0007868103743979375), ('C1551572984', 0.0007796619601051483), ('C1237272991', 0.0007793358346369315), ('C1827331929', 0.0007779287206865102), ('C1523854098', 0.0007713364920672998), ('C1483007108', 0.0007705249339373804), ('C970538683', 0.0007688133269297059), ('C76313164', 0.0007644464687780976), ('C212188289', 0.0007601107984460119), ('C1475317372', 0.00075974824006296), ('C47809392', 0.0007579608303897813), ('C1855857061', 0.0007551420573026213), ('C2128263275', 0.000754703552619886), ('C1667161948', 0.0007533954957153347), ('C1126112663', 0.0007526404772280922), ('C1660043980', 0.000752640477228092), ('C1982656265', 0.0007515874782235544), ('C381007057', 0.0007512271983506909), ('C961515074', 0.0007510783783191279), ('C1947400039', 0.0007505814515983247), ('C2063574289', 0.0007504513090867422), ('C638838388', 0.0007499373141574576), ('C1811749392', 0.0007497341761687613), ('C1127069069', 0.00074922479303755), ('C125481968', 0.0007486860494463261), ('C1381700589', 0.0007475847485941894), ('C1568308501', 0.0007474625425165334), ('C1750881279', 0.0007452358931425188), ('C1112424232', 0.0007397941984191248), ('C1575599226', 0.0007390134748237395), ('C1324001180', 0.0007361304562211275), ('C74966273', 0.0007353682100224045), ('C2113973089', 0.0007334167288520151), ('C413242191', 0.0007326446880205727), ('C2118328869', 0.0007315000424825154), ('C1153792315', 0.000731158563008211), ('C819690995', 0.0007297967447798577), ('C1998442183', 0.0007296027221833088), ('C52299933', 0.0007278373032722198), ('C103240070', 0.0007272039939813472), ('C1467832188', 0.0007265614420215874), ('C822948524', 0.0007229995731457474), ('C707769587', 0.0007225790845355785), ('C2095181585', 0.0007205974619693907), ('C1857873865', 0.0007195901298795758), ('C1538635916', 0.0007195901298795756), ('C843090653', 0.0007190938241111721), ('C182918114', 0.000718781056224703), ('C154987119', 0.0007184721940434268), ('C783259685', 0.0007183772656026575), ('C38227648', 0.0007183772656026575), ('C779868884', 0.0007183772656026574), ('C10105795', 0.0007183772656026574), ('C1189752912', 0.0007183772656026574), ('C1793075309', 0.0007173802662250862), ('C1525581466', 0.0007154791877039219), ('C73726310', 0.0007102146741469377), ('C741739992', 0.0007092042805295729), ('C578309168', 0.0007078480235155276), ('C422003518', 0.0007077360787649678), ('C671392477', 0.0007076061341842785), ('C792341594', 0.0007065221697170059), ('C758849918', 0.0007059153870427378), ('C566598245', 0.0007048606574799327), ('C1387946894', 0.0007034999165102998), ('C1321650743', 0.000703234690067416), ('C831378949', 0.000702066671920708), ('C95082443', 0.0006988431467535274), ('C1102156492', 0.0006951901335098918), ('C170769685', 0.0006951901335098918), ('C195373250', 0.0006936104358401225), ('C1703648667', 0.0006934891311296331), ('C567616900', 0.0006918389452074868), ('C233548839', 0.0006901648508667545), ('C1611113200', 0.0006884567929103949), ('C1316262830', 0.0006853696622807131), ('C2103685620', 0.0006851191410930981), ('C1546278193', 0.0006835267706936846), ('C441400844', 0.0006818643015568188), ('C78938440', 0.0006799234039638972), ('C800272493', 0.0006798640994804477), ('C1474149613', 0.0006776529397120845), ('C869954068', 0.0006753514321640022), ('C179390259', 0.000674970890337498), ('C1225533078', 0.0006746770336405319), ('C301739259', 0.0006707649257261666), ('C940143351', 0.0006697840778714792), ('C1497615115', 0.000668640715874161), ('C1434853621', 0.0006678321166815456), ('C2104185147', 0.0006674191508570216), ('C1240209240', 0.0006674191508570214), ('C1764447156', 0.0006670038366122074), ('C1421601814', 0.0006642001488132129), ('C659009992', 0.0006642001488132127), ('C1400397779', 0.0006642001488132127), ('C436675850', 0.0006640401012096394), ('C1830336096', 0.0006624264690928613), ('C1847494890', 0.0006616681113687181), ('C1350409226', 0.000659557443202124), ('C1891401770', 0.0006576588341498827), ('C34111179', 0.0006562890324749907), ('C1334695551', 0.0006560055523476441), ('C100045114', 0.0006559398881357127), ('C459595150', 0.0006547178587427077), ('C433481742', 0.0006536131227862688), ('C1134229140', 0.0006524905482992795), ('C276409392', 0.0006520205491866066), ('C143836998', 0.0006516688578054879), ('C344209010', 0.0006515041608740284), ('C1233802034', 0.0006505865920743436), ('C1966686053', 0.0006502666265624918), ('C1702404555', 0.0006501812050444069), ('C2104923127', 0.0006501812050444069), ('C706599076', 0.0006492955790076541), ('C1465725042', 0.0006490484736979347), ('C1087227796', 0.0006462851754192471), ('C2025967620', 0.000645561731278291), ('C227356089', 0.0006439598594905494), ('C744126786', 0.000643816892178809), ('C1982277917', 0.000642445626396013), ('C808977147', 0.0006406058718994231), ('C722887134', 0.0006393184863917925), ('C1287167517', 0.0006393184863917925), ('C1956971543', 0.0006393184863917925), ('C707755349', 0.0006393184863917925), ('C655150548', 0.0006393184863917925), ('C119537158', 0.0006392651499851594), ('C1598762673', 0.0006388341278660337), ('C777971561', 0.0006383143497367267), ('C1090046399', 0.0006376825654452024), ('C1272326382', 0.0006374662605571252), ('C931370744', 0.000637392931354482), ('C1855338494', 0.0006373078789050136), ('C1167781928', 0.000636740944892814), ('C1708403061', 0.0006364755383713211), ('C1508373758', 0.0006348861351296245), ('C1549232957', 0.0006343530131022416), ('C949319027', 0.0006337741166648986), ('C831905583', 0.000632446108969258), ('C1367581052', 0.000631224490948847), ('C1415571957', 0.0006245629099793665), ('C1524407626', 0.0006245629099793664), ('C394469483', 0.0006239449377652648), ('C150273597', 0.0006237213368185285), ('C2117244434', 0.0006234459394666197), ('C2125787399', 0.0006216328343797064), ('C2079453894', 0.0006205182603377379), ('C616472041', 0.0006200740152303374), ('C90085212', 0.0006171537032005344), ('C1087747329', 0.0006162631664139244), ('C1959396051', 0.0006154973697016413), ('C2075699398', 0.0006151497618109658), ('C856674856', 0.0006149906729266823), ('C364635096', 0.0006118221613281384), ('C1088464518', 0.0006105315893223843), ('C2008428493', 0.0006097085081699017), ('C27106217', 0.0006092575924427678), ('C2143703121', 0.0006076564163466968), ('C1877622224', 0.000606123705601237), ('C1787537369', 0.0006046180717225535), ('C285306155', 0.0006032484558762984), ('C1411169363', 0.0006032484558762984), ('C1709958311', 0.0006020450870913639), ('C1055224400', 0.0006004145120854548), ('C1264836741', 0.0005986853244063987), ('C1466730207', 0.0005979151307064659), ('C433355159', 0.0005964894650185038), ('C1175419672', 0.0005963343455780501), ('C811638781', 0.0005958132867818491), ('C2033310172', 0.000594846079688684), ('C1376617526', 0.0005929491606266093), ('C673048498', 0.0005929273788681826), ('C975044667', 0.0005929045191506616), ('C1918064652', 0.0005911808211381789), ('C1694039833', 0.0005881272356859481), ('C707326919', 0.0005868335479515909), ('C634714812', 0.0005868335479515909), ('C1237476993', 0.0005860489521532163), ('C1720679886', 0.0005855192482813366), ('C599638364', 0.0005843115875716711), ('C1792734476', 0.0005837733786071078), ('C696720817', 0.0005828187640347038), ('C832611882', 0.0005819698783149786), ('C1734879586', 0.0005818025474065916), ('C706685788', 0.0005810607463529243), ('C1820855004', 0.0005786270763927695), ('C1962882634', 0.0005784723438536863), ('C2052617893', 0.0005777578461800051), ('C1358079072', 0.0005756595629033735), ('C1239154010', 0.0005753506801557588), ('C253956131', 0.0005750594384944125), ('C506003529', 0.0005744930003000968), ('C1697851479', 0.0005740664861791513), ('C1303555047', 0.0005737106250496271), ('C387520458', 0.000573684846827784), ('C1011693897', 0.0005732990760615605), ('C1642592478', 0.0005721438691577038), ('C463841109', 0.0005719892680828936), ('C836959718', 0.0005718851042973358), ('C1710930627', 0.000570647064550001), ('C1355509614', 0.0005699864836156618), ('C115540448', 0.0005699097781401532), ('C382789952', 0.0005699047611244881), ('C126603077', 0.0005696510406677356), ('C1837295173', 0.0005696246992120265), ('C1067134113', 0.0005694065011774764), ('C1630887376', 0.0005686604075786411), ('C2006367089', 0.0005669660892684541), ('C862633345', 0.0005666862847007693), ('C225675370', 0.0005662574970333751), ('C1502465707', 0.0005659755244235327), ('C88392294', 0.0005656685908145176), ('C531360588', 0.0005654851638437917), ('C450548035', 0.0005649269856590283), ('C1423828273', 0.0005636397013765343), ('C1038329920', 0.0005616611747503092), ('C2030175121', 0.0005610298036212138), ('C330615170', 0.0005594292646531174), ('C1621267054', 0.0005593966473632432), ('C672742304', 0.0005593966473632432), ('C627811000', 0.0005593966473632432), ('C96868586', 0.0005593966473632432), ('C1491844959', 0.0005593966473632432), ('C339931011', 0.0005593966473632432), ('C121798652', 0.0005593966473632432), ('C1516302826', 0.0005584763859475754), ('C1557540123', 0.000557533795065139), ('C411345215', 0.0005550901079147168), ('C2138823885', 0.0005529970122675422), ('C784005201', 0.0005525231282707741), ('C951689990', 0.0005520797717433505), ('C1334227305', 0.0005518216545465636), ('C117112395', 0.0005515667617170658), ('C1290093162', 0.000550661421521853), ('C1413774656', 0.000550460390288531), ('C483009385', 0.0005500796953833878), ('C249907687', 0.0005492512910571173), ('C1267749701', 0.0005491493182079216), ('C388262831', 0.0005487915013508604), ('C1142118359', 0.000547376339137494), ('C439977323', 0.0005466650931333373), ('C1542345868', 0.0005456540144438814), ('C1283110336', 0.0005451900564084443), ('C1580955370', 0.0005428547212607262), ('C1549367339', 0.0005422158809829586), ('C736721523', 0.0005422096083657438), ('C131915922', 0.0005417674879432604), ('C836424975', 0.000541692408093239), ('C893284971', 0.0005410580280434043), ('C1708732499', 0.0005409458065508386), ('C1468001998', 0.0005407955745803142), ('C378899672', 0.0005398374929773616), ('C1202857292', 0.0005390275704323436), ('C208151769', 0.0005389172780548958), ('C11453786', 0.0005383133838755214), ('C967677653', 0.0005382879720822494), ('C1314685160', 0.0005376184969991821), ('C2085186254', 0.0005373917014680322), ('C1297100897', 0.0005368617524349389), ('C1592279480', 0.0005368482728949827), ('C1090528803', 0.0005367373125574527), ('C183456137', 0.0005356541640922246), ('C1708261114', 0.0005356472433215097), ('C1597289593', 0.0005346080206359475), ('C856303631', 0.000534413953937841), ('C1783773775', 0.0005343347525907845), ('C1194290880', 0.0005338527305028154), ('C507179979', 0.0005330401280344896), ('C1421006824', 0.0005318385128073631), ('C886658445', 0.0005307140171706523), ('C532292379', 0.0005305717520508837), ('C1200798307', 0.0005289879911750435), ('C1402203755', 0.000528753214527128), ('C77017704', 0.0005280285738312355), ('C721654925', 0.0005272658486153043), ('C834963773', 0.0005262027724565771), ('C86186949', 0.0005248650286045142), ('C867847701', 0.0005245842773442042), ('C1022530210', 0.0005244397602654318), ('C1216409727', 0.0005242939172967753), ('C1627004719', 0.0005239930315984685), ('C1780829982', 0.0005239930315984685), ('C1206604144', 0.0005239930315984685), ('C1089903335', 0.0005239930315984685), ('C1476491893', 0.0005239930315984685), ('C380564257', 0.0005239272586712139), ('C1497895052', 0.0005239272586712139), ('C1151799720', 0.0005239272586712139), ('C1010865894', 0.0005232689903084717), ('C200882642', 0.0005228932849383562), ('C2061535111', 0.0005223459334052637), ('C1928637369', 0.0005217302759168311), ('C426128777', 0.0005208959599843621), ('C1013199152', 0.0005208921061532085), ('C1876476635', 0.0005191076323440324), ('C1045850211', 0.0005182909777984146), ('C2046797625', 0.0005182626678385693), ('C83086349', 0.0005182626678385693), ('C791154308', 0.000516805879507786), ('C1453275851', 0.000516805879507786), ('C481253497', 0.0005160001889103292), ('C1116417172', 0.0005149804055916445), ('C105013970', 0.000514709793147905), ('C1965496749', 0.0005123697367237167), ('C1558014544', 0.000511970550655165), ('C1871220408', 0.0005115245824668535), ('C2144562698', 0.0005113032694876907), ('C440694138', 0.0005109846310458916), ('C364273844', 0.0005088118526636243), ('C2120633706', 0.0005086385516857587), ('C6094907', 0.0005066438517113588), ('C1350793893', 0.0005048992411544112), ('C774836418', 0.0005036890705623937), ('C313157633', 0.0005029649221410956), ('C1743327214', 0.0005027866124532363), ('C531724764', 0.0005021949697926914), ('C113294083', 0.000501710622771647), ('C500992269', 0.0005015128424691309), ('C1468773146', 0.0005015128424691307), ('C129386345', 0.0005000303647778099), ('C1655037147', 0.0004997846977998282), ('C725705195', 0.0004989420626061873), ('C1100570635', 0.0004986071946596824), ('C1881495517', 0.0004982633511139366), ('C1178005728', 0.0004980508304234368), ('C1203244235', 0.0004973674944767629), ('C581581060', 0.0004972894918188309), ('C481773197', 0.0004971419192209746), ('C186469824', 0.0004961442143719224), ('C1067734462', 0.0004945873302528167), ('C1615671416', 0.0004941885928060711), ('C2093963973', 0.0004937831563798181), ('C961738915', 0.0004930025404045323), ('C507185945', 0.0004921280428816945), ('C1789457872', 0.0004912957947008007), ('C2125297333', 0.0004901974249070249), ('C763005836', 0.0004901974249070249), ('C96508773', 0.0004901974249070249), ('C936435497', 0.0004863061800590878), ('C200459252', 0.0004850980407242251), ('C1307916597', 0.0004849283145309642), ('C993027768', 0.0004847063297408455), ('C382331420', 0.0004845117972236121), ('C788955662', 0.00048416411480379156), ('C823847346', 0.0004840865957453395), ('C1782998558', 0.0004827578818527592), ('C337109624', 0.0004827578818527591), ('C1476101537', 0.00048261700619062155), ('C1872803698', 0.00048261700619062155), ('C1591441443', 0.0004826170061906214), ('C282411136', 0.00048053818499441304), ('C17359646', 0.000480425612304226), ('C1717543260', 0.0004787635395744352), ('C936786093', 0.00047825419879915493), ('C1118984324', 0.0004779370943202724), ('C868096672', 0.0004779370943202722), ('C1777432937', 0.0004779370943202722), ('C907665937', 0.0004775672024309462), ('C381528901', 0.00047741432105795546), ('C533940472', 0.0004763858109075911), ('C369115109', 0.00047271047412107226), ('C1648096390', 0.0004706357144961336), ('C761606185', 0.00046998464322399485), ('C1690793519', 0.00046959574330842404), ('C1114685649', 0.0004685533735438086), ('C1968779147', 0.0004681213011448183), ('C187965576', 0.00046796713211984644), ('C1812521679', 0.00046681703498089797), ('C1236489588', 0.00046604760482863296), ('C2100371435', 0.0004649046360281533), ('C969824969', 0.00046474162108511207), ('C255101565', 0.00046455842862612337), ('C1333537680', 0.00046455842862612326), ('C999393223', 0.0004642339233794351), ('C192974759', 0.0004631319252420752), ('C532118459', 0.00046301679260237155), ('C445432762', 0.00046287646265356637), ('C76780537', 0.0004626653062285805), ('C750714109', 0.00046219105107428725), ('C1820624068', 0.0004619282429658889), ('C1402369177', 0.0004616240425283713), ('C764092576', 0.00046124512138808247), ('C1374011975', 0.00046123945121356955), ('C1122213892', 0.00046123945121356955), ('C2102316964', 0.00046123945121356955), ('C1415998962', 0.00046123945121356955), ('C1123627503', 0.00046123945121356955), ('C1603928569', 0.00046123945121356955), ('C371812005', 0.0004612394512135694), ('C1929968596', 0.00046123945121356934), ('C1482659693', 0.0004599869113476082), ('C1929167055', 0.0004590872939002469), ('C1767839998', 0.0004579912380821274), ('C1497135910', 0.000457415350492635), ('C47376492', 0.00045706714942584135), ('C962830776', 0.00045666528816843213), ('C1547689237', 0.00045648344503118843), ('C582688427', 0.00045625606651103316), ('C121713128', 0.00045595277712195004), ('C1173530601', 0.0004559512672900552), ('C1960578141', 0.00045531006756264667), ('C1509106340', 0.0004536697164818076), ('C1187799344', 0.00045335409707954503), ('C2136008441', 0.00045254414206190107), ('C2120296918', 0.0004496749854978012), ('C1398865038', 0.0004480622929162722), ('C576453501', 0.0004432560720804706), ('C1289834917', 0.0004413655624941965), ('C1058785965', 0.0004410867110538185), ('C386332652', 0.00044091276340474503), ('C271457213', 0.00044022160999962663), ('C1483054025', 0.00044012611910642394), ('C1986046665', 0.00044007745702953947), ('C1018653381', 0.00043897175700962406), ('C2048375146', 0.00043878546741657714), ('C286236136', 0.00043774132579027584), ('C1580025618', 0.000437660780694344), ('C781096653', 0.0004366359683996692), ('C49864446', 0.00043644428279045655), ('C1107580024', 0.00043592997337768563), ('C1141582476', 0.00043592997337768563), ('C1896147467', 0.0004354090138432801), ('C1132565589', 0.00043478108125723176), ('C1514271157', 0.0004345646033906246), ('C597122637', 0.00043447352324381085), ('C1159034982', 0.0004337163265657426), ('C1630697663', 0.00043364715175123696), ('C1122303126', 0.00043358248521782535), ('C1700550154', 0.0004326685393459467), ('C2027325203', 0.0004326495705732788), ('C1359606474', 0.0004319925108031025), ('C801383032', 0.00043175667745454563), ('C451582208', 0.00043175667745454563), ('C1166683343', 0.00043175667745454563), ('C656031620', 0.00043175667745454563), ('C1638268213', 0.00043071716629736775), ('C1084672760', 0.00042926340524377385), ('C1407767965', 0.00042926340524377385), ('C1256073744', 0.00042926340524377385), ('C594793398', 0.0004289924161393255), ('C1960866892', 0.00042899103985949286), ('C1435653171', 0.0004286446507193595), ('C1299368401', 0.0004285575267295166), ('C431496464', 0.0004279766791287217), ('C171498975', 0.0004275979168386423), ('C2109575612', 0.0004266112885024274), ('C1417312384', 0.0004265425061443076), ('C2040640036', 0.0004262241387799028), ('C1234470601', 0.00042619571648865647), ('C2029865097', 0.0004252080657019738), ('C373733261', 0.00042446701376287874), ('C156263401', 0.0004243481350548721), ('C1715338428', 0.00042425486086557343), ('C241463462', 0.00042422990940966935), ('C1703319891', 0.0004240673351090422), ('C668289079', 0.0004235629525796105), ('C880299982', 0.0004226643076092821), ('C1174416804', 0.0004223810489763434), ('C368299362', 0.00042232838122021693), ('C980876590', 0.0004210078043901272), ('C1886871597', 0.00042088718798302015), ('C1040272582', 0.0004196658186731184), ('C72452640', 0.00041900740489304845), ('C92282564', 0.00041812256807344575), ('C17059521', 0.00041785777748141247), ('C1415704373', 0.00041729019019665173), ('C111217068', 0.0004171741804235192), ('C825739161', 0.00041667455233265174), ('C873821675', 0.00041594695183907565), ('C1501124312', 0.00041548112810983805), ('C1838681949', 0.00041470050123482724), ('C575345520', 0.0004146111459930678), ('C587216359', 0.00041402252159896774), ('C2029229218', 0.0004140157464393422), ('C2000956624', 0.0004136045262251481), ('C332229910', 0.000413529252395855), ('C1147125608', 0.0004131783329564016), ('C1980881901', 0.0004128790232590093), ('C1957046981', 0.0004124704692823425), ('C586511331', 0.0004114507223830998), ('C1847111025', 0.00041106403361566786), ('C673469784', 0.0004110640336156678), ('C1427539236', 0.00040968487420383384), ('C976232384', 0.0004094500505543135), ('C1133386558', 0.0004094500505543135), ('C1992960127', 0.00040888589926618165), ('C1711371239', 0.0004084725900811677), ('C1677624934', 0.0004082960281349233), ('C737765767', 0.0004082682209376432), ('C1333661820', 0.0004071023505542253), ('C1854104284', 0.0004071023505542253), ('C1971105040', 0.0004071023505542253), ('C563092648', 0.0004059042133926133), ('C2049382420', 0.00040524331028991725), ('C288727438', 0.00040498922174654357), ('C284165615', 0.0004048677066507059), ('C122290547', 0.00040484117173403815), ('C1579865062', 0.0004043846829203963), ('C841817769', 0.00040377925404852364), ('C1716617782', 0.0004019864019985346), ('C957324981', 0.0004016417040430921), ('C144835944', 0.0004003000592592752), ('C301422123', 0.00040012659574071885), ('C90150703', 0.00040012659574071885), ('C1573211398', 0.0003999889243886062), ('C2128589842', 0.0003991690809889482), ('C996804095', 0.0003990854624348378), ('C1646244537', 0.0003984533956323995), ('C1191069340', 0.00039824033384486604), ('C2007043031', 0.0003975781806539514), ('C1861455727', 0.00039581643996608896), ('C1180570487', 0.00039515865667157), ('C153258882', 0.0003951507856608536), ('C744859144', 0.00039453640536746265), ('C900612785', 0.00039418770361162567), ('C851871528', 0.0003931674034870708), ('C819978438', 0.00039184998318073707), ('C1337923906', 0.0003908425575134748), ('C777863522', 0.00038963942787800397), ('C928479694', 0.00038826253481907575), ('C1940107136', 0.0003880779557404513), ('C199512926', 0.0003877542914090392), ('C1181615831', 0.0003874027152675023), ('C719205737', 0.00038579016825673776), ('C2027310658', 0.00038489407287032196), ('C73760959', 0.0003845415097848423), ('C1222389110', 0.00038442865669001256), ('C1723897078', 0.0003841286924291616), ('C1651395634', 0.0003839435104130849), ('C1883962820', 0.00038386825430291926), ('C179648560', 0.0003837163331883675), ('C1818021493', 0.00038325241039813995), ('C606861698', 0.00038324267734601635), ('C1855266571', 0.00038291157583564956), ('C1070471979', 0.00038233808897034875), ('C956700475', 0.00038120360090758393), ('C2120153320', 0.0003800824234360723), ('C927766810', 0.0003800762297244184), ('C373567366', 0.00037938979850945284), ('C1445931696', 0.00037878620654621436), ('C2007848056', 0.00037856143078279574), ('C337291476', 0.000377945826879023), ('C1440310601', 0.0003777009564258522), ('C813786166', 0.00037766357737033517), ('C1731163929', 0.00037662280754710505), ('C1835412106', 0.00037620129164523146), ('C416655198', 0.0003761371885229416), ('C54550671', 0.00037611549233785023), ('C1034685704', 0.000375913725048501), ('C1757210259', 0.0003757657732380508), ('C1239061472', 0.00037547273046559715), ('C204633978', 0.00037397996611249955), ('C2078039202', 0.0003738453587412741), ('C402758720', 0.0003737498898629227), ('C1543824543', 0.00037345850358687653), ('C1350068848', 0.0003734585035868764), ('C1029994689', 0.0003730105337152835), ('C1674379117', 0.0003729950995637816), ('C985780492', 0.00037247845476280216), ('C1533664211', 0.0003721198618593215), ('C879949041', 0.00037169260682670994), ('C1307336396', 0.00037122280047937234), ('C413065793', 0.0003710577439214816), ('C170484334', 0.00037081229927519993), ('C282483842', 0.0003701832650808572), ('C1409858085', 0.0003701710143532941), ('C1902378891', 0.00036966005072444863), ('C152830802', 0.0003693089040850044), ('C1648082819', 0.0003693041150600134), ('C1699102063', 0.0003693041150600133), ('C1667002698', 0.0003681471377503396), ('C665566426', 0.0003680161618142457), ('C892586401', 0.00036769734966123313), ('C2005372528', 0.0003671895877728835), ('C1098012335', 0.0003659605484333636), ('C1457092141', 0.0003658278890321304), ('C1648492699', 0.00036467177084980993), ('C454240137', 0.0003637961678303631), ('C1175684338', 0.00036295916645587083), ('C2126657609', 0.00036270372325436), ('C823286801', 0.00036193252643619805), ('C827822455', 0.0003619070798195071), ('C1492110515', 0.0003619070798195071), ('C1456851744', 0.0003617949404714943), ('C1825783439', 0.00036110338045788773), ('C2007253908', 0.00036089894209567053), ('C644590864', 0.00036077691188236133), ('C1268275182', 0.00035971309445872004), ('C607521473', 0.0003596127575519179), ('C579648989', 0.0003590382463019624), ('C268686998', 0.0003586614238800243), ('C1166355595', 0.0003585793875297567), ('C1948527523', 0.0003583292085427671), ('C1692967183', 0.0003583292085427671), ('C965421722', 0.00035827277611369444), ('C2112563194', 0.00035785195764477735), ('C1895615571', 0.0003572904358249445), ('C6433096', 0.00035692893334046216), ('C228319796', 0.0003564941031114029), ('C566987196', 0.00035580190006389835), ('C1124449361', 0.0003554066993616537), ('C60324613', 0.00035526875415610204), ('C1038215695', 0.0003546495917379246), ('C1953872129', 0.0003544733462624846), ('C892943299', 0.0003533391503401364), ('C371877246', 0.0003526949578546172), ('C234264885', 0.00035211219620108453), ('C1148635270', 0.00035075247320942875), ('C19820082', 0.00035066479639962435), ('C16791543', 0.0003504068020482344), ('C1768385310', 0.00035027444589948555), ('C50049566', 0.00035027444589948555), ('C657290155', 0.00035027444589948555), ('C927830595', 0.00035027444589948555), ('C1091966081', 0.00035027444589948555), ('C870367228', 0.00035027444589948555), ('C1362652272', 0.0003502744458994855), ('C1840158336', 0.0003495838959716991), ('C1784755412', 0.00034937658375708546), ('C1532733169', 0.0003491821345171864), ('C1110919755', 0.00034817643087434863), ('C78230690', 0.00034817643087434863), ('C1279143519', 0.00034817643087434863), ('C1520545421', 0.00034817643087434863), ('C1629693561', 0.00034817643087434863), ('C383264569', 0.00034817643087434863), ('C1887082660', 0.00034786679308902073), ('C689850593', 0.00034637176641379576), ('C546927133', 0.0003462242557610632), ('C1652856443', 0.0003456819117539445), ('C1139909458', 0.0003440043774336014), ('C775533998', 0.00034370259827195686), ('C1158029630', 0.00034353557469348405), ('C272748313', 0.0003434953424677408), ('C1903856065', 0.0003427856172159731), ('C142595093', 0.00034269419864743357), ('C632176173', 0.00034197317684524236), ('C2064655298', 0.000341873751502103), ('C116665031', 0.0003415352702005102), ('C1510402289', 0.0003415352702005102), ('C1202775726', 0.0003411287963381584), ('C949116847', 0.000340938057739108), ('C466569235', 0.00034017159680285936), ('C1848884864', 0.0003394939354682225), ('C1893753407', 0.00033824892426681416), ('C1874220848', 0.0003376746141541886), ('C1028143403', 0.0003373508026145229), ('C883803148', 0.00033664416845252465), ('C559952121', 0.0003359861957652878), ('C1101633489', 0.00033593514115285865), ('C1806072501', 0.00033550411920811883), ('C1160421902', 0.00033533553273612423), ('C2144330803', 0.00033488979765643005), ('C369805136', 0.00033484778583977), ('C13098029', 0.0003345871053821725), ('C697242067', 0.00033415801637061475), ('C1078351181', 0.0003337787281380319), ('C555482626', 0.0003332153589015068), ('C1410823375', 0.00033309831870405733), ('C347453747', 0.00033263775462926115), ('C144783459', 0.000332584536018252), ('C1950237952', 0.00033244745846008753), ('C352968107', 0.00033162211678735426), ('C1815278899', 0.00033076953008800796), ('C2005070127', 0.00033069634881637764), ('C868933598', 0.00033005603977986534), ('C782199851', 0.0003300434149525807), ('C2043823425', 0.0003289375066422442), ('C1622415837', 0.00032806781267994615), ('C362654279', 0.0003279172783164573), ('C730142143', 0.0003279018078724305), ('C1045652139', 0.00032772876405256894), ('C923543549', 0.00032730782011552935), ('C328208842', 0.00032686546742740263), ('C211657450', 0.00032550756992724304), ('C649077628', 0.0003253523430204487), ('C229592862', 0.00032507845222023627), ('C1474428806', 0.0003250784522202362), ('C607479057', 0.00032496848149584506), ('C574289698', 0.00032496848149584506), ('C586830923', 0.0003245499190575013), ('C1273110804', 0.00032439029109212515), ('C24198147', 0.00032426028038276544), ('C1264224372', 0.0003236848982736071), ('C1058213633', 0.0003231299027980422), ('C810336569', 0.0003229882810552036), ('C906611945', 0.0003226111246361243), ('C1489632788', 0.00032222622775387224), ('C686669439', 0.0003218093729146005), ('C1584479959', 0.000319929527548947), ('C1591152121', 0.0003198041370212482), ('C1557448113', 0.0003198041370212482), ('C604267980', 0.00031957857474804716), ('C1385780363', 0.00031871576371009924), ('C644541754', 0.00031847608540310065), ('C581878341', 0.00031830999612037495), ('C1463356115', 0.0003181453561221883), ('C656851338', 0.0003180174783320891), ('C952397244', 0.00031792798425672134), ('C1803364571', 0.0003176187864461753), ('C1963238862', 0.00031759497307330144), ('C875898611', 0.00031743453002709725), ('C85388733', 0.0003172144629250158), ('C1004109477', 0.0003171679763363159), ('C1378412230', 0.00031651560632823357), ('C1156188729', 0.00031638220372139173), ('C1355090926', 0.00031562167544038004), ('C576545848', 0.00031495467210713876), ('C1992803690', 0.0003148949426382625), ('C819131219', 0.0003148949426382625), ('C1760524265', 0.0003144953119930215), ('C1881279773', 0.0003140075391653), ('C851417480', 0.00031363613049101876), ('C483485800', 0.00031360952922449535), ('C502238060', 0.000313001696186971), ('C1780824451', 0.00031257081356603683), ('C366397964', 0.0003122569395171632), ('C1744581762', 0.00031148139174933464), ('C1560676680', 0.0003112011501461201), ('C655866157', 0.00031108501936763207), ('C1971153898', 0.0003108563477433761), ('C759167881', 0.0003108563477433761), ('C1153943594', 0.0003103434963489959), ('C918296398', 0.0003095927423743851), ('C35785606', 0.000309592742374385), ('C1496962993', 0.0003094934286429967), ('C2075157607', 0.0003087014568037407), ('C966335674', 0.00030843763841728567), ('C920335350', 0.00030812175669195894), ('C1480799932', 0.0003079083471238788), ('C150820973', 0.00030748755634260236), ('C1249817283', 0.0003067663903177044), ('C1566647188', 0.0003064615595741513), ('C1049562739', 0.00030603312777998233), ('C914250073', 0.00030574914897445155), ('C2020967123', 0.00030464670095353425), ('C1050458046', 0.0003040218685218386), ('C1726895756', 0.0003040016810109317), ('C135716487', 0.000303430129813886), ('C39890933', 0.000303430129813886), ('C1791559714', 0.000303430129813886), ('C2074365962', 0.000303430129813886), ('C478715873', 0.000303430129813886), ('C630871084', 0.0003033900984134295), ('C1232523772', 0.00030329108110990603), ('C1076053396', 0.00030315559695421105), ('C1154631581', 0.00030296840844192994), ('C1988407051', 0.0003023918276580701), ('C1933075111', 0.0003014954460196289), ('C267593624', 0.0003008907989205352), ('C1158875335', 0.00030038337119216683), ('C17589297', 0.00029989978072255373), ('C1965115675', 0.0002996783100032768), ('C842799656', 0.0002994931238428771), ('C179196508', 0.00029877293397749185), ('C272471718', 0.00029867902719831195), ('C338406777', 0.00029867902719831195), ('C676156739', 0.00029851650562128337), ('C2070935783', 0.00029851650562128337), ('C1718318682', 0.00029851650562128337), ('C1440811710', 0.00029851650562128337), ('C1303935849', 0.00029851650562128337), ('C1821035128', 0.00029851650562128337), ('C1983995504', 0.00029851650562128337), ('C1067165398', 0.00029851650562128337), ('C1711634686', 0.00029851650562128337), ('C267284908', 0.0002985165056212833), ('C206142588', 0.0002980935391960874), ('C168579211', 0.00029745027731032145), ('C334817037', 0.0002970747044179108), ('C644663928', 0.000296971258406536), ('C1321889892', 0.0002963567320022839), ('C859628493', 0.00029595931280393053), ('C257664421', 0.00029579249715144964), ('C149698808', 0.000295734269604012), ('C2100825064', 0.0002956672179035942), ('C1200311106', 0.0002955619177791038), ('C574062699', 0.00029534931582232373), ('C1196579721', 0.00029495611550609164), ('C320437746', 0.0002945222409258922), ('C56197730', 0.00029449018310302017), ('C1014124305', 0.00029441906617646267), ('C630392370', 0.0002941741842967071), ('C1732307957', 0.0002936756931481621), ('C1697528836', 0.00029315438680615043), ('C1632932485', 0.00029282212715103345), ('C1844076143', 0.0002925135142656189), ('C1542255731', 0.00029178388264436476), ('C1327124397', 0.00029043999529573865), ('C1404589205', 0.00029043999529573865), ('C1793707767', 0.00029043999529573865), ('C1763371495', 0.00029043999529573865), ('C1200227736', 0.00029043999529573865), ('C902837455', 0.0002899048358693828), ('C130295904', 0.00028914914044424894), ('C1507237884', 0.000289085396939807), ('C951660772', 0.0002889962322595357), ('C1767072624', 0.0002885881795409398), ('C281474709', 0.00028858817954093973), ('C106397937', 0.00028858817954093973), ('C958780730', 0.00028739752163377085), ('C972314568', 0.0002870468842983558), ('C1962137244', 0.00028654316201843366), ('C861856179', 0.000286469335500706), ('C1973203074', 0.00028643692984055047), ('C436675602', 0.0002857544164334371), ('C1626218926', 0.0002856793708064213), ('C1018979501', 0.00028458310853181297), ('C801797246', 0.00028443575649962015), ('C1520919939', 0.0002840066616505471), ('C1043944424', 0.00028399209011700083), ('C1637529334', 0.00028386054547764286), ('C1179217322', 0.00028374993551738266), ('C145901862', 0.00028239071912015734), ('C728864298', 0.0002823637242460365), ('C363029037', 0.0002823637242460363), ('C1031698099', 0.00028236372424603624), ('C1038733568', 0.00028155641460734496), ('C954359387', 0.0002813203071467044), ('C840054516', 0.0002808728671668581), ('C1723688663', 0.00028024590851436035), ('C619464090', 0.00028016141509053585), ('C1650590141', 0.000278911496718014), ('C1155259690', 0.0002787178921895036), ('C402994775', 0.00027871024143009233), ('C1197304790', 0.0002783101795686883), ('C1045214627', 0.0002774838227266701), ('C1890250226', 0.0002774383772102495), ('C1097812196', 0.00027732688125905287), ('C1778762788', 0.00027686480272852394), ('C636259913', 0.00027663819946674824), ('C1240746302', 0.0002758487226252359), ('C83204562', 0.00027557495893794473), ('C1075692577', 0.00027557495893794473), ('C1341583263', 0.0002755378066551782), ('C2009344338', 0.00027537363633754714), ('C1541237057', 0.00027361672266592424), ('C455036670', 0.00027327792761009447), ('C1905402681', 0.00027327792761009447), ('C1669649966', 0.00027327792761009447), ('C1761250553', 0.0002732779276100944), ('C1439880421', 0.0002732779276100944), ('C172921013', 0.0002732779276100944), ('C1035666255', 0.0002732779276100944), ('C281893917', 0.0002732779276100944), ('C624012210', 0.00027302755642488665), ('C1419235351', 0.00027301554528135234), ('C891364505', 0.0002728981572238765), ('C608244416', 0.00027257040743914007), ('C1294166760', 0.0002723336397626576), ('C1864289868', 0.00027231453661052723), ('C21670075', 0.00027227657816802583), ('C1084001812', 0.0002721211793151243), ('C251630036', 0.0002718142433561686), ('C1433092877', 0.00027139184611631444), ('C2057462116', 0.00027058530140657835), ('C2005093875', 0.00027022275962837586), ('C719332132', 0.00026992312708425684), ('C538394574', 0.0002698938156092153), ('C680687990', 0.0002695107662886837), ('C428024823', 0.00026935357886324115), ('C2095429384', 0.0002693528916917544), ('C1973547259', 0.0002693528916917543), ('C757950779', 0.0002688743402356202), ('C2088008854', 0.0002687688287214422), ('C2079384186', 0.0002685485591429838), ('C702798720', 0.0002685086214100855), ('C577335130', 0.00026847146574900994), ('C102010508', 0.00026787245942457363), ('C2011457912', 0.00026781557466667793), ('C1906860092', 0.00026781557466667793), ('C1051682954', 0.00026781557466667793), ('C1092769857', 0.000267392378423274), ('C813128680', 0.0002671934536089569), ('C896561469', 0.0002670881455648028), ('C722399783', 0.0002670881455648027), ('C1376256048', 0.0002670124983762151), ('C1332295774', 0.0002666265651539763), ('C814878326', 0.00026652024500092793), ('C220694569', 0.0002661147411678942), ('C1379018843', 0.0002652494760378988), ('C1375512856', 0.0002648719855899536), ('C1299279378', 0.00026435890599355445), ('C1453715655', 0.00026388984216673956), ('C2027892936', 0.0002636741412886169), ('C993553940', 0.00026345524234619883), ('C1238891395', 0.00026345524234619883), ('C1104967901', 0.00026345524234619883), ('C1923131377', 0.00026345524234619883), ('C1952040134', 0.00026303353449056913), ('C407936671', 0.0002629330122721693), ('C1897313368', 0.00026281363670271175), ('C1304285526', 0.00026207760660642177), ('C145230032', 0.00026179697156958494), ('C188991095', 0.00026179697156958494), ('C236106052', 0.00026179697156958494), ('C1719485237', 0.00026179697156958494), ('C448612141', 0.00026179697156958494), ('C371570992', 0.00026179697156958494), ('C1386324281', 0.00026178170153176545), ('C322786133', 0.00026178170153176545), ('C682814633', 0.00026080891424871825), ('C908342050', 0.0002606790271783698), ('C1038277619', 0.00026058175121582334), ('C614111561', 0.0002605701889359953), ('C512928735', 0.0002602090978570505), ('C283266984', 0.0002592075840800427), ('C626305923', 0.0002583563798477918), ('C629170053', 0.0002582600906029241), ('C1349321790', 0.0002580066828316054), ('C81568098', 0.0002579543622627556), ('C1927223566', 0.0002570282100601408), ('C1649412954', 0.0002568722397968365), ('C1303695653', 0.0002564473353403369), ('C626467543', 0.000256214062997448), ('C171345183', 0.00025575936875986026), ('C612230385', 0.0002550752352320542), ('C2091583256', 0.00025449545754835097), ('C1100053869', 0.0002542211410104714), ('C131296547', 0.00025422114101047137), ('C299068475', 0.00025422114101047137), ('C25346278', 0.00025422114101047137), ('C805014659', 0.00025422114101047137), ('C1645579872', 0.00025422114101047137), ('C1258211852', 0.00025422114101047137), ('C1974668487', 0.0002538449980086869), ('C1621026927', 0.00025382437864298604), ('C547610089', 0.0002537412707290936), ('C1394454342', 0.00025324170669563866), ('C798657650', 0.0002532293137680218), ('C1053477622', 0.0002532293137680218), ('C2033826237', 0.00025234596580509406), ('C1690923384', 0.00025234596580509406), ('C1679033854', 0.00025139059114082416), ('C830856919', 0.00025108807212454457), ('C631654729', 0.0002502466555218979), ('C572671067', 0.000250162885812087), ('C1209651258', 0.000250162885812087), ('C2044183803', 0.000250162885812087), ('C923875417', 0.000250162885812087), ('C2014438912', 0.000250162885812087), ('C208889378', 0.000250162885812087), ('C521436442', 0.000250162885812087), ('C534961358', 0.000250162885812087), ('C1828122', 0.0002499457970911054), ('C1505370540', 0.00024989745422996165), ('C1734948367', 0.00024989428445629854), ('C1095087737', 0.00024931390005995206), ('C510046708', 0.00024920896119416), ('C1691073795', 0.000249023620071148), ('C1952580233', 0.0002489110373198677), ('C1014010834', 0.00024886251553290443), ('C759940472', 0.00024869728690904116), ('C1376050027', 0.00024861141456165354), ('C1791524453', 0.00024829924307299457), ('C1316160034', 0.00024821009415110256), ('C75208519', 0.0002478869788500622), ('C1897705669', 0.00024726522529457606), ('C880625364', 0.0002471862630081562), ('C277720476', 0.00024717759680913706), ('C91915601', 0.00024680092762581734), ('C1735726583', 0.00024680092762581734), ('C475624028', 0.00024678749111347714), ('C524663308', 0.000244794422131811), ('C1969886762', 0.0002445518259326072), ('C1082594377', 0.0002444703592891434), ('C1210957250', 0.00024421352232182497), ('C1990341771', 0.00024348325471100165), ('C459123820', 0.0002429981600016133), ('C322802193', 0.00024258764854037006), ('C901025251', 0.00024134740643946202), ('C1081618305', 0.00024134740643946202), ('C1349106433', 0.00024134740643946202), ('C805483863', 0.00024134740643946202), ('C334841918', 0.00024134740643946194), ('C2137070408', 0.00024109588939738756), ('C771207119', 0.00024109588939737588), ('C1134994937', 0.00024109588939737588), ('C1366869967', 0.00024109588939737588), ('C2038427935', 0.00024109588939737588), ('C1101722853', 0.00024109588939737588), ('C109947606', 0.00024109588939737588), ('C1885919902', 0.00024109588939737588), ('C1980302296', 0.00024109588939737588), ('C1005126300', 0.00024109588939737588), ('C1645276019', 0.00024109588939737588), ('C1950723662', 0.00024109588939737585), ('C986553990', 0.00024109588939737585), ('C332727422', 0.00024109588939737585), ('C971838371', 0.00024109588939737577), ('C1700159150', 0.00024109588939737577), ('C1542180842', 0.00024109588939737577), ('C967109509', 0.00024109588939737572), ('C1736605496', 0.0002404528872683041), ('C44857022', 0.00024000098687503512), ('C146553626', 0.00023982570147152208), ('C883419967', 0.00023971309474713252), ('C213197624', 0.00023968142272411724), ('C356750222', 0.00023954036895280836), ('C835705223', 0.00023951913457565156), ('C1452053500', 0.00023926975412530502), ('C1635613216', 0.00023906977904545487), ('C526635102', 0.00023897868390859958), ('C1941160297', 0.00023893062716621937), ('C764048448', 0.00023884571165875342), ('C1313060996', 0.0002387955680461537), ('C1423519115', 0.00023847136680858817), ('C140648396', 0.00023839971493212411), ('C1360225709', 0.00023839410634540282), ('C2085650948', 0.0002383698053188784), ('C1242770016', 0.00023797132512012607), ('C1722275939', 0.00023771182096947875), ('C235542568', 0.0002375657915800767), ('C421432072', 0.00023689751445604422), ('C1567160901', 0.00023599507585785775), ('C1779394537', 0.0002353372218189951), ('C671524709', 0.00023529907205944032), ('C507831273', 0.00023488222070886823), ('C804094956', 0.00023424485020574672), ('C1869939691', 0.0002339727511666928), ('C530444699', 0.00023388258375740232), ('C647327489', 0.0002332516380911425), ('C1152835627', 0.00023288362221002303), ('C1525483242', 0.00023253017358089892), ('C1501096176', 0.00023225863207921086), ('C1543709139', 0.00023190600170025502), ('C290140685', 0.00023142805176160146), ('C74457300', 0.00023142805176160146), ('C1214279601', 0.0002308102706543283), ('C995746715', 0.00023070613113951213), ('C1964602402', 0.0002304249818424468), ('C848308923', 0.00023029867871931473), ('C1772071898', 0.00023029867871931473), ('C1375103798', 0.00023024398951891061), ('C74848504', 0.00022917601725039454), ('C739658140', 0.00022886622797028573), ('C747175090', 0.00022861380024707871), ('C1311947724', 0.00022822419174207652), ('C1141481813', 0.00022820840806381), ('C1995039136', 0.00022739610814612057), ('C1214582637', 0.00022684477643531993), ('C1908894965', 0.00022627533596508289), ('C1938976805', 0.0002259268473090254), ('C200511130', 0.0002259268473090254), ('C1418322275', 0.0002250597009670301), ('C1809615650', 0.0002250597009670301), ('C1480193980', 0.0002248494288463442), ('C1556425826', 0.000224636201760935), ('C2121874810', 0.000224636201760935), ('C1295444668', 0.000224636201760935), ('C1128349548', 0.0002234609090469328), ('C26438018', 0.0002234170429123585), ('C1364381627', 0.00022333346893255323), ('C1355357191', 0.00022333346893255317), ('C487569403', 0.00022239072717319586), ('C1395098424', 0.00022225797772664935), ('C461669469', 0.00022217782234417753), ('C1415453492', 0.0002219964759202666), ('C820456300', 0.0002219303786147234), ('C1558803570', 0.00022177100995181552), ('C60026962', 0.0002205626461658872), ('C1885719603', 0.00022036832504756485), ('C185428348', 0.00022031705454032328), ('C1629152705', 0.00022008049576540645), ('C695108722', 0.00021944830282155463), ('C1529464275', 0.00021924474239734624), ('C1060018471', 0.00021868232472910392), ('C1884342559', 0.0002181875136191131), ('C1512353179', 0.0002179204707101456), ('C1090604904', 0.00021763187814192176), ('C1564260047', 0.00021759799952158576), ('C447056233', 0.00021673980432868043), ('C1216919532', 0.0002164282532314053), ('C1451561221', 0.00021572760538975856), ('C331622323', 0.00021565963986987466), ('C252625411', 0.0002155704370380235), ('C10263180', 0.00021550199390514926), ('C711451919', 0.00021545352675087824), ('C1788210321', 0.00021537668490819706), ('C1086957388', 0.0002145561906122928), ('C638223659', 0.00021430075062456213), ('C350348759', 0.00021420967740837238), ('C180936571', 0.00021414852797126035), ('C1591008232', 0.000213981879675509), ('C1107442215', 0.0002135774018793556), ('C939735585', 0.00021356222749388098), ('C1610742916', 0.00021356222749388098), ('C1956908177', 0.00021341162029955084), ('C359221218', 0.0002131423039351556), ('C374053775', 0.00021263386278883115), ('C404536294', 0.0002126204871781294), ('C1554849332', 0.0002123808729075569), ('C1069635670', 0.00021237308024337064), ('C304677660', 0.0002122027741819147), ('C746862122', 0.00021203146151763474), ('C1980127627', 0.00021178211380597434), ('C694265356', 0.00021177056532189716), ('C1176114065', 0.00021175605229634882), ('C1893177739', 0.00021166082214786478), ('C895429374', 0.00021137892727748293), ('C87697988', 0.00021126965789597312), ('C1255231772', 0.00021042619071117046), ('C497088099', 0.00020981474844346119), ('C700940580', 0.00020981474844346119), ('C1807452084', 0.00020915816294637978), ('C2038979642', 0.0002085727948948844), ('C682529129', 0.0002083174798359467), ('C1405664150', 0.00020831747983594668), ('C923919564', 0.00020831747983594668), ('C1083375349', 0.00020818553926638277), ('C1389923471', 0.00020817870351859112), ('C57136184', 0.00020808331028311273), ('C158030246', 0.0002074626054414849), ('C898690183', 0.00020739287610764366), ('C1434797923', 0.00020688873407409718), ('C668875156', 0.0002058252338783229), ('C1530098029', 0.0002058252338783229), ('C1587738251', 0.0002058252338783229), ('C815064001', 0.0002058252338783229), ('C1862169273', 0.00020582523387832285), ('C174977934', 0.00020574242726384098), ('C903333805', 0.00020464128275624662), ('C43587827', 0.00020451383841785917), ('C1883823119', 0.00020451383841785914), ('C899638721', 0.00020451251615217862), ('C1986701933', 0.00020416233734556403), ('C1093842718', 0.0002039733569655916), ('C900235765', 0.0002039733569655916), ('C1658450442', 0.00020379457917119026), ('C802590979', 0.00020342943244762034), ('C1693925346', 0.0002030779829029696), ('C181787207', 0.00020282300072624638), ('C515794745', 0.00020248036934304532), ('C834739424', 0.00020193497459362273), ('C1890075917', 0.00020191988545379015), ('C1369559766', 0.00020150587780478333), ('C667215072', 0.00020133818428374044), ('C475928775', 0.0002011444464162809), ('C828968085', 0.00020082112781251037), ('C2078460335', 0.00019995756494376856), ('C1804573810', 0.00019982346269315903), ('C1512444326', 0.00019966000218735557), ('C1897689911', 0.00019966000218735557), ('C1170049298', 0.0001995671209834173), ('C616528518', 0.00019947610724980845), ('C1776310825', 0.00019900011818706515), ('C1396978257', 0.00019897830768598156), ('C781322360', 0.00019882056539948398), ('C548427290', 0.0001986867383661878), ('C176878772', 0.0001986255592528319), ('C806943770', 0.00019813588296605287), ('C1827713539', 0.000197993238445291), ('C1174735331', 0.0001966222700014911), ('C1554037473', 0.00019627578088096003), ('C146494822', 0.0001955626212926417), ('C1035581047', 0.00019546736396550737), ('C2109595609', 0.0001953259665859538), ('C366601563', 0.00019527520873749164), ('C648467088', 0.00019523676477458939), ('C1538971214', 0.00019523676477458939), ('C1689083890', 0.00019523676477458939), ('C1060270098', 0.00019506404315772273), ('C2132932756', 0.00019506404315772273), ('C1887326984', 0.000194969866196018), ('C1477499235', 0.0001943484297899469), ('C1984017083', 0.00019411910323624456), ('C1800696439', 0.00019349702322317183), ('C125143024', 0.0001932139800961018), ('C106931168', 0.00019236669180924237), ('C1585648581', 0.0001916743734759483), ('C2136553361', 0.00019164720749738917), ('C792765429', 0.0001912414137329491), ('C1975714155', 0.00019069464076853086), ('C1128965136', 0.0001906946407685308), ('C817389751', 0.00019069464076853078), ('C1496334304', 0.0001906946407685307), ('C312053639', 0.00019066541173093655), ('C295362058', 0.0001903846895014121), ('C1939799337', 0.0001903371606435273), ('C1163804561', 0.00019000749283652922), ('C444370508', 0.00018953561797360144), ('C651594350', 0.0001889271656012323), ('C1753498738', 0.000188386839422007), ('C553121592', 0.0001874493113373296), ('C173276320', 0.00018732143862306076), ('C1718974481', 0.00018690543321839628), ('C1269635185', 0.00018690543321839628), ('C1204780618', 0.0001867065796028105), ('C1628447668', 0.00018642208741660547), ('C761166755', 0.00018622506170351758), ('C1076110991', 0.00018612170554233268), ('C1216867117', 0.00018571389723347675), ('C159675329', 0.00018544323163827904), ('C1732752834', 0.00018542810070255354), ('C944634193', 0.00018542810070255354), ('C1586862598', 0.00018494450393084877), ('C1694165271', 0.0001849441551275754), ('C615816786', 0.00018480013878346643), ('C967790734', 0.00018450471778041247), ('C1231572628', 0.0001842783175265911), ('C345742557', 0.00018389874378023393), ('C1305339250', 0.00018389874378023393), ('C1529774854', 0.00018389874378023393), ('C1165343027', 0.00018362327691911565), ('C573104116', 0.00018357290952131786), ('C170002529', 0.000183419029901631), ('C1254064510', 0.00018337715688002742), ('C1761085759', 0.00018337715688002742), ('C1125717761', 0.00018253216689085826), ('C207576555', 0.000182528982958894), ('C1160118068', 0.00018164253828897625), ('C299734038', 0.0001816253873507701), ('C2110568911', 0.00018160480871995467), ('C1577983313', 0.00018098082612432603), ('C153419170', 0.00018065095276176), ('C1934785516', 0.00018052990096522812), ('C30024621', 0.00018049979425719027), ('C75274383', 0.0001804340609689945), ('C672794326', 0.00018009967883621906), ('C1156672988', 0.0001799937816929033), ('C2073207955', 0.00017994565090505656), ('C1267365709', 0.00017986038583530286), ('C855942730', 0.0001795924628037256), ('C1750835738', 0.00017928819944914966), ('C1607867760', 0.00017928819944914966), ('C51444479', 0.00017904212539269595), ('C1872660217', 0.0001787829244522575), ('C1014847580', 0.0001784962169447748), ('C477595630', 0.0001779863714450551), ('C1456179400', 0.00017790599304183616), ('C623601481', 0.00017786244259501797), ('C149511515', 0.00017745504713284865), ('C1679430600', 0.00017727236824356405), ('C1897566795', 0.00017653950387188985), ('C116386695', 0.00017641312350668065), ('C1108787528', 0.00017572123359877863), ('C456338836', 0.0001755218554526234), ('C959023117', 0.0001744770742695185), ('C2130327838', 0.00017429013762781899), ('C56859969', 0.0001734670086749238), ('C1039035065', 0.00017322980121224984), ('C359668643', 0.00017320186740657723), ('C660475396', 0.00017307946328537805), ('C1629621972', 0.00017287451797143302), ('C274026379', 0.00017284970275670137), ('C1457388461', 0.00017284970275670137), ('C901739086', 0.0001728216119645714), ('C1085056650', 0.00017271501094607737), ('C2138532527', 0.00017254406312210277), ('C1148364854', 0.00017228657266628756), ('C927282395', 0.000172248515514907), ('C595459074', 0.0001721477140130127), ('C1783127345', 0.00017210725913251003), ('C395508103', 0.00017202123735730627), ('C940412764', 0.00017197746217016702), ('C603564532', 0.00017177791870219368), ('C159913055', 0.00017153678026812644), ('C228882909', 0.00017153678026812644), ('C1349086787', 0.0001714793564254943), ('C37682628', 0.00017126692595826666), ('C1821681988', 0.00017126352147561034), ('C196806031', 0.00017107354635721524), ('C1412753123', 0.00017100839268431592), ('C1023803355', 0.00017086724548482615), ('C1605127736', 0.00017086724548482615), ('C399061526', 0.00017057189931585356), ('C1187353931', 0.00017043862605343945), ('C1123042802', 0.00017038738680128228), ('C1577880868', 0.00017032901714209635), ('C1484585237', 0.00017009365523020967), ('C480118707', 0.00016978219844939897), ('C143498560', 0.00016948501657707086), ('C1598533502', 0.00016945865158132944), ('C1415168453', 0.00016931784987571187), ('C1174105749', 0.00016927690214788718), ('C1828416123', 0.00016926552873366244), ('C723171448', 0.0001689459614204371), ('C939437404', 0.0001688468149948723), ('C432013067', 0.00016833839124895224), ('C1981764666', 0.00016794356254577064), ('C1769470125', 0.00016783457198662235), ('C1293579037', 0.00016740311740888223), ('C1990073844', 0.00016730771964374306), ('C1514973352', 0.00016636668732172678), ('C576597517', 0.00016622367887935877), ('C323996741', 0.00016496480241800623), ('C465037281', 0.00016493224628262514), ('C1962291095', 0.0001640925779368193), ('C2022102158', 0.0001639543861630152), ('C2087715408', 0.00016386416530631963), ('C509546455', 0.0001635594463883713), ('C1141524074', 0.0001635594463883713), ('C1953142190', 0.0001635594463883713), ('C42779194', 0.0001635594463883713), ('C1569939854', 0.0001635594463883713), ('C1068772542', 0.00016292690407439033), ('C1338572942', 0.000162713958345161), ('C861002792', 0.00016265503377337957), ('C1254696728', 0.00016254348574084676), ('C467035555', 0.0001624528563348263), ('C85142763', 0.0001619880682727513), ('C1656946498', 0.00016178676302681027), ('C1133451243', 0.00016178676302681027), ('C1340398290', 0.000161451583395433), ('C39112485', 0.00016098426582165026), ('C1913044357', 0.00016082075567403278), ('C1571595392', 0.0001606627278906462), ('C1931570160', 0.0001605668749946572), ('C131423135', 0.00016046708300612367), ('C1228110352', 0.0001601331132292382), ('C2021849962', 0.00016005192400337563), ('C692285338', 0.00016002591577079896), ('C798268011', 0.00015974313355813523), ('C597262762', 0.00015968560206130696), ('C1467497219', 0.00015934956414649973), ('C1526367312', 0.00015905527795111217), ('C545527660', 0.00015898262658613368), ('C186769596', 0.00015891375011011047), ('C1642006830', 0.00015883116307349949), ('C1683902488', 0.00015873626640158756), ('C859276623', 0.00015865604785323588), ('C1775611696', 0.00015864724742669427), ('C2126019044', 0.00015780571704136412), ('C525158878', 0.00015730341362214413), ('C76969430', 0.00015720655609262514), ('C830078297', 0.00015692827673944812), ('C1196149230', 0.0001567500474623824), ('C1259046770', 0.0001567500474623824), ('C1780201239', 0.0001567500474623824), ('C359628860', 0.00015629180584115137), ('C691894544', 0.0001562536506821433), ('C1001065306', 0.0001560330503007373), ('C966214713', 0.00015589802406598474), ('C1297358265', 0.0001557015322989193), ('C2005671734', 0.0001556974038529537), ('C476466255', 0.00015556414407648633), ('C1315400589', 0.00015550372629052385), ('C235397460', 0.00015550372629052385), ('C756645719', 0.00015515115191350057), ('C1940215857', 0.00015495200069022804), ('C1729776721', 0.00015468461771322712), ('C5079947', 0.00015468461771322712), ('C693174391', 0.00015468461771322712), ('C1187702596', 0.0001543382867611148), ('C603081336', 0.00015389915843765512), ('C365096731', 0.0001536257393174894), ('C564600361', 0.00015361192470516165), ('C784613823', 0.0001534390093021593), ('C1670516684', 0.00015296057550060694), ('C927696302', 0.0001521391330523967), ('C1237709469', 0.00015193996433935956), ('C1620127338', 0.00015191660055092443), ('C1108967401', 0.00015179779572660753), ('C521213907', 0.00015164977020884281), ('C1875710426', 0.00015089230004977064), ('C1341517098', 0.00015083694289860024), ('C1489078579', 0.00015083694289860024), ('C778323844', 0.00015083694289860024), ('C15777324', 0.00015083694289860024), ('C318818410', 0.00015083694289860024), ('C1213002113', 0.0001507087145432946), ('C440111595', 0.0001506162527654152), ('C1459624061', 0.0001506162527654152), ('C1739071229', 0.0001505781535881239), ('C669906110', 0.00015049712598255968), ('C1599273075', 0.0001503041873732244), ('C1255236689', 0.0001502131770589927), ('C512338137', 0.00015007467277743013), ('C1610565169', 0.00015003488680566756), ('C1482560016', 0.00014996412794900465), ('C1899748276', 0.00014996412794900465), ('C1079965849', 0.00014984710729036641), ('C274747841', 0.000148891309666351), ('C1529207541', 0.0001487094313959899), ('C1304555023', 0.00014863363701319104), ('C1475486134', 0.00014850694537520771), ('C994449484', 0.0001484820112812244), ('C611520731', 0.0001484820112812244), ('C2027631548', 0.00014839102525295242), ('C1812702959', 0.00014836815340383538), ('C696052681', 0.00014836815340383538), ('C1890779401', 0.00014836066938732275), ('C189823798', 0.00014829124944422143), ('C567897093', 0.0001477972897467614), ('C249282739', 0.00014763275296241824), ('C437189630', 0.00014754814669239044), ('C1927346472', 0.00014754814669239044), ('C1663162700', 0.0001472041657690051), ('C1872482068', 0.00014692655390462615), ('C772895850', 0.00014649493839398453), ('C1892148523', 0.0001463822929682314), ('C1089848865', 0.00014635194336163566), ('C845102514', 0.00014634344905416205), ('C2088631865', 0.0001461804446139416), ('C882083718', 0.0001460349572300237), ('C545102882', 0.00014600812315928669), ('C1965708710', 0.00014599440465001322), ('C1127607634', 0.00014563223416666214), ('C435637901', 0.00014545984334320047), ('C632643861', 0.0001453460417241852), ('C1991820533', 0.00014521565777752884), ('C1734287915', 0.00014521565777752884), ('C359363895', 0.00014521565777752884), ('C1547534233', 0.0001452156577775288), ('C232517457', 0.00014492027428023745), ('C251875213', 0.00014439857052487456), ('C1703739582', 0.00014422568534449212), ('C1018783569', 0.00014418674313263603), ('C1379814778', 0.0001440351972444597), ('C1007572087', 0.00014390721158879572), ('C2038018161', 0.00014379572305028629), ('C857032107', 0.00014267506879719777), ('C599675908', 0.0001425478838933113), ('C1923945958', 0.00014222895117047457), ('C1013313546', 0.00014213593274696638), ('C2055009466', 0.0001416450251479366), ('C869565327', 0.0001416450251479366), ('C677660361', 0.0001414996166323614), ('C908718101', 0.00014141709386380168), ('C1460082550', 0.00014125650773891957), ('C72353846', 0.00014122216677366021), ('C402571153', 0.00014098794744334128), ('C1715900756', 0.0001408741011298116), ('C963460752', 0.00014077354972179406), ('C1504341710', 0.00014065705053975034), ('C2112350124', 0.0001405294986469284), ('C1602759549', 0.00014035465788045907), ('C1057285507', 0.0001402179224958506), ('C1838285576', 0.0001398199652182986), ('C177123752', 0.0001398199652182986), ('C688041542', 0.0001398199652182986), ('C1293338142', 0.0001398199652182986), ('C585290792', 0.0001398199652182986), ('C1506293914', 0.00013918123702948517), ('C1713848243', 0.000138941106527228), ('C463539622', 0.00013890839860894628), ('C1186953291', 0.00013882640831984876), ('C1182534509', 0.00013859209839011804), ('C1033736586', 0.00013782119120615385), ('C856318696', 0.00013781682328752932), ('C1245363669', 0.00013775383083027224), ('C1918953803', 0.00013756879513925863), ('C1814131114', 0.0001375550124185967), ('C257361511', 0.000137519836468264), ('C323912860', 0.00013751983646826394), ('C1922157108', 0.00013743078196371802), ('C1256908044', 0.00013729526551083457), ('C602544155', 0.00013712830320995224), ('C1548142512', 0.00013709344361203163), ('C524035200', 0.00013684716807922778), ('C384136428', 0.00013676439717540728), ('C118836015', 0.00013664883815362646), ('C1799010144', 0.0001364333625447773), ('C643323409', 0.00013643336254477728), ('C1426091756', 0.00013643336254477728), ('C377075708', 0.00013622507771855435), ('C1396527012', 0.00013622507771855435), ('C1614239388', 0.00013580174235989048), ('C409740988', 0.0001355665020222829), ('C647931416', 0.00013514498845502943), ('C825969892', 0.00013501576208454797), ('C190521845', 0.00013490964542434584), ('C1056476734', 0.00013437251658827488), ('C205797331', 0.00013424945064648822), ('C1050663079', 0.0001339672617342896), ('C1902837467', 0.0001339257062582372), ('C1280960686', 0.00013336938272831797), ('C1191796691', 0.0001332651056081412), ('C500712433', 0.0001320277975510444), ('C810134226', 0.00013147571849744078), ('C742393642', 0.00013097844504049287), ('C358247377', 0.00013092318822615037), ('C1159406873', 0.00013069616687369685), ('C1682236855', 0.00013058027446732388), ('C34104097', 0.00013055855628732213), ('C292682242', 0.0001300410652037595), ('C1750362802', 0.00012974560615398962), ('C1501156188', 0.00012974560615398962), ('C602373594', 0.00012974560615398962), ('C1236509536', 0.00012974560615398962), ('C1655680166', 0.00012974560615398956), ('C1697472909', 0.00012974560615398956), ('C1156509589', 0.00012974560615398956), ('C1078316853', 0.00012972394805785116), ('C1098443227', 0.0001289640751436264), ('C808326652', 0.00012881682652157402), ('C528877098', 0.00012870376513028054), ('C1711699171', 0.0001286911240879554), ('C41461366', 0.00012818924320167458), ('C469059843', 0.00012818924320167458), ('C1683471006', 0.0001280020591368474), ('C1432825682', 0.00012779537345645488), ('C285545076', 0.00012779094616155855), ('C1816212551', 0.00012755863491158964), ('C1681976106', 0.00012724860532709842), ('C1612832553', 0.00012713879878395698), ('C1562991705', 0.00012674384617708984), ('C709211172', 0.0001264014253304326), ('C864602023', 0.00012627573598029826), ('C1435043122', 0.0001258359277020998), ('C1431362064', 0.0001258359277020998), ('C639532055', 0.0001258359277020998), ('C1082732879', 0.0001258359277020998), ('C1765886577', 0.0001258359277020998), ('C660690290', 0.0001258359277020998), ('C1002759277', 0.00012572245759109212), ('C1960353164', 0.00012561762804600467), ('C662396672', 0.00012490615321547404), ('C1019678929', 0.00012476201282596587), ('C1911908507', 0.00012476201282596587), ('C341886098', 0.00012469956841162634), ('C161678291', 0.00012467369706247453), ('C1913473991', 0.00012467369706247453), ('C457497998', 0.00012451097091171627), ('C2141677873', 0.0001242674986702533), ('C642324097', 0.00012420770309427753), ('C2042324703', 0.000124138485346888), ('C1259389151', 0.00012413382511853455), ('C864252220', 0.00012413354859081726), ('C157427068', 0.00012365175648480575), ('C1760612790', 0.00012365175648480575), ('C288613043', 0.00012351854489441323), ('C497246334', 0.0001234148068908707), ('C2070292195', 0.0001231876801131449), ('C1283534588', 0.0001231211801287182), ('C1149179033', 0.0001231211801287182), ('C1306889886', 0.00012298139867432276), ('C1347371891', 0.0001226275544661645), ('C1755124222', 0.00012254450243185777), ('C333185464', 0.00012202628473059655), ('C1152092987', 0.00012194823834646521), ('C2028528769', 0.00012187432273498081), ('C1728647108', 0.0001218511767160711), ('C1360481565', 0.00012177086005682403), ('C914285365', 0.00012158087018648892), ('C369566106', 0.00012139924641173049), ('C128812892', 0.0001210236479334287), ('C131682780', 0.00012100672346267142), ('C252172114', 0.00012100672346267142), ('C1934886086', 0.00012100672346267142), ('C1177478758', 0.00012100672346267142), ('C346693029', 0.00012100672346267142), ('C1502804084', 0.00012100672346267142), ('C1022713215', 0.00012072860092218155), ('C191366309', 0.0001204628992384121), ('C1267913176', 0.00012027462158137347), ('C1642689499', 0.00012026426234921238), ('C1870926183', 0.00012026426234921238), ('C817774765', 0.00011953761389213169), ('C1560893361', 0.00011948234500237336), ('C723509264', 0.00011941550799130146), ('C1408489165', 0.00011937651079530387), ('C518028573', 0.00011937651079530387), ('C1802714004', 0.0001192459542735873), ('C1446511647', 0.00011913176694396837), ('C548185127', 0.00011888772549124325), ('C1135201785', 0.00011861486698097208), ('C1808385426', 0.0001184677533888985), ('C1869142879', 0.00011838361986382845), ('C98707741', 0.0001182741637182146), ('C706956926', 0.00011788593284300201), ('C1240560903', 0.00011788593284300201), ('C1309403692', 0.00011786429948251686), ('C528985379', 0.00011774673940599034), ('C1945950459', 0.00011756175379821017), ('C1965017830', 0.00011753422177570826), ('C203427830', 0.00011722168061869554), ('C442850319', 0.00011720978915409839), ('C1002658784', 0.00011719358120382563), ('C1122835446', 0.00011709650276298316), ('C830053540', 0.00011691249840745971), ('C1269288419', 0.00011670173829989685), ('C914243510', 0.00011620760148824075), ('C1238185596', 0.00011620760148824075), ('C156162339', 0.00011620760148824075), ('C490558731', 0.00011620760148824075), ('C1177396126', 0.00011620760148824075), ('C287533643', 0.00011620760148824073), ('C2126563017', 0.00011610799361474424), ('C1658315324', 0.00011590639842450733), ('C186516178', 0.00011519004827664683), ('C677561666', 0.00011509382447796152), ('C885208928', 0.0001150938244779615), ('C207380283', 0.00011509382447796145), ('C2078688167', 0.00011481743472444314), ('C572958608', 0.00011475979137271972), ('C323226584', 0.00011471214844184677), ('C954636025', 0.00011464326313065952), ('C722447556', 0.0001143753784937839), ('C102364766', 0.00011430805553941115), ('C1060120913', 0.0001142633943882589), ('C522845009', 0.00011416863538527652), ('C324333692', 0.00011407567364157877), ('C791033780', 0.00011364191942338774), ('C1387070447', 0.00011364191942338774), ('C752612398', 0.00011358977407649142), ('C1638237205', 0.00011336944137082551), ('C714086473', 0.00011330455859064436), ('C590614528', 0.00011297353506105891), ('C106333716', 0.00011297353506105891), ('C1126297464', 0.00011297353506105891), ('C56690195', 0.00011297353506105891), ('C432449092', 0.00011297353506105891), ('C735039923', 0.00011297353506105891), ('C1303226190', 0.0001129735350610589), ('C1740186506', 0.00011274517580662014), ('C59912595', 0.00011274517580662014), ('C1051356798', 0.00011271329671671122), ('C120279480', 0.00011259505145105364), ('C566582492', 0.00011251163632128259), ('C98014803', 0.00011221191595752521), ('C731767226', 0.00011186124381225902), ('C1510459992', 0.00011186124381225902), ('C1756466427', 0.00011186124381225902), ('C563214866', 0.00011181745158581016), ('C877486986', 0.00011163539004586239), ('C1374336520', 0.00011153070655406535), ('C1968624098', 0.0001114716464724288), ('C1196357413', 0.00011112683465262668), ('C800967034', 0.0001107742944223122), ('C1786430014', 0.0001107742944223122), ('C872112161', 0.0001107742944223122), ('C735563623', 0.0001107742944223122), ('C380911997', 0.0001107742944223122), ('C1127983201', 0.00011077429442231218), ('C635222317', 0.00011077429442231218), ('C1612798177', 0.00011077429442231218), ('C1690998552', 0.00011077429442231218), ('C1152356495', 0.00011077429442231214), ('C403631555', 0.00011077429442231214), ('C1591612680', 0.00011077429442231214), ('C1209363182', 0.00011077429442231214), ('C969635352', 0.00011077429442231214), ('C1960297159', 0.00011077429442231211), ('C1959541246', 0.00011077429442231088), ('C53785803', 0.00011076309180486103), ('C1607207670', 0.00011076064721482911), ('C1936855292', 0.00011031207267682065), ('C2128712024', 0.0001102466599340805), ('C1255221015', 0.00011012976736494462), ('C2096367617', 0.00011012487517458244), ('C1108226372', 0.0001098784127939228), ('C1714385979', 0.00010964181928406416), ('C638119430', 0.00010963442049431793), ('C1838948302', 0.00010956723129230766), ('C1910153505', 0.00010950979730137587), ('C1312448128', 0.00010939292668067417), ('C1361037703', 0.00010939292668067417), ('C1619755203', 0.00010939292668067417), ('C2014169866', 0.00010919028696230887), ('C570913468', 0.00010915110708483369), ('C486343841', 0.00010895420994538868), ('C662931726', 0.00010895420994538868), ('C846609537', 0.00010895420994538868), ('C509362814', 0.00010895420994538868), ('C1072577677', 0.00010895420994538868), ('C529952024', 0.00010895420994538868), ('C1887473486', 0.00010884471739482419), ('C1230747575', 0.00010832369090904815), ('C851731350', 0.00010817157509951984), ('C2090486181', 0.00010815516736597226), ('C407219337', 0.00010786383034802148), ('C1825950751', 0.00010786383034802144), ('C460218551', 0.00010784261701492849), ('C2044070952', 0.00010767677965023454), ('C1950870438', 0.00010760637824209723), ('C1095604325', 0.00010737592338646799), ('C193924578', 0.0001073722366690048), ('C469767739', 0.00010685844541470497), ('C2036557936', 0.00010656719548623089), ('C1977780197', 0.00010629505463373552), ('C1043677034', 0.0001061199301415567), ('C1536088502', 0.00010586311873314113), ('C484986935', 0.00010581013901205204), ('C2130871815', 0.00010581013901205204), ('C353418507', 0.00010565402038693825), ('C128008012', 0.00010561706526958741), ('C1171394321', 0.00010544493851353272), ('C1441133487', 0.00010542856997374357), ('C1862384239', 0.00010538307396163417), ('C1129111658', 0.00010516989926811018), ('C629942205', 0.00010513978275337191), ('C2081591507', 0.00010494753048209487), ('C262282046', 0.00010489428160341214), ('C1973818754', 0.00010488883991614212), ('C1890466358', 0.0001048089515141977), ('C1056640661', 0.00010479246477441607), ('C1890191192', 0.00010479246477441607), ('C44197733', 0.00010479246477441602), ('C1104044396', 0.00010443192204323991), ('C1214628974', 0.0001041346071556996), ('C936853935', 0.00010375591991556532), ('C479535332', 0.00010375591991556532), ('C1987405562', 0.00010375192716849216), ('C1807259356', 0.00010328275893862252), ('C1499241933', 0.0001028970296509862), ('C1069648311', 0.00010281995690128132), ('C1095821033', 0.00010179421379184554), ('C1593769010', 0.00010174220505641578), ('C118437987', 0.00010147009264122275), ('C766494418', 0.00010089281302940695), ('C480669012', 0.00010088648338940177), ('C1701618194', 0.00010068699219032459), ('C1073865173', 0.0001006282805592403), ('C1033848759', 0.00010034541400317068), ('C150523972', 0.00010032375543228572), ('C755615643', 0.00010031490065126796), ('C1903005844', 9.989794202520247e-05), ('C707360147', 9.984937253190186e-05), ('C46234453', 9.97161631679355e-05), ('C169274898', 9.971616316793547e-05), ('C1605182199', 9.956035700166838e-05), ('C823379702', 9.950838238665715e-05), ('C262404738', 9.934202433492932e-05), ('C879614402', 9.919688867428767e-05), ('C2064491438', 9.917020893668923e-05), ('C450949430', 9.907491124245905e-05), ('C550190826', 9.889159287505226e-05), ('C1100289413', 9.882622904549178e-05), ('C632538178', 9.877410765903779e-05), ('C852586467', 9.867433029009917e-05), ('C1710387865', 9.862314662845598e-05), ('C1242686524', 9.853680165413997e-05), ('C1932334304', 9.733541748804593e-05), ('C1055164842', 9.712877144511964e-05), ('C1909782411', 9.712877144511964e-05), ('C987955759', 9.683619159494316e-05), ('C369405043', 9.683619159494316e-05), ('C766302474', 9.656103661629318e-05), ('C827350474', 9.656103661629318e-05), ('C628112283', 9.652527819056489e-05), ('C1733778992', 9.642091094870526e-05), ('C1227773968', 9.634276043162135e-05), ('C703418892', 9.580177404619259e-05), ('C1040405455', 9.57089603952468e-05), ('C645539039', 9.568881076613894e-05), ('C1196808546', 9.549914475076282e-05), ('C409331076', 9.547316374510702e-05), ('C1038722314', 9.52528148828633e-05), ('C728432657', 9.516917645077831e-05), ('C841956493', 9.485007154518087e-05), ('C1182825160', 9.475936487706456e-05), ('C727658706', 9.460202652776817e-05), ('C232299558', 9.421477776490785e-05), ('C417912401', 9.409505656436655e-05), ('C1646712119', 9.401058269394818e-05), ('C1561307190', 9.388616972008472e-05), ('C788057671', 9.387532100239423e-05), ('C123623130', 9.37026319681088e-05), ('C718801730', 9.37026319681088e-05), ('C1769927077', 9.37026319681088e-05), ('C900337975', 9.317724388639803e-05), ('C1909173090', 9.2982526456662e-05), ('C82079505', 9.291986119675771e-05), ('C994739890', 9.27845608329737e-05), ('C2005297705', 9.27845608329737e-05), ('C1670883164', 9.236473015450474e-05), ('C1867965524', 9.21871342649106e-05), ('C1353625448', 9.202863437761222e-05), ('C1921248691', 9.191242772629179e-05), ('C1671770086', 9.148877115715154e-05), ('C245019752', 9.148877115715154e-05), ('C1246760376', 9.142017942729976e-05), ('C424790668', 9.141474801256487e-05), ('C396866523', 9.141474801256487e-05), ('C369046885', 9.141338034420512e-05), ('C285513182', 9.139887887944912e-05), ('C480951921', 9.122319592693477e-05), ('C539791425', 9.114847032403807e-05), ('C236999052', 9.114847032403803e-05), ('C1530773220', 9.106055759711824e-05), ('C771874671', 9.071422666881603e-05), ('C1944210063', 9.07110132196287e-05), ('C1125832994', 9.022630749028712e-05), ('C913863966', 9.004270514154197e-05), ('C1743392358', 8.996405988121871e-05), ('C1149495561', 8.982388215921377e-05), ('C1385354747', 8.939352499201849e-05), ('C979437396', 8.938775021445507e-05), ('C423250256', 8.878844698005726e-05), ('C484268062', 8.864710374293061e-05), ('C1284515419', 8.856122712148371e-05), ('C1148771999', 8.799839845555044e-05), ('C1179833140', 8.795044957552939e-05), ('C717773873', 8.772567662769076e-05), ('C1255149927', 8.771244451570117e-05), ('C694574500', 8.752884846614658e-05), ('C276623362', 8.718982996520811e-05), ('C1873446390', 8.695590328801094e-05), ('C1005495267', 8.671614374446615e-05), ('C1314174420', 8.671165876167937e-05), ('C1352750459', 8.671165876167937e-05), ('C313266037', 8.664736211475219e-05), ('C5377162', 8.546732292028733e-05), ('C1140809068', 8.546732292028733e-05), ('C1506066038', 8.52691573932254e-05), ('C893911190', 8.516528172175222e-05), ('C2114634161', 8.513071486644454e-05), ('C711859898', 8.508522693770638e-05), ('C1609197353', 8.470162340883855e-05), ('C560478089', 8.447329435516573e-05), ('C193297871', 8.43151888585974e-05), ('C1740393527', 8.431518885859739e-05), ('C1299496226', 8.431518885859739e-05), ('C1461258616', 8.431503556913075e-05), ('C841747618', 8.42606264587592e-05), ('C226835436', 8.416960599759688e-05), ('C607062277', 8.413753508342761e-05), ('C384665757', 8.413278060483392e-05), ('C1645168081', 8.413278060483392e-05), ('C1899001756', 8.410061512393669e-05), ('C76052944', 8.400186724579408e-05), ('C399389739', 8.388363347294033e-05), ('C1282333137', 8.328796829191456e-05), ('C1911293580', 8.315973658585068e-05), ('C351144071', 8.299764733521282e-05), ('C302774270', 8.289632214586595e-05), ('C521087514', 8.277775369518182e-05), ('C999723254', 8.262272281568878e-05), ('C499760818', 8.236415320261505e-05), ('C1461774305', 8.220576471823522e-05), ('C1207935724', 8.217874985749642e-05), ('C1263461120', 8.205185042136848e-05), ('C471003383', 8.205185042136848e-05), ('C370861553', 8.205185042136848e-05), ('C1580559195', 8.190798821244845e-05), ('C471166875', 8.095993386585544e-05), ('C1674674654', 8.084132999291123e-05), ('C1017941602', 8.084132999291123e-05), ('C1445784416', 8.077823355364584e-05), ('C395508885', 8.076086332133324e-05), ('C1769359992', 8.06615748006441e-05), ('C1855693993', 8.038247611037982e-05), ('C137688853', 8.024218319848868e-05), ('C955592184', 8.023091173547863e-05), ('C478820701', 8.00218818979184e-05), ('C274387846', 7.964593024393921e-05), ('C707845856', 7.942117830490388e-05), ('C109634232', 7.924127169292698e-05), ('C1806963277', 7.921425521141838e-05), ('C1780497356', 7.887691805236743e-05), ('C869394149', 7.886796758854127e-05), ('C495473039', 7.886796758854126e-05), ('C606518659', 7.886796758854126e-05), ('C978276840', 7.839025576691051e-05), ('C144168365', 7.825782459054802e-05), ('C1088768738', 7.8257824590548e-05), ('C1320066686', 7.8257824590548e-05), ('C564489242', 7.825782459054798e-05), ('C1705819997', 7.825782459054798e-05), ('C1484573422', 7.804109215655622e-05), ('C727502065', 7.801106563113152e-05), ('C1787239285', 7.79271434857739e-05), ('C1215446912', 7.79259601241599e-05), ('C109617474', 7.786738476737735e-05), ('C108794529', 7.769476729952174e-05), ('C956794113', 7.769476729952172e-05), ('C1679796651', 7.769476729952172e-05), ('C513710252', 7.763262476538124e-05), ('C724380392', 7.761652265859564e-05), ('C1136859577', 7.761652265859564e-05), ('C1629765833', 7.761652265859564e-05), ('C837113913', 7.761652265859564e-05), ('C2074563683', 7.724235810478404e-05), ('C757503768', 7.657042836134482e-05), ('C1135867657', 7.646162991005637e-05), ('C1511894714', 7.621059314833458e-05), ('C1117294574', 7.525295638478821e-05), ('C26716153', 7.46146139960678e-05), ('C1943207086', 7.437363905540144e-05), ('C1704116821', 7.437363905540144e-05), ('C795132749', 7.437363905540144e-05), ('C1600873622', 7.437363905540144e-05), ('C966984015', 7.436398057195167e-05), ('C1533000663', 7.418712777521956e-05), ('C1570165892', 7.396946617697217e-05), ('C1353776547', 7.390499016405448e-05), ('C1908932714', 7.377179711369393e-05), ('C22920054', 7.349934540141954e-05), ('C1729635847', 7.3405207497915e-05), ('C2083329818', 7.312349452011236e-05), ('C805469502', 7.281302047198299e-05), ('C1750373007', 7.276677355870634e-05), ('C1030975170', 7.201535262412668e-05), ('C2001505633', 7.116954445878445e-05), ('C956954767', 7.114197801261226e-05), ('C1416816772', 7.105326518466101e-05), ('C842993265', 7.099911029921243e-05), ('C445178285', 7.099901997387851e-05), ('C1368438034', 7.075191972132225e-05), ('C824784700', 7.029305283819978e-05), ('C227186054', 7.029305283819978e-05), ('C285984841', 7.026625756131281e-05), ('C382004679', 7.008515692868019e-05), ('C1632035340', 7.002576791537705e-05), ('C446298173', 6.999812556128652e-05), ('C938819633', 6.980895356584768e-05), ('C989137021', 6.969537723919742e-05), ('C521129957', 6.962531508473083e-05), ('C2126436338', 6.961662171514855e-05), ('C1781924994', 6.937421206586815e-05), ('C311188483', 6.916498114285032e-05), ('C1129461636', 6.868472668944182e-05), ('C1597977404', 6.841476253807313e-05), ('C494777408', 6.836417451642968e-05), ('C1607323693', 6.824217218430834e-05), ('C938915039', 6.820499993891121e-05), ('C1004300450', 6.81539098359714e-05), ('C22162402', 6.777514104874938e-05), ('C2076439645', 6.769373289290768e-05), ('C1746579125', 6.760034174259968e-05), ('C1083859927', 6.758489890181065e-05), ('C750572020', 6.752996396598585e-05), ('C1424007721', 6.752996396598585e-05), ('C924804429', 6.750653976031896e-05), ('C983636862', 6.722286886131102e-05), ('C290487175', 6.721594451853358e-05), ('C789852022', 6.71026283353851e-05), ('C1032715879', 6.691319072202747e-05), ('C612045723', 6.689085562564516e-05), ('C987677028', 6.687765739475833e-05), ('C598452144', 6.660168415976627e-05), ('C1965185304', 6.638338367581077e-05), ('C60351691', 6.63824813908689e-05), ('C897057254', 6.636618314770576e-05), ('C1582366224', 6.574990505506894e-05), ('C815186263', 6.574145467972174e-05), ('C83613815', 6.565459868222286e-05), ('C1736027541', 6.560539904905249e-05), ('C529033504', 6.544614770503588e-05), ('C1362863442', 6.532780583625037e-05), ('C1177926954', 6.512402133963643e-05), ('C592679392', 6.51152531644305e-05), ('C748358246', 6.496853973918076e-05), ('C55178455', 6.459768573865936e-05), ('C1954706477', 6.366846073230844e-05), ('C280778280', 6.357438127484156e-05), ('C1285086629', 6.32452594868157e-05), ('C582173326', 6.322224114499839e-05), ('C54876469', 6.306074454967081e-05), ('C450845582', 6.30126370045259e-05), ('C1008918174', 6.298928084228292e-05), ('C95356', 6.284040839984342e-05), ('C1080813886', 6.276647718318457e-05), ('C2095938989', 6.27409366884828e-05), ('C107438779', 6.257515474282141e-05), ('C1275053057', 6.255007591040688e-05), ('C1970738826', 6.255007591040688e-05), ('C1537824739', 6.21748329915994e-05), ('C1082769360', 6.201660144241002e-05), ('C260927654', 6.201462868049486e-05), ('C1078596280', 6.188413950360639e-05), ('C1490416909', 6.188413950360639e-05), ('C16613795', 6.182498828773858e-05), ('C1440340988', 6.174562363646563e-05), ('C753013685', 6.17170727950647e-05), ('C2084449024', 6.17170727950647e-05), ('C175698222', 6.163293608352006e-05), ('C998690782', 6.156719156062041e-05), ('C1871594117', 6.142048846273753e-05), ('C776775180', 6.123342492778622e-05), ('C650108285', 6.123342492778617e-05), ('C935791733', 6.123342492778617e-05), ('C1139944236', 6.12118529617471e-05), ('C947010068', 6.119260777761089e-05), ('C1018388493', 6.115940919645983e-05), ('C899813705', 6.098346154783274e-05), ('C12662072', 6.0655559055509786e-05), ('C855112247', 6.0655559055509786e-05), ('C1389311354', 6.0655559055509786e-05), ('C1450354557', 6.0655559055509786e-05), ('C1276892406', 6.030336770977736e-05), ('C1327677398', 6.0286928376880544e-05), ('C1018153896', 6.018758236753855e-05), ('C775739646', 6.014790955591834e-05), ('C11668910', 5.994284074162549e-05), ('C1846201961', 5.9741342937510945e-05), ('C34676686', 5.9644647898550186e-05), ('C564451627', 5.956576446803425e-05), ('C492776916', 5.95114569309797e-05), ('C2029028090', 5.945350951161502e-05), ('C599293124', 5.9380722600537075e-05), ('C531109799', 5.908927156190916e-05), ('C1284214182', 5.841254825477032e-05), ('C251449240', 5.837678977896328e-05), ('C1828909550', 5.829175389789715e-05), ('C1256072323', 5.8283624897549746e-05), ('C1687101094', 5.8247993977297226e-05), ('C363006417', 5.811174181962273e-05), ('C142251484', 5.7841143659518415e-05), ('C1543555122', 5.781336429377768e-05), ('C1631162170', 5.7745534919289375e-05), ('C1161927918', 5.765803546340371e-05), ('C765155274', 5.762853029501273e-05), ('C26045684', 5.742994999461478e-05), ('C310220915', 5.728492769516183e-05), ('C1495486273', 5.723623644594926e-05), ('C474847450', 5.716934894731956e-05), ('C139784508', 5.684866783198521e-05), ('C1342037956', 5.674551581827552e-05), ('C1734862058', 5.6497502807339565e-05), ('C2041218422', 5.6270971459407914e-05), ('C1057259459', 5.6060091150235114e-05), ('C1022153336', 5.59790879580136e-05), ('C1591587046', 5.5801872442859937e-05), ('C969284083', 5.5801872442859937e-05), ('C3977999', 5.5801872442859937e-05), ('C1943108967', 5.5801872442859937e-05), ('C1592390864', 5.5801872442859937e-05), ('C299357678', 5.5801872442859937e-05), ('C1161949399', 5.5801872442859937e-05), ('C1403689550', 5.580187244285993e-05), ('C644344959', 5.565163417104012e-05), ('C69477057', 5.565163417104012e-05), ('C1238755034', 5.5519915763778104e-05), ('C203802515', 5.5488722331403785e-05), ('C210563051', 5.49487086254357e-05), ('C161733249', 5.49487086254357e-05), ('C286547187', 5.49487086254357e-05), ('C324498528', 5.456208150345996e-05), ('C1461183154', 5.450073791371329e-05), ('C2082605784', 5.443295369268115e-05), ('C739589782', 5.424437584857524e-05), ('C2041168843', 5.420510972058175e-05), ('C61142824', 5.409308184183418e-05), ('C1647801193', 5.36997740593793e-05), ('C1299745394', 5.358300837739959e-05), ('C430171917', 5.339508439477137e-05), ('C1905396523', 5.3221054178553405e-05), ('C1871125244', 5.306032919516795e-05), ('C707234445', 5.302525219278029e-05), ('C2092526272', 5.2905227536001416e-05), ('C324262354', 5.289871299445564e-05), ('C1331123896', 5.274639161423557e-05), ('C16680464', 5.25730489187414e-05), ('C2084267589', 5.2184422056848936e-05), ('C2034859281', 5.1948403952423796e-05), ('C1040980271', 5.1948403952423796e-05), ('C2144163136', 5.1948403952423796e-05), ('C17132509', 5.187842693751093e-05), ('C623466885', 5.168847893517784e-05), ('C911078435', 5.13557622012624e-05), ('C1767734624', 5.13557622012624e-05), ('C964866248', 5.108164576727759e-05), ('C220904895', 5.1060830989958725e-05), ('C1814746822', 5.106083098995872e-05), ('C2140473917', 5.106083098995872e-05), ('C2106115023', 5.106083098995872e-05), ('C1724556830', 5.106083098995872e-05), ('C1040303644', 5.106083098995872e-05), ('C1877766749', 5.106083098995872e-05), ('C1817842389', 5.098324761757249e-05), ('C1928450094', 5.0598451698008586e-05), ('C1711218892', 5.0215996657234565e-05), ('C1452020181', 5.008559810811571e-05), ('C1988025089', 5.008559810811571e-05), ('C1842441894', 4.997288719776349e-05), ('C1660830591', 4.9935497593459453e-05), ('C486662508', 4.9823927325623104e-05), ('C1761368684', 4.970348975910892e-05), ('C742560751', 4.955390855565193e-05), ('C461156176', 4.954776210968665e-05), ('C86466018', 4.937903399136427e-05), ('C376073938', 4.9250503911592417e-05), ('C1969430351', 4.922189128301898e-05), ('C357634845', 4.922189128301898e-05), ('C247537602', 4.888711122784103e-05), ('C1975322645', 4.869742880165035e-05), ('C1862556322', 4.858445636653241e-05), ('C165037464', 4.855673543605276e-05), ('C1641076533', 4.853049681833489e-05), ('C1983511229', 4.815650239888232e-05), ('C1861613802', 4.798385495989945e-05), ('C1059874896', 4.7303433351765724e-05), ('C1565058518', 4.7303433351765724e-05), ('C343512101', 4.7168875145547785e-05), ('C1159279360', 4.714171868233409e-05), ('C1074203200', 4.700896535551757e-05), ('C835284421', 4.661793141824542e-05), ('C133401060', 4.629786101999005e-05), ('C65683893', 4.619841391137678e-05), ('C1930072075', 4.561674772557199e-05), ('C849342403', 4.535440740204309e-05), ('C885555910', 4.513089600224208e-05), ('C2089485741', 4.50542663643031e-05), ('C983659750', 4.502932720673427e-05), ('C1688605578', 4.502932720673427e-05), ('C1501782229', 4.4987594745377474e-05), ('C700553509', 4.489255885888623e-05), ('C1156885344', 4.479289128256139e-05), ('C1075787773', 4.468981363832286e-05), ('C554819698', 4.458503829814077e-05), ('C413455659', 4.4472941488497695e-05), ('C1236533874', 4.433041884245999e-05), ('C58324694', 4.3983263468763464e-05), ('C899204870', 4.3874888944573185e-05), ('C2015203999', 4.3601579199425215e-05), ('C1760492708', 4.3601579199425215e-05), ('C1351458855', 4.3315016993185655e-05), ('C167378624', 4.320119112965954e-05), ('C181111540', 4.318487491921363e-05), ('C399777042', 4.307137989956318e-05), ('C338456981', 4.307137989956318e-05), ('C2003246685', 4.307137989956318e-05), ('C686064678', 4.29669622037256e-05), ('C427983732', 4.287067208308815e-05), ('C301483725', 4.2726886119799665e-05), ('C1730375460', 4.267273935244348e-05), ('C354971512', 4.252176774232293e-05), ('C656075868', 4.218936592599513e-05), ('C1634492186', 4.2084524201041026e-05), ('C959506480', 4.202304106777932e-05), ('C437836513', 4.1982495712987015e-05), ('C2075898645', 4.1982495712987015e-05), ('C982406682', 4.1982495712987015e-05), ('C25759288', 4.1982495712987015e-05), ('C1100510913', 4.1982495712987015e-05), ('C423891632', 4.1982495712987015e-05), ('C1517749848', 4.1982495712987015e-05), ('C1942983218', 4.1982495712987015e-05), ('C1686676187', 4.1982495712987015e-05), ('C597908249', 4.1982495712987015e-05), ('C99594781', 4.1982495712987015e-05), ('C1414112698', 4.1982495712987015e-05), ('C154191546', 4.173891452324788e-05), ('C272752096', 4.163636021990815e-05), ('C1980965530', 4.161551958637813e-05), ('C1234264195', 4.1570533329653535e-05), ('C1354799046', 4.151273577680534e-05), ('C785603838', 4.131714597101507e-05), ('C1385115265', 4.12977882012806e-05), ('C718962269', 4.12977882012806e-05), ('C530747890', 4.127852055978256e-05), ('C1158646143', 4.127852055978256e-05), ('C566628469', 4.122288462917907e-05), ('C763253161', 4.118676563389074e-05), ('C585317135', 4.118676563389074e-05), ('C2060968828', 4.08295559947753e-05), ('C1187730955', 4.0749474099221794e-05), ('C1130847219', 4.062087890269984e-05), ('C67418210', 4.038707624118862e-05), ('C1418055040', 3.995775207354867e-05), ('C1762043633', 3.951077422463474e-05), ('C441989517', 3.949798437597543e-05), ('C2081956948', 3.940741034672571e-05), ('C823891015', 3.920281318751233e-05), ('C1102464953', 3.8657416516747205e-05), ('C612357573', 3.865418236800311e-05), ('C59433821', 3.865418236800311e-05), ('C1828345671', 3.865418236800311e-05), ('C327430270', 3.859284102279553e-05), ('C1541224095', 3.834609221962436e-05), ('C232369406', 3.833779109612512e-05), ('C104392148', 3.807145366786014e-05), ('C1516006997', 3.8008406488828416e-05), ('C1901383731', 3.798532243271217e-05), ('C1229674572', 3.798532243271217e-05), ('C1356412685', 3.754950344974534e-05), ('C824256643', 3.734443168892399e-05), ('C7197142', 3.731419582073076e-05), ('C673994225', 3.7230065062750456e-05), ('C1225717157', 3.711678261178215e-05), ('C892313955', 3.693941414170275e-05), ('C248927068', 3.6770845264989745e-05), ('C656405809', 3.660984286371824e-05), ('C226102422', 3.65556708301059e-05), ('C306854291', 3.6201281827346096e-05), ('C100992504', 3.6201281827346096e-05), ('C1214826221', 3.612562605813224e-05), ('C928481238', 3.591553516753642e-05), ('C2017140130', 3.582351962262383e-05), ('C1499092508', 3.558583886537771e-05), ('C1505467955', 3.551209371725145e-05), ('C1781238594', 3.547120395622922e-05), ('C1125132707', 3.546401219177578e-05), ('C39607150', 3.5343137149591695e-05), ('C2140000055', 3.5337421051606596e-05), ('C401828466', 3.5337421051606596e-05), ('C1396904959', 3.5337421051606596e-05), ('C270217031', 3.5334870111987965e-05), ('C47462628', 3.5319725273800597e-05), ('C1282628311', 3.529619387688532e-05), ('C1225704566', 3.5208548508270344e-05), ('C1622587363', 3.514498790908951e-05), ('C102256008', 3.494050786493208e-05), ('C626836922', 3.4840797085846754e-05), ('C1844993068', 3.462751624041371e-05), ('C1495681901', 3.4584657737406986e-05), ('C1918088317', 3.4576716148346756e-05), ('C1038996959', 3.429422202407133e-05), ('C194859196', 3.429422202407133e-05), ('C757234945', 3.4163686205928734e-05), ('C39858251', 3.404262874082516e-05), ('C332611573', 3.402696313746536e-05), ('C1881708420', 3.386943637063013e-05), ('C1512732275', 3.386943637063013e-05), ('C2094361013', 3.364058380864203e-05), ('C1640022626', 3.340818714612526e-05), ('C1338727022', 3.340818714612526e-05), ('C16891369', 3.340818714612526e-05), ('C399875163', 3.337551386549999e-05), ('C647089636', 3.335610179152937e-05), ('C197798791', 3.331659826901737e-05), ('C210584188', 3.326360849075713e-05), ('C70991061', 3.32148997379153e-05), ('C1267444276', 3.298883536931065e-05), ('C2033860682', 3.276543745904644e-05), ('C1815981756', 3.270372125368528e-05), ('C20274793', 3.268139540081646e-05), ('C894687005', 3.268139540081646e-05), ('C1870872671', 3.267253467172329e-05), ('C123366357', 3.266959087493129e-05), ('C1263107170', 3.1801799406612246e-05), ('C1802570035', 3.1765490712176844e-05), ('C763681944', 3.16226347535588e-05), ('C1164613439', 3.148620085244204e-05), ('C1354206365', 3.14765695019318e-05), ('C2134399963', 3.132061299311042e-05), ('C1486961552', 3.114533588486655e-05), ('C366069783', 3.1145335884866545e-05), ('C2016997607', 3.114533588486654e-05), ('C986156699', 3.1145335884866525e-05), ('C968819483', 3.114533588486652e-05), ('C1065812935', 3.1130582929757275e-05), ('C1192754222', 3.0783070798634364e-05), ('C1476138873', 3.056280032514295e-05), ('C1605642067', 3.044210867551986e-05), ('C1812935919', 3.0155988594097957e-05), ('C1304621872', 3.0155988594097957e-05), ('C85676975', 3.0155988594097957e-05), ('C132392875', 3.0155988594097957e-05), ('C1100361227', 2.9743180686230483e-05), ('C1728997564', 2.9743180686230483e-05), ('C843083567', 2.9484376677167052e-05), ('C1641760998', 2.943887657065625e-05), ('C336519851', 2.931795836451046e-05), ('C413843100', 2.9183312541280476e-05), ('C411390898', 2.8801981710068365e-05), ('C778028540', 2.8583814147213087e-05), ('C1221114448', 2.8583814147213087e-05), ('C1560259762', 2.85523502608175e-05), ('C1304286493', 2.85232897127328e-05), ('C592766342', 2.830435341411969e-05), ('C1810630647', 2.7910115565793577e-05), ('C1677202028', 2.7824926436969898e-05), ('C1000699316', 2.7824926436969898e-05), ('C1020192133', 2.768296440546107e-05), ('C1429394820', 2.7625620626306458e-05), ('C1382480007', 2.7584015793442152e-05), ('C1388933025', 2.7539527178752385e-05), ('C1656440641', 2.7539527178752385e-05), ('C1808415473', 2.749213273586084e-05), ('C841616397', 2.7187203823727457e-05), ('C474891377', 2.7165571232417814e-05), ('C1569014356', 2.7100483735463525e-05), ('C1365609574', 2.7100483735463525e-05), ('C947156375', 2.697885136505098e-05), ('C744066701', 2.665088595267508e-05), ('C1236503001', 2.6562048115332523e-05), ('C991774315', 2.6496036406449885e-05), ('C625569664', 2.646276533845571e-05), ('C1648683269', 2.6273028571290557e-05), ('C87462443', 2.6273028571290557e-05), ('C221508235', 2.6067262054906664e-05), ('C1019071188', 2.6018294823879374e-05), ('C797980818', 2.5985597596643617e-05), ('C1439299369', 2.5985597596643617e-05), ('C653084813', 2.5506022249411158e-05), ('C1207205377', 2.5450070682568714e-05), ('C1373973501', 2.48513041737437e-05), ('C861479162', 2.4736328881679917e-05), ('C1807970113', 2.4580481224499402e-05), ('C1389003663', 2.4563094556120592e-05), ('C393339341', 2.4426838681835497e-05), ('C1591908890', 2.4426838681835497e-05), ('C1509718305', 2.4426838681835497e-05), ('C148765233', 2.4426838681835497e-05), ('C1949440316', 2.4276432153350224e-05), ('C1188590334', 2.4274799400654374e-05), ('C571876967', 2.416220257503409e-05), ('C587016440', 2.4103362019505895e-05), ('C1341662543', 2.379388348313783e-05), ('C476477241', 2.375377546855333e-05), ('C1954938610', 2.375377546855333e-05), ('C901400531', 2.375377546855333e-05), ('C381250974', 2.375377546855333e-05), ('C1930258744', 2.358430198880268e-05), ('C477892356', 2.3541009120866253e-05), ('C2056015074', 2.353290573319689e-05), ('C1226558289', 2.350426147116661e-05), ('C474894075', 2.3368424422348433e-05), ('C1224153830', 2.3368424422348433e-05), ('C2055186059', 2.334498862398575e-05), ('C1021409246', 2.3335387409625043e-05), ('C343982358', 2.3105183086218007e-05), ('C1226947303', 2.2983571002120722e-05), ('C1935421495', 2.2923571829390463e-05), ('C2123693067', 2.2778519141384785e-05), ('C1791903269', 2.2778519141384785e-05), ('C871962456', 2.2737477110436505e-05), ('C1204046804', 2.2725708527330794e-05), ('C27152267', 2.2725708527330794e-05), ('C490238464', 2.2541854616147408e-05), ('C1903765775', 2.2480115729829608e-05), ('C937166633', 2.2467017126254503e-05), ('C75278863', 2.2414217056395395e-05), ('C489708690', 2.2404575080349268e-05), ('C59149030', 2.2404575080349268e-05), ('C535324444', 2.2067307199613347e-05), ('C202531238', 2.2021702699170958e-05), ('C1648056680', 2.2021702699170958e-05), ('C1659350842', 2.199791977510032e-05), ('C1663641926', 2.199791977510032e-05), ('C1904086644', 2.197095614194069e-05), ('C1575272013', 2.188917072261829e-05), ('C1101213728', 2.154593437026967e-05), ('C978637475', 2.13693465627932e-05), ('C1626806996', 2.125190300299944e-05), ('C1350082938', 2.125190300299944e-05), ('C605904636', 2.125190300299944e-05), ('C1440474435', 2.122001078203698e-05), ('C1575099263', 2.0783473392883603e-05), ('C1879341237', 2.0783473392883603e-05), ('C1017469037', 2.0661219473713266e-05), ('C155412783', 2.0024538696696998e-05), ('C951702775', 1.979299081089092e-05), ('C1508025585', 1.979299081089092e-05), ('C1878030169', 1.9415556876047103e-05), ('C1551083784', 1.9281528670885678e-05), ('C1690594556', 1.9130781654886384e-05), ('C741680636', 1.8989600068471e-05), ('C198230909', 1.8989600068471e-05), ('C1248053373', 1.8989600068471e-05), ('C1642222517', 1.893803771499758e-05), ('C2042503226', 1.8861715356342736e-05), ('C1258454385', 1.8752306804859536e-05), ('C261398093', 1.8660796601490498e-05), ('C1771717627', 1.865600586055717e-05), ('C878904462', 1.865600586055717e-05), ('C629808856', 1.8640996207793112e-05), ('C1438489717', 1.8635551939609916e-05), ('C138445718', 1.842310312813383e-05), ('C1233238493', 1.8290220396512407e-05), ('C442137737', 1.828610194700892e-05), ('C71120756', 1.806442382160751e-05), ('C543938207', 1.7988559479632542e-05), ('C1744098311', 1.7969024498512807e-05), ('C1370556911', 1.791022148159484e-05), ('C997029022', 1.775043343500647e-05), ('C1439470393', 1.7668938198034738e-05), ('C1777674460', 1.7504064314181592e-05), ('C255059556', 1.739777341351249e-05), ('C1089789227', 1.733678381806177e-05), ('C1489294793', 1.729049281212417e-05), ('C499129070', 1.6968891682255642e-05), ('C968861433', 1.6966697832841276e-05), ('C1625937550', 1.678588851580391e-05), ('C2145337724', 1.6287573907063747e-05), ('C1689772812', 1.6277439227905888e-05), ('C2035771335', 1.612160363516916e-05), ('C1491288577', 1.5971485327992292e-05), ('C289617636', 1.5965213626260155e-05), ('C545840720', 1.56300891361395e-05), ('C1535613790', 1.557763564718759e-05), ('C1155962240', 1.5487377603288175e-05), ('C2117938225', 1.5476234390014432e-05), ('C508633218', 1.5476234390014432e-05), ('C874655320', 1.5341023750751028e-05), ('C1232356156', 1.5341023750751028e-05), ('C1092512638', 1.5244705321463105e-05), ('C2014729870', 1.4792374705484673e-05), ('C1555447628', 1.468960375724252e-05), ('C712367267', 1.45591147078537e-05), ('C164104645', 1.453865888757374e-05), ('C1208123566', 1.4466915161290265e-05), ('C1329920992', 1.4436899940406791e-05), ('C574852748', 1.4436424607629127e-05), ('C1913314890', 1.4431344290782523e-05), ('C1169771418', 1.433462065001283e-05), ('C1680323951', 1.433462065001283e-05), ('C1986443469', 1.4334620650012824e-05), ('C342410301', 1.4008098411402629e-05), ('C1914083426', 1.4000739106950852e-05), ('C813472343', 1.3977884112142404e-05), ('C1754543106', 1.3823835741339526e-05), ('C1676378077', 1.3810068084107237e-05), ('C1684213034', 1.3671203504210257e-05), ('C1741401017', 1.3594941870024679e-05), ('C1292770722', 1.3536908130173608e-05), ('C1698085181', 1.3457445446953288e-05), ('C360019679', 1.3457445446953288e-05), ('C563130428', 1.3363192798495267e-05), ('C1740004679', 1.3184342653522546e-05), ('C359698649', 1.3133148986807693e-05), ('C2023751717', 1.3133148986807693e-05), ('C1536083561', 1.297359752740907e-05), ('C1228152586', 1.2779405413404307e-05), ('C133432771', 1.269832670061587e-05), ('C1433318702', 1.2695019139009489e-05), ('C393216567', 1.2695019139009489e-05), ('C268949400', 1.257926585364004e-05), ('C448362974', 1.2553160931641285e-05), ('C1432312197', 1.2414859023444535e-05), ('C92426600', 1.2414859023444535e-05), ('C1995719338', 1.2414859023444535e-05), ('C2131498052', 1.2414859023444535e-05), ('C1806422891', 1.2414859023444535e-05), ('C1798653291', 1.2317007742127075e-05), ('C296630818', 1.2127752211032843e-05), ('C846682077', 1.2115602578816632e-05), ('C1489836575', 1.2048205756521947e-05), ('C288684762', 1.2048205756521947e-05), ('C1402381285', 1.1767206642428733e-05), ('C1009080922', 1.1666882639294352e-05), ('C1394931354', 1.1520648377241875e-05), ('C1229072215', 1.1284898011006984e-05), ('C607532274', 1.1272267842590654e-05), ('C599960999', 1.1236664621729876e-05), ('C1966964007', 1.122160831393646e-05), ('C1944646841', 1.1080189664512727e-05), ('C2091703695', 1.102204634653217e-05), ('C1952109278', 1.0898151441828307e-05), ('C2054233026', 1.0792490153245062e-05), ('C579037870', 1.0728395304092077e-05), ('C1333401746', 1.0683905385052912e-05), ('C1400578246', 1.0638339815851717e-05), ('C423454023', 1.049404867051825e-05), ('C1494829095', 1.0416949075887185e-05), ('C1215440829', 1.0349413418076996e-05), ('C862267590', 1.0330918684321896e-05), ('C560376591', 1.0330918684321896e-05), ('C1687903356', 1.0299441788891913e-05), ('C1354917220', 1.0236979975589768e-05), ('C351252839', 1.0236979975589766e-05), ('C460167545', 1.0236979975589766e-05), ('C291671443', 1.0200630014782325e-05), ('C1801015376', 1.0115857091907921e-05), ('C30374753', 9.98742460028423e-06), ('C1189224644', 9.79162996151539e-06), ('C546000387', 9.783350520605188e-06), ('C1719044180', 9.783350520605188e-06), ('C346428597', 9.761368801234023e-06), ('C1178726445', 9.761368801234023e-06), ('C1331907286', 9.70566021784849e-06), ('C1698653726', 9.696616378074913e-06), ('C1258953485', 9.696616378074913e-06), ('C1082462651', 9.63079352706515e-06), ('C759264122', 9.618501594324354e-06), ('C1318366224', 9.618501594324354e-06), ('C825744832', 9.531903952658253e-06), ('C99017559', 8.868722692255734e-06), ('C1081944543', 8.768193709191236e-06), ('C214836772', 8.752232916022432e-06), ('C2001133685', 8.752232916022432e-06), ('C1539370210', 8.69532108094896e-06), ('C158319863', 8.587449450949417e-06), ('C1948728559', 8.171224473299019e-06), ('C1355273346', 8.171224473299019e-06), ('C957771834', 8.102826776898192e-06), ('C1553941793', 8.042616866660844e-06), ('C47652503', 7.940825334823112e-06), ('C319933645', 7.874778144774949e-06), ('C1731249040', 7.869819340096668e-06), ('C1051985937', 7.838595077900729e-06), ('C573965612', 7.836070554000575e-06), ('C454239699', 7.822989702176474e-06), ('C1342118588', 7.798381883069923e-06), ('C619451848', 7.578242447977301e-06), ('C2043927860', 7.564707376818636e-06), ('C1035681921', 7.496622484128414e-06), ('C609452246', 7.235065299869079e-06), ('C1559339990', 7.08017538199646e-06), ('C1005806982', 6.967415442208854e-06), ('C914000857', 6.880953003772082e-06), ('C1582152156', 6.703914630311937e-06), ('C1358225719', 6.571970934952214e-06), ('C1189231170', 6.5697654774831495e-06), ('C1878500339', 6.5697654774831495e-06), ('C1449000407', 6.537585488294566e-06), ('C260437492', 6.484582197274665e-06), ('C720418898', 6.224758545573273e-06), ('C755000520', 6.1805292321254385e-06), ('C1085689043', 6.060987863068091e-06), ('C1790520611', 5.98618187109585e-06), ('C2049000934', 5.937086825336934e-06), ('C1375316332', 5.907999592565012e-06), ('C1864768620', 5.812485144507853e-06), ('C1367987964', 5.755412082186335e-06), ('C1435256152', 5.675889085120118e-06), ('C1615801620', 5.614898287998106e-06), ('C2070997908', 5.57915814613135e-06), ('C1783610571', 5.353786143159363e-06), ('C1383337902', 5.337620704854003e-06), ('C760223382', 5.125814896950912e-06), ('C1769401317', 5.093933004061208e-06), ('C1999699557', 5.093933004061208e-06), ('C1760986787', 5.0404273921866635e-06), ('C943088790', 5.0404273921866635e-06), ('C751786199', 5.014642700330571e-06), ('C1059534096', 5.000670656158051e-06), ('C2008562542', 4.912986038330787e-06), ('C2116616608', 4.884762892287397e-06), ('C602498884', 4.733421243906827e-06), ('C1258725927', 4.687677364831653e-06), ('C1471216995', 4.584009267401742e-06), ('C250546729', 4.554242628809142e-06), ('C1468082478', 4.471959534091452e-06), ('C358037591', 4.258155987519534e-06), ('C975211427', 4.234460777998211e-06), ('C950325755', 4.059815384922036e-06), ('C1797237747', 4.056658747084159e-06), ('C621230638', 4.0502706277628805e-06), ('C167330970', 3.920966680623581e-06), ('C1695454092', 3.726800449069367e-06), ('C822689044', 3.666807581018005e-06), ('C417225282', 3.6297830857610137e-06), ('C1731138845', 3.5840713314747548e-06), ('C69317479', 3.2573991022738274e-06), ('C739732151', 3.0951925047775508e-06), ('C1613579866', 2.9880848580149173e-06), ('C96407618', 2.8601925553213875e-06), ('C363287468', 2.6005792541469967e-06), ('C1314533733', 2.4372681170000574e-06), ('C2100602051', 2.3594388723290056e-06), ('C151715772', 2.3419965231142626e-06), ('C1545341907', 2.1581618482057215e-06), ('C420348872', 2.1463777633418348e-06), ('C1113166893', 2.114413989582731e-06), ('C1915276731', 1.880459128229471e-06), ('C1072166767', 1.8741573148928514e-06), ('C1513653440', 1.688306203737975e-06), ('C1794686407', 1.6718665754474007e-06), ('C1557448880', 1.6028960546083096e-06), ('C1884908595', 1.486615477664948e-06), ('C1644291222', 1.3730109749982303e-06), ('C942160317', 1.2369798961967083e-06), ('C1639665156', 1.208889673788716e-06), ('C1376957295', 9.896470363890577e-07), ('C512783217', 9.213744700849408e-07), ('C1706918687', 7.140038129444171e-07), ('C1771632349', 6.239095365401963e-07), ('C1497367004', 5.867702155200274e-07), ('C99215049', 5.223607859096797e-07)]\n"
          ],
          "name": "stdout"
        }
      ]
    },
    {
      "cell_type": "markdown",
      "metadata": {
        "id": "dfHqXKbCWShG",
        "colab_type": "text"
      },
      "source": [
        "###Calculating degree with MultiGraph with Weights (Fraud)"
      ]
    },
    {
      "cell_type": "code",
      "metadata": {
        "id": "Npcjz-akAFgr",
        "colab_type": "code",
        "colab": {}
      },
      "source": [
        "degree = dict(nx.degree(G_mult, weight = \"fraud\"))"
      ],
      "execution_count": 0,
      "outputs": []
    },
    {
      "cell_type": "markdown",
      "metadata": {
        "id": "A0yBXbWtkbqB",
        "colab_type": "text"
      },
      "source": [
        "###Calculating EigenVector Centrality with MultiGraph with Weights (Fraud)"
      ]
    },
    {
      "cell_type": "code",
      "metadata": {
        "id": "GnvXyCl6Nhg7",
        "colab_type": "code",
        "colab": {}
      },
      "source": [
        "eig_cent = dict(nx.eigenvector_centrality_numpy(G_mult, weight = \"fraud\"))"
      ],
      "execution_count": 0,
      "outputs": []
    },
    {
      "cell_type": "markdown",
      "metadata": {
        "id": "zCWUe0qnkfAR",
        "colab_type": "text"
      },
      "source": [
        "###Calculating Betweenness Centrality with MultiGraph with Weights (Fraud)"
      ]
    },
    {
      "cell_type": "code",
      "metadata": {
        "id": "f7UX7Z0tRP9V",
        "colab_type": "code",
        "colab": {}
      },
      "source": [
        "betw_cent = dict(nx.betweenness_centrality(G_mult, weight = \"fraud\"))"
      ],
      "execution_count": 0,
      "outputs": []
    },
    {
      "cell_type": "markdown",
      "metadata": {
        "id": "Ex_pvqf0PF8-",
        "colab_type": "text"
      },
      "source": [
        "##Train-Test Split (50%-50%)"
      ]
    },
    {
      "cell_type": "code",
      "metadata": {
        "colab_type": "code",
        "id": "BXSs1UQeLhTu",
        "colab": {}
      },
      "source": [
        "X_sna = df.drop([\"fraud\", \"step\"], axis = 1)"
      ],
      "execution_count": 0,
      "outputs": []
    },
    {
      "cell_type": "code",
      "metadata": {
        "colab_type": "code",
        "id": "rtMbyuJvLhTv",
        "colab": {}
      },
      "source": [
        "y_sna = df.fraud"
      ],
      "execution_count": 0,
      "outputs": []
    },
    {
      "cell_type": "code",
      "metadata": {
        "id": "mvGjsIWrbWah",
        "colab_type": "code",
        "colab": {}
      },
      "source": [
        "X_sna[\"cust_merc_comb\"] = list(zip(X_sna.customer, X_sna.merchant))"
      ],
      "execution_count": 0,
      "outputs": []
    },
    {
      "cell_type": "markdown",
      "metadata": {
        "id": "Whn6fzbtWTrw",
        "colab_type": "text"
      },
      "source": [
        "###Apply Weighted Degree, Centrality Measures, Personalized PageRank Score\n",
        "\n"
      ]
    },
    {
      "cell_type": "code",
      "metadata": {
        "id": "5du7GsIlGbjH",
        "colab_type": "code",
        "colab": {}
      },
      "source": [
        "X_sna[\"degree_merc\"] = X_sna.merchant.map(degree)\n",
        "X_sna[\"degree_cust\"] = X_sna.customer.map(degree)\n",
        "\n",
        "X_sna[\"betw_cent_merc\"] = X_sna.merchant.map(betw_cent)\n",
        "X_sna[\"betw_cent_cust\"] = X_sna.customer.map(betw_cent)\n",
        "\n",
        "X_sna[\"eig_cent_merc\"] = X_sna.merchant.map(eig_cent)\n",
        "X_sna[\"eig_cent_cust\"] = X_sna.customer.map(eig_cent)\n",
        "\n",
        "X_sna[\"pr_cust\"] = X_sna.customer.map(pr_cust)\n",
        "X_sna[\"pr_merc\"] = X_sna.merchant.map(pr_merc)"
      ],
      "execution_count": 0,
      "outputs": []
    },
    {
      "cell_type": "markdown",
      "metadata": {
        "id": "RhJdIm7yZia9",
        "colab_type": "text"
      },
      "source": [
        "###Apply SimRank, Association Strength, Common Neighbors, Degree Product, Jaccard, Max Overlap, Min Overlap, Pearson, Resource Allocation Algorithms"
      ]
    },
    {
      "cell_type": "code",
      "metadata": {
        "id": "DxvHJXPZZAMH",
        "colab_type": "code",
        "colab": {}
      },
      "source": [
        "X_sna[\"Simrank\"] = X_sna[\"cust_merc_comb\"].map(simrank_results)\n",
        "X_sna[\"Assoc_Stren\"] = X_sna[\"cust_merc_comb\"].map(assoc_str_results)\n",
        "X_sna[\"Comm_Neigh\"] = X_sna[\"cust_merc_comb\"].map(comm_results)\n",
        "X_sna[\"Degr_Prod\"] = X_sna[\"cust_merc_comb\"].map(degr_prod_results)\n",
        "X_sna[\"Jaccard\"] = X_sna[\"cust_merc_comb\"].map(jac_results)\n",
        "X_sna[\"Max_Over_Lap\"] = X_sna[\"cust_merc_comb\"].map(max_lap_results)\n",
        "X_sna[\"Min_Over_Lap\"] = X_sna[\"cust_merc_comb\"].map(min_lap_results)\n",
        "X_sna[\"Pearson\"] = X_sna[\"cust_merc_comb\"].map(pear_results)"
      ],
      "execution_count": 0,
      "outputs": []
    },
    {
      "cell_type": "code",
      "metadata": {
        "id": "EHHj1AjXYmh_",
        "colab_type": "code",
        "outputId": "6cc1c4db-a18d-4397-e7f3-c444e60f46bf",
        "colab": {
          "base_uri": "https://localhost:8080/",
          "height": 160
        }
      },
      "source": [
        "X_sna.head(2)"
      ],
      "execution_count": 0,
      "outputs": [
        {
          "output_type": "execute_result",
          "data": {
            "text/html": [
              "<div>\n",
              "<style scoped>\n",
              "    .dataframe tbody tr th:only-of-type {\n",
              "        vertical-align: middle;\n",
              "    }\n",
              "\n",
              "    .dataframe tbody tr th {\n",
              "        vertical-align: top;\n",
              "    }\n",
              "\n",
              "    .dataframe thead th {\n",
              "        text-align: right;\n",
              "    }\n",
              "</style>\n",
              "<table border=\"1\" class=\"dataframe\">\n",
              "  <thead>\n",
              "    <tr style=\"text-align: right;\">\n",
              "      <th></th>\n",
              "      <th>customer</th>\n",
              "      <th>age</th>\n",
              "      <th>gender</th>\n",
              "      <th>zipcodeOri</th>\n",
              "      <th>merchant</th>\n",
              "      <th>zipMerchant</th>\n",
              "      <th>category</th>\n",
              "      <th>amount</th>\n",
              "      <th>cust_merc_comb</th>\n",
              "      <th>degree_merc</th>\n",
              "      <th>degree_cust</th>\n",
              "      <th>betw_cent_merc</th>\n",
              "      <th>betw_cent_cust</th>\n",
              "      <th>eig_cent_merc</th>\n",
              "      <th>eig_cent_cust</th>\n",
              "      <th>pr_cust</th>\n",
              "      <th>pr_merc</th>\n",
              "      <th>Simrank</th>\n",
              "      <th>Assoc_Stren</th>\n",
              "      <th>Comm_Neigh</th>\n",
              "      <th>Degr_Prod</th>\n",
              "      <th>Jaccard</th>\n",
              "      <th>Max_Over_Lap</th>\n",
              "      <th>Min_Over_Lap</th>\n",
              "      <th>Pearson</th>\n",
              "    </tr>\n",
              "  </thead>\n",
              "  <tbody>\n",
              "    <tr>\n",
              "      <th>0</th>\n",
              "      <td>C1093826151</td>\n",
              "      <td>4</td>\n",
              "      <td>M</td>\n",
              "      <td>28007</td>\n",
              "      <td>M348934600</td>\n",
              "      <td>28007</td>\n",
              "      <td>es_transportation</td>\n",
              "      <td>4.55</td>\n",
              "      <td>(C1093826151, M348934600)</td>\n",
              "      <td>0</td>\n",
              "      <td>0.0</td>\n",
              "      <td>0.296889</td>\n",
              "      <td>0.000003</td>\n",
              "      <td>-2.882246e-21</td>\n",
              "      <td>-1.320560e-18</td>\n",
              "      <td>NaN</td>\n",
              "      <td>0.083546</td>\n",
              "      <td>0.000166</td>\n",
              "      <td>0.0</td>\n",
              "      <td>0.0</td>\n",
              "      <td>0.0</td>\n",
              "      <td>0.0</td>\n",
              "      <td>0.0</td>\n",
              "      <td>0.0</td>\n",
              "      <td>0.0</td>\n",
              "    </tr>\n",
              "    <tr>\n",
              "      <th>1</th>\n",
              "      <td>C352968107</td>\n",
              "      <td>2</td>\n",
              "      <td>M</td>\n",
              "      <td>28007</td>\n",
              "      <td>M348934600</td>\n",
              "      <td>28007</td>\n",
              "      <td>es_transportation</td>\n",
              "      <td>39.68</td>\n",
              "      <td>(C352968107, M348934600)</td>\n",
              "      <td>0</td>\n",
              "      <td>0.0</td>\n",
              "      <td>0.296889</td>\n",
              "      <td>0.000017</td>\n",
              "      <td>-2.882246e-21</td>\n",
              "      <td>7.109528e-18</td>\n",
              "      <td>0.000332</td>\n",
              "      <td>0.083546</td>\n",
              "      <td>0.000166</td>\n",
              "      <td>0.0</td>\n",
              "      <td>0.0</td>\n",
              "      <td>0.0</td>\n",
              "      <td>0.0</td>\n",
              "      <td>0.0</td>\n",
              "      <td>0.0</td>\n",
              "      <td>0.0</td>\n",
              "    </tr>\n",
              "  </tbody>\n",
              "</table>\n",
              "</div>"
            ],
            "text/plain": [
              "      customer age gender  ... Max_Over_Lap Min_Over_Lap Pearson\n",
              "0  C1093826151   4      M  ...          0.0          0.0     0.0\n",
              "1   C352968107   2      M  ...          0.0          0.0     0.0\n",
              "\n",
              "[2 rows x 25 columns]"
            ]
          },
          "metadata": {
            "tags": []
          },
          "execution_count": 94
        }
      ]
    },
    {
      "cell_type": "code",
      "metadata": {
        "id": "0Hp42BnasjBO",
        "colab_type": "code",
        "outputId": "b33a3bcc-9791-4a09-e989-29ced6d4076a",
        "colab": {
          "base_uri": "https://localhost:8080/",
          "height": 454
        }
      },
      "source": [
        "X_sna.isnull().sum()"
      ],
      "execution_count": 0,
      "outputs": [
        {
          "output_type": "execute_result",
          "data": {
            "text/plain": [
              "customer               0\n",
              "age                    0\n",
              "gender                 0\n",
              "zipcodeOri             0\n",
              "merchant               0\n",
              "zipMerchant            0\n",
              "category               0\n",
              "amount                 0\n",
              "cust_merc_comb         0\n",
              "degree_merc            0\n",
              "degree_cust           86\n",
              "betw_cent_merc         0\n",
              "betw_cent_cust        86\n",
              "eig_cent_merc          0\n",
              "eig_cent_cust         86\n",
              "pr_cust           167651\n",
              "pr_merc                3\n",
              "Simrank                0\n",
              "Assoc_Stren            0\n",
              "Comm_Neigh             0\n",
              "Degr_Prod              0\n",
              "Jaccard                0\n",
              "Max_Over_Lap           0\n",
              "Min_Over_Lap           0\n",
              "Pearson                0\n",
              "dtype: int64"
            ]
          },
          "metadata": {
            "tags": []
          },
          "execution_count": 95
        }
      ]
    },
    {
      "cell_type": "code",
      "metadata": {
        "id": "sKZF4cawspNu",
        "colab_type": "code",
        "colab": {}
      },
      "source": [
        "X_sna.fillna(0, inplace = True)"
      ],
      "execution_count": 0,
      "outputs": []
    },
    {
      "cell_type": "code",
      "metadata": {
        "id": "OpnODhACcQ9L",
        "colab_type": "code",
        "outputId": "90e77136-78f8-49ac-c84c-bc83913949b9",
        "colab": {
          "base_uri": "https://localhost:8080/",
          "height": 454
        }
      },
      "source": [
        "X_sna.dtypes"
      ],
      "execution_count": 0,
      "outputs": [
        {
          "output_type": "execute_result",
          "data": {
            "text/plain": [
              "customer           object\n",
              "age                object\n",
              "gender             object\n",
              "zipcodeOri         object\n",
              "merchant           object\n",
              "zipMerchant        object\n",
              "category           object\n",
              "amount            float64\n",
              "cust_merc_comb     object\n",
              "degree_merc         int64\n",
              "degree_cust       float64\n",
              "betw_cent_merc    float64\n",
              "betw_cent_cust    float64\n",
              "eig_cent_merc     float64\n",
              "eig_cent_cust     float64\n",
              "pr_cust           float64\n",
              "pr_merc           float64\n",
              "Simrank           float64\n",
              "Assoc_Stren       float64\n",
              "Comm_Neigh        float64\n",
              "Degr_Prod         float64\n",
              "Jaccard           float64\n",
              "Max_Over_Lap      float64\n",
              "Min_Over_Lap      float64\n",
              "Pearson           float64\n",
              "dtype: object"
            ]
          },
          "metadata": {
            "tags": []
          },
          "execution_count": 97
        }
      ]
    },
    {
      "cell_type": "code",
      "metadata": {
        "id": "L-AYkN_yeZsz",
        "colab_type": "code",
        "colab": {}
      },
      "source": [
        "X_sna.drop(\"cust_merc_comb\", axis = 1, inplace = True)"
      ],
      "execution_count": 0,
      "outputs": []
    },
    {
      "cell_type": "code",
      "metadata": {
        "id": "JQXr-W5Wc82W",
        "colab_type": "code",
        "colab": {}
      },
      "source": [
        "#X_sna[\"cust_merc_comb\"] = X_sna[\"cust_merc_comb\"].astype(str)"
      ],
      "execution_count": 0,
      "outputs": []
    },
    {
      "cell_type": "code",
      "metadata": {
        "id": "vzu0fn-VtcPN",
        "colab_type": "code",
        "colab": {}
      },
      "source": [
        "cat_col = X_sna.select_dtypes('object').columns.tolist()\n",
        "\n",
        "le = LabelEncoder()\n",
        "\n",
        "for c in cat_col:\n",
        "  le.fit(X_sna[c])\n",
        "  X_sna[c] = le.transform(X_sna[c])"
      ],
      "execution_count": 0,
      "outputs": []
    },
    {
      "cell_type": "code",
      "metadata": {
        "id": "pUqxHpk5-shv",
        "colab_type": "code",
        "colab": {}
      },
      "source": [
        "X_train_sna, X_test_sna, y_train_sna, y_test_sna = X_sna[:297321], X_sna[297321:], y_sna[:297321], y_sna[297321:]"
      ],
      "execution_count": 0,
      "outputs": []
    },
    {
      "cell_type": "code",
      "metadata": {
        "id": "krg92nrrSTsO",
        "colab_type": "code",
        "outputId": "b7acd859-28dd-4a0c-8611-e2f455424445",
        "colab": {
          "base_uri": "https://localhost:8080/",
          "height": 34
        }
      },
      "source": [
        "X_train_sna.shape, X_test_sna.shape"
      ],
      "execution_count": 0,
      "outputs": [
        {
          "output_type": "execute_result",
          "data": {
            "text/plain": [
              "((297321, 24), (297322, 24))"
            ]
          },
          "metadata": {
            "tags": []
          },
          "execution_count": 102
        }
      ]
    },
    {
      "cell_type": "code",
      "metadata": {
        "id": "vUVXEW08POJp",
        "colab_type": "code",
        "outputId": "dc2a663a-397b-4f39-fee7-b30ef36eb2f1",
        "colab": {
          "base_uri": "https://localhost:8080/",
          "height": 126
        }
      },
      "source": [
        "X_train_sna.head(2)"
      ],
      "execution_count": 0,
      "outputs": [
        {
          "output_type": "execute_result",
          "data": {
            "text/html": [
              "<div>\n",
              "<style scoped>\n",
              "    .dataframe tbody tr th:only-of-type {\n",
              "        vertical-align: middle;\n",
              "    }\n",
              "\n",
              "    .dataframe tbody tr th {\n",
              "        vertical-align: top;\n",
              "    }\n",
              "\n",
              "    .dataframe thead th {\n",
              "        text-align: right;\n",
              "    }\n",
              "</style>\n",
              "<table border=\"1\" class=\"dataframe\">\n",
              "  <thead>\n",
              "    <tr style=\"text-align: right;\">\n",
              "      <th></th>\n",
              "      <th>customer</th>\n",
              "      <th>age</th>\n",
              "      <th>gender</th>\n",
              "      <th>zipcodeOri</th>\n",
              "      <th>merchant</th>\n",
              "      <th>zipMerchant</th>\n",
              "      <th>category</th>\n",
              "      <th>amount</th>\n",
              "      <th>degree_merc</th>\n",
              "      <th>degree_cust</th>\n",
              "      <th>betw_cent_merc</th>\n",
              "      <th>betw_cent_cust</th>\n",
              "      <th>eig_cent_merc</th>\n",
              "      <th>eig_cent_cust</th>\n",
              "      <th>pr_cust</th>\n",
              "      <th>pr_merc</th>\n",
              "      <th>Simrank</th>\n",
              "      <th>Assoc_Stren</th>\n",
              "      <th>Comm_Neigh</th>\n",
              "      <th>Degr_Prod</th>\n",
              "      <th>Jaccard</th>\n",
              "      <th>Max_Over_Lap</th>\n",
              "      <th>Min_Over_Lap</th>\n",
              "      <th>Pearson</th>\n",
              "    </tr>\n",
              "  </thead>\n",
              "  <tbody>\n",
              "    <tr>\n",
              "      <th>0</th>\n",
              "      <td>210</td>\n",
              "      <td>4</td>\n",
              "      <td>2</td>\n",
              "      <td>0</td>\n",
              "      <td>30</td>\n",
              "      <td>0</td>\n",
              "      <td>12</td>\n",
              "      <td>4.55</td>\n",
              "      <td>0</td>\n",
              "      <td>0.0</td>\n",
              "      <td>0.296889</td>\n",
              "      <td>0.000003</td>\n",
              "      <td>-2.882246e-21</td>\n",
              "      <td>-1.320560e-18</td>\n",
              "      <td>0.000000</td>\n",
              "      <td>0.083546</td>\n",
              "      <td>0.000166</td>\n",
              "      <td>0.0</td>\n",
              "      <td>0.0</td>\n",
              "      <td>0.0</td>\n",
              "      <td>0.0</td>\n",
              "      <td>0.0</td>\n",
              "      <td>0.0</td>\n",
              "      <td>0.0</td>\n",
              "    </tr>\n",
              "    <tr>\n",
              "      <th>1</th>\n",
              "      <td>2753</td>\n",
              "      <td>2</td>\n",
              "      <td>2</td>\n",
              "      <td>0</td>\n",
              "      <td>30</td>\n",
              "      <td>0</td>\n",
              "      <td>12</td>\n",
              "      <td>39.68</td>\n",
              "      <td>0</td>\n",
              "      <td>0.0</td>\n",
              "      <td>0.296889</td>\n",
              "      <td>0.000017</td>\n",
              "      <td>-2.882246e-21</td>\n",
              "      <td>7.109528e-18</td>\n",
              "      <td>0.000332</td>\n",
              "      <td>0.083546</td>\n",
              "      <td>0.000166</td>\n",
              "      <td>0.0</td>\n",
              "      <td>0.0</td>\n",
              "      <td>0.0</td>\n",
              "      <td>0.0</td>\n",
              "      <td>0.0</td>\n",
              "      <td>0.0</td>\n",
              "      <td>0.0</td>\n",
              "    </tr>\n",
              "  </tbody>\n",
              "</table>\n",
              "</div>"
            ],
            "text/plain": [
              "   customer  age  gender  ...  Max_Over_Lap  Min_Over_Lap  Pearson\n",
              "0       210    4       2  ...           0.0           0.0      0.0\n",
              "1      2753    2       2  ...           0.0           0.0      0.0\n",
              "\n",
              "[2 rows x 24 columns]"
            ]
          },
          "metadata": {
            "tags": []
          },
          "execution_count": 103
        }
      ]
    },
    {
      "cell_type": "code",
      "metadata": {
        "id": "xL73lVm4L-C8",
        "colab_type": "code",
        "colab": {}
      },
      "source": [
        "sc = StandardScaler()\n",
        "\n",
        "sc_col = X_sna.select_dtypes([\"float64\", \"int64\"]).columns.tolist()\n",
        "\n",
        "for i in sc_col:\n",
        "  X_train_sna[i] = sc.fit_transform(np.array(X_train_sna[i]).reshape(-1, 1))\n",
        "  X_test_sna[i] = sc.transform(np.array(X_test_sna[i]).reshape(-1, 1))"
      ],
      "execution_count": 0,
      "outputs": []
    },
    {
      "cell_type": "markdown",
      "metadata": {
        "id": "sbyKPsHJRN7p",
        "colab_type": "text"
      },
      "source": [
        "##Train-Validation Split (80%-20%)"
      ]
    },
    {
      "cell_type": "code",
      "metadata": {
        "colab_type": "code",
        "id": "PXOGjvOfRxHM",
        "colab": {}
      },
      "source": [
        "X_train_sna, X_val_sna, y_train_sna, y_val_sna = X_train_sna[:237856], X_train_sna[237856:], y_train_sna[:237856], y_train_sna[237856:]"
      ],
      "execution_count": 0,
      "outputs": []
    },
    {
      "cell_type": "code",
      "metadata": {
        "id": "1TLMi55fSI8o",
        "colab_type": "code",
        "outputId": "2cf76fc0-e6ff-41ef-d5d1-c365d23541c0",
        "colab": {
          "base_uri": "https://localhost:8080/",
          "height": 34
        }
      },
      "source": [
        "X_val_sna.shape"
      ],
      "execution_count": 0,
      "outputs": [
        {
          "output_type": "execute_result",
          "data": {
            "text/plain": [
              "(59465, 24)"
            ]
          },
          "metadata": {
            "tags": []
          },
          "execution_count": 106
        }
      ]
    },
    {
      "cell_type": "code",
      "metadata": {
        "colab_type": "code",
        "id": "GCu2YlKwRxHO",
        "colab": {}
      },
      "source": [
        "sc = StandardScaler()\n",
        "\n",
        "sc_col = X.select_dtypes([\"float64\", \"int64\"]).columns.tolist()\n",
        "\n",
        "for i in sc_col:\n",
        "  X_train_sna[i] = sc.fit_transform(np.array(X_train_sna[i]).reshape(-1, 1))\n",
        "  X_val_sna[i] = sc.transform(np.array(X_val_sna[i]).reshape(-1, 1))"
      ],
      "execution_count": 0,
      "outputs": []
    },
    {
      "cell_type": "code",
      "metadata": {
        "colab_type": "code",
        "id": "_qmYajMDRxHP",
        "outputId": "082cdf52-2f29-472e-ac3b-bc659787acdc",
        "colab": {
          "base_uri": "https://localhost:8080/",
          "height": 34
        }
      },
      "source": [
        "X_train_sna.shape, X_val_sna.shape, X_test_sna.shape"
      ],
      "execution_count": 0,
      "outputs": [
        {
          "output_type": "execute_result",
          "data": {
            "text/plain": [
              "((237856, 24), (59465, 24), (297322, 24))"
            ]
          },
          "metadata": {
            "tags": []
          },
          "execution_count": 108
        }
      ]
    },
    {
      "cell_type": "code",
      "metadata": {
        "id": "0ksYsPGSOhQC",
        "colab_type": "code",
        "outputId": "878d9e45-aa7a-429d-fa0d-13600182bd4b",
        "colab": {
          "base_uri": "https://localhost:8080/",
          "height": 186
        }
      },
      "source": [
        "X_train_sna.head(4)"
      ],
      "execution_count": 0,
      "outputs": [
        {
          "output_type": "execute_result",
          "data": {
            "text/html": [
              "<div>\n",
              "<style scoped>\n",
              "    .dataframe tbody tr th:only-of-type {\n",
              "        vertical-align: middle;\n",
              "    }\n",
              "\n",
              "    .dataframe tbody tr th {\n",
              "        vertical-align: top;\n",
              "    }\n",
              "\n",
              "    .dataframe thead th {\n",
              "        text-align: right;\n",
              "    }\n",
              "</style>\n",
              "<table border=\"1\" class=\"dataframe\">\n",
              "  <thead>\n",
              "    <tr style=\"text-align: right;\">\n",
              "      <th></th>\n",
              "      <th>customer</th>\n",
              "      <th>age</th>\n",
              "      <th>gender</th>\n",
              "      <th>zipcodeOri</th>\n",
              "      <th>merchant</th>\n",
              "      <th>zipMerchant</th>\n",
              "      <th>category</th>\n",
              "      <th>amount</th>\n",
              "      <th>degree_merc</th>\n",
              "      <th>degree_cust</th>\n",
              "      <th>betw_cent_merc</th>\n",
              "      <th>betw_cent_cust</th>\n",
              "      <th>eig_cent_merc</th>\n",
              "      <th>eig_cent_cust</th>\n",
              "      <th>pr_cust</th>\n",
              "      <th>pr_merc</th>\n",
              "      <th>Simrank</th>\n",
              "      <th>Assoc_Stren</th>\n",
              "      <th>Comm_Neigh</th>\n",
              "      <th>Degr_Prod</th>\n",
              "      <th>Jaccard</th>\n",
              "      <th>Max_Over_Lap</th>\n",
              "      <th>Min_Over_Lap</th>\n",
              "      <th>Pearson</th>\n",
              "    </tr>\n",
              "  </thead>\n",
              "  <tbody>\n",
              "    <tr>\n",
              "      <th>0</th>\n",
              "      <td>-1.544853</td>\n",
              "      <td>0.738340</td>\n",
              "      <td>1.090001</td>\n",
              "      <td>0.0</td>\n",
              "      <td>0.564267</td>\n",
              "      <td>0.0</td>\n",
              "      <td>0.318357</td>\n",
              "      <td>-0.280284</td>\n",
              "      <td>-0.166343</td>\n",
              "      <td>-0.162225</td>\n",
              "      <td>1.058713</td>\n",
              "      <td>-0.551070</td>\n",
              "      <td>-0.152374</td>\n",
              "      <td>-0.150719</td>\n",
              "      <td>-0.423646</td>\n",
              "      <td>0.846476</td>\n",
              "      <td>-0.07135</td>\n",
              "      <td>0.0</td>\n",
              "      <td>0.0</td>\n",
              "      <td>-0.041098</td>\n",
              "      <td>0.0</td>\n",
              "      <td>0.0</td>\n",
              "      <td>0.0</td>\n",
              "      <td>0.0</td>\n",
              "    </tr>\n",
              "    <tr>\n",
              "      <th>1</th>\n",
              "      <td>0.607342</td>\n",
              "      <td>-0.757088</td>\n",
              "      <td>1.090001</td>\n",
              "      <td>0.0</td>\n",
              "      <td>0.564267</td>\n",
              "      <td>0.0</td>\n",
              "      <td>0.318357</td>\n",
              "      <td>0.006009</td>\n",
              "      <td>-0.166343</td>\n",
              "      <td>-0.162225</td>\n",
              "      <td>1.058713</td>\n",
              "      <td>-0.274292</td>\n",
              "      <td>-0.152374</td>\n",
              "      <td>-0.150719</td>\n",
              "      <td>0.137836</td>\n",
              "      <td>0.846476</td>\n",
              "      <td>-0.07135</td>\n",
              "      <td>0.0</td>\n",
              "      <td>0.0</td>\n",
              "      <td>-0.041098</td>\n",
              "      <td>0.0</td>\n",
              "      <td>0.0</td>\n",
              "      <td>0.0</td>\n",
              "      <td>0.0</td>\n",
              "    </tr>\n",
              "    <tr>\n",
              "      <th>2</th>\n",
              "      <td>0.211264</td>\n",
              "      <td>0.738340</td>\n",
              "      <td>-0.897651</td>\n",
              "      <td>0.0</td>\n",
              "      <td>-0.872640</td>\n",
              "      <td>0.0</td>\n",
              "      <td>0.318357</td>\n",
              "      <td>-0.098224</td>\n",
              "      <td>-0.166343</td>\n",
              "      <td>-0.162225</td>\n",
              "      <td>-0.664743</td>\n",
              "      <td>2.944750</td>\n",
              "      <td>-0.152374</td>\n",
              "      <td>-0.150719</td>\n",
              "      <td>1.312838</td>\n",
              "      <td>-0.314713</td>\n",
              "      <td>-0.07135</td>\n",
              "      <td>0.0</td>\n",
              "      <td>0.0</td>\n",
              "      <td>-0.041098</td>\n",
              "      <td>0.0</td>\n",
              "      <td>0.0</td>\n",
              "      <td>0.0</td>\n",
              "      <td>0.0</td>\n",
              "    </tr>\n",
              "    <tr>\n",
              "      <th>3</th>\n",
              "      <td>-0.326150</td>\n",
              "      <td>-0.009374</td>\n",
              "      <td>1.090001</td>\n",
              "      <td>0.0</td>\n",
              "      <td>0.564267</td>\n",
              "      <td>0.0</td>\n",
              "      <td>0.318357</td>\n",
              "      <td>-0.176785</td>\n",
              "      <td>-0.166343</td>\n",
              "      <td>-0.162225</td>\n",
              "      <td>1.058713</td>\n",
              "      <td>-0.457988</td>\n",
              "      <td>-0.152374</td>\n",
              "      <td>-0.150719</td>\n",
              "      <td>-0.214287</td>\n",
              "      <td>0.846476</td>\n",
              "      <td>-0.07135</td>\n",
              "      <td>0.0</td>\n",
              "      <td>0.0</td>\n",
              "      <td>-0.041098</td>\n",
              "      <td>0.0</td>\n",
              "      <td>0.0</td>\n",
              "      <td>0.0</td>\n",
              "      <td>0.0</td>\n",
              "    </tr>\n",
              "  </tbody>\n",
              "</table>\n",
              "</div>"
            ],
            "text/plain": [
              "   customer       age    gender  ...  Max_Over_Lap  Min_Over_Lap  Pearson\n",
              "0 -1.544853  0.738340  1.090001  ...           0.0           0.0      0.0\n",
              "1  0.607342 -0.757088  1.090001  ...           0.0           0.0      0.0\n",
              "2  0.211264  0.738340 -0.897651  ...           0.0           0.0      0.0\n",
              "3 -0.326150 -0.009374  1.090001  ...           0.0           0.0      0.0\n",
              "\n",
              "[4 rows x 24 columns]"
            ]
          },
          "metadata": {
            "tags": []
          },
          "execution_count": 109
        }
      ]
    },
    {
      "cell_type": "code",
      "metadata": {
        "id": "s5DP7lznKcba",
        "colab_type": "code",
        "colab": {}
      },
      "source": [
        "parameters = {\n",
        "    'application': 'binary',\n",
        "    'objective': 'binary',\n",
        "    'metric': 'auc',\n",
        "    'is_unbalance': 'true',\n",
        "    'boosting': 'dart',\n",
        "    'num_leaves': 63,\n",
        "    'feature_fraction': 0.5,\n",
        "    'bagging_fraction': 0.5,\n",
        "    'bagging_freq': 20,\n",
        "    'learning_rate': 0.05,\n",
        "    'verbose': 0,\n",
        "    \"lambda_l2\" : 0.5,\n",
        "    \"lambda_l1\" : 0.5,\n",
        "    \"min_gain_to_split\" : 0.2,\n",
        "    \"max_depth\" : 3\n",
        "}"
      ],
      "execution_count": 0,
      "outputs": []
    },
    {
      "cell_type": "code",
      "metadata": {
        "id": "i6VMt6HVKdO2",
        "colab_type": "code",
        "colab": {}
      },
      "source": [
        "train_data_sna = lightgbm.Dataset(X_train_sna, label=y_train_sna, categorical_feature=cat_col)\n",
        "val_data_sna = lightgbm.Dataset(X_val_sna, label=y_val_sna)"
      ],
      "execution_count": 0,
      "outputs": []
    },
    {
      "cell_type": "code",
      "metadata": {
        "id": "W9ul_pBqKdLk",
        "colab_type": "code",
        "outputId": "b63295ab-40f6-40ab-e1f6-e389110c1302",
        "colab": {
          "base_uri": "https://localhost:8080/",
          "height": 8417
        }
      },
      "source": [
        "model_sna = lightgbm.train(parameters,\n",
        "                       train_data_sna,\n",
        "                       valid_sets=val_data_sna,\n",
        "                       num_boost_round=500,\n",
        "                       early_stopping_rounds=100)"
      ],
      "execution_count": 0,
      "outputs": [
        {
          "output_type": "stream",
          "text": [
            "[1]\tvalid_0's auc: 0.99595\n",
            "[2]\tvalid_0's auc: 0.997414\n",
            "[3]\tvalid_0's auc: 0.997945\n",
            "[4]\tvalid_0's auc: 0.99822\n",
            "[5]\tvalid_0's auc: 0.998228\n",
            "[6]\tvalid_0's auc: 0.998227\n",
            "[7]\tvalid_0's auc: 0.998227\n",
            "[8]\tvalid_0's auc: 0.998228\n",
            "[9]\tvalid_0's auc: 0.998395\n",
            "[10]\tvalid_0's auc: 0.998582\n",
            "[11]\tvalid_0's auc: 0.998658\n",
            "[12]\tvalid_0's auc: 0.998634\n",
            "[13]\tvalid_0's auc: 0.99869\n",
            "[14]\tvalid_0's auc: 0.99871\n",
            "[15]\tvalid_0's auc: 0.998747\n",
            "[16]\tvalid_0's auc: 0.998756\n",
            "[17]\tvalid_0's auc: 0.998769\n",
            "[18]\tvalid_0's auc: 0.998781\n",
            "[19]\tvalid_0's auc: 0.998879\n",
            "[20]\tvalid_0's auc: 0.998893\n",
            "[21]\tvalid_0's auc: 0.998894\n",
            "[22]\tvalid_0's auc: 0.998895\n",
            "[23]\tvalid_0's auc: 0.998895\n",
            "[24]\tvalid_0's auc: 0.998884\n",
            "[25]\tvalid_0's auc: 0.998898\n",
            "[26]\tvalid_0's auc: 0.998884\n",
            "[27]\tvalid_0's auc: 0.998884\n",
            "[28]\tvalid_0's auc: 0.998882\n",
            "[29]\tvalid_0's auc: 0.998882\n",
            "[30]\tvalid_0's auc: 0.998894\n",
            "[31]\tvalid_0's auc: 0.998892\n",
            "[32]\tvalid_0's auc: 0.998922\n",
            "[33]\tvalid_0's auc: 0.998971\n",
            "[34]\tvalid_0's auc: 0.998991\n",
            "[35]\tvalid_0's auc: 0.999002\n",
            "[36]\tvalid_0's auc: 0.999008\n",
            "[37]\tvalid_0's auc: 0.999001\n",
            "[38]\tvalid_0's auc: 0.999016\n",
            "[39]\tvalid_0's auc: 0.999016\n",
            "[40]\tvalid_0's auc: 0.999014\n",
            "[41]\tvalid_0's auc: 0.999014\n",
            "[42]\tvalid_0's auc: 0.999051\n",
            "[43]\tvalid_0's auc: 0.999052\n",
            "[44]\tvalid_0's auc: 0.999069\n",
            "[45]\tvalid_0's auc: 0.999068\n",
            "[46]\tvalid_0's auc: 0.999078\n",
            "[47]\tvalid_0's auc: 0.999087\n",
            "[48]\tvalid_0's auc: 0.999087\n",
            "[49]\tvalid_0's auc: 0.999091\n",
            "[50]\tvalid_0's auc: 0.99909\n",
            "[51]\tvalid_0's auc: 0.999095\n",
            "[52]\tvalid_0's auc: 0.999092\n",
            "[53]\tvalid_0's auc: 0.999086\n",
            "[54]\tvalid_0's auc: 0.999093\n",
            "[55]\tvalid_0's auc: 0.999121\n",
            "[56]\tvalid_0's auc: 0.999123\n",
            "[57]\tvalid_0's auc: 0.999129\n",
            "[58]\tvalid_0's auc: 0.999127\n",
            "[59]\tvalid_0's auc: 0.999128\n",
            "[60]\tvalid_0's auc: 0.999143\n",
            "[61]\tvalid_0's auc: 0.999128\n",
            "[62]\tvalid_0's auc: 0.999121\n",
            "[63]\tvalid_0's auc: 0.999129\n",
            "[64]\tvalid_0's auc: 0.999138\n",
            "[65]\tvalid_0's auc: 0.999131\n",
            "[66]\tvalid_0's auc: 0.999135\n",
            "[67]\tvalid_0's auc: 0.999125\n",
            "[68]\tvalid_0's auc: 0.99912\n",
            "[69]\tvalid_0's auc: 0.999125\n",
            "[70]\tvalid_0's auc: 0.999134\n",
            "[71]\tvalid_0's auc: 0.999137\n",
            "[72]\tvalid_0's auc: 0.999149\n",
            "[73]\tvalid_0's auc: 0.999154\n",
            "[74]\tvalid_0's auc: 0.999151\n",
            "[75]\tvalid_0's auc: 0.999151\n",
            "[76]\tvalid_0's auc: 0.999147\n",
            "[77]\tvalid_0's auc: 0.999147\n",
            "[78]\tvalid_0's auc: 0.999147\n",
            "[79]\tvalid_0's auc: 0.999151\n",
            "[80]\tvalid_0's auc: 0.999152\n",
            "[81]\tvalid_0's auc: 0.999151\n",
            "[82]\tvalid_0's auc: 0.999144\n",
            "[83]\tvalid_0's auc: 0.999146\n",
            "[84]\tvalid_0's auc: 0.999147\n",
            "[85]\tvalid_0's auc: 0.999147\n",
            "[86]\tvalid_0's auc: 0.999147\n",
            "[87]\tvalid_0's auc: 0.999151\n",
            "[88]\tvalid_0's auc: 0.999153\n",
            "[89]\tvalid_0's auc: 0.999153\n",
            "[90]\tvalid_0's auc: 0.999153\n",
            "[91]\tvalid_0's auc: 0.999152\n",
            "[92]\tvalid_0's auc: 0.999172\n",
            "[93]\tvalid_0's auc: 0.999155\n",
            "[94]\tvalid_0's auc: 0.999165\n",
            "[95]\tvalid_0's auc: 0.999165\n",
            "[96]\tvalid_0's auc: 0.999165\n",
            "[97]\tvalid_0's auc: 0.99914\n",
            "[98]\tvalid_0's auc: 0.999144\n",
            "[99]\tvalid_0's auc: 0.999139\n",
            "[100]\tvalid_0's auc: 0.999147\n",
            "[101]\tvalid_0's auc: 0.999143\n",
            "[102]\tvalid_0's auc: 0.999146\n",
            "[103]\tvalid_0's auc: 0.999146\n",
            "[104]\tvalid_0's auc: 0.99916\n",
            "[105]\tvalid_0's auc: 0.999157\n",
            "[106]\tvalid_0's auc: 0.99916\n",
            "[107]\tvalid_0's auc: 0.999162\n",
            "[108]\tvalid_0's auc: 0.999172\n",
            "[109]\tvalid_0's auc: 0.999173\n",
            "[110]\tvalid_0's auc: 0.999173\n",
            "[111]\tvalid_0's auc: 0.999179\n",
            "[112]\tvalid_0's auc: 0.999185\n",
            "[113]\tvalid_0's auc: 0.999179\n",
            "[114]\tvalid_0's auc: 0.999185\n",
            "[115]\tvalid_0's auc: 0.999188\n",
            "[116]\tvalid_0's auc: 0.999185\n",
            "[117]\tvalid_0's auc: 0.999188\n",
            "[118]\tvalid_0's auc: 0.99918\n",
            "[119]\tvalid_0's auc: 0.999181\n",
            "[120]\tvalid_0's auc: 0.999181\n",
            "[121]\tvalid_0's auc: 0.999187\n",
            "[122]\tvalid_0's auc: 0.999191\n",
            "[123]\tvalid_0's auc: 0.999187\n",
            "[124]\tvalid_0's auc: 0.999204\n",
            "[125]\tvalid_0's auc: 0.999207\n",
            "[126]\tvalid_0's auc: 0.999206\n",
            "[127]\tvalid_0's auc: 0.999197\n",
            "[128]\tvalid_0's auc: 0.999196\n",
            "[129]\tvalid_0's auc: 0.999187\n",
            "[130]\tvalid_0's auc: 0.999183\n",
            "[131]\tvalid_0's auc: 0.999186\n",
            "[132]\tvalid_0's auc: 0.99917\n",
            "[133]\tvalid_0's auc: 0.999154\n",
            "[134]\tvalid_0's auc: 0.999147\n",
            "[135]\tvalid_0's auc: 0.999174\n",
            "[136]\tvalid_0's auc: 0.999164\n",
            "[137]\tvalid_0's auc: 0.999163\n",
            "[138]\tvalid_0's auc: 0.999153\n",
            "[139]\tvalid_0's auc: 0.999178\n",
            "[140]\tvalid_0's auc: 0.999179\n",
            "[141]\tvalid_0's auc: 0.999178\n",
            "[142]\tvalid_0's auc: 0.999179\n",
            "[143]\tvalid_0's auc: 0.999198\n",
            "[144]\tvalid_0's auc: 0.999201\n",
            "[145]\tvalid_0's auc: 0.999198\n",
            "[146]\tvalid_0's auc: 0.999198\n",
            "[147]\tvalid_0's auc: 0.999199\n",
            "[148]\tvalid_0's auc: 0.999201\n",
            "[149]\tvalid_0's auc: 0.999212\n",
            "[150]\tvalid_0's auc: 0.999211\n",
            "[151]\tvalid_0's auc: 0.999208\n",
            "[152]\tvalid_0's auc: 0.999205\n",
            "[153]\tvalid_0's auc: 0.999201\n",
            "[154]\tvalid_0's auc: 0.9992\n",
            "[155]\tvalid_0's auc: 0.999209\n",
            "[156]\tvalid_0's auc: 0.999209\n",
            "[157]\tvalid_0's auc: 0.99921\n",
            "[158]\tvalid_0's auc: 0.999212\n",
            "[159]\tvalid_0's auc: 0.999211\n",
            "[160]\tvalid_0's auc: 0.999211\n",
            "[161]\tvalid_0's auc: 0.999225\n",
            "[162]\tvalid_0's auc: 0.999226\n",
            "[163]\tvalid_0's auc: 0.999236\n",
            "[164]\tvalid_0's auc: 0.99924\n",
            "[165]\tvalid_0's auc: 0.999247\n",
            "[166]\tvalid_0's auc: 0.999249\n",
            "[167]\tvalid_0's auc: 0.999248\n",
            "[168]\tvalid_0's auc: 0.999255\n",
            "[169]\tvalid_0's auc: 0.999251\n",
            "[170]\tvalid_0's auc: 0.99925\n",
            "[171]\tvalid_0's auc: 0.999256\n",
            "[172]\tvalid_0's auc: 0.999256\n",
            "[173]\tvalid_0's auc: 0.999254\n",
            "[174]\tvalid_0's auc: 0.99926\n",
            "[175]\tvalid_0's auc: 0.999254\n",
            "[176]\tvalid_0's auc: 0.999254\n",
            "[177]\tvalid_0's auc: 0.999254\n",
            "[178]\tvalid_0's auc: 0.999255\n",
            "[179]\tvalid_0's auc: 0.999246\n",
            "[180]\tvalid_0's auc: 0.999247\n",
            "[181]\tvalid_0's auc: 0.999252\n",
            "[182]\tvalid_0's auc: 0.999262\n",
            "[183]\tvalid_0's auc: 0.999258\n",
            "[184]\tvalid_0's auc: 0.99927\n",
            "[185]\tvalid_0's auc: 0.999271\n",
            "[186]\tvalid_0's auc: 0.999269\n",
            "[187]\tvalid_0's auc: 0.999267\n",
            "[188]\tvalid_0's auc: 0.999271\n",
            "[189]\tvalid_0's auc: 0.999272\n",
            "[190]\tvalid_0's auc: 0.999272\n",
            "[191]\tvalid_0's auc: 0.999272\n",
            "[192]\tvalid_0's auc: 0.999268\n",
            "[193]\tvalid_0's auc: 0.999274\n",
            "[194]\tvalid_0's auc: 0.999274\n",
            "[195]\tvalid_0's auc: 0.999274\n",
            "[196]\tvalid_0's auc: 0.999286\n",
            "[197]\tvalid_0's auc: 0.999286\n",
            "[198]\tvalid_0's auc: 0.999286\n",
            "[199]\tvalid_0's auc: 0.999292\n",
            "[200]\tvalid_0's auc: 0.999292\n",
            "[201]\tvalid_0's auc: 0.999292\n",
            "[202]\tvalid_0's auc: 0.999291\n",
            "[203]\tvalid_0's auc: 0.999298\n",
            "[204]\tvalid_0's auc: 0.999298\n",
            "[205]\tvalid_0's auc: 0.999296\n",
            "[206]\tvalid_0's auc: 0.999304\n",
            "[207]\tvalid_0's auc: 0.999305\n",
            "[208]\tvalid_0's auc: 0.999309\n",
            "[209]\tvalid_0's auc: 0.999308\n",
            "[210]\tvalid_0's auc: 0.999307\n",
            "[211]\tvalid_0's auc: 0.999307\n",
            "[212]\tvalid_0's auc: 0.99931\n",
            "[213]\tvalid_0's auc: 0.999314\n",
            "[214]\tvalid_0's auc: 0.99932\n",
            "[215]\tvalid_0's auc: 0.999318\n",
            "[216]\tvalid_0's auc: 0.999318\n",
            "[217]\tvalid_0's auc: 0.999327\n",
            "[218]\tvalid_0's auc: 0.999331\n",
            "[219]\tvalid_0's auc: 0.999331\n",
            "[220]\tvalid_0's auc: 0.999335\n",
            "[221]\tvalid_0's auc: 0.999335\n",
            "[222]\tvalid_0's auc: 0.999339\n",
            "[223]\tvalid_0's auc: 0.999335\n",
            "[224]\tvalid_0's auc: 0.999335\n",
            "[225]\tvalid_0's auc: 0.999335\n",
            "[226]\tvalid_0's auc: 0.999335\n",
            "[227]\tvalid_0's auc: 0.999335\n",
            "[228]\tvalid_0's auc: 0.999337\n",
            "[229]\tvalid_0's auc: 0.999337\n",
            "[230]\tvalid_0's auc: 0.999337\n",
            "[231]\tvalid_0's auc: 0.999338\n",
            "[232]\tvalid_0's auc: 0.99934\n",
            "[233]\tvalid_0's auc: 0.999339\n",
            "[234]\tvalid_0's auc: 0.99934\n",
            "[235]\tvalid_0's auc: 0.999341\n",
            "[236]\tvalid_0's auc: 0.999345\n",
            "[237]\tvalid_0's auc: 0.999347\n",
            "[238]\tvalid_0's auc: 0.999344\n",
            "[239]\tvalid_0's auc: 0.999346\n",
            "[240]\tvalid_0's auc: 0.999347\n",
            "[241]\tvalid_0's auc: 0.999347\n",
            "[242]\tvalid_0's auc: 0.999347\n",
            "[243]\tvalid_0's auc: 0.999347\n",
            "[244]\tvalid_0's auc: 0.999346\n",
            "[245]\tvalid_0's auc: 0.999349\n",
            "[246]\tvalid_0's auc: 0.999351\n",
            "[247]\tvalid_0's auc: 0.999351\n",
            "[248]\tvalid_0's auc: 0.999351\n",
            "[249]\tvalid_0's auc: 0.999351\n",
            "[250]\tvalid_0's auc: 0.999349\n",
            "[251]\tvalid_0's auc: 0.999349\n",
            "[252]\tvalid_0's auc: 0.999349\n",
            "[253]\tvalid_0's auc: 0.99935\n",
            "[254]\tvalid_0's auc: 0.999352\n",
            "[255]\tvalid_0's auc: 0.999355\n",
            "[256]\tvalid_0's auc: 0.999356\n",
            "[257]\tvalid_0's auc: 0.999357\n",
            "[258]\tvalid_0's auc: 0.999361\n",
            "[259]\tvalid_0's auc: 0.999361\n",
            "[260]\tvalid_0's auc: 0.999361\n",
            "[261]\tvalid_0's auc: 0.999361\n",
            "[262]\tvalid_0's auc: 0.999357\n",
            "[263]\tvalid_0's auc: 0.999355\n",
            "[264]\tvalid_0's auc: 0.999353\n",
            "[265]\tvalid_0's auc: 0.999353\n",
            "[266]\tvalid_0's auc: 0.999354\n",
            "[267]\tvalid_0's auc: 0.999353\n",
            "[268]\tvalid_0's auc: 0.999355\n",
            "[269]\tvalid_0's auc: 0.999355\n",
            "[270]\tvalid_0's auc: 0.999358\n",
            "[271]\tvalid_0's auc: 0.999357\n",
            "[272]\tvalid_0's auc: 0.999361\n",
            "[273]\tvalid_0's auc: 0.999361\n",
            "[274]\tvalid_0's auc: 0.999362\n",
            "[275]\tvalid_0's auc: 0.999364\n",
            "[276]\tvalid_0's auc: 0.999364\n",
            "[277]\tvalid_0's auc: 0.999364\n",
            "[278]\tvalid_0's auc: 0.999364\n",
            "[279]\tvalid_0's auc: 0.999367\n",
            "[280]\tvalid_0's auc: 0.999367\n",
            "[281]\tvalid_0's auc: 0.999366\n",
            "[282]\tvalid_0's auc: 0.999368\n",
            "[283]\tvalid_0's auc: 0.999368\n",
            "[284]\tvalid_0's auc: 0.999369\n",
            "[285]\tvalid_0's auc: 0.999373\n",
            "[286]\tvalid_0's auc: 0.999373\n",
            "[287]\tvalid_0's auc: 0.999373\n",
            "[288]\tvalid_0's auc: 0.999373\n",
            "[289]\tvalid_0's auc: 0.999375\n",
            "[290]\tvalid_0's auc: 0.999376\n",
            "[291]\tvalid_0's auc: 0.999376\n",
            "[292]\tvalid_0's auc: 0.999376\n",
            "[293]\tvalid_0's auc: 0.999376\n",
            "[294]\tvalid_0's auc: 0.999375\n",
            "[295]\tvalid_0's auc: 0.999375\n",
            "[296]\tvalid_0's auc: 0.999375\n",
            "[297]\tvalid_0's auc: 0.999375\n",
            "[298]\tvalid_0's auc: 0.999375\n",
            "[299]\tvalid_0's auc: 0.999374\n",
            "[300]\tvalid_0's auc: 0.999374\n",
            "[301]\tvalid_0's auc: 0.999374\n",
            "[302]\tvalid_0's auc: 0.999373\n",
            "[303]\tvalid_0's auc: 0.999373\n",
            "[304]\tvalid_0's auc: 0.999373\n",
            "[305]\tvalid_0's auc: 0.999373\n",
            "[306]\tvalid_0's auc: 0.999373\n",
            "[307]\tvalid_0's auc: 0.999373\n",
            "[308]\tvalid_0's auc: 0.999373\n",
            "[309]\tvalid_0's auc: 0.999373\n",
            "[310]\tvalid_0's auc: 0.999374\n",
            "[311]\tvalid_0's auc: 0.999377\n",
            "[312]\tvalid_0's auc: 0.999379\n",
            "[313]\tvalid_0's auc: 0.999379\n",
            "[314]\tvalid_0's auc: 0.999378\n",
            "[315]\tvalid_0's auc: 0.999378\n",
            "[316]\tvalid_0's auc: 0.999379\n",
            "[317]\tvalid_0's auc: 0.999379\n",
            "[318]\tvalid_0's auc: 0.999377\n",
            "[319]\tvalid_0's auc: 0.999377\n",
            "[320]\tvalid_0's auc: 0.999375\n",
            "[321]\tvalid_0's auc: 0.999375\n",
            "[322]\tvalid_0's auc: 0.999378\n",
            "[323]\tvalid_0's auc: 0.999376\n",
            "[324]\tvalid_0's auc: 0.999376\n",
            "[325]\tvalid_0's auc: 0.999376\n",
            "[326]\tvalid_0's auc: 0.999376\n",
            "[327]\tvalid_0's auc: 0.999376\n",
            "[328]\tvalid_0's auc: 0.999376\n",
            "[329]\tvalid_0's auc: 0.999376\n",
            "[330]\tvalid_0's auc: 0.999376\n",
            "[331]\tvalid_0's auc: 0.999376\n",
            "[332]\tvalid_0's auc: 0.999376\n",
            "[333]\tvalid_0's auc: 0.999376\n",
            "[334]\tvalid_0's auc: 0.999376\n",
            "[335]\tvalid_0's auc: 0.999376\n",
            "[336]\tvalid_0's auc: 0.999375\n",
            "[337]\tvalid_0's auc: 0.999376\n",
            "[338]\tvalid_0's auc: 0.999376\n",
            "[339]\tvalid_0's auc: 0.999376\n",
            "[340]\tvalid_0's auc: 0.999377\n",
            "[341]\tvalid_0's auc: 0.999378\n",
            "[342]\tvalid_0's auc: 0.999379\n",
            "[343]\tvalid_0's auc: 0.999377\n",
            "[344]\tvalid_0's auc: 0.999377\n",
            "[345]\tvalid_0's auc: 0.999376\n",
            "[346]\tvalid_0's auc: 0.999373\n",
            "[347]\tvalid_0's auc: 0.999373\n",
            "[348]\tvalid_0's auc: 0.999376\n",
            "[349]\tvalid_0's auc: 0.999378\n",
            "[350]\tvalid_0's auc: 0.999378\n",
            "[351]\tvalid_0's auc: 0.99938\n",
            "[352]\tvalid_0's auc: 0.999381\n",
            "[353]\tvalid_0's auc: 0.999379\n",
            "[354]\tvalid_0's auc: 0.999379\n",
            "[355]\tvalid_0's auc: 0.999379\n",
            "[356]\tvalid_0's auc: 0.999379\n",
            "[357]\tvalid_0's auc: 0.999379\n",
            "[358]\tvalid_0's auc: 0.999377\n",
            "[359]\tvalid_0's auc: 0.999377\n",
            "[360]\tvalid_0's auc: 0.999378\n",
            "[361]\tvalid_0's auc: 0.999382\n",
            "[362]\tvalid_0's auc: 0.999386\n",
            "[363]\tvalid_0's auc: 0.999386\n",
            "[364]\tvalid_0's auc: 0.999386\n",
            "[365]\tvalid_0's auc: 0.999386\n",
            "[366]\tvalid_0's auc: 0.999386\n",
            "[367]\tvalid_0's auc: 0.999386\n",
            "[368]\tvalid_0's auc: 0.999387\n",
            "[369]\tvalid_0's auc: 0.999387\n",
            "[370]\tvalid_0's auc: 0.999388\n",
            "[371]\tvalid_0's auc: 0.999388\n",
            "[372]\tvalid_0's auc: 0.99939\n",
            "[373]\tvalid_0's auc: 0.999391\n",
            "[374]\tvalid_0's auc: 0.999389\n",
            "[375]\tvalid_0's auc: 0.999392\n",
            "[376]\tvalid_0's auc: 0.999392\n",
            "[377]\tvalid_0's auc: 0.999393\n",
            "[378]\tvalid_0's auc: 0.999393\n",
            "[379]\tvalid_0's auc: 0.999393\n",
            "[380]\tvalid_0's auc: 0.999394\n",
            "[381]\tvalid_0's auc: 0.999393\n",
            "[382]\tvalid_0's auc: 0.999393\n",
            "[383]\tvalid_0's auc: 0.99939\n",
            "[384]\tvalid_0's auc: 0.999387\n",
            "[385]\tvalid_0's auc: 0.999387\n",
            "[386]\tvalid_0's auc: 0.999387\n",
            "[387]\tvalid_0's auc: 0.999386\n",
            "[388]\tvalid_0's auc: 0.999383\n",
            "[389]\tvalid_0's auc: 0.999381\n",
            "[390]\tvalid_0's auc: 0.999379\n",
            "[391]\tvalid_0's auc: 0.999379\n",
            "[392]\tvalid_0's auc: 0.999377\n",
            "[393]\tvalid_0's auc: 0.999377\n",
            "[394]\tvalid_0's auc: 0.999379\n",
            "[395]\tvalid_0's auc: 0.999379\n",
            "[396]\tvalid_0's auc: 0.999379\n",
            "[397]\tvalid_0's auc: 0.999377\n",
            "[398]\tvalid_0's auc: 0.999375\n",
            "[399]\tvalid_0's auc: 0.999375\n",
            "[400]\tvalid_0's auc: 0.999376\n",
            "[401]\tvalid_0's auc: 0.999376\n",
            "[402]\tvalid_0's auc: 0.999379\n",
            "[403]\tvalid_0's auc: 0.999379\n",
            "[404]\tvalid_0's auc: 0.999381\n",
            "[405]\tvalid_0's auc: 0.999383\n",
            "[406]\tvalid_0's auc: 0.999383\n",
            "[407]\tvalid_0's auc: 0.999386\n",
            "[408]\tvalid_0's auc: 0.999386\n",
            "[409]\tvalid_0's auc: 0.999388\n",
            "[410]\tvalid_0's auc: 0.999389\n",
            "[411]\tvalid_0's auc: 0.999392\n",
            "[412]\tvalid_0's auc: 0.999392\n",
            "[413]\tvalid_0's auc: 0.999392\n",
            "[414]\tvalid_0's auc: 0.999393\n",
            "[415]\tvalid_0's auc: 0.999394\n",
            "[416]\tvalid_0's auc: 0.999397\n",
            "[417]\tvalid_0's auc: 0.999397\n",
            "[418]\tvalid_0's auc: 0.999396\n",
            "[419]\tvalid_0's auc: 0.999399\n",
            "[420]\tvalid_0's auc: 0.999399\n",
            "[421]\tvalid_0's auc: 0.999399\n",
            "[422]\tvalid_0's auc: 0.999404\n",
            "[423]\tvalid_0's auc: 0.999405\n",
            "[424]\tvalid_0's auc: 0.999402\n",
            "[425]\tvalid_0's auc: 0.999401\n",
            "[426]\tvalid_0's auc: 0.999399\n",
            "[427]\tvalid_0's auc: 0.999399\n",
            "[428]\tvalid_0's auc: 0.999399\n",
            "[429]\tvalid_0's auc: 0.999399\n",
            "[430]\tvalid_0's auc: 0.999399\n",
            "[431]\tvalid_0's auc: 0.999397\n",
            "[432]\tvalid_0's auc: 0.9994\n",
            "[433]\tvalid_0's auc: 0.999402\n",
            "[434]\tvalid_0's auc: 0.999402\n",
            "[435]\tvalid_0's auc: 0.999402\n",
            "[436]\tvalid_0's auc: 0.999399\n",
            "[437]\tvalid_0's auc: 0.999397\n",
            "[438]\tvalid_0's auc: 0.999397\n",
            "[439]\tvalid_0's auc: 0.999396\n",
            "[440]\tvalid_0's auc: 0.999397\n",
            "[441]\tvalid_0's auc: 0.999399\n",
            "[442]\tvalid_0's auc: 0.999398\n",
            "[443]\tvalid_0's auc: 0.999398\n",
            "[444]\tvalid_0's auc: 0.999402\n",
            "[445]\tvalid_0's auc: 0.999403\n",
            "[446]\tvalid_0's auc: 0.999403\n",
            "[447]\tvalid_0's auc: 0.999404\n",
            "[448]\tvalid_0's auc: 0.999403\n",
            "[449]\tvalid_0's auc: 0.999402\n",
            "[450]\tvalid_0's auc: 0.999403\n",
            "[451]\tvalid_0's auc: 0.999405\n",
            "[452]\tvalid_0's auc: 0.999405\n",
            "[453]\tvalid_0's auc: 0.999405\n",
            "[454]\tvalid_0's auc: 0.999404\n",
            "[455]\tvalid_0's auc: 0.999406\n",
            "[456]\tvalid_0's auc: 0.999406\n",
            "[457]\tvalid_0's auc: 0.999406\n",
            "[458]\tvalid_0's auc: 0.999408\n",
            "[459]\tvalid_0's auc: 0.999408\n",
            "[460]\tvalid_0's auc: 0.999408\n",
            "[461]\tvalid_0's auc: 0.99941\n",
            "[462]\tvalid_0's auc: 0.999409\n",
            "[463]\tvalid_0's auc: 0.99941\n",
            "[464]\tvalid_0's auc: 0.999409\n",
            "[465]\tvalid_0's auc: 0.999408\n",
            "[466]\tvalid_0's auc: 0.999408\n",
            "[467]\tvalid_0's auc: 0.999408\n",
            "[468]\tvalid_0's auc: 0.999408\n",
            "[469]\tvalid_0's auc: 0.999408\n",
            "[470]\tvalid_0's auc: 0.999407\n",
            "[471]\tvalid_0's auc: 0.999409\n",
            "[472]\tvalid_0's auc: 0.999409\n",
            "[473]\tvalid_0's auc: 0.999409\n",
            "[474]\tvalid_0's auc: 0.999413\n",
            "[475]\tvalid_0's auc: 0.999412\n",
            "[476]\tvalid_0's auc: 0.999412\n",
            "[477]\tvalid_0's auc: 0.99941\n",
            "[478]\tvalid_0's auc: 0.99941\n",
            "[479]\tvalid_0's auc: 0.99941\n",
            "[480]\tvalid_0's auc: 0.999409\n",
            "[481]\tvalid_0's auc: 0.999411\n",
            "[482]\tvalid_0's auc: 0.999413\n",
            "[483]\tvalid_0's auc: 0.999413\n",
            "[484]\tvalid_0's auc: 0.999413\n",
            "[485]\tvalid_0's auc: 0.999414\n",
            "[486]\tvalid_0's auc: 0.999414\n",
            "[487]\tvalid_0's auc: 0.999414\n",
            "[488]\tvalid_0's auc: 0.999414\n",
            "[489]\tvalid_0's auc: 0.999413\n",
            "[490]\tvalid_0's auc: 0.999413\n",
            "[491]\tvalid_0's auc: 0.999413\n",
            "[492]\tvalid_0's auc: 0.999413\n",
            "[493]\tvalid_0's auc: 0.999413\n",
            "[494]\tvalid_0's auc: 0.999413\n",
            "[495]\tvalid_0's auc: 0.999413\n",
            "[496]\tvalid_0's auc: 0.999412\n",
            "[497]\tvalid_0's auc: 0.999411\n",
            "[498]\tvalid_0's auc: 0.999413\n",
            "[499]\tvalid_0's auc: 0.999413\n",
            "[500]\tvalid_0's auc: 0.999414\n"
          ],
          "name": "stdout"
        }
      ]
    },
    {
      "cell_type": "code",
      "metadata": {
        "colab_type": "code",
        "id": "H2pbV-iPLAeS",
        "colab": {}
      },
      "source": [
        "y_pred_sna = model_sna.predict(X_test_sna)"
      ],
      "execution_count": 0,
      "outputs": []
    },
    {
      "cell_type": "code",
      "metadata": {
        "colab_type": "code",
        "id": "CQV4BfKvLAeV",
        "outputId": "3399b637-e136-430d-b79f-902f79d75f16",
        "colab": {
          "base_uri": "https://localhost:8080/",
          "height": 286
        }
      },
      "source": [
        "auc = roc_auc_score(y_test_sna, y_pred_sna)\n",
        "print('AUC: %.3f' % auc)\n",
        "# calculate roc curve\n",
        "fpr, tpr, thresholds = roc_curve(y_test_sna, y_pred_sna)\n",
        "# plot no skill\n",
        "pyplot.plot([0, 1], [0, 1], linestyle='--')\n",
        "# plot the roc curve for the model\n",
        "pyplot.plot(fpr, tpr, marker='.')\n",
        "# show the plot\n",
        "pyplot.show()"
      ],
      "execution_count": 0,
      "outputs": [
        {
          "output_type": "stream",
          "text": [
            "AUC: 0.996\n"
          ],
          "name": "stdout"
        },
        {
          "output_type": "display_data",
          "data": {
            "image/png": "[encoded data removed]",
            "text/plain": [
              "<Figure size 432x288 with 1 Axes>"
            ]
          },
          "metadata": {
            "tags": []
          }
        }
      ]
    },
    {
      "cell_type": "code",
      "metadata": {
        "colab_type": "code",
        "id": "ub0C3bBpLAeY",
        "outputId": "03a07a98-4408-41c4-92c5-4c7c34f6ae15",
        "colab": {
          "base_uri": "https://localhost:8080/",
          "height": 101
        }
      },
      "source": [
        "fpr[:10], tpr[:10], thresholds[:10]"
      ],
      "execution_count": 0,
      "outputs": [
        {
          "output_type": "execute_result",
          "data": {
            "text/plain": [
              "(array([0., 0., 0., 0., 0., 0., 0., 0., 0., 0.]),\n",
              " array([0.        , 0.00030395, 0.0006079 , 0.00121581, 0.00212766,\n",
              "        0.00334347, 0.00364742, 0.00607903, 0.01550152, 0.01671733]),\n",
              " array([1.99952887, 0.99952887, 0.99950164, 0.99948272, 0.99947696,\n",
              "        0.99947576, 0.99947121, 0.99943416, 0.99941614, 0.99940679]))"
            ]
          },
          "metadata": {
            "tags": []
          },
          "execution_count": 132
        }
      ]
    },
    {
      "cell_type": "code",
      "metadata": {
        "id": "muh_PbZoVQOp",
        "colab_type": "code",
        "outputId": "e1cdda00-6893-4853-cf31-22486e56c43c",
        "colab": {
          "base_uri": "https://localhost:8080/",
          "height": 34
        }
      },
      "source": [
        "f1 = {}\n",
        "\n",
        "for a in [0.90, 0.95, 0.96, 0.97, 0.98, 0.99]:\n",
        "\n",
        "  y_pred_sna = model_sna.predict(X_test_sna)\n",
        "\n",
        "  for i in range(len(y_pred_sna)):\n",
        "      if y_pred_sna[i]>=a:       \n",
        "         y_pred_sna[i]=1\n",
        "      else:  \n",
        "         y_pred_sna[i]=0\n",
        "          \n",
        "  f1[a]= f1_score(y_test_sna, y_pred_sna)\n",
        "  \n",
        "print(f1)"
      ],
      "execution_count": 0,
      "outputs": [
        {
          "output_type": "stream",
          "text": [
            "{0.9: 0.7127590673575129, 0.95: 0.7176917760884589, 0.96: 0.715444287729196, 0.97: 0.7108542532057072, 0.98: 0.6935849056603773, 0.99: 0.642120169937285}\n"
          ],
          "name": "stdout"
        }
      ]
    },
    {
      "cell_type": "code",
      "metadata": {
        "id": "7p9kxae6jiOp",
        "colab_type": "code",
        "colab": {}
      },
      "source": [
        "y_pred_sna = model_sna.predict(X_test_sna)"
      ],
      "execution_count": 0,
      "outputs": []
    },
    {
      "cell_type": "code",
      "metadata": {
        "colab_type": "code",
        "id": "-nVtf25wLAea",
        "colab": {}
      },
      "source": [
        "for i in range(len(y_pred_sna)):\n",
        "    if y_pred_sna[i]>=0.95:      \n",
        "       y_pred_sna[i]=1\n",
        "    else:  \n",
        "       y_pred_sna[i]=0"
      ],
      "execution_count": 0,
      "outputs": []
    },
    {
      "cell_type": "code",
      "metadata": {
        "colab_type": "code",
        "id": "q13Z3OoxLAec",
        "outputId": "a08c3d48-30d7-4219-ebb7-af71e358d79b",
        "colab": {
          "base_uri": "https://localhost:8080/",
          "height": 50
        }
      },
      "source": [
        "confusion_matrix(y_test_sna, y_pred_sna)"
      ],
      "execution_count": 0,
      "outputs": [
        {
          "output_type": "execute_result",
          "data": {
            "text/plain": [
              "array([[293611,    421],\n",
              "       [  1213,   2077]])"
            ]
          },
          "metadata": {
            "tags": []
          },
          "execution_count": 138
        }
      ]
    },
    {
      "cell_type": "code",
      "metadata": {
        "colab_type": "code",
        "id": "q1dWHx_CLAef",
        "outputId": "a9d977aa-5497-4ccc-e017-40e930a57083",
        "colab": {
          "base_uri": "https://localhost:8080/",
          "height": 34
        }
      },
      "source": [
        "accuracy_score(y_test_sna, y_pred_sna)"
      ],
      "execution_count": 0,
      "outputs": [
        {
          "output_type": "execute_result",
          "data": {
            "text/plain": [
              "0.994504274826619"
            ]
          },
          "metadata": {
            "tags": []
          },
          "execution_count": 139
        }
      ]
    },
    {
      "cell_type": "code",
      "metadata": {
        "colab_type": "code",
        "id": "FKFJmh54LAeh",
        "outputId": "77db5c25-4fbb-4349-ce69-135644e716fe",
        "colab": {
          "base_uri": "https://localhost:8080/",
          "height": 34
        }
      },
      "source": [
        "recall_score(y_test_sna, y_pred_sna)"
      ],
      "execution_count": 0,
      "outputs": [
        {
          "output_type": "execute_result",
          "data": {
            "text/plain": [
              "0.6313069908814589"
            ]
          },
          "metadata": {
            "tags": []
          },
          "execution_count": 140
        }
      ]
    },
    {
      "cell_type": "code",
      "metadata": {
        "colab_type": "code",
        "id": "Dt3lquduLAej",
        "outputId": "88f32e11-7bd0-4bd6-98fc-713d64827c83",
        "colab": {
          "base_uri": "https://localhost:8080/",
          "height": 34
        }
      },
      "source": [
        "f1_score(y_test_sna, y_pred_sna)"
      ],
      "execution_count": 0,
      "outputs": [
        {
          "output_type": "execute_result",
          "data": {
            "text/plain": [
              "0.7176917760884589"
            ]
          },
          "metadata": {
            "tags": []
          },
          "execution_count": 141
        }
      ]
    },
    {
      "cell_type": "code",
      "metadata": {
        "colab_type": "code",
        "id": "BIkAixwALAeo",
        "outputId": "4707c3f7-135f-4cbb-ba0d-ab075405493a",
        "colab": {
          "base_uri": "https://localhost:8080/",
          "height": 168
        }
      },
      "source": [
        "print(classification_report(y_test_sna, y_pred_sna))"
      ],
      "execution_count": 0,
      "outputs": [
        {
          "output_type": "stream",
          "text": [
            "              precision    recall  f1-score   support\n",
            "\n",
            "           0       1.00      1.00      1.00    294032\n",
            "           1       0.83      0.63      0.72      3290\n",
            "\n",
            "   micro avg       0.99      0.99      0.99    297322\n",
            "   macro avg       0.91      0.81      0.86    297322\n",
            "weighted avg       0.99      0.99      0.99    297322\n",
            "\n"
          ],
          "name": "stdout"
        }
      ]
    },
    {
      "cell_type": "code",
      "metadata": {
        "colab_type": "code",
        "id": "RESI9tVELAer",
        "outputId": "533b3d52-6e34-4b00-ee07-43ca9c0f2df7",
        "colab": {
          "base_uri": "https://localhost:8080/",
          "height": 312
        }
      },
      "source": [
        "lightgbm.plot_importance(model_sna)"
      ],
      "execution_count": 0,
      "outputs": [
        {
          "output_type": "execute_result",
          "data": {
            "text/plain": [
              "<matplotlib.axes._subplots.AxesSubplot at 0x7fae172bc518>"
            ]
          },
          "metadata": {
            "tags": []
          },
          "execution_count": 143
        },
        {
          "output_type": "display_data",
          "data": {
            "image/png": "[encoded data removed]",
            "text/plain": [
              "<Figure size 432x288 with 1 Axes>"
            ]
          },
          "metadata": {
            "tags": []
          }
        }
      ]
    },
    {
      "cell_type": "markdown",
      "metadata": {
        "colab_type": "text",
        "id": "67w8GP6wQXgt"
      },
      "source": [
        "##Train-Test Split (50%-50%)"
      ]
    },
    {
      "cell_type": "code",
      "metadata": {
        "colab_type": "code",
        "id": "Gow56G5lQXgu",
        "colab": {}
      },
      "source": [
        "X_sna = df.drop([\"fraud\", \"step\"], axis = 1)"
      ],
      "execution_count": 0,
      "outputs": []
    },
    {
      "cell_type": "code",
      "metadata": {
        "colab_type": "code",
        "id": "3GqNbt3jQXgv",
        "colab": {}
      },
      "source": [
        "y_sna = df.fraud"
      ],
      "execution_count": 0,
      "outputs": []
    },
    {
      "cell_type": "code",
      "metadata": {
        "colab_type": "code",
        "id": "6zctZ1YnQXgx",
        "colab": {}
      },
      "source": [
        "X_sna[\"cust_merc_comb\"] = list(zip(X_sna.customer, X_sna.merchant))"
      ],
      "execution_count": 0,
      "outputs": []
    },
    {
      "cell_type": "markdown",
      "metadata": {
        "colab_type": "text",
        "id": "LOtm1WOgQXg1"
      },
      "source": [
        "###Apply SimRank Algorithm"
      ]
    },
    {
      "cell_type": "code",
      "metadata": {
        "colab_type": "code",
        "id": "OvqBCuGeQXg2",
        "colab": {}
      },
      "source": [
        "X_sna[\"Simrank\"] = X_sna[\"cust_merc_comb\"].map(simrank_results)"
      ],
      "execution_count": 0,
      "outputs": []
    },
    {
      "cell_type": "code",
      "metadata": {
        "colab_type": "code",
        "id": "qEKGyHVrQXg3",
        "outputId": "443dcfe9-b671-4041-80b0-4bd6a079d46d",
        "colab": {
          "base_uri": "https://localhost:8080/",
          "height": 106
        }
      },
      "source": [
        "X_sna.head(2)"
      ],
      "execution_count": 0,
      "outputs": [
        {
          "output_type": "execute_result",
          "data": {
            "text/html": [
              "<div>\n",
              "<style scoped>\n",
              "    .dataframe tbody tr th:only-of-type {\n",
              "        vertical-align: middle;\n",
              "    }\n",
              "\n",
              "    .dataframe tbody tr th {\n",
              "        vertical-align: top;\n",
              "    }\n",
              "\n",
              "    .dataframe thead th {\n",
              "        text-align: right;\n",
              "    }\n",
              "</style>\n",
              "<table border=\"1\" class=\"dataframe\">\n",
              "  <thead>\n",
              "    <tr style=\"text-align: right;\">\n",
              "      <th></th>\n",
              "      <th>customer</th>\n",
              "      <th>age</th>\n",
              "      <th>gender</th>\n",
              "      <th>zipcodeOri</th>\n",
              "      <th>merchant</th>\n",
              "      <th>zipMerchant</th>\n",
              "      <th>category</th>\n",
              "      <th>amount</th>\n",
              "      <th>cust_merc_comb</th>\n",
              "      <th>Simrank</th>\n",
              "    </tr>\n",
              "  </thead>\n",
              "  <tbody>\n",
              "    <tr>\n",
              "      <th>0</th>\n",
              "      <td>C1093826151</td>\n",
              "      <td>4</td>\n",
              "      <td>M</td>\n",
              "      <td>28007</td>\n",
              "      <td>M348934600</td>\n",
              "      <td>28007</td>\n",
              "      <td>es_transportation</td>\n",
              "      <td>4.55</td>\n",
              "      <td>(C1093826151, M348934600)</td>\n",
              "      <td>0.000166</td>\n",
              "    </tr>\n",
              "    <tr>\n",
              "      <th>1</th>\n",
              "      <td>C352968107</td>\n",
              "      <td>2</td>\n",
              "      <td>M</td>\n",
              "      <td>28007</td>\n",
              "      <td>M348934600</td>\n",
              "      <td>28007</td>\n",
              "      <td>es_transportation</td>\n",
              "      <td>39.68</td>\n",
              "      <td>(C352968107, M348934600)</td>\n",
              "      <td>0.000166</td>\n",
              "    </tr>\n",
              "  </tbody>\n",
              "</table>\n",
              "</div>"
            ],
            "text/plain": [
              "      customer age gender  ... amount             cust_merc_comb   Simrank\n",
              "0  C1093826151   4      M  ...   4.55  (C1093826151, M348934600)  0.000166\n",
              "1   C352968107   2      M  ...  39.68   (C352968107, M348934600)  0.000166\n",
              "\n",
              "[2 rows x 10 columns]"
            ]
          },
          "metadata": {
            "tags": []
          },
          "execution_count": 305
        }
      ]
    },
    {
      "cell_type": "code",
      "metadata": {
        "colab_type": "code",
        "id": "L4Q1Lea3QXg9",
        "outputId": "d7d0290d-1591-49b2-bc5c-85f370522742",
        "colab": {
          "base_uri": "https://localhost:8080/",
          "height": 202
        }
      },
      "source": [
        "X_sna.isnull().sum()"
      ],
      "execution_count": 0,
      "outputs": [
        {
          "output_type": "execute_result",
          "data": {
            "text/plain": [
              "customer          0\n",
              "age               0\n",
              "gender            0\n",
              "zipcodeOri        0\n",
              "merchant          0\n",
              "zipMerchant       0\n",
              "category          0\n",
              "amount            0\n",
              "cust_merc_comb    0\n",
              "Simrank           0\n",
              "dtype: int64"
            ]
          },
          "metadata": {
            "tags": []
          },
          "execution_count": 306
        }
      ]
    },
    {
      "cell_type": "code",
      "metadata": {
        "colab_type": "code",
        "id": "tJJXKa0GQXg_",
        "colab": {}
      },
      "source": [
        "X_sna.fillna(0, inplace = True)"
      ],
      "execution_count": 0,
      "outputs": []
    },
    {
      "cell_type": "code",
      "metadata": {
        "colab_type": "code",
        "id": "WeI4y9W5QXhB",
        "outputId": "f76dd6ef-c1a0-4aa0-b059-68006f5e97af",
        "colab": {
          "base_uri": "https://localhost:8080/",
          "height": 202
        }
      },
      "source": [
        "X_sna.dtypes"
      ],
      "execution_count": 0,
      "outputs": [
        {
          "output_type": "execute_result",
          "data": {
            "text/plain": [
              "customer           object\n",
              "age                object\n",
              "gender             object\n",
              "zipcodeOri         object\n",
              "merchant           object\n",
              "zipMerchant        object\n",
              "category           object\n",
              "amount            float64\n",
              "cust_merc_comb     object\n",
              "Simrank           float64\n",
              "dtype: object"
            ]
          },
          "metadata": {
            "tags": []
          },
          "execution_count": 308
        }
      ]
    },
    {
      "cell_type": "code",
      "metadata": {
        "colab_type": "code",
        "id": "xZOALhVpQXhC",
        "colab": {}
      },
      "source": [
        "X_sna.drop(\"cust_merc_comb\", axis = 1, inplace = True)"
      ],
      "execution_count": 0,
      "outputs": []
    },
    {
      "cell_type": "code",
      "metadata": {
        "colab_type": "code",
        "id": "y5iQvXLfQXhD",
        "colab": {}
      },
      "source": [
        "#X_sna[\"cust_merc_comb\"] = X_sna[\"cust_merc_comb\"].astype(str)"
      ],
      "execution_count": 0,
      "outputs": []
    },
    {
      "cell_type": "code",
      "metadata": {
        "colab_type": "code",
        "id": "sdQmXyvPQXhF",
        "colab": {}
      },
      "source": [
        "cat_col = X_sna.select_dtypes('object').columns.tolist()\n",
        "\n",
        "le = LabelEncoder()\n",
        "\n",
        "for c in cat_col:\n",
        "  le.fit(X_sna[c])\n",
        "  X_sna[c] = le.transform(X_sna[c])"
      ],
      "execution_count": 0,
      "outputs": []
    },
    {
      "cell_type": "code",
      "metadata": {
        "colab_type": "code",
        "id": "MEzPQYoOQXhH",
        "colab": {}
      },
      "source": [
        "X_train_sna, X_test_sna, y_train_sna, y_test_sna = X_sna[:297321], X_sna[297321:], y_sna[:297321], y_sna[297321:]"
      ],
      "execution_count": 0,
      "outputs": []
    },
    {
      "cell_type": "code",
      "metadata": {
        "colab_type": "code",
        "id": "lSv3uZBaQXhL",
        "outputId": "99a499df-dba3-44bc-da2e-8afce3c6d34c",
        "colab": {
          "base_uri": "https://localhost:8080/",
          "height": 34
        }
      },
      "source": [
        "X_train_sna.shape, X_test_sna.shape"
      ],
      "execution_count": 0,
      "outputs": [
        {
          "output_type": "execute_result",
          "data": {
            "text/plain": [
              "((297321, 9), (297322, 9))"
            ]
          },
          "metadata": {
            "tags": []
          },
          "execution_count": 313
        }
      ]
    },
    {
      "cell_type": "code",
      "metadata": {
        "colab_type": "code",
        "id": "EXRfzBbIQXhO",
        "outputId": "d29e85ac-18cd-4563-f56d-dc2763f896bb",
        "colab": {
          "base_uri": "https://localhost:8080/",
          "height": 106
        }
      },
      "source": [
        "X_train_sna.head(2)"
      ],
      "execution_count": 0,
      "outputs": [
        {
          "output_type": "execute_result",
          "data": {
            "text/html": [
              "<div>\n",
              "<style scoped>\n",
              "    .dataframe tbody tr th:only-of-type {\n",
              "        vertical-align: middle;\n",
              "    }\n",
              "\n",
              "    .dataframe tbody tr th {\n",
              "        vertical-align: top;\n",
              "    }\n",
              "\n",
              "    .dataframe thead th {\n",
              "        text-align: right;\n",
              "    }\n",
              "</style>\n",
              "<table border=\"1\" class=\"dataframe\">\n",
              "  <thead>\n",
              "    <tr style=\"text-align: right;\">\n",
              "      <th></th>\n",
              "      <th>customer</th>\n",
              "      <th>age</th>\n",
              "      <th>gender</th>\n",
              "      <th>zipcodeOri</th>\n",
              "      <th>merchant</th>\n",
              "      <th>zipMerchant</th>\n",
              "      <th>category</th>\n",
              "      <th>amount</th>\n",
              "      <th>Simrank</th>\n",
              "    </tr>\n",
              "  </thead>\n",
              "  <tbody>\n",
              "    <tr>\n",
              "      <th>0</th>\n",
              "      <td>210</td>\n",
              "      <td>4</td>\n",
              "      <td>2</td>\n",
              "      <td>0</td>\n",
              "      <td>30</td>\n",
              "      <td>0</td>\n",
              "      <td>12</td>\n",
              "      <td>4.55</td>\n",
              "      <td>0.000166</td>\n",
              "    </tr>\n",
              "    <tr>\n",
              "      <th>1</th>\n",
              "      <td>2753</td>\n",
              "      <td>2</td>\n",
              "      <td>2</td>\n",
              "      <td>0</td>\n",
              "      <td>30</td>\n",
              "      <td>0</td>\n",
              "      <td>12</td>\n",
              "      <td>39.68</td>\n",
              "      <td>0.000166</td>\n",
              "    </tr>\n",
              "  </tbody>\n",
              "</table>\n",
              "</div>"
            ],
            "text/plain": [
              "   customer  age  gender  zipcodeOri  ...  zipMerchant  category  amount   Simrank\n",
              "0       210    4       2           0  ...            0        12    4.55  0.000166\n",
              "1      2753    2       2           0  ...            0        12   39.68  0.000166\n",
              "\n",
              "[2 rows x 9 columns]"
            ]
          },
          "metadata": {
            "tags": []
          },
          "execution_count": 314
        }
      ]
    },
    {
      "cell_type": "code",
      "metadata": {
        "colab_type": "code",
        "id": "UGtdpeDWQXhR",
        "colab": {}
      },
      "source": [
        "sc = StandardScaler()\n",
        "\n",
        "sc_col = X_sna.select_dtypes([\"float64\", \"int64\"]).columns.tolist()\n",
        "\n",
        "for i in sc_col:\n",
        "  X_train_sna[i] = sc.fit_transform(np.array(X_train_sna[i]).reshape(-1, 1))\n",
        "  X_test_sna[i] = sc.transform(np.array(X_test_sna[i]).reshape(-1, 1))"
      ],
      "execution_count": 0,
      "outputs": []
    },
    {
      "cell_type": "markdown",
      "metadata": {
        "colab_type": "text",
        "id": "6cJzW9e1QXhT"
      },
      "source": [
        "##Train-Validation Split (80%-20%)"
      ]
    },
    {
      "cell_type": "code",
      "metadata": {
        "colab_type": "code",
        "id": "8Uf3lJVeQXhU",
        "colab": {}
      },
      "source": [
        "X_train_sna, X_val_sna, y_train_sna, y_val_sna = X_train_sna[:237856], X_train_sna[237856:], y_train_sna[:237856], y_train_sna[237856:]"
      ],
      "execution_count": 0,
      "outputs": []
    },
    {
      "cell_type": "code",
      "metadata": {
        "colab_type": "code",
        "id": "9CEJxtSDQXhW",
        "outputId": "b2cfc186-28ab-45a8-8f17-311b084c1ac1",
        "colab": {
          "base_uri": "https://localhost:8080/",
          "height": 34
        }
      },
      "source": [
        "X_val_sna.shape"
      ],
      "execution_count": 0,
      "outputs": [
        {
          "output_type": "execute_result",
          "data": {
            "text/plain": [
              "(59465, 9)"
            ]
          },
          "metadata": {
            "tags": []
          },
          "execution_count": 317
        }
      ]
    },
    {
      "cell_type": "code",
      "metadata": {
        "colab_type": "code",
        "id": "ODmX-iTTQXhX",
        "colab": {}
      },
      "source": [
        "sc = StandardScaler()\n",
        "\n",
        "sc_col = X.select_dtypes([\"float64\", \"int64\"]).columns.tolist()\n",
        "\n",
        "for i in sc_col:\n",
        "  X_train_sna[i] = sc.fit_transform(np.array(X_train_sna[i]).reshape(-1, 1))\n",
        "  X_val_sna[i] = sc.transform(np.array(X_val_sna[i]).reshape(-1, 1))"
      ],
      "execution_count": 0,
      "outputs": []
    },
    {
      "cell_type": "code",
      "metadata": {
        "colab_type": "code",
        "id": "L5HxuEduQXhY",
        "outputId": "e19c9e79-7dea-411e-c620-773898e64d74",
        "colab": {
          "base_uri": "https://localhost:8080/",
          "height": 34
        }
      },
      "source": [
        "X_train_sna.shape, X_val_sna.shape, X_test_sna.shape"
      ],
      "execution_count": 0,
      "outputs": [
        {
          "output_type": "execute_result",
          "data": {
            "text/plain": [
              "((237856, 9), (59465, 9), (297322, 9))"
            ]
          },
          "metadata": {
            "tags": []
          },
          "execution_count": 319
        }
      ]
    },
    {
      "cell_type": "code",
      "metadata": {
        "colab_type": "code",
        "id": "2R2sPhRgQXhd",
        "outputId": "5e1f0922-8c92-4721-a4f2-0504db44fd84",
        "colab": {
          "base_uri": "https://localhost:8080/",
          "height": 166
        }
      },
      "source": [
        "X_train_sna.head(4)"
      ],
      "execution_count": 0,
      "outputs": [
        {
          "output_type": "execute_result",
          "data": {
            "text/html": [
              "<div>\n",
              "<style scoped>\n",
              "    .dataframe tbody tr th:only-of-type {\n",
              "        vertical-align: middle;\n",
              "    }\n",
              "\n",
              "    .dataframe tbody tr th {\n",
              "        vertical-align: top;\n",
              "    }\n",
              "\n",
              "    .dataframe thead th {\n",
              "        text-align: right;\n",
              "    }\n",
              "</style>\n",
              "<table border=\"1\" class=\"dataframe\">\n",
              "  <thead>\n",
              "    <tr style=\"text-align: right;\">\n",
              "      <th></th>\n",
              "      <th>customer</th>\n",
              "      <th>age</th>\n",
              "      <th>gender</th>\n",
              "      <th>zipcodeOri</th>\n",
              "      <th>merchant</th>\n",
              "      <th>zipMerchant</th>\n",
              "      <th>category</th>\n",
              "      <th>amount</th>\n",
              "      <th>Simrank</th>\n",
              "    </tr>\n",
              "  </thead>\n",
              "  <tbody>\n",
              "    <tr>\n",
              "      <th>0</th>\n",
              "      <td>-1.544853</td>\n",
              "      <td>0.738340</td>\n",
              "      <td>1.090001</td>\n",
              "      <td>0.0</td>\n",
              "      <td>0.564267</td>\n",
              "      <td>0.0</td>\n",
              "      <td>0.318357</td>\n",
              "      <td>-0.280284</td>\n",
              "      <td>-0.07135</td>\n",
              "    </tr>\n",
              "    <tr>\n",
              "      <th>1</th>\n",
              "      <td>0.607342</td>\n",
              "      <td>-0.757088</td>\n",
              "      <td>1.090001</td>\n",
              "      <td>0.0</td>\n",
              "      <td>0.564267</td>\n",
              "      <td>0.0</td>\n",
              "      <td>0.318357</td>\n",
              "      <td>0.006009</td>\n",
              "      <td>-0.07135</td>\n",
              "    </tr>\n",
              "    <tr>\n",
              "      <th>2</th>\n",
              "      <td>0.211264</td>\n",
              "      <td>0.738340</td>\n",
              "      <td>-0.897651</td>\n",
              "      <td>0.0</td>\n",
              "      <td>-0.872640</td>\n",
              "      <td>0.0</td>\n",
              "      <td>0.318357</td>\n",
              "      <td>-0.098224</td>\n",
              "      <td>-0.07135</td>\n",
              "    </tr>\n",
              "    <tr>\n",
              "      <th>3</th>\n",
              "      <td>-0.326150</td>\n",
              "      <td>-0.009374</td>\n",
              "      <td>1.090001</td>\n",
              "      <td>0.0</td>\n",
              "      <td>0.564267</td>\n",
              "      <td>0.0</td>\n",
              "      <td>0.318357</td>\n",
              "      <td>-0.176785</td>\n",
              "      <td>-0.07135</td>\n",
              "    </tr>\n",
              "  </tbody>\n",
              "</table>\n",
              "</div>"
            ],
            "text/plain": [
              "   customer       age    gender  ...  category    amount  Simrank\n",
              "0 -1.544853  0.738340  1.090001  ...  0.318357 -0.280284 -0.07135\n",
              "1  0.607342 -0.757088  1.090001  ...  0.318357  0.006009 -0.07135\n",
              "2  0.211264  0.738340 -0.897651  ...  0.318357 -0.098224 -0.07135\n",
              "3 -0.326150 -0.009374  1.090001  ...  0.318357 -0.176785 -0.07135\n",
              "\n",
              "[4 rows x 9 columns]"
            ]
          },
          "metadata": {
            "tags": []
          },
          "execution_count": 320
        }
      ]
    },
    {
      "cell_type": "code",
      "metadata": {
        "colab_type": "code",
        "id": "dhkkYC7LQXhf",
        "colab": {}
      },
      "source": [
        "parameters = {\n",
        "    'application': 'binary',\n",
        "    'objective': 'binary',\n",
        "    'metric': 'auc',\n",
        "    'is_unbalance': 'true',\n",
        "    'boosting': 'dart',\n",
        "    'num_leaves': 63,\n",
        "    'feature_fraction': 0.5,\n",
        "    'bagging_fraction': 0.5,\n",
        "    'bagging_freq': 20,\n",
        "    'learning_rate': 0.05,\n",
        "    'verbose': 0,\n",
        "    \"lambda_l2\" : 0.5,\n",
        "    \"lambda_l1\" : 0.5,\n",
        "    \"min_gain_to_split\" : 0.2,\n",
        "    \"max_depth\" : 3\n",
        "}"
      ],
      "execution_count": 0,
      "outputs": []
    },
    {
      "cell_type": "code",
      "metadata": {
        "colab_type": "code",
        "id": "KAVhiryZQXhh",
        "colab": {}
      },
      "source": [
        "train_data_sna = lightgbm.Dataset(X_train_sna, label=y_train_sna, categorical_feature=cat_col)\n",
        "val_data_sna = lightgbm.Dataset(X_val_sna, label=y_val_sna)"
      ],
      "execution_count": 0,
      "outputs": []
    },
    {
      "cell_type": "code",
      "metadata": {
        "colab_type": "code",
        "id": "lPUlxcf7QXhi",
        "outputId": "0ad02ccd-bfc8-45ea-b281-585a1e5c7c4a",
        "colab": {
          "base_uri": "https://localhost:8080/",
          "height": 8417
        }
      },
      "source": [
        "model_sna = lightgbm.train(parameters,\n",
        "                       train_data_sna,\n",
        "                       valid_sets=val_data_sna,\n",
        "                       num_boost_round=500,\n",
        "                       early_stopping_rounds=100)"
      ],
      "execution_count": 0,
      "outputs": [
        {
          "output_type": "stream",
          "text": [
            "[1]\tvalid_0's auc: 0.955742\n",
            "[2]\tvalid_0's auc: 0.983836\n",
            "[3]\tvalid_0's auc: 0.985896\n",
            "[4]\tvalid_0's auc: 0.986321\n",
            "[5]\tvalid_0's auc: 0.987458\n",
            "[6]\tvalid_0's auc: 0.987979\n",
            "[7]\tvalid_0's auc: 0.988267\n",
            "[8]\tvalid_0's auc: 0.987906\n",
            "[9]\tvalid_0's auc: 0.988943\n",
            "[10]\tvalid_0's auc: 0.989742\n",
            "[11]\tvalid_0's auc: 0.989976\n",
            "[12]\tvalid_0's auc: 0.989615\n",
            "[13]\tvalid_0's auc: 0.989802\n",
            "[14]\tvalid_0's auc: 0.989966\n",
            "[15]\tvalid_0's auc: 0.990616\n",
            "[16]\tvalid_0's auc: 0.991153\n",
            "[17]\tvalid_0's auc: 0.991205\n",
            "[18]\tvalid_0's auc: 0.991191\n",
            "[19]\tvalid_0's auc: 0.991657\n",
            "[20]\tvalid_0's auc: 0.991732\n",
            "[21]\tvalid_0's auc: 0.991596\n",
            "[22]\tvalid_0's auc: 0.991593\n",
            "[23]\tvalid_0's auc: 0.991597\n",
            "[24]\tvalid_0's auc: 0.991734\n",
            "[25]\tvalid_0's auc: 0.991834\n",
            "[26]\tvalid_0's auc: 0.99191\n",
            "[27]\tvalid_0's auc: 0.991907\n",
            "[28]\tvalid_0's auc: 0.991784\n",
            "[29]\tvalid_0's auc: 0.991856\n",
            "[30]\tvalid_0's auc: 0.992191\n",
            "[31]\tvalid_0's auc: 0.992142\n",
            "[32]\tvalid_0's auc: 0.992342\n",
            "[33]\tvalid_0's auc: 0.993249\n",
            "[34]\tvalid_0's auc: 0.993209\n",
            "[35]\tvalid_0's auc: 0.993177\n",
            "[36]\tvalid_0's auc: 0.992775\n",
            "[37]\tvalid_0's auc: 0.992729\n",
            "[38]\tvalid_0's auc: 0.993532\n",
            "[39]\tvalid_0's auc: 0.994126\n",
            "[40]\tvalid_0's auc: 0.994108\n",
            "[41]\tvalid_0's auc: 0.993881\n",
            "[42]\tvalid_0's auc: 0.994457\n",
            "[43]\tvalid_0's auc: 0.994381\n",
            "[44]\tvalid_0's auc: 0.994379\n",
            "[45]\tvalid_0's auc: 0.994569\n",
            "[46]\tvalid_0's auc: 0.995264\n",
            "[47]\tvalid_0's auc: 0.995639\n",
            "[48]\tvalid_0's auc: 0.995657\n",
            "[49]\tvalid_0's auc: 0.995632\n",
            "[50]\tvalid_0's auc: 0.995394\n",
            "[51]\tvalid_0's auc: 0.995912\n",
            "[52]\tvalid_0's auc: 0.996057\n",
            "[53]\tvalid_0's auc: 0.995949\n",
            "[54]\tvalid_0's auc: 0.996309\n",
            "[55]\tvalid_0's auc: 0.99623\n",
            "[56]\tvalid_0's auc: 0.996091\n",
            "[57]\tvalid_0's auc: 0.996151\n",
            "[58]\tvalid_0's auc: 0.996802\n",
            "[59]\tvalid_0's auc: 0.996751\n",
            "[60]\tvalid_0's auc: 0.996956\n",
            "[61]\tvalid_0's auc: 0.997453\n",
            "[62]\tvalid_0's auc: 0.997491\n",
            "[63]\tvalid_0's auc: 0.997511\n",
            "[64]\tvalid_0's auc: 0.997467\n",
            "[65]\tvalid_0's auc: 0.997375\n",
            "[66]\tvalid_0's auc: 0.997368\n",
            "[67]\tvalid_0's auc: 0.997311\n",
            "[68]\tvalid_0's auc: 0.997458\n",
            "[69]\tvalid_0's auc: 0.997367\n",
            "[70]\tvalid_0's auc: 0.997307\n",
            "[71]\tvalid_0's auc: 0.997302\n",
            "[72]\tvalid_0's auc: 0.997249\n",
            "[73]\tvalid_0's auc: 0.997382\n",
            "[74]\tvalid_0's auc: 0.997325\n",
            "[75]\tvalid_0's auc: 0.997509\n",
            "[76]\tvalid_0's auc: 0.997532\n",
            "[77]\tvalid_0's auc: 0.997501\n",
            "[78]\tvalid_0's auc: 0.997464\n",
            "[79]\tvalid_0's auc: 0.997466\n",
            "[80]\tvalid_0's auc: 0.997482\n",
            "[81]\tvalid_0's auc: 0.997436\n",
            "[82]\tvalid_0's auc: 0.997487\n",
            "[83]\tvalid_0's auc: 0.997479\n",
            "[84]\tvalid_0's auc: 0.997487\n",
            "[85]\tvalid_0's auc: 0.99745\n",
            "[86]\tvalid_0's auc: 0.997573\n",
            "[87]\tvalid_0's auc: 0.997582\n",
            "[88]\tvalid_0's auc: 0.997543\n",
            "[89]\tvalid_0's auc: 0.997515\n",
            "[90]\tvalid_0's auc: 0.997487\n",
            "[91]\tvalid_0's auc: 0.997809\n",
            "[92]\tvalid_0's auc: 0.997757\n",
            "[93]\tvalid_0's auc: 0.997794\n",
            "[94]\tvalid_0's auc: 0.997784\n",
            "[95]\tvalid_0's auc: 0.997785\n",
            "[96]\tvalid_0's auc: 0.997754\n",
            "[97]\tvalid_0's auc: 0.997839\n",
            "[98]\tvalid_0's auc: 0.997834\n",
            "[99]\tvalid_0's auc: 0.997824\n",
            "[100]\tvalid_0's auc: 0.997865\n",
            "[101]\tvalid_0's auc: 0.997983\n",
            "[102]\tvalid_0's auc: 0.997942\n",
            "[103]\tvalid_0's auc: 0.997922\n",
            "[104]\tvalid_0's auc: 0.99792\n",
            "[105]\tvalid_0's auc: 0.998033\n",
            "[106]\tvalid_0's auc: 0.998019\n",
            "[107]\tvalid_0's auc: 0.997988\n",
            "[108]\tvalid_0's auc: 0.998072\n",
            "[109]\tvalid_0's auc: 0.998052\n",
            "[110]\tvalid_0's auc: 0.998033\n",
            "[111]\tvalid_0's auc: 0.998122\n",
            "[112]\tvalid_0's auc: 0.998144\n",
            "[113]\tvalid_0's auc: 0.998194\n",
            "[114]\tvalid_0's auc: 0.998233\n",
            "[115]\tvalid_0's auc: 0.998254\n",
            "[116]\tvalid_0's auc: 0.998299\n",
            "[117]\tvalid_0's auc: 0.998288\n",
            "[118]\tvalid_0's auc: 0.998305\n",
            "[119]\tvalid_0's auc: 0.998293\n",
            "[120]\tvalid_0's auc: 0.998277\n",
            "[121]\tvalid_0's auc: 0.998275\n",
            "[122]\tvalid_0's auc: 0.998271\n",
            "[123]\tvalid_0's auc: 0.998263\n",
            "[124]\tvalid_0's auc: 0.998336\n",
            "[125]\tvalid_0's auc: 0.998332\n",
            "[126]\tvalid_0's auc: 0.998324\n",
            "[127]\tvalid_0's auc: 0.998363\n",
            "[128]\tvalid_0's auc: 0.998359\n",
            "[129]\tvalid_0's auc: 0.998391\n",
            "[130]\tvalid_0's auc: 0.998426\n",
            "[131]\tvalid_0's auc: 0.998423\n",
            "[132]\tvalid_0's auc: 0.998439\n",
            "[133]\tvalid_0's auc: 0.998465\n",
            "[134]\tvalid_0's auc: 0.998511\n",
            "[135]\tvalid_0's auc: 0.998487\n",
            "[136]\tvalid_0's auc: 0.998544\n",
            "[137]\tvalid_0's auc: 0.998542\n",
            "[138]\tvalid_0's auc: 0.998511\n",
            "[139]\tvalid_0's auc: 0.998524\n",
            "[140]\tvalid_0's auc: 0.998518\n",
            "[141]\tvalid_0's auc: 0.998514\n",
            "[142]\tvalid_0's auc: 0.998506\n",
            "[143]\tvalid_0's auc: 0.998612\n",
            "[144]\tvalid_0's auc: 0.998608\n",
            "[145]\tvalid_0's auc: 0.998664\n",
            "[146]\tvalid_0's auc: 0.998652\n",
            "[147]\tvalid_0's auc: 0.998644\n",
            "[148]\tvalid_0's auc: 0.99864\n",
            "[149]\tvalid_0's auc: 0.998639\n",
            "[150]\tvalid_0's auc: 0.998613\n",
            "[151]\tvalid_0's auc: 0.998632\n",
            "[152]\tvalid_0's auc: 0.998662\n",
            "[153]\tvalid_0's auc: 0.998623\n",
            "[154]\tvalid_0's auc: 0.998624\n",
            "[155]\tvalid_0's auc: 0.998664\n",
            "[156]\tvalid_0's auc: 0.998662\n",
            "[157]\tvalid_0's auc: 0.998658\n",
            "[158]\tvalid_0's auc: 0.998658\n",
            "[159]\tvalid_0's auc: 0.998658\n",
            "[160]\tvalid_0's auc: 0.998652\n",
            "[161]\tvalid_0's auc: 0.998674\n",
            "[162]\tvalid_0's auc: 0.998674\n",
            "[163]\tvalid_0's auc: 0.998639\n",
            "[164]\tvalid_0's auc: 0.998673\n",
            "[165]\tvalid_0's auc: 0.998672\n",
            "[166]\tvalid_0's auc: 0.998693\n",
            "[167]\tvalid_0's auc: 0.998715\n",
            "[168]\tvalid_0's auc: 0.998725\n",
            "[169]\tvalid_0's auc: 0.998732\n",
            "[170]\tvalid_0's auc: 0.998742\n",
            "[171]\tvalid_0's auc: 0.998748\n",
            "[172]\tvalid_0's auc: 0.998764\n",
            "[173]\tvalid_0's auc: 0.998781\n",
            "[174]\tvalid_0's auc: 0.998794\n",
            "[175]\tvalid_0's auc: 0.998807\n",
            "[176]\tvalid_0's auc: 0.998806\n",
            "[177]\tvalid_0's auc: 0.998805\n",
            "[178]\tvalid_0's auc: 0.9988\n",
            "[179]\tvalid_0's auc: 0.998818\n",
            "[180]\tvalid_0's auc: 0.998815\n",
            "[181]\tvalid_0's auc: 0.998819\n",
            "[182]\tvalid_0's auc: 0.998798\n",
            "[183]\tvalid_0's auc: 0.998802\n",
            "[184]\tvalid_0's auc: 0.998799\n",
            "[185]\tvalid_0's auc: 0.998794\n",
            "[186]\tvalid_0's auc: 0.998808\n",
            "[187]\tvalid_0's auc: 0.998788\n",
            "[188]\tvalid_0's auc: 0.998801\n",
            "[189]\tvalid_0's auc: 0.998798\n",
            "[190]\tvalid_0's auc: 0.998798\n",
            "[191]\tvalid_0's auc: 0.998808\n",
            "[192]\tvalid_0's auc: 0.998815\n",
            "[193]\tvalid_0's auc: 0.998812\n",
            "[194]\tvalid_0's auc: 0.998813\n",
            "[195]\tvalid_0's auc: 0.99881\n",
            "[196]\tvalid_0's auc: 0.998809\n",
            "[197]\tvalid_0's auc: 0.998808\n",
            "[198]\tvalid_0's auc: 0.998807\n",
            "[199]\tvalid_0's auc: 0.998815\n",
            "[200]\tvalid_0's auc: 0.998809\n",
            "[201]\tvalid_0's auc: 0.998809\n",
            "[202]\tvalid_0's auc: 0.998805\n",
            "[203]\tvalid_0's auc: 0.998808\n",
            "[204]\tvalid_0's auc: 0.998808\n",
            "[205]\tvalid_0's auc: 0.99882\n",
            "[206]\tvalid_0's auc: 0.99882\n",
            "[207]\tvalid_0's auc: 0.998817\n",
            "[208]\tvalid_0's auc: 0.998821\n",
            "[209]\tvalid_0's auc: 0.998816\n",
            "[210]\tvalid_0's auc: 0.998812\n",
            "[211]\tvalid_0's auc: 0.99881\n",
            "[212]\tvalid_0's auc: 0.998819\n",
            "[213]\tvalid_0's auc: 0.998829\n",
            "[214]\tvalid_0's auc: 0.998838\n",
            "[215]\tvalid_0's auc: 0.998839\n",
            "[216]\tvalid_0's auc: 0.998837\n",
            "[217]\tvalid_0's auc: 0.998842\n",
            "[218]\tvalid_0's auc: 0.998851\n",
            "[219]\tvalid_0's auc: 0.998858\n",
            "[220]\tvalid_0's auc: 0.99886\n",
            "[221]\tvalid_0's auc: 0.99886\n",
            "[222]\tvalid_0's auc: 0.998858\n",
            "[223]\tvalid_0's auc: 0.998875\n",
            "[224]\tvalid_0's auc: 0.998875\n",
            "[225]\tvalid_0's auc: 0.998873\n",
            "[226]\tvalid_0's auc: 0.998873\n",
            "[227]\tvalid_0's auc: 0.998873\n",
            "[228]\tvalid_0's auc: 0.998876\n",
            "[229]\tvalid_0's auc: 0.998876\n",
            "[230]\tvalid_0's auc: 0.998861\n",
            "[231]\tvalid_0's auc: 0.998868\n",
            "[232]\tvalid_0's auc: 0.998871\n",
            "[233]\tvalid_0's auc: 0.998869\n",
            "[234]\tvalid_0's auc: 0.998872\n",
            "[235]\tvalid_0's auc: 0.998872\n",
            "[236]\tvalid_0's auc: 0.998868\n",
            "[237]\tvalid_0's auc: 0.998867\n",
            "[238]\tvalid_0's auc: 0.998853\n",
            "[239]\tvalid_0's auc: 0.99885\n",
            "[240]\tvalid_0's auc: 0.998866\n",
            "[241]\tvalid_0's auc: 0.998864\n",
            "[242]\tvalid_0's auc: 0.998868\n",
            "[243]\tvalid_0's auc: 0.998867\n",
            "[244]\tvalid_0's auc: 0.998873\n",
            "[245]\tvalid_0's auc: 0.998877\n",
            "[246]\tvalid_0's auc: 0.998875\n",
            "[247]\tvalid_0's auc: 0.998863\n",
            "[248]\tvalid_0's auc: 0.998862\n",
            "[249]\tvalid_0's auc: 0.998861\n",
            "[250]\tvalid_0's auc: 0.998858\n",
            "[251]\tvalid_0's auc: 0.998856\n",
            "[252]\tvalid_0's auc: 0.998855\n",
            "[253]\tvalid_0's auc: 0.998861\n",
            "[254]\tvalid_0's auc: 0.998852\n",
            "[255]\tvalid_0's auc: 0.998861\n",
            "[256]\tvalid_0's auc: 0.998871\n",
            "[257]\tvalid_0's auc: 0.998878\n",
            "[258]\tvalid_0's auc: 0.998886\n",
            "[259]\tvalid_0's auc: 0.998885\n",
            "[260]\tvalid_0's auc: 0.998886\n",
            "[261]\tvalid_0's auc: 0.998884\n",
            "[262]\tvalid_0's auc: 0.998884\n",
            "[263]\tvalid_0's auc: 0.998884\n",
            "[264]\tvalid_0's auc: 0.9989\n",
            "[265]\tvalid_0's auc: 0.998906\n",
            "[266]\tvalid_0's auc: 0.998911\n",
            "[267]\tvalid_0's auc: 0.99891\n",
            "[268]\tvalid_0's auc: 0.998912\n",
            "[269]\tvalid_0's auc: 0.998911\n",
            "[270]\tvalid_0's auc: 0.998914\n",
            "[271]\tvalid_0's auc: 0.998912\n",
            "[272]\tvalid_0's auc: 0.998918\n",
            "[273]\tvalid_0's auc: 0.998921\n",
            "[274]\tvalid_0's auc: 0.998921\n",
            "[275]\tvalid_0's auc: 0.998924\n",
            "[276]\tvalid_0's auc: 0.998924\n",
            "[277]\tvalid_0's auc: 0.998938\n",
            "[278]\tvalid_0's auc: 0.998937\n",
            "[279]\tvalid_0's auc: 0.99894\n",
            "[280]\tvalid_0's auc: 0.998939\n",
            "[281]\tvalid_0's auc: 0.998943\n",
            "[282]\tvalid_0's auc: 0.998942\n",
            "[283]\tvalid_0's auc: 0.998941\n",
            "[284]\tvalid_0's auc: 0.998946\n",
            "[285]\tvalid_0's auc: 0.99895\n",
            "[286]\tvalid_0's auc: 0.998955\n",
            "[287]\tvalid_0's auc: 0.998957\n",
            "[288]\tvalid_0's auc: 0.998955\n",
            "[289]\tvalid_0's auc: 0.998954\n",
            "[290]\tvalid_0's auc: 0.998959\n",
            "[291]\tvalid_0's auc: 0.998962\n",
            "[292]\tvalid_0's auc: 0.998961\n",
            "[293]\tvalid_0's auc: 0.998961\n",
            "[294]\tvalid_0's auc: 0.998969\n",
            "[295]\tvalid_0's auc: 0.998967\n",
            "[296]\tvalid_0's auc: 0.998966\n",
            "[297]\tvalid_0's auc: 0.998971\n",
            "[298]\tvalid_0's auc: 0.998971\n",
            "[299]\tvalid_0's auc: 0.998982\n",
            "[300]\tvalid_0's auc: 0.998981\n",
            "[301]\tvalid_0's auc: 0.998982\n",
            "[302]\tvalid_0's auc: 0.998987\n",
            "[303]\tvalid_0's auc: 0.998985\n",
            "[304]\tvalid_0's auc: 0.998985\n",
            "[305]\tvalid_0's auc: 0.998984\n",
            "[306]\tvalid_0's auc: 0.998982\n",
            "[307]\tvalid_0's auc: 0.998982\n",
            "[308]\tvalid_0's auc: 0.998984\n",
            "[309]\tvalid_0's auc: 0.998985\n",
            "[310]\tvalid_0's auc: 0.998979\n",
            "[311]\tvalid_0's auc: 0.998991\n",
            "[312]\tvalid_0's auc: 0.998992\n",
            "[313]\tvalid_0's auc: 0.998991\n",
            "[314]\tvalid_0's auc: 0.998996\n",
            "[315]\tvalid_0's auc: 0.998995\n",
            "[316]\tvalid_0's auc: 0.998994\n",
            "[317]\tvalid_0's auc: 0.998998\n",
            "[318]\tvalid_0's auc: 0.998998\n",
            "[319]\tvalid_0's auc: 0.998997\n",
            "[320]\tvalid_0's auc: 0.998997\n",
            "[321]\tvalid_0's auc: 0.998996\n",
            "[322]\tvalid_0's auc: 0.998997\n",
            "[323]\tvalid_0's auc: 0.999006\n",
            "[324]\tvalid_0's auc: 0.999004\n",
            "[325]\tvalid_0's auc: 0.999013\n",
            "[326]\tvalid_0's auc: 0.999013\n",
            "[327]\tvalid_0's auc: 0.999013\n",
            "[328]\tvalid_0's auc: 0.999013\n",
            "[329]\tvalid_0's auc: 0.999019\n",
            "[330]\tvalid_0's auc: 0.999018\n",
            "[331]\tvalid_0's auc: 0.999017\n",
            "[332]\tvalid_0's auc: 0.99902\n",
            "[333]\tvalid_0's auc: 0.999018\n",
            "[334]\tvalid_0's auc: 0.999018\n",
            "[335]\tvalid_0's auc: 0.999024\n",
            "[336]\tvalid_0's auc: 0.999024\n",
            "[337]\tvalid_0's auc: 0.999027\n",
            "[338]\tvalid_0's auc: 0.999027\n",
            "[339]\tvalid_0's auc: 0.999027\n",
            "[340]\tvalid_0's auc: 0.999026\n",
            "[341]\tvalid_0's auc: 0.999031\n",
            "[342]\tvalid_0's auc: 0.999038\n",
            "[343]\tvalid_0's auc: 0.99904\n",
            "[344]\tvalid_0's auc: 0.99904\n",
            "[345]\tvalid_0's auc: 0.999035\n",
            "[346]\tvalid_0's auc: 0.999038\n",
            "[347]\tvalid_0's auc: 0.999037\n",
            "[348]\tvalid_0's auc: 0.99904\n",
            "[349]\tvalid_0's auc: 0.99904\n",
            "[350]\tvalid_0's auc: 0.999039\n",
            "[351]\tvalid_0's auc: 0.999046\n",
            "[352]\tvalid_0's auc: 0.99904\n",
            "[353]\tvalid_0's auc: 0.999041\n",
            "[354]\tvalid_0's auc: 0.99904\n",
            "[355]\tvalid_0's auc: 0.99904\n",
            "[356]\tvalid_0's auc: 0.999043\n",
            "[357]\tvalid_0's auc: 0.999042\n",
            "[358]\tvalid_0's auc: 0.999044\n",
            "[359]\tvalid_0's auc: 0.999045\n",
            "[360]\tvalid_0's auc: 0.999046\n",
            "[361]\tvalid_0's auc: 0.999053\n",
            "[362]\tvalid_0's auc: 0.999055\n",
            "[363]\tvalid_0's auc: 0.999053\n",
            "[364]\tvalid_0's auc: 0.999052\n",
            "[365]\tvalid_0's auc: 0.999053\n",
            "[366]\tvalid_0's auc: 0.999053\n",
            "[367]\tvalid_0's auc: 0.999052\n",
            "[368]\tvalid_0's auc: 0.999053\n",
            "[369]\tvalid_0's auc: 0.999052\n",
            "[370]\tvalid_0's auc: 0.999053\n",
            "[371]\tvalid_0's auc: 0.999053\n",
            "[372]\tvalid_0's auc: 0.999054\n",
            "[373]\tvalid_0's auc: 0.999056\n",
            "[374]\tvalid_0's auc: 0.999061\n",
            "[375]\tvalid_0's auc: 0.999064\n",
            "[376]\tvalid_0's auc: 0.999064\n",
            "[377]\tvalid_0's auc: 0.999068\n",
            "[378]\tvalid_0's auc: 0.999068\n",
            "[379]\tvalid_0's auc: 0.999067\n",
            "[380]\tvalid_0's auc: 0.999066\n",
            "[381]\tvalid_0's auc: 0.999065\n",
            "[382]\tvalid_0's auc: 0.999064\n",
            "[383]\tvalid_0's auc: 0.999068\n",
            "[384]\tvalid_0's auc: 0.999067\n",
            "[385]\tvalid_0's auc: 0.999067\n",
            "[386]\tvalid_0's auc: 0.999071\n",
            "[387]\tvalid_0's auc: 0.999071\n",
            "[388]\tvalid_0's auc: 0.999072\n",
            "[389]\tvalid_0's auc: 0.999072\n",
            "[390]\tvalid_0's auc: 0.999075\n",
            "[391]\tvalid_0's auc: 0.999074\n",
            "[392]\tvalid_0's auc: 0.999074\n",
            "[393]\tvalid_0's auc: 0.999074\n",
            "[394]\tvalid_0's auc: 0.999075\n",
            "[395]\tvalid_0's auc: 0.999078\n",
            "[396]\tvalid_0's auc: 0.999077\n",
            "[397]\tvalid_0's auc: 0.999078\n",
            "[398]\tvalid_0's auc: 0.999079\n",
            "[399]\tvalid_0's auc: 0.99908\n",
            "[400]\tvalid_0's auc: 0.999081\n",
            "[401]\tvalid_0's auc: 0.999081\n",
            "[402]\tvalid_0's auc: 0.999082\n",
            "[403]\tvalid_0's auc: 0.999082\n",
            "[404]\tvalid_0's auc: 0.999084\n",
            "[405]\tvalid_0's auc: 0.999083\n",
            "[406]\tvalid_0's auc: 0.999084\n",
            "[407]\tvalid_0's auc: 0.999089\n",
            "[408]\tvalid_0's auc: 0.999089\n",
            "[409]\tvalid_0's auc: 0.999089\n",
            "[410]\tvalid_0's auc: 0.99909\n",
            "[411]\tvalid_0's auc: 0.999092\n",
            "[412]\tvalid_0's auc: 0.999092\n",
            "[413]\tvalid_0's auc: 0.999091\n",
            "[414]\tvalid_0's auc: 0.999091\n",
            "[415]\tvalid_0's auc: 0.999091\n",
            "[416]\tvalid_0's auc: 0.999092\n",
            "[417]\tvalid_0's auc: 0.999091\n",
            "[418]\tvalid_0's auc: 0.999091\n",
            "[419]\tvalid_0's auc: 0.999092\n",
            "[420]\tvalid_0's auc: 0.999091\n",
            "[421]\tvalid_0's auc: 0.999094\n",
            "[422]\tvalid_0's auc: 0.999092\n",
            "[423]\tvalid_0's auc: 0.999094\n",
            "[424]\tvalid_0's auc: 0.999095\n",
            "[425]\tvalid_0's auc: 0.999095\n",
            "[426]\tvalid_0's auc: 0.999094\n",
            "[427]\tvalid_0's auc: 0.999095\n",
            "[428]\tvalid_0's auc: 0.999094\n",
            "[429]\tvalid_0's auc: 0.999096\n",
            "[430]\tvalid_0's auc: 0.999096\n",
            "[431]\tvalid_0's auc: 0.999103\n",
            "[432]\tvalid_0's auc: 0.999105\n",
            "[433]\tvalid_0's auc: 0.999106\n",
            "[434]\tvalid_0's auc: 0.999106\n",
            "[435]\tvalid_0's auc: 0.999105\n",
            "[436]\tvalid_0's auc: 0.999106\n",
            "[437]\tvalid_0's auc: 0.999107\n",
            "[438]\tvalid_0's auc: 0.999107\n",
            "[439]\tvalid_0's auc: 0.999108\n",
            "[440]\tvalid_0's auc: 0.999108\n",
            "[441]\tvalid_0's auc: 0.99911\n",
            "[442]\tvalid_0's auc: 0.999109\n",
            "[443]\tvalid_0's auc: 0.999109\n",
            "[444]\tvalid_0's auc: 0.999113\n",
            "[445]\tvalid_0's auc: 0.999117\n",
            "[446]\tvalid_0's auc: 0.999117\n",
            "[447]\tvalid_0's auc: 0.999119\n",
            "[448]\tvalid_0's auc: 0.99912\n",
            "[449]\tvalid_0's auc: 0.999119\n",
            "[450]\tvalid_0's auc: 0.999121\n",
            "[451]\tvalid_0's auc: 0.999121\n",
            "[452]\tvalid_0's auc: 0.999121\n",
            "[453]\tvalid_0's auc: 0.99912\n",
            "[454]\tvalid_0's auc: 0.999121\n",
            "[455]\tvalid_0's auc: 0.999126\n",
            "[456]\tvalid_0's auc: 0.999126\n",
            "[457]\tvalid_0's auc: 0.999125\n",
            "[458]\tvalid_0's auc: 0.999125\n",
            "[459]\tvalid_0's auc: 0.999127\n",
            "[460]\tvalid_0's auc: 0.999127\n",
            "[461]\tvalid_0's auc: 0.999127\n",
            "[462]\tvalid_0's auc: 0.999127\n",
            "[463]\tvalid_0's auc: 0.999126\n",
            "[464]\tvalid_0's auc: 0.999126\n",
            "[465]\tvalid_0's auc: 0.999126\n",
            "[466]\tvalid_0's auc: 0.999125\n",
            "[467]\tvalid_0's auc: 0.99913\n",
            "[468]\tvalid_0's auc: 0.999129\n",
            "[469]\tvalid_0's auc: 0.999131\n",
            "[470]\tvalid_0's auc: 0.999133\n",
            "[471]\tvalid_0's auc: 0.999133\n",
            "[472]\tvalid_0's auc: 0.999133\n",
            "[473]\tvalid_0's auc: 0.999133\n",
            "[474]\tvalid_0's auc: 0.999135\n",
            "[475]\tvalid_0's auc: 0.999135\n",
            "[476]\tvalid_0's auc: 0.999135\n",
            "[477]\tvalid_0's auc: 0.999136\n",
            "[478]\tvalid_0's auc: 0.999135\n",
            "[479]\tvalid_0's auc: 0.999135\n",
            "[480]\tvalid_0's auc: 0.999135\n",
            "[481]\tvalid_0's auc: 0.999136\n",
            "[482]\tvalid_0's auc: 0.999137\n",
            "[483]\tvalid_0's auc: 0.999137\n",
            "[484]\tvalid_0's auc: 0.999137\n",
            "[485]\tvalid_0's auc: 0.999137\n",
            "[486]\tvalid_0's auc: 0.999137\n",
            "[487]\tvalid_0's auc: 0.999137\n",
            "[488]\tvalid_0's auc: 0.999138\n",
            "[489]\tvalid_0's auc: 0.999137\n",
            "[490]\tvalid_0's auc: 0.999137\n",
            "[491]\tvalid_0's auc: 0.999137\n",
            "[492]\tvalid_0's auc: 0.999137\n",
            "[493]\tvalid_0's auc: 0.999136\n",
            "[494]\tvalid_0's auc: 0.999137\n",
            "[495]\tvalid_0's auc: 0.999137\n",
            "[496]\tvalid_0's auc: 0.999137\n",
            "[497]\tvalid_0's auc: 0.999142\n",
            "[498]\tvalid_0's auc: 0.999142\n",
            "[499]\tvalid_0's auc: 0.999141\n",
            "[500]\tvalid_0's auc: 0.999143\n"
          ],
          "name": "stdout"
        }
      ]
    },
    {
      "cell_type": "code",
      "metadata": {
        "colab_type": "code",
        "id": "QKF5dPJYQXhk",
        "colab": {}
      },
      "source": [
        "y_pred_sna = model_sna.predict(X_test_sna)"
      ],
      "execution_count": 0,
      "outputs": []
    },
    {
      "cell_type": "code",
      "metadata": {
        "colab_type": "code",
        "id": "r7diAn8FQXhl",
        "outputId": "1c2d379d-0f3a-417c-87dc-d5b0e0cf0933",
        "colab": {
          "base_uri": "https://localhost:8080/",
          "height": 286
        }
      },
      "source": [
        "auc = roc_auc_score(y_test_sna, y_pred_sna)\n",
        "print('AUC: %.3f' % auc)\n",
        "# calculate roc curve\n",
        "fpr, tpr, thresholds = roc_curve(y_test_sna, y_pred_sna)\n",
        "# plot no skill\n",
        "pyplot.plot([0, 1], [0, 1], linestyle='--')\n",
        "# plot the roc curve for the model\n",
        "pyplot.plot(fpr, tpr, marker='.')\n",
        "# show the plot\n",
        "pyplot.show()"
      ],
      "execution_count": 0,
      "outputs": [
        {
          "output_type": "stream",
          "text": [
            "AUC: 0.998\n"
          ],
          "name": "stdout"
        },
        {
          "output_type": "display_data",
          "data": {
            "image/png": "[encoded data removed]",
            "text/plain": [
              "<Figure size 432x288 with 1 Axes>"
            ]
          },
          "metadata": {
            "tags": []
          }
        }
      ]
    },
    {
      "cell_type": "code",
      "metadata": {
        "colab_type": "code",
        "id": "PWsOIXmIQXhn",
        "outputId": "2058c7bd-7920-43f1-9fdc-146216801d02",
        "colab": {
          "base_uri": "https://localhost:8080/",
          "height": 101
        }
      },
      "source": [
        "fpr[:10], tpr[:10], thresholds[:10]"
      ],
      "execution_count": 0,
      "outputs": [
        {
          "output_type": "execute_result",
          "data": {
            "text/plain": [
              "(array([0., 0., 0., 0., 0., 0., 0., 0., 0., 0.]),\n",
              " array([0.        , 0.00030395, 0.0006079 , 0.00273556, 0.00334347,\n",
              "        0.00395137, 0.00455927, 0.01276596, 0.01306991, 0.01367781]),\n",
              " array([1.99900056, 0.99900056, 0.99898407, 0.99893916, 0.99892166,\n",
              "        0.99889171, 0.99889061, 0.99888489, 0.99887342, 0.99887068]))"
            ]
          },
          "metadata": {
            "tags": []
          },
          "execution_count": 353
        }
      ]
    },
    {
      "cell_type": "code",
      "metadata": {
        "colab_type": "code",
        "id": "9S2k1wVwQXhp",
        "outputId": "dbe69b6f-1a72-4149-9dab-9033a03e5e63",
        "colab": {
          "base_uri": "https://localhost:8080/",
          "height": 34
        }
      },
      "source": [
        "f1 = {}\n",
        "\n",
        "for a in [0.6, 0.7, 0.75, 0.8, 0.85, 0.90, 0.95]:\n",
        "\n",
        "  y_pred_sna = model_sna.predict(X_test_sna)\n",
        "\n",
        "  for i in range(len(y_pred_sna)):\n",
        "      if y_pred_sna[i]>=a:       \n",
        "         y_pred_sna[i]=1\n",
        "      else:  \n",
        "         y_pred_sna[i]=0\n",
        "          \n",
        "  f1[a]= f1_score(y_test_sna, y_pred_sna)\n",
        "  \n",
        "print(f1)"
      ],
      "execution_count": 0,
      "outputs": [
        {
          "output_type": "stream",
          "text": [
            "{0.6: 0.6894382022471911, 0.7: 0.7294854801783347, 0.75: 0.7495272910626497, 0.8: 0.7734674963590625, 0.85: 0.7972222222222223, 0.9: 0.821608785989908, 0.95: 0.8034748401901327}\n"
          ],
          "name": "stdout"
        }
      ]
    },
    {
      "cell_type": "code",
      "metadata": {
        "colab_type": "code",
        "id": "_OnrEliaQXhq",
        "colab": {}
      },
      "source": [
        "y_pred_sna = model_sna.predict(X_test_sna)"
      ],
      "execution_count": 0,
      "outputs": []
    },
    {
      "cell_type": "code",
      "metadata": {
        "colab_type": "code",
        "id": "sXKKmApZQXhs",
        "colab": {}
      },
      "source": [
        "for i in range(len(y_pred_sna)):\n",
        "    if y_pred_sna[i]>=0.9:      \n",
        "       y_pred_sna[i]=1\n",
        "    else:  \n",
        "       y_pred_sna[i]=0"
      ],
      "execution_count": 0,
      "outputs": []
    },
    {
      "cell_type": "code",
      "metadata": {
        "colab_type": "code",
        "id": "C4j6hN5fQXht",
        "outputId": "e49a0626-6886-40e7-d85a-5a01fbfc0fa7",
        "colab": {
          "base_uri": "https://localhost:8080/",
          "height": 50
        }
      },
      "source": [
        "confusion_matrix(y_test_sna, y_pred_sna)"
      ],
      "execution_count": 0,
      "outputs": [
        {
          "output_type": "execute_result",
          "data": {
            "text/plain": [
              "array([[293352,    680],\n",
              "       [   522,   2768]])"
            ]
          },
          "metadata": {
            "tags": []
          },
          "execution_count": 377
        }
      ]
    },
    {
      "cell_type": "code",
      "metadata": {
        "colab_type": "code",
        "id": "K47wuXq0QXhv",
        "outputId": "4a2a2eda-29ec-46ea-8f90-c17f93707622",
        "colab": {
          "base_uri": "https://localhost:8080/",
          "height": 34
        }
      },
      "source": [
        "accuracy_score(y_test_sna, y_pred_sna)"
      ],
      "execution_count": 0,
      "outputs": [
        {
          "output_type": "execute_result",
          "data": {
            "text/plain": [
              "0.9959572450070967"
            ]
          },
          "metadata": {
            "tags": []
          },
          "execution_count": 378
        }
      ]
    },
    {
      "cell_type": "code",
      "metadata": {
        "colab_type": "code",
        "id": "ut_zrQXGQXhx",
        "outputId": "877e9dce-5a9b-4ded-a540-9e73feaf8b4b",
        "colab": {
          "base_uri": "https://localhost:8080/",
          "height": 34
        }
      },
      "source": [
        "recall_score(y_test_sna, y_pred_sna)"
      ],
      "execution_count": 0,
      "outputs": [
        {
          "output_type": "execute_result",
          "data": {
            "text/plain": [
              "0.841337386018237"
            ]
          },
          "metadata": {
            "tags": []
          },
          "execution_count": 379
        }
      ]
    },
    {
      "cell_type": "code",
      "metadata": {
        "colab_type": "code",
        "id": "idrEZNYfQXhy",
        "outputId": "cff1cdb6-b8dc-4c8e-b8e3-666179420fda",
        "colab": {
          "base_uri": "https://localhost:8080/",
          "height": 34
        }
      },
      "source": [
        "f1_score(y_test_sna, y_pred_sna)"
      ],
      "execution_count": 0,
      "outputs": [
        {
          "output_type": "execute_result",
          "data": {
            "text/plain": [
              "0.821608785989908"
            ]
          },
          "metadata": {
            "tags": []
          },
          "execution_count": 380
        }
      ]
    },
    {
      "cell_type": "code",
      "metadata": {
        "colab_type": "code",
        "id": "RW7Cyx8nQXhz",
        "outputId": "469faefa-713d-437f-8115-54b6acf0bce2",
        "colab": {
          "base_uri": "https://localhost:8080/",
          "height": 168
        }
      },
      "source": [
        "print(classification_report(y_test_sna, y_pred_sna))"
      ],
      "execution_count": 0,
      "outputs": [
        {
          "output_type": "stream",
          "text": [
            "              precision    recall  f1-score   support\n",
            "\n",
            "           0       1.00      1.00      1.00    294032\n",
            "           1       0.80      0.84      0.82      3290\n",
            "\n",
            "   micro avg       1.00      1.00      1.00    297322\n",
            "   macro avg       0.90      0.92      0.91    297322\n",
            "weighted avg       1.00      1.00      1.00    297322\n",
            "\n"
          ],
          "name": "stdout"
        }
      ]
    },
    {
      "cell_type": "code",
      "metadata": {
        "colab_type": "code",
        "id": "t64utOf5QXh0",
        "outputId": "3a47c0b3-42f4-4d66-90d9-063b9f2dd36e",
        "colab": {
          "base_uri": "https://localhost:8080/",
          "height": 312
        }
      },
      "source": [
        "lightgbm.plot_importance(model_sna)"
      ],
      "execution_count": 0,
      "outputs": [
        {
          "output_type": "execute_result",
          "data": {
            "text/plain": [
              "<matplotlib.axes._subplots.AxesSubplot at 0x7fae1734a1d0>"
            ]
          },
          "metadata": {
            "tags": []
          },
          "execution_count": 382
        },
        {
          "output_type": "display_data",
          "data": {
            "image/png": "[encoded data removed]",
            "text/plain": [
              "<Figure size 432x288 with 1 Axes>"
            ]
          },
          "metadata": {
            "tags": []
          }
        }
      ]
    },
    {
      "cell_type": "markdown",
      "metadata": {
        "id": "xsASuWMnBmNv",
        "colab_type": "text"
      },
      "source": [
        "#Report"
      ]
    },
    {
      "cell_type": "code",
      "metadata": {
        "id": "BQxP_16xKdE1",
        "colab_type": "code",
        "colab": {}
      },
      "source": [
        "G_mult_report = nx.MultiGraph()\n",
        "\n",
        "for i in range(len(df)):\n",
        "    G_mult_report.add_nodes_from([df[\"customer\"][i]], age = df[\"age\"][i], gender = df[\"gender\"][i], zip_code_cust = df[\"zipcodeOri\"][i], bipartite=0)\n",
        "    G_mult_report.add_nodes_from([df[\"merchant\"][i]], zip_code_merc = df[\"zipMerchant\"][i], bipartite=1)\n",
        "    G_mult_report.add_edges_from([(df[\"customer\"][i], df[\"merchant\"][i])], amount = df[\"amount\"][i], fraud = df[\"fraud\"][i], step = df[\"step\"][i], category = df[\"category\"][i])\n",
        "\n",
        "len(G_mult_report.nodes()), len(G_mult_report.edges())"
      ],
      "execution_count": 0,
      "outputs": []
    },
    {
      "cell_type": "code",
      "metadata": {
        "id": "e6kv3v9IKdBy",
        "colab_type": "code",
        "colab": {}
      },
      "source": [
        "print(\"Number of edges:\", len(G_mult_report.edges()))"
      ],
      "execution_count": 0,
      "outputs": []
    },
    {
      "cell_type": "code",
      "metadata": {
        "id": "cTxhE34mH3Cm",
        "colab_type": "code",
        "colab": {}
      },
      "source": [
        "print(\"Number of nodes:\", len(G_mult_report.nodes()))"
      ],
      "execution_count": 0,
      "outputs": []
    },
    {
      "cell_type": "code",
      "metadata": {
        "id": "Ev2WUO5tID78",
        "colab_type": "code",
        "colab": {}
      },
      "source": [
        "tot_deg = 0\n",
        "for i in range(len(list(G_mult_report.degree))):\n",
        "    tot_deg += list(G_mult_report.degree)[i][1]\n",
        "\n",
        "av_deg = tot_deg / len(G_mult_report.nodes())\n",
        "print(\"Average Degree:\", av_deg)\n"
      ],
      "execution_count": 0,
      "outputs": []
    },
    {
      "cell_type": "code",
      "metadata": {
        "id": "LfIPTUK4IOT4",
        "colab_type": "code",
        "colab": {}
      },
      "source": [
        "plt.title(\"Degree Distribution\")\n",
        "plt.hist(list(dict(nx.degree(G_mult_report)).values()))\n",
        "plt.show()\n"
      ],
      "execution_count": 0,
      "outputs": []
    },
    {
      "cell_type": "code",
      "metadata": {
        "id": "3otq58b4JazN",
        "colab_type": "code",
        "colab": {}
      },
      "source": [
        "degree_sequence=sorted(dict(G_mult_report.degree()).values(),reverse=True)\n",
        "dmax=max(degree_sequence)\n",
        "\n",
        "plt.loglog(degree_sequence,'b-',marker='o')\n",
        "plt.title(\"Loglog Degree Distribution\")\n",
        "plt.ylabel(\"degree\")\n",
        "plt.xlabel(\"rank\")\n",
        "plt.show()"
      ],
      "execution_count": 0,
      "outputs": []
    },
    {
      "cell_type": "code",
      "metadata": {
        "id": "pJD_qWPWI6Xf",
        "colab_type": "code",
        "colab": {}
      },
      "source": [
        "G_report = nx.Graph()\n",
        "\n",
        "\n",
        "for i in range(len(df)):\n",
        "    G_report.add_nodes_from([df[\"customer\"][i]], age = df[\"age\"][i], gender = df[\"gender\"][i], zip_code_cust = df[\"zipcodeOri\"][i], bipartite=0)\n",
        "    G_report.add_nodes_from([df[\"merchant\"][i]], zip_code_merc = df[\"zipMerchant\"][i], bipartite=1)     \n",
        "\n",
        "\n",
        "len(G_report.nodes()), len(G_report.edges())"
      ],
      "execution_count": 0,
      "outputs": []
    },
    {
      "cell_type": "code",
      "metadata": {
        "id": "LHEtuLFHIegA",
        "colab_type": "code",
        "colab": {}
      },
      "source": [
        "print(\"Diameter of the network\")\n",
        "print(nx.diameter(G_mult_report))\n"
      ],
      "execution_count": 0,
      "outputs": []
    },
    {
      "cell_type": "code",
      "metadata": {
        "id": "PdcWxTr8IgZd",
        "colab_type": "code",
        "colab": {}
      },
      "source": [
        ""
      ],
      "execution_count": 0,
      "outputs": []
    }
  ]
}